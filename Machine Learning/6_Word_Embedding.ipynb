{
  "nbformat": 4,
  "nbformat_minor": 0,
  "metadata": {
    "colab": {
      "provenance": [],
      "include_colab_link": true
    },
    "kernelspec": {
      "name": "python3",
      "display_name": "Python 3"
    },
    "language_info": {
      "name": "python"
    }
  },
  "cells": [
    {
      "cell_type": "markdown",
      "metadata": {
        "id": "view-in-github",
        "colab_type": "text"
      },
      "source": [
        "<a href=\"https://colab.research.google.com/github/ParhamPishro/Solutions-of-FUM-Academic-Exercises/blob/main/Machine%20Learning/6_Word_Embedding.ipynb\" target=\"_parent\"><img src=\"https://colab.research.google.com/assets/colab-badge.svg\" alt=\"Open In Colab\"/></a>"
      ]
    },
    {
      "cell_type": "markdown",
      "source": [
        "Import Libraries"
      ],
      "metadata": {
        "id": "UQdoVDZ4xseS"
      }
    },
    {
      "cell_type": "code",
      "source": [
        "import pandas as pd\n",
        "import re\n",
        "import string\n",
        "from sklearn.feature_extraction.text import TfidfVectorizer\n",
        "from gensim.models import Word2Vec\n",
        "from nltk.corpus import stopwords\n",
        "from nltk.tokenize import word_tokenize\n",
        "import nltk\n",
        "from bs4 import BeautifulSoup\n",
        "nltk.download('stopwords')\n",
        "nltk.download('punkt')\n",
        "nltk.download('punkt_tab')"
      ],
      "metadata": {
        "colab": {
          "base_uri": "https://localhost:8080/"
        },
        "collapsed": true,
        "id": "6OHcAvKTGrEY",
        "outputId": "fafca3d3-04d7-40a4-9a0c-69d99aa613ee"
      },
      "execution_count": null,
      "outputs": [
        {
          "output_type": "stream",
          "name": "stderr",
          "text": [
            "[nltk_data] Downloading package stopwords to /root/nltk_data...\n",
            "[nltk_data]   Package stopwords is already up-to-date!\n",
            "[nltk_data] Downloading package punkt to /root/nltk_data...\n",
            "[nltk_data]   Package punkt is already up-to-date!\n",
            "[nltk_data] Downloading package punkt_tab to /root/nltk_data...\n",
            "[nltk_data]   Package punkt_tab is already up-to-date!\n"
          ]
        },
        {
          "output_type": "execute_result",
          "data": {
            "text/plain": [
              "True"
            ]
          },
          "metadata": {},
          "execution_count": 32
        }
      ]
    },
    {
      "cell_type": "markdown",
      "source": [
        "Read DataSet"
      ],
      "metadata": {
        "id": "MPdWzjs9x1So"
      }
    },
    {
      "cell_type": "code",
      "source": [
        "from google.colab import drive\n",
        "drive.mount('/content/drive')\n",
        "\n",
        "data = pd.read_csv(\"/content/drive/MyDrive/Colab Notebooks/IMDBDataset.csv\")"
      ],
      "metadata": {
        "colab": {
          "base_uri": "https://localhost:8080/"
        },
        "id": "ZmrQzA_pG5Hu",
        "outputId": "2efcda99-a165-424f-b210-2c9c645f2d68"
      },
      "execution_count": null,
      "outputs": [
        {
          "output_type": "stream",
          "name": "stdout",
          "text": [
            "Drive already mounted at /content/drive; to attempt to forcibly remount, call drive.mount(\"/content/drive\", force_remount=True).\n"
          ]
        }
      ]
    },
    {
      "cell_type": "markdown",
      "source": [
        "Delete Sentiment Column"
      ],
      "metadata": {
        "id": "DXZjC6QXx5sI"
      }
    },
    {
      "cell_type": "code",
      "source": [
        "data = data.drop(columns=['sentiment'])"
      ],
      "metadata": {
        "id": "QucqOL4NIoJh"
      },
      "execution_count": null,
      "outputs": []
    },
    {
      "cell_type": "markdown",
      "source": [
        "Make Clean Text"
      ],
      "metadata": {
        "id": "GO3MFCnyx-jn"
      }
    },
    {
      "cell_type": "code",
      "source": [
        "def Cleantext(text):\n",
        "    text = BeautifulSoup(text, \"html.parser\").get_text()\n",
        "    text = text.lower()\n",
        "    text = re.sub(f\"[{string.punctuation}]\", \"\", text)\n",
        "    text = re.sub(r\"\\d+\", \"\", text)\n",
        "    tokens = word_tokenize(text)\n",
        "    tokens = [word for word in tokens if word not in stopwords.words('english')]\n",
        "    return \" \".join(tokens)\n",
        "\n",
        "data['Cleanreview'] = data['review'].apply(Cleantext)"
      ],
      "metadata": {
        "colab": {
          "base_uri": "https://localhost:8080/"
        },
        "id": "BH0uLJR-KGjs",
        "outputId": "eafe73a9-45b4-4e0a-80f7-0235c93c0840"
      },
      "execution_count": null,
      "outputs": [
        {
          "metadata": {
            "tags": null
          },
          "name": "stderr",
          "output_type": "stream",
          "text": [
            "<ipython-input-35-b23caee4cd44>:2: MarkupResemblesLocatorWarning: The input looks more like a filename than markup. You may want to open this file and pass the filehandle into Beautiful Soup.\n",
            "  text = BeautifulSoup(text, \"html.parser\").get_text()\n"
          ]
        }
      ]
    },
    {
      "cell_type": "markdown",
      "source": [
        "TF-IDF"
      ],
      "metadata": {
        "id": "oRc6q0NayDB1"
      }
    },
    {
      "cell_type": "code",
      "source": [
        "tfidf = TfidfVectorizer(max_features=25 , min_df=5, max_df=0.7, stop_words='english')\n",
        "X_tfidf = tfidf.fit_transform(data['Cleanreview'])"
      ],
      "metadata": {
        "id": "ZQoUNgLSKz28"
      },
      "execution_count": null,
      "outputs": []
    },
    {
      "cell_type": "markdown",
      "source": [
        "Most Important Words"
      ],
      "metadata": {
        "id": "0kEKSRhjyLOW"
      }
    },
    {
      "cell_type": "code",
      "source": [
        "Words = tfidf.get_feature_names_out()\n",
        "print(\"\\nمهمترین کلمات بر اساس TF-IDF:\")\n",
        "print(Words)"
      ],
      "metadata": {
        "colab": {
          "base_uri": "https://localhost:8080/"
        },
        "id": "CinVcOW5Mm1y",
        "outputId": "f37974c4-7adc-4f01-dfc0-c851b3d91c28"
      },
      "execution_count": null,
      "outputs": [
        {
          "output_type": "stream",
          "name": "stdout",
          "text": [
            "\n",
            "مهمترین کلمات بر اساس TF-IDF:\n",
            "['acting' 'bad' 'best' 'character' 'characters' 'dont' 'film' 'films'\n",
            " 'good' 'great' 'like' 'little' 'love' 'make' 'movie' 'movies' 'people'\n",
            " 'plot' 'really' 'seen' 'story' 'think' 'time' 'watch' 'way']\n"
          ]
        }
      ]
    },
    {
      "cell_type": "markdown",
      "source": [
        "Word2Vec"
      ],
      "metadata": {
        "id": "OXsSXNPmyQJe"
      }
    },
    {
      "cell_type": "code",
      "source": [
        "tokenized_reviews = data['Cleanreview'].apply(word_tokenize)\n",
        "model = Word2Vec(sentences=tokenized_reviews, vector_size=100, window=5, min_count=2, workers=4)"
      ],
      "metadata": {
        "id": "qrZr8PZVNKQs"
      },
      "execution_count": null,
      "outputs": []
    },
    {
      "cell_type": "markdown",
      "source": [
        "Vectorised Text"
      ],
      "metadata": {
        "id": "PxRQnDg7yVVA"
      }
    },
    {
      "cell_type": "code",
      "source": [
        "def get_sentence_vector(sentence):\n",
        "    vectors = [model.wv[word] for word in sentence if word in model.wv]\n",
        "    if len(vectors) > 0:\n",
        "        return sum(vectors) / len(vectors)\n",
        "    else:\n",
        "        return [0] * 100\n",
        "\n",
        "sentence_vectors = tokenized_reviews.apply(get_sentence_vector)\n",
        "data['vectorized_review'] = sentence_vectors"
      ],
      "metadata": {
        "id": "NgSjTPDLNqAa"
      },
      "execution_count": null,
      "outputs": []
    },
    {
      "cell_type": "markdown",
      "source": [
        "Save a CSV File"
      ],
      "metadata": {
        "id": "uy8qd8Vvyfju"
      }
    },
    {
      "cell_type": "code",
      "source": [
        "data.to_csv(\"NewIMDBDataset.csv\", index=False)"
      ],
      "metadata": {
        "id": "1oMpwK9BQOr5"
      },
      "execution_count": null,
      "outputs": []
    },
    {
      "cell_type": "markdown",
      "source": [
        "Visulization"
      ],
      "metadata": {
        "id": "fj-2ZLDOykKA"
      }
    },
    {
      "cell_type": "code",
      "source": [
        "import matplotlib.pyplot as plt\n",
        "from collections import Counter\n",
        "\n",
        "all_words = \" \".join(data['Cleanreview']).split()\n",
        "word_freq = Counter(all_words)\n",
        "common_words = word_freq.most_common(25)\n",
        "\n",
        "words, freqs = zip(*common_words)\n",
        "plt.figure(figsize=(10, 5))\n",
        "plt.bar(words, freqs, color='thistle')\n",
        "plt.xticks(rotation=45)\n",
        "plt.title(\"Top 25 Frequent Words\")\n",
        "plt.show()"
      ],
      "metadata": {
        "colab": {
          "base_uri": "https://localhost:8080/",
          "height": 499
        },
        "id": "CV7s5ZKCBRZD",
        "outputId": "88a75765-8bcf-40f2-c159-6efd0627314d"
      },
      "execution_count": null,
      "outputs": [
        {
          "output_type": "display_data",
          "data": {
            "text/plain": [
              "<Figure size 1000x500 with 1 Axes>"
            ],
            "image/png": "[encoded data removed]"
          },
          "metadata": {}
        }
      ]
    },
    {
      "cell_type": "code",
      "source": [
        "word = \"movie\"\n",
        "if word in model.wv:\n",
        "    similar_words = model.wv.most_similar(word, topn=10)\n",
        "    print(f\"کلمات مشابه '{word}':\")\n",
        "    for sim_word, similarity in similar_words:\n",
        "        print(f\"{sim_word}: {similarity}\")\n",
        "else:\n",
        "    print(f\"کلمه '{word}' در مدل یافت نشد.\")"
      ],
      "metadata": {
        "colab": {
          "base_uri": "https://localhost:8080/"
        },
        "id": "bbPjdouSCM20",
        "outputId": "478123e7-d97c-4ec1-b805-cfb64a3c8168"
      },
      "execution_count": null,
      "outputs": [
        {
          "output_type": "stream",
          "name": "stdout",
          "text": [
            "کلمات مشابه 'movie':\n",
            "film: 0.8407108783721924\n",
            "movies: 0.6741821765899658\n",
            "moviei: 0.6702964901924133\n",
            "flick: 0.6693780422210693\n",
            "movieit: 0.6290626525878906\n",
            "moviethe: 0.6250762939453125\n",
            "filmit: 0.5806654095649719\n",
            "filmi: 0.5529536008834839\n",
            "itthe: 0.5436623096466064\n",
            "moviebut: 0.5400168299674988\n"
          ]
        }
      ]
    },
    {
      "cell_type": "code",
      "source": [
        "word = \"film\"\n",
        "if word in model.wv:\n",
        "    similar_words = model.wv.most_similar(word, topn=10)\n",
        "    print(f\"کلمات مشابه '{word}':\")\n",
        "    for sim_word, similarity in similar_words:\n",
        "        print(f\"{sim_word}: {similarity}\")\n",
        "else:\n",
        "    print(f\"کلمه '{word}' در مدل یافت نشد.\")"
      ],
      "metadata": {
        "colab": {
          "base_uri": "https://localhost:8080/"
        },
        "id": "szT_LFzOQPKd",
        "outputId": "00dcda80-f323-42e7-d4b7-f17d1db6a9c8"
      },
      "execution_count": null,
      "outputs": [
        {
          "output_type": "stream",
          "name": "stdout",
          "text": [
            "کلمات مشابه 'film':\n",
            "movie: 0.8407109379768372\n",
            "films: 0.6895964741706848\n",
            "flick: 0.6356955170631409\n",
            "filmthe: 0.6289923191070557\n",
            "picture: 0.6047790050506592\n",
            "movies: 0.596782386302948\n",
            "movieit: 0.5826270580291748\n",
            "cinema: 0.5821182131767273\n",
            "documentary: 0.5817050933837891\n",
            "filmit: 0.5653154253959656\n"
          ]
        }
      ]
    },
    {
      "cell_type": "code",
      "source": [
        "data['review_length'] = data['Cleanreview'].apply(lambda x: len(x.split()))\n",
        "plt.figure(figsize=(10, 5))\n",
        "plt.hist(data['review_length'], bins=50, color='thistle', alpha=0.7)\n",
        "plt.title(\"Distribution of Review Lengths\")\n",
        "plt.xlabel(\"Number of Words\")\n",
        "plt.ylabel(\"Frequency\")\n",
        "plt.show()"
      ],
      "metadata": {
        "colab": {
          "base_uri": "https://localhost:8080/",
          "height": 487
        },
        "id": "TlHe_6noDBEj",
        "outputId": "ce289c8a-6110-45f2-bfc1-7f86b2550e1f"
      },
      "execution_count": null,
      "outputs": [
        {
          "output_type": "display_data",
          "data": {
            "text/plain": [
              "<Figure size 1000x500 with 1 Axes>"
            ],
            "image/png": "[encoded data removed]"
          },
          "metadata": {}
        }
      ]
    }
  ]
}