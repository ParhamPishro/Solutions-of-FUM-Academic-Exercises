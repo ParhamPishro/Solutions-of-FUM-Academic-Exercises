{
  "nbformat": 4,
  "nbformat_minor": 0,
  "metadata": {
    "colab": {
      "provenance": [],
      "include_colab_link": true
    },
    "kernelspec": {
      "name": "python3",
      "display_name": "Python 3"
    },
    "language_info": {
      "name": "python"
    }
  },
  "cells": [
    {
      "cell_type": "markdown",
      "metadata": {
        "id": "view-in-github",
        "colab_type": "text"
      },
      "source": [
        "<a href=\"https://colab.research.google.com/github/ParhamPishro/Solutions-of-FUM-Academic-Exercises/blob/main/Machine%20Learning/1_Introduction_to_Python.ipynb\" target=\"_parent\"><img src=\"https://colab.research.google.com/assets/colab-badge.svg\" alt=\"Open In Colab\"/></a>"
      ]
    },
    {
      "cell_type": "markdown",
      "source": [
        "**1.1 Fibonacci Sequence:**  Write a program that uses loops to generate the first 12 terms of the Fibonacci sequence.\n",
        "\n",
        "\n",
        "---\n",
        "$help)$ $F_n = F_{n-1} + F_{n-2}$\n",
        "\n",
        "with seed values: $F_0 = 0$ and $F_1 = 1$"
      ],
      "metadata": {
        "id": "KNfkRU-2Nl-e"
      }
    },
    {
      "cell_type": "code",
      "execution_count": null,
      "metadata": {
        "colab": {
          "base_uri": "https://localhost:8080/"
        },
        "id": "sGIEvhInLJJL",
        "outputId": "9e26e4e3-ffbc-437a-d358-0993239250bc"
      },
      "outputs": [
        {
          "output_type": "stream",
          "name": "stdout",
          "text": [
            "[0, 1, 1, 2, 3, 5, 8, 13, 21, 34, 55, 89]\n"
          ]
        }
      ],
      "source": [
        "num0 = 0\n",
        "num1 = 1\n",
        "Fibonacci = [num0, num1]\n",
        "\n",
        "for i in range(10):\n",
        "  next_num = num0 + num1\n",
        "  num0, num1 = num1, next_num\n",
        "  Fibonacci.append(next_num)\n",
        "\n",
        "print(Fibonacci)"
      ]
    },
    {
      "cell_type": "markdown",
      "source": [
        "**1.2 Prime Numbers:** Write a program that takes a number from the user and prints the first 5 numbers after that. (Using loop and if condition)"
      ],
      "metadata": {
        "id": "odVMmQM8Pz83"
      }
    },
    {
      "cell_type": "code",
      "source": [
        "number = int(input(\"Enter an integer number: \"))\n",
        "\n",
        "counter = 0\n",
        "\n",
        "while counter != 5:\n",
        "  number = number + 1\n",
        "  factor = 0\n",
        "  for j in range(2,number):\n",
        "    if number % j == 0:\n",
        "      factor = factor + 1\n",
        "  if factor == 0:\n",
        "    print(number)\n",
        "    counter += 1\n"
      ],
      "metadata": {
        "colab": {
          "base_uri": "https://localhost:8080/"
        },
        "id": "P6v53l4sPma2",
        "outputId": "55866f3f-df2b-44b5-87ff-69f431824434"
      },
      "execution_count": null,
      "outputs": [
        {
          "output_type": "stream",
          "name": "stdout",
          "text": [
            "Enter an integer number: 33\n",
            "37\n",
            "41\n",
            "43\n",
            "47\n",
            "53\n"
          ]
        }
      ]
    },
    {
      "cell_type": "markdown",
      "source": [
        "**1.3 Squared Numbers:** Consider a list of 7 single-digit random numbers and then put the square of these numbers in another list and print the new list."
      ],
      "metadata": {
        "id": "AHRWNyiRTHjy"
      }
    },
    {
      "cell_type": "code",
      "source": [
        "random_numbers = [5, 8, 3, 1, 7, 6, 2]\n",
        "\n",
        "squared_numbers = [num ** 2 for num in random_numbers]\n",
        "\n",
        "print(\"Random Numbers: \", random_numbers, '\\nSquared Numbers: ', squared_numbers)\n"
      ],
      "metadata": {
        "colab": {
          "base_uri": "https://localhost:8080/"
        },
        "id": "eNJin6toSVlk",
        "outputId": "80680a61-08d7-4a14-fb94-9f364d29f528"
      },
      "execution_count": null,
      "outputs": [
        {
          "output_type": "stream",
          "name": "stdout",
          "text": [
            "Random Numbers:  [5, 8, 3, 1, 7, 6, 2] \n",
            "Squared Numbers:  [25, 64, 9, 1, 49, 36, 4]\n"
          ]
        }
      ]
    },
    {
      "cell_type": "markdown",
      "source": [
        "**1.4 Age Function:** Write a function that takes the user's birthday and the current date (in whatever format you're most comfortable with) and then prints the user's age in year, month, and day."
      ],
      "metadata": {
        "id": "MQ5RopR_ULuD"
      }
    },
    {
      "cell_type": "code",
      "source": [
        "from datetime import datetime\n",
        "def calculate_age(birth_date: datetime, current_date: datetime):\n",
        "\n",
        "  age_years = current_date.year - birth_date.year\n",
        "  age_months = current_date.month - birth_date.month\n",
        "  age_days = current_date.day - birth_date.day\n",
        "\n",
        "  if age_months < 0:\n",
        "    age_years -= 1\n",
        "    age_months += 12\n",
        "\n",
        "  if age_days < 0:\n",
        "    age_months -= 1\n",
        "    age_days += 30\n",
        "\n",
        "  print(f\"Years:{age_years}, Months:{age_months}, Days:{age_days}\")\n",
        "  return age_years, age_months, age_days\n"
      ],
      "metadata": {
        "id": "8-GP55FKUB43"
      },
      "execution_count": null,
      "outputs": []
    },
    {
      "cell_type": "markdown",
      "source": [
        "**1.5 Age of User and Random Number:** First, calculate your age using the function written in the previous step, and then use the Random Library to generate a correct random number in the range (1, your age in years)."
      ],
      "metadata": {
        "id": "d-T7e9VSVoUq"
      }
    },
    {
      "cell_type": "code",
      "source": [
        "from random import randint\n",
        "\n",
        "birth_date = datetime.strptime(input('Enter your birthday (YYYY-MM-DD): '), '%Y-%m-%d')\n",
        "current_date = datetime.strptime(input('Enter current day (YYYY-MM-DD): '), '%Y-%m-%d')\n",
        "\n",
        "age_years, age_months, age_days = calculate_age(birth_date, current_date)\n",
        "\n",
        "random_number = randint(1, age_years)\n",
        "print('A random number in (%d,%d) is %d' % (1, age_years, random_number))\n"
      ],
      "metadata": {
        "colab": {
          "base_uri": "https://localhost:8080/"
        },
        "id": "Bi-bKkALVaO5",
        "outputId": "b311d039-6901-4c8c-90af-5f8def8635c8"
      },
      "execution_count": null,
      "outputs": [
        {
          "output_type": "stream",
          "name": "stdout",
          "text": [
            "Enter your birthday (YYYY-MM-DD): 1378-12-21\n",
            "Enter current day (YYYY-MM-DD): 1403-08-01\n",
            "Years:24, Months:7, Days:10\n",
            "A random number in (1,24) is 14\n"
          ]
        }
      ]
    },
    {
      "cell_type": "code",
      "source": [],
      "metadata": {
        "id": "60fAa5tIWKJf"
      },
      "execution_count": null,
      "outputs": []
    }
  ]
}