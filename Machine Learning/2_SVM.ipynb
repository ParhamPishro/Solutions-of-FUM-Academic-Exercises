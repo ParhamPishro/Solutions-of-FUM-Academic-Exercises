{
  "cells": [
    {
      "cell_type": "markdown",
      "metadata": {
        "id": "view-in-github",
        "colab_type": "text"
      },
      "source": [
        "<a href=\"https://colab.research.google.com/github/ParhamPishro/Solutions-of-FUM-Academic-Exercises/blob/main/Machine%20Learning/2_SVM.ipynb\" target=\"_parent\"><img src=\"https://colab.research.google.com/assets/colab-badge.svg\" alt=\"Open In Colab\"/></a>"
      ]
    },
    {
      "cell_type": "markdown",
      "id": "00c80e4a",
      "metadata": {
        "id": "00c80e4a"
      },
      "source": [
        "# Pumpkin Seeds Dataset\n",
        "in this exercise we have a dataset of 2500 datapoints about pumpkin seeds with two classes. our goal in this exercise is to  create an SVM classifier model that can successfully predict the class to which each pumpkin belongs to. we also want to find the optimal set of hyperparameters for this model. to do this, we do the following steps:\n",
        "\n",
        "1. Normalizing the data by limiting it's range to (0, 1) and doing train-test split.\n",
        "2. Running the hyperparameter optimization step on our data.\n",
        "3. After finding the optimal set of hyperparameters, create an SVM model.\n",
        "4. after finding the optimal model, analyze the results.\n",
        "\n",
        "let's begin by importing the important libraries we will be using throughout this exercise:"
      ]
    },
    {
      "cell_type": "code",
      "execution_count": null,
      "id": "0d452d4b",
      "metadata": {
        "id": "0d452d4b"
      },
      "outputs": [],
      "source": [
        "from sklearn import svm\n",
        "from sklearn.model_selection import train_test_split, cross_val_score\n",
        "from sklearn.metrics import accuracy_score\n",
        "from sklearn.preprocessing import MinMaxScaler\n",
        "import pandas as pd\n",
        "import optuna\n",
        "import warnings\n",
        "warnings.filterwarnings(\"ignore\")"
      ]
    },
    {
      "cell_type": "markdown",
      "id": "54ec686e",
      "metadata": {
        "id": "54ec686e"
      },
      "source": [
        "### 1. Normalize the data and do train-test split.\n",
        "in this step we import the data, normalize it's features, and do the train-test split. but first we need to import the data and get an idea about it's shape, potential missing datapoints, and the datatypes for its feature columns. We use the pandas library to load the data, and the sklearn library to normalize and train-test split the data."
      ]
    },
    {
      "cell_type": "code",
      "execution_count": null,
      "id": "1d9486c5",
      "metadata": {
        "id": "1d9486c5",
        "outputId": "ae760007-95e8-44ae-ff00-19335928d7c4"
      },
      "outputs": [
        {
          "name": "stdout",
          "output_type": "stream",
          "text": [
            "<class 'pandas.core.frame.DataFrame'>\n",
            "RangeIndex: 2500 entries, 0 to 2499\n",
            "Data columns (total 13 columns):\n",
            " #   Column             Non-Null Count  Dtype  \n",
            "---  ------             --------------  -----  \n",
            " 0   Area               2500 non-null   int64  \n",
            " 1   Perimeter          2500 non-null   float64\n",
            " 2   Major_Axis_Length  2500 non-null   float64\n",
            " 3   Minor_Axis_Length  2500 non-null   float64\n",
            " 4   Convex_Area        2500 non-null   int64  \n",
            " 5   Equiv_Diameter     2500 non-null   float64\n",
            " 6   Eccentricity       2500 non-null   float64\n",
            " 7   Solidity           2500 non-null   float64\n",
            " 8   Extent             2500 non-null   float64\n",
            " 9   Roundness          2500 non-null   float64\n",
            " 10  Aspect_Ration      2500 non-null   float64\n",
            " 11  Compactness        2500 non-null   float64\n",
            " 12  Class              2500 non-null   int64  \n",
            "dtypes: float64(10), int64(3)\n",
            "memory usage: 254.0 KB\n"
          ]
        }
      ],
      "source": [
        "df = pd.read_excel(\"Pumpkin_Seeds_Dataset.xlsx\")\n",
        "df.info()"
      ]
    },
    {
      "cell_type": "markdown",
      "id": "215089a1",
      "metadata": {
        "id": "215089a1"
      },
      "source": [
        "as you can see we have 12 features and 1 label. we don't have any missing values and all the features are numeric. in the next step we seperate the feature columns from our label column, normalize the features, and run train-test split on our data using the sklearn library. it will also be useful to check for any class imbalances in order to choose the right metric to use for measuring our model's performance."
      ]
    },
    {
      "cell_type": "code",
      "execution_count": null,
      "id": "de8f2001",
      "metadata": {
        "id": "de8f2001",
        "outputId": "d8dd05ac-b089-46c7-81dd-b166eaa19173"
      },
      "outputs": [
        {
          "name": "stdout",
          "output_type": "stream",
          "text": [
            "Class percentages: Class\n",
            "0    52.0\n",
            "1    48.0\n",
            "Name: count, dtype: float64\n"
          ]
        }
      ],
      "source": [
        "# seperating the feature data from the label column\n",
        "features = df.drop([\"Class\"], axis=1)\n",
        "\n",
        "# normalizing our features\n",
        "scaler = MinMaxScaler()\n",
        "features = pd.DataFrame(scaler.fit_transform(features), columns=features.columns)\n",
        "\n",
        "# getting the label column\n",
        "labels = df[\"Class\"]\n",
        "\n",
        "# checking for class imbalances\n",
        "count = labels.value_counts()\n",
        "percentages = count/len(labels) * 100\n",
        "print(\"Class percentages:\", str(percentages))\n",
        "\n",
        "# doing the train-test split on the data.\n",
        "x_train, x_test, y_train, y_test = train_test_split(features, labels, test_size=0.7)"
      ]
    },
    {
      "cell_type": "markdown",
      "id": "37de65ae",
      "metadata": {
        "id": "37de65ae"
      },
      "source": [
        "as you can see above, 52% of our data belongs to class 1. this means that we have no class imbalance and the accuracy metric is a very appropriate metric to use in this context. so we will be using the accuracy metric for measuring our class's performance."
      ]
    },
    {
      "cell_type": "markdown",
      "id": "4bc43b3e",
      "metadata": {
        "id": "4bc43b3e"
      },
      "source": [
        "# 2. Running the hyperparameter optimization step on our data\n",
        "To do this, we make use of the \"optuna\" library. a hyperparameter optimization framework that allows us to search the hyperparameter space efficiently! i won't go into the details, but it uses a bayesian approach to make much more educated guesses based on its previous guesses in order to find the optimal hyperparameters faster. this method seems to be generally faster than grid search and random search, especially when we have a lot of hyperparameters to tune at the same time.\n",
        "\n",
        "to do the optimization, we first define an \"objective\" function which defines hyperparameters, trains the model using those hyperparameters, and returns a performance metric that we want to minimize. since we wanted to maximize our performance metrics, we can just pass the negative amount of our performance metrics and let optuna do it's magic. but before defining an objective function, let's define a my_SVM function to make writing our objective function more convinient. this function takes featurs, labels, class imbalance status, and the SVM hyperparameters as inputs. and it returns a fitted model, alongside the cross validation performance of our model.\n",
        "\n",
        "note that the cross validation performance does not reflect the performance of our final model, but rather the performance of the model given our set of hyperparameters. this cross validation score is meant to measure how good our choice of hyperparameters are. the reason we use this instead of the test data for measuring the goodness of our hyperparameters is that we don't want to tune the hyperparameters to optimize for a specific choice of test data.\n"
      ]
    },
    {
      "cell_type": "code",
      "execution_count": null,
      "id": "2d2cf4a9",
      "metadata": {
        "id": "2d2cf4a9"
      },
      "outputs": [],
      "source": [
        "def run_SVM(features, target, is_imbalanced = False, C=1, kernel='linear', degree=3, gamma=1, coef0=0, max_iter=100):\n",
        "    model = svm.SVC(C=C, kernel=kernel, degree=degree, gamma=gamma, coef0=coef0, max_iter=max_iter)\n",
        "    model.fit(features, target)\n",
        "    if is_imbalanced:\n",
        "        score = cross_val_score(model, features, target, scoring='f1', cv=5)\n",
        "    else: score = cross_val_score(model, features, target, scoring='accuracy', cv=5)\n",
        "    return model, score.mean()"
      ]
    },
    {
      "cell_type": "markdown",
      "id": "830c41a5",
      "metadata": {
        "id": "830c41a5"
      },
      "source": [
        "we have the max_iter hyperparameter which tells the model how many training iterations it can run at max before terminating the training process. this change is made because with some hyperparameters, fitting the model can take and exceptionally long time, for example once it took 8 hours before i terminated the training process early! I will be treating this max_iter as a hyperparameter with an upperbound to make sure the .fit method doesn't run indefinitly.\n",
        "\n",
        "now that we have the SVM function, let's build our objective function."
      ]
    },
    {
      "cell_type": "code",
      "execution_count": null,
      "id": "7946ad38",
      "metadata": {
        "id": "7946ad38"
      },
      "outputs": [],
      "source": [
        "def objective(trial, features, target, is_imbalanced = False):\n",
        "    kernel = trial.suggest_categorical(\"kernel\", [\"linear\", 'rbf', 'sigmoid', 'poly'])\n",
        "    C = trial.suggest_float(\"C\", 1e-3, 1e3, log=True)\n",
        "    max_iter = trial.suggest_int(\"max iter\", 1e1, 1e6, log=True)\n",
        "    gamma = 1\n",
        "    coef0 = 0\n",
        "    degree = 3\n",
        "    if kernel != \"linear\":\n",
        "        gamma = trial.suggest_float(\"gamma\", 1e-5, 1e3, log=True)\n",
        "        if kernel == \"poly\" or kernel == \"sigmoid\":\n",
        "            coef0 = trial.suggest_float(\"coef0\", 1e-3, 1e3, log=True)\n",
        "            if kernel == \"poly\":\n",
        "                degree = trial.suggest_int(\"degree\", 2, 6)\n",
        "    print(\"kernel: {}, C: {}, gamma: {}, coef0: {}, degree: {}, tol: {}\".format(kernel, C, gamma, coef0, degree, max_iter))\n",
        "    # sometimes the polynomial kernel becomes too large and becomes NaN. this part, handles that error.\n",
        "    try:\n",
        "        _, score = run_SVM(features, target, is_imbalanced, C, kernel, degree, gamma, coef0, max_iter)\n",
        "        return -score\n",
        "    except ValueError as e:\n",
        "        return 0"
      ]
    },
    {
      "cell_type": "markdown",
      "id": "262856f3",
      "metadata": {
        "id": "262856f3"
      },
      "source": [
        "the objective function always takes an input named \"trial\". a trial is an object that is passed to the objective function during optimization process and it can be used to give us our hyperparameters. the trial object can suggest hyperparameter values which we can use in our training process. here are the ones that has been used here:\n",
        "\n",
        "kernel = trial.suggest_categorical(\"kernel\", [\"linear\", 'rbf', 'sigmoid', 'poly']) the suggest_categorical method takes the name of the hyperparameter as it's first input. the second input is a list of objects from which our hyperparameter is chosen. it then chooses one of these values and returns it as an output.\n",
        "\n",
        "C = trial.suggest_float(\"C\", 1e-3, 1e3, log=True) the sugget_float method in the trial object takes the name of the hyperparameter as it's first argument. its second and third arguments define the lower and upper bound of our search space. the log=True argument states that we care more about the magnitude of the value rather than the exact value itself. it is usually used when we a large search space in terms of logarithmic scale. this method takes a float number from our search space and returns it as output.\n",
        "\n",
        "max_iter = trial.suggest_int(\"max iter\", 1e1, 1e6, log=True) the suggest_int method works exactly the same way as suggest_float, except that it selects and returns an integer value.\n",
        "\n",
        "now that we have defined our objective function, it's time to optimize our hyperparameters. to do this, we first create an object called \"study\". this objects keeps track of our trials, guides the search, and optimizes our hyperparameters. after creating this object, we call the .optimize method on it. the first argument is our objective function. and it's second argument is the number of trials to run. the more trials we try, the better hyperparameters we get, the longer compute time becomes. i tried this optimization with 1000 trials for this model, but you can make it less (100 or less) to see a good demonstration of optuna's functionality.\n"
      ]
    },
    {
      "cell_type": "code",
      "execution_count": null,
      "id": "20a48de6",
      "metadata": {
        "id": "20a48de6",
        "outputId": "999551ae-87e6-45ad-a89a-fccf53cf7340"
      },
      "outputs": [
        {
          "name": "stderr",
          "output_type": "stream",
          "text": [
            "[I 2024-11-15 22:50:57,638] A new study created in memory with name: no-name-da466179-2bc2-40ae-a262-b8fb6ef0a383\n"
          ]
        },
        {
          "name": "stdout",
          "output_type": "stream",
          "text": [
            "kernel: linear, C: 55.883507112546084, gamma: 1, coef0: 0, degree: 3, tol: 553601\n"
          ]
        },
        {
          "name": "stderr",
          "output_type": "stream",
          "text": [
            "[I 2024-11-15 22:50:58,060] Trial 0 finished with value: -0.8800000000000001 and parameters: {'kernel': 'linear', 'C': 55.883507112546084, 'max iter': 553601}. Best is trial 0 with value: -0.8800000000000001.\n",
            "[I 2024-11-15 22:50:58,096] Trial 1 finished with value: -0.6444 and parameters: {'kernel': 'linear', 'C': 0.019249731699725194, 'max iter': 16}. Best is trial 0 with value: -0.8800000000000001.\n"
          ]
        },
        {
          "name": "stdout",
          "output_type": "stream",
          "text": [
            "kernel: linear, C: 0.019249731699725194, gamma: 1, coef0: 0, degree: 3, tol: 16\n",
            "kernel: sigmoid, C: 0.2287386435626245, gamma: 18.127488408347773, coef0: 4.283117938809895, degree: 3, tol: 316\n"
          ]
        },
        {
          "name": "stderr",
          "output_type": "stream",
          "text": [
            "[I 2024-11-15 22:50:58,347] Trial 2 finished with value: -0.5204 and parameters: {'kernel': 'sigmoid', 'C': 0.2287386435626245, 'max iter': 316, 'gamma': 18.127488408347773, 'coef0': 4.283117938809895}. Best is trial 0 with value: -0.8800000000000001.\n",
            "[I 2024-11-15 22:50:58,439] Trial 3 finished with value: -0.4856000000000001 and parameters: {'kernel': 'poly', 'C': 0.019394585490750783, 'max iter': 166, 'gamma': 377.0454743668027, 'coef0': 406.42054547840763, 'degree': 6}. Best is trial 0 with value: -0.8800000000000001.\n"
          ]
        },
        {
          "name": "stdout",
          "output_type": "stream",
          "text": [
            "kernel: poly, C: 0.019394585490750783, gamma: 377.0454743668027, coef0: 406.42054547840763, degree: 6, tol: 166\n",
            "kernel: rbf, C: 56.40088797104908, gamma: 6.032006353564743e-05, coef0: 0, degree: 3, tol: 142\n"
          ]
        },
        {
          "name": "stderr",
          "output_type": "stream",
          "text": [
            "[I 2024-11-15 22:50:58,648] Trial 4 finished with value: -0.5452 and parameters: {'kernel': 'rbf', 'C': 56.40088797104908, 'max iter': 142, 'gamma': 6.032006353564743e-05}. Best is trial 0 with value: -0.8800000000000001.\n"
          ]
        },
        {
          "name": "stdout",
          "output_type": "stream",
          "text": [
            "kernel: sigmoid, C: 0.3749254238170339, gamma: 6.020117966799048e-05, coef0: 1.210847322535554, degree: 3, tol: 16949\n"
          ]
        },
        {
          "name": "stderr",
          "output_type": "stream",
          "text": [
            "[I 2024-11-15 22:51:00,180] Trial 5 finished with value: -0.52 and parameters: {'kernel': 'sigmoid', 'C': 0.3749254238170339, 'max iter': 16949, 'gamma': 6.020117966799048e-05, 'coef0': 1.210847322535554}. Best is trial 0 with value: -0.8800000000000001.\n",
            "[I 2024-11-15 22:51:00,363] Trial 6 finished with value: -0.6980000000000001 and parameters: {'kernel': 'poly', 'C': 0.005011422287624961, 'max iter': 227, 'gamma': 1.5374644619862404e-05, 'coef0': 151.16258032860486, 'degree': 3}. Best is trial 0 with value: -0.8800000000000001.\n"
          ]
        },
        {
          "name": "stdout",
          "output_type": "stream",
          "text": [
            "kernel: poly, C: 0.005011422287624961, gamma: 1.5374644619862404e-05, coef0: 151.16258032860486, degree: 3, tol: 227\n",
            "kernel: poly, C: 17.019558710055122, gamma: 0.00012656038363781637, coef0: 0.22247553563300887, degree: 3, tol: 32117\n"
          ]
        },
        {
          "name": "stderr",
          "output_type": "stream",
          "text": [
            "[I 2024-11-15 22:51:01,128] Trial 7 finished with value: -0.52 and parameters: {'kernel': 'poly', 'C': 17.019558710055122, 'max iter': 32117, 'gamma': 0.00012656038363781637, 'coef0': 0.22247553563300887, 'degree': 3}. Best is trial 0 with value: -0.8800000000000001.\n"
          ]
        },
        {
          "name": "stdout",
          "output_type": "stream",
          "text": [
            "kernel: sigmoid, C: 0.0013277386209102082, gamma: 0.05598994097456946, coef0: 1.6033364540262336, degree: 3, tol: 158330\n"
          ]
        },
        {
          "name": "stderr",
          "output_type": "stream",
          "text": [
            "[I 2024-11-15 22:51:02,621] Trial 8 finished with value: -0.52 and parameters: {'kernel': 'sigmoid', 'C': 0.0013277386209102082, 'max iter': 158330, 'gamma': 0.05598994097456946, 'coef0': 1.6033364540262336}. Best is trial 0 with value: -0.8800000000000001.\n"
          ]
        },
        {
          "name": "stdout",
          "output_type": "stream",
          "text": [
            "kernel: rbf, C: 0.004854369493868781, gamma: 14.461297979487703, coef0: 0, degree: 3, tol: 88148\n"
          ]
        },
        {
          "name": "stderr",
          "output_type": "stream",
          "text": [
            "[I 2024-11-15 22:51:03,965] Trial 9 finished with value: -0.7892 and parameters: {'kernel': 'rbf', 'C': 0.004854369493868781, 'max iter': 88148, 'gamma': 14.461297979487703}. Best is trial 0 with value: -0.8800000000000001.\n"
          ]
        },
        {
          "name": "stdout",
          "output_type": "stream",
          "text": [
            "kernel: linear, C: 930.4890978691336, gamma: 1, coef0: 0, degree: 3, tol: 710189\n"
          ]
        },
        {
          "name": "stderr",
          "output_type": "stream",
          "text": [
            "[I 2024-11-15 22:51:05,275] Trial 10 finished with value: -0.884 and parameters: {'kernel': 'linear', 'C': 930.4890978691336, 'max iter': 710189}. Best is trial 10 with value: -0.884.\n"
          ]
        },
        {
          "name": "stdout",
          "output_type": "stream",
          "text": [
            "kernel: linear, C: 528.4802777458298, gamma: 1, coef0: 0, degree: 3, tol: 717839\n"
          ]
        },
        {
          "name": "stderr",
          "output_type": "stream",
          "text": [
            "[I 2024-11-15 22:51:06,148] Trial 11 finished with value: -0.884 and parameters: {'kernel': 'linear', 'C': 528.4802777458298, 'max iter': 717839}. Best is trial 10 with value: -0.884.\n"
          ]
        },
        {
          "name": "stdout",
          "output_type": "stream",
          "text": [
            "kernel: linear, C: 876.5780268978784, gamma: 1, coef0: 0, degree: 3, tol: 717954\n"
          ]
        },
        {
          "name": "stderr",
          "output_type": "stream",
          "text": [
            "[I 2024-11-15 22:51:07,365] Trial 12 finished with value: -0.8847999999999999 and parameters: {'kernel': 'linear', 'C': 876.5780268978784, 'max iter': 717954}. Best is trial 12 with value: -0.8847999999999999.\n"
          ]
        },
        {
          "name": "stdout",
          "output_type": "stream",
          "text": [
            "kernel: linear, C: 956.7589374824177, gamma: 1, coef0: 0, degree: 3, tol: 3685\n"
          ]
        },
        {
          "name": "stderr",
          "output_type": "stream",
          "text": [
            "[I 2024-11-15 22:51:07,869] Trial 13 finished with value: -0.7376 and parameters: {'kernel': 'linear', 'C': 956.7589374824177, 'max iter': 3685}. Best is trial 12 with value: -0.8847999999999999.\n"
          ]
        },
        {
          "name": "stdout",
          "output_type": "stream",
          "text": [
            "kernel: linear, C: 5.6252597447215065, gamma: 1, coef0: 0, degree: 3, tol: 700733\n"
          ]
        },
        {
          "name": "stderr",
          "output_type": "stream",
          "text": [
            "[I 2024-11-15 22:51:08,189] Trial 14 finished with value: -0.8764000000000001 and parameters: {'kernel': 'linear', 'C': 5.6252597447215065, 'max iter': 700733}. Best is trial 12 with value: -0.8847999999999999.\n"
          ]
        },
        {
          "name": "stdout",
          "output_type": "stream",
          "text": [
            "kernel: linear, C: 198.25099274550846, gamma: 1, coef0: 0, degree: 3, tol: 6966\n"
          ]
        },
        {
          "name": "stderr",
          "output_type": "stream",
          "text": [
            "[I 2024-11-15 22:51:08,718] Trial 15 finished with value: -0.8816 and parameters: {'kernel': 'linear', 'C': 198.25099274550846, 'max iter': 6966}. Best is trial 12 with value: -0.8847999999999999.\n"
          ]
        },
        {
          "name": "stdout",
          "output_type": "stream",
          "text": [
            "kernel: linear, C: 3.955906817446781, gamma: 1, coef0: 0, degree: 3, tol: 122335\n"
          ]
        },
        {
          "name": "stderr",
          "output_type": "stream",
          "text": [
            "[I 2024-11-15 22:51:09,032] Trial 16 finished with value: -0.874 and parameters: {'kernel': 'linear', 'C': 3.955906817446781, 'max iter': 122335}. Best is trial 12 with value: -0.8847999999999999.\n"
          ]
        },
        {
          "name": "stdout",
          "output_type": "stream",
          "text": [
            "kernel: linear, C: 184.92584799676558, gamma: 1, coef0: 0, degree: 3, tol: 214532\n"
          ]
        },
        {
          "name": "stderr",
          "output_type": "stream",
          "text": [
            "[I 2024-11-15 22:51:09,605] Trial 17 finished with value: -0.8832000000000001 and parameters: {'kernel': 'linear', 'C': 184.92584799676558, 'max iter': 214532}. Best is trial 12 with value: -0.8847999999999999.\n"
          ]
        },
        {
          "name": "stdout",
          "output_type": "stream",
          "text": [
            "kernel: rbf, C: 43.13662329297439, gamma: 0.009612087984266363, coef0: 0, degree: 3, tol: 1208\n"
          ]
        },
        {
          "name": "stderr",
          "output_type": "stream",
          "text": [
            "[I 2024-11-15 22:51:10,181] Trial 18 finished with value: -0.874 and parameters: {'kernel': 'rbf', 'C': 43.13662329297439, 'max iter': 1208, 'gamma': 0.009612087984266363}. Best is trial 12 with value: -0.8847999999999999.\n"
          ]
        },
        {
          "name": "stdout",
          "output_type": "stream",
          "text": [
            "kernel: linear, C: 2.060702147439577, gamma: 1, coef0: 0, degree: 3, tol: 15190\n"
          ]
        },
        {
          "name": "stderr",
          "output_type": "stream",
          "text": [
            "[I 2024-11-15 22:51:10,485] Trial 19 finished with value: -0.8736 and parameters: {'kernel': 'linear', 'C': 2.060702147439577, 'max iter': 15190}. Best is trial 12 with value: -0.8847999999999999.\n"
          ]
        },
        {
          "name": "stdout",
          "output_type": "stream",
          "text": [
            "kernel: linear, C: 184.46427497054773, gamma: 1, coef0: 0, degree: 3, tol: 40159\n"
          ]
        },
        {
          "name": "stderr",
          "output_type": "stream",
          "text": [
            "[I 2024-11-15 22:51:11,061] Trial 20 finished with value: -0.8832000000000001 and parameters: {'kernel': 'linear', 'C': 184.46427497054773, 'max iter': 40159}. Best is trial 12 with value: -0.8847999999999999.\n"
          ]
        },
        {
          "name": "stdout",
          "output_type": "stream",
          "text": [
            "kernel: linear, C: 896.222363225526, gamma: 1, coef0: 0, degree: 3, tol: 980731\n"
          ]
        },
        {
          "name": "stderr",
          "output_type": "stream",
          "text": [
            "[I 2024-11-15 22:51:12,317] Trial 21 finished with value: -0.8847999999999999 and parameters: {'kernel': 'linear', 'C': 896.222363225526, 'max iter': 980731}. Best is trial 12 with value: -0.8847999999999999.\n"
          ]
        },
        {
          "name": "stdout",
          "output_type": "stream",
          "text": [
            "kernel: linear, C: 583.8581259052266, gamma: 1, coef0: 0, degree: 3, tol: 961662\n"
          ]
        },
        {
          "name": "stderr",
          "output_type": "stream",
          "text": [
            "[I 2024-11-15 22:51:13,370] Trial 22 finished with value: -0.8844000000000001 and parameters: {'kernel': 'linear', 'C': 583.8581259052266, 'max iter': 961662}. Best is trial 12 with value: -0.8847999999999999.\n"
          ]
        },
        {
          "name": "stdout",
          "output_type": "stream",
          "text": [
            "kernel: linear, C: 265.53954992625603, gamma: 1, coef0: 0, degree: 3, tol: 327887\n"
          ]
        },
        {
          "name": "stderr",
          "output_type": "stream",
          "text": [
            "[I 2024-11-15 22:51:14,081] Trial 23 finished with value: -0.8828000000000001 and parameters: {'kernel': 'linear', 'C': 265.53954992625603, 'max iter': 327887}. Best is trial 12 with value: -0.8847999999999999.\n"
          ]
        },
        {
          "name": "stdout",
          "output_type": "stream",
          "text": [
            "kernel: linear, C: 10.58771288493573, gamma: 1, coef0: 0, degree: 3, tol: 943228\n"
          ]
        },
        {
          "name": "stderr",
          "output_type": "stream",
          "text": [
            "[I 2024-11-15 22:51:14,405] Trial 24 finished with value: -0.8775999999999999 and parameters: {'kernel': 'linear', 'C': 10.58771288493573, 'max iter': 943228}. Best is trial 12 with value: -0.8847999999999999.\n"
          ]
        },
        {
          "name": "stdout",
          "output_type": "stream",
          "text": [
            "kernel: linear, C: 74.49180333113678, gamma: 1, coef0: 0, degree: 3, tol: 66695\n"
          ]
        },
        {
          "name": "stderr",
          "output_type": "stream",
          "text": [
            "[I 2024-11-15 22:51:14,842] Trial 25 finished with value: -0.8804000000000001 and parameters: {'kernel': 'linear', 'C': 74.49180333113678, 'max iter': 66695}. Best is trial 12 with value: -0.8847999999999999.\n"
          ]
        },
        {
          "name": "stdout",
          "output_type": "stream",
          "text": [
            "kernel: sigmoid, C: 402.10549444400624, gamma: 0.0023411687962259287, coef0: 0.001215265895940721, degree: 3, tol: 280368\n"
          ]
        },
        {
          "name": "stderr",
          "output_type": "stream",
          "text": [
            "[I 2024-11-15 22:51:15,267] Trial 26 finished with value: -0.8712 and parameters: {'kernel': 'sigmoid', 'C': 402.10549444400624, 'max iter': 280368, 'gamma': 0.0023411687962259287, 'coef0': 0.001215265895940721}. Best is trial 12 with value: -0.8847999999999999.\n"
          ]
        },
        {
          "name": "stdout",
          "output_type": "stream",
          "text": [
            "kernel: rbf, C: 20.71293173466912, gamma: 2.656545077399939, coef0: 0, degree: 3, tol: 290073\n"
          ]
        },
        {
          "name": "stderr",
          "output_type": "stream",
          "text": [
            "[I 2024-11-15 22:51:15,836] Trial 27 finished with value: -0.8868 and parameters: {'kernel': 'rbf', 'C': 20.71293173466912, 'max iter': 290073, 'gamma': 2.656545077399939}. Best is trial 27 with value: -0.8868.\n"
          ]
        },
        {
          "name": "stdout",
          "output_type": "stream",
          "text": [
            "kernel: rbf, C: 17.27392726224387, gamma: 1.4601153841135541, coef0: 0, degree: 3, tol: 314087\n"
          ]
        },
        {
          "name": "stderr",
          "output_type": "stream",
          "text": [
            "[I 2024-11-15 22:51:16,364] Trial 28 finished with value: -0.8872 and parameters: {'kernel': 'rbf', 'C': 17.27392726224387, 'max iter': 314087, 'gamma': 1.4601153841135541}. Best is trial 28 with value: -0.8872.\n"
          ]
        },
        {
          "name": "stdout",
          "output_type": "stream",
          "text": [
            "kernel: rbf, C: 0.6166239967136491, gamma: 2.231187058239559, coef0: 0, degree: 3, tol: 312737\n"
          ]
        },
        {
          "name": "stderr",
          "output_type": "stream",
          "text": [
            "[I 2024-11-15 22:51:16,863] Trial 29 finished with value: -0.882 and parameters: {'kernel': 'rbf', 'C': 0.6166239967136491, 'max iter': 312737, 'gamma': 2.231187058239559}. Best is trial 28 with value: -0.8872.\n"
          ]
        },
        {
          "name": "stdout",
          "output_type": "stream",
          "text": [
            "kernel: rbf, C: 22.249166398211294, gamma: 0.5623241035031038, coef0: 0, degree: 3, tol: 19789\n"
          ]
        },
        {
          "name": "stderr",
          "output_type": "stream",
          "text": [
            "[I 2024-11-15 22:51:17,384] Trial 30 finished with value: -0.8847999999999999 and parameters: {'kernel': 'rbf', 'C': 22.249166398211294, 'max iter': 19789, 'gamma': 0.5623241035031038}. Best is trial 28 with value: -0.8872.\n"
          ]
        },
        {
          "name": "stdout",
          "output_type": "stream",
          "text": [
            "kernel: rbf, C: 95.00369836760318, gamma: 874.803649301753, coef0: 0, degree: 3, tol: 365793\n"
          ]
        },
        {
          "name": "stderr",
          "output_type": "stream",
          "text": [
            "[I 2024-11-15 22:51:19,231] Trial 31 finished with value: -0.788 and parameters: {'kernel': 'rbf', 'C': 95.00369836760318, 'max iter': 365793, 'gamma': 874.803649301753}. Best is trial 28 with value: -0.8872.\n"
          ]
        },
        {
          "name": "stdout",
          "output_type": "stream",
          "text": [
            "kernel: rbf, C: 0.1072344393771058, gamma: 0.7578405879791955, coef0: 0, degree: 3, tol: 69111\n"
          ]
        },
        {
          "name": "stderr",
          "output_type": "stream",
          "text": [
            "[I 2024-11-15 22:51:19,849] Trial 32 finished with value: -0.8728 and parameters: {'kernel': 'rbf', 'C': 0.1072344393771058, 'max iter': 69111, 'gamma': 0.7578405879791955}. Best is trial 28 with value: -0.8872.\n"
          ]
        },
        {
          "name": "stdout",
          "output_type": "stream",
          "text": [
            "kernel: rbf, C: 1.8883744315996975, gamma: 31.6656886535484, coef0: 0, degree: 3, tol: 149626\n"
          ]
        },
        {
          "name": "stderr",
          "output_type": "stream",
          "text": [
            "[I 2024-11-15 22:51:20,551] Trial 33 finished with value: -0.8816 and parameters: {'kernel': 'rbf', 'C': 1.8883744315996975, 'max iter': 149626, 'gamma': 31.6656886535484}. Best is trial 28 with value: -0.8872.\n",
            "[I 2024-11-15 22:51:20,601] Trial 34 finished with value: -0.5892 and parameters: {'kernel': 'rbf', 'C': 35.77598193651678, 'max iter': 13, 'gamma': 0.05434775357845826}. Best is trial 28 with value: -0.8872.\n"
          ]
        },
        {
          "name": "stdout",
          "output_type": "stream",
          "text": [
            "kernel: rbf, C: 35.77598193651678, gamma: 0.05434775357845826, coef0: 0, degree: 3, tol: 13\n",
            "kernel: poly, C: 0.10973919841370357, gamma: 3.2242917258459194, coef0: 0.0015356535807234878, degree: 6, tol: 473427\n"
          ]
        },
        {
          "name": "stderr",
          "output_type": "stream",
          "text": [
            "[I 2024-11-15 22:51:48,827] Trial 35 finished with value: -0.5236000000000001 and parameters: {'kernel': 'poly', 'C': 0.10973919841370357, 'max iter': 473427, 'gamma': 3.2242917258459194, 'coef0': 0.0015356535807234878, 'degree': 6}. Best is trial 28 with value: -0.8872.\n",
            "[I 2024-11-15 22:51:48,925] Trial 36 finished with value: -0.5032 and parameters: {'kernel': 'rbf', 'C': 7.840143286762417, 'max iter': 59, 'gamma': 103.97669459725833}. Best is trial 28 with value: -0.8872.\n"
          ]
        },
        {
          "name": "stdout",
          "output_type": "stream",
          "text": [
            "kernel: rbf, C: 7.840143286762417, gamma: 103.97669459725833, coef0: 0, degree: 3, tol: 59\n",
            "kernel: rbf, C: 91.16985097401316, gamma: 0.1806878800742017, coef0: 0, degree: 3, tol: 651\n"
          ]
        },
        {
          "name": "stderr",
          "output_type": "stream",
          "text": [
            "[I 2024-11-15 22:51:49,407] Trial 37 finished with value: -0.8848 and parameters: {'kernel': 'rbf', 'C': 91.16985097401316, 'max iter': 651, 'gamma': 0.1806878800742017}. Best is trial 28 with value: -0.8872.\n"
          ]
        },
        {
          "name": "stdout",
          "output_type": "stream",
          "text": [
            "kernel: rbf, C: 118.66954566772954, gamma: 0.263718669339389, coef0: 0, degree: 3, tol: 916\n"
          ]
        },
        {
          "name": "stderr",
          "output_type": "stream",
          "text": [
            "[I 2024-11-15 22:51:49,914] Trial 38 finished with value: -0.8860000000000001 and parameters: {'kernel': 'rbf', 'C': 118.66954566772954, 'max iter': 916, 'gamma': 0.263718669339389}. Best is trial 28 with value: -0.8872.\n"
          ]
        },
        {
          "name": "stdout",
          "output_type": "stream",
          "text": [
            "kernel: rbf, C: 21.6130277263533, gamma: 0.29097287461348054, coef0: 0, degree: 3, tol: 649\n"
          ]
        },
        {
          "name": "stderr",
          "output_type": "stream",
          "text": [
            "[I 2024-11-15 22:51:50,397] Trial 39 finished with value: -0.8848 and parameters: {'kernel': 'rbf', 'C': 21.6130277263533, 'max iter': 649, 'gamma': 0.29097287461348054}. Best is trial 28 with value: -0.8872.\n"
          ]
        },
        {
          "name": "stdout",
          "output_type": "stream",
          "text": [
            "kernel: rbf, C: 88.55613384007982, gamma: 0.009633378782629914, coef0: 0, degree: 3, tol: 1231\n"
          ]
        },
        {
          "name": "stderr",
          "output_type": "stream",
          "text": [
            "[I 2024-11-15 22:51:50,952] Trial 40 finished with value: -0.8747999999999999 and parameters: {'kernel': 'rbf', 'C': 88.55613384007982, 'max iter': 1231, 'gamma': 0.009633378782629914}. Best is trial 28 with value: -0.8872.\n"
          ]
        },
        {
          "name": "stdout",
          "output_type": "stream",
          "text": [
            "kernel: rbf, C: 15.534712720700966, gamma: 0.29605253973301865, coef0: 0, degree: 3, tol: 761\n"
          ]
        },
        {
          "name": "stderr",
          "output_type": "stream",
          "text": [
            "[I 2024-11-15 22:51:51,458] Trial 41 finished with value: -0.8852 and parameters: {'kernel': 'rbf', 'C': 15.534712720700966, 'max iter': 761, 'gamma': 0.29605253973301865}. Best is trial 28 with value: -0.8872.\n"
          ]
        },
        {
          "name": "stdout",
          "output_type": "stream",
          "text": [
            "kernel: rbf, C: 3.1373739393176554, gamma: 0.17205120503287846, coef0: 0, degree: 3, tol: 513\n"
          ]
        },
        {
          "name": "stderr",
          "output_type": "stream",
          "text": [
            "[I 2024-11-15 22:51:51,983] Trial 42 finished with value: -0.8796000000000002 and parameters: {'kernel': 'rbf', 'C': 3.1373739393176554, 'max iter': 513, 'gamma': 0.17205120503287846}. Best is trial 28 with value: -0.8872.\n",
            "[I 2024-11-15 22:51:52,097] Trial 43 finished with value: -0.5164 and parameters: {'kernel': 'rbf', 'C': 15.49590885698339, 'max iter': 61, 'gamma': 1.8984110942187737}. Best is trial 28 with value: -0.8872.\n"
          ]
        },
        {
          "name": "stdout",
          "output_type": "stream",
          "text": [
            "kernel: rbf, C: 15.49590885698339, gamma: 1.8984110942187737, coef0: 0, degree: 3, tol: 61\n",
            "kernel: rbf, C: 46.24007229884332, gamma: 0.06644295575842155, coef0: 0, degree: 3, tol: 1479\n"
          ]
        },
        {
          "name": "stderr",
          "output_type": "stream",
          "text": [
            "[I 2024-11-15 22:51:52,622] Trial 44 finished with value: -0.8828000000000001 and parameters: {'kernel': 'rbf', 'C': 46.24007229884332, 'max iter': 1479, 'gamma': 0.06644295575842155}. Best is trial 28 with value: -0.8872.\n",
            "[I 2024-11-15 22:51:52,774] Trial 45 finished with value: -0.5795999999999999 and parameters: {'kernel': 'rbf', 'C': 102.85706162696006, 'max iter': 111, 'gamma': 4.726484306114937}. Best is trial 28 with value: -0.8872.\n"
          ]
        },
        {
          "name": "stdout",
          "output_type": "stream",
          "text": [
            "kernel: rbf, C: 102.85706162696006, gamma: 4.726484306114937, coef0: 0, degree: 3, tol: 111\n",
            "kernel: sigmoid, C: 27.702234218117137, gamma: 0.7850941128232293, coef0: 0.034606217119727785, degree: 3, tol: 3860\n"
          ]
        },
        {
          "name": "stderr",
          "output_type": "stream",
          "text": [
            "[I 2024-11-15 22:51:53,339] Trial 46 finished with value: -0.7116 and parameters: {'kernel': 'sigmoid', 'C': 27.702234218117137, 'max iter': 3860, 'gamma': 0.7850941128232293, 'coef0': 0.034606217119727785}. Best is trial 28 with value: -0.8872.\n"
          ]
        },
        {
          "name": "stdout",
          "output_type": "stream",
          "text": [
            "kernel: poly, C: 10.68053689767461, gamma: 0.01793743756609311, coef0: 26.374279211170496, degree: 2, tol: 383\n"
          ]
        },
        {
          "name": "stderr",
          "output_type": "stream",
          "text": [
            "[I 2024-11-15 22:51:53,603] Trial 47 finished with value: -0.8295999999999999 and parameters: {'kernel': 'poly', 'C': 10.68053689767461, 'max iter': 383, 'gamma': 0.01793743756609311, 'coef0': 26.374279211170496, 'degree': 2}. Best is trial 28 with value: -0.8872.\n"
          ]
        },
        {
          "name": "stdout",
          "output_type": "stream",
          "text": [
            "kernel: rbf, C: 1.0570502785441847, gamma: 7.166596316454826, coef0: 0, degree: 3, tol: 2011\n"
          ]
        },
        {
          "name": "stderr",
          "output_type": "stream",
          "text": [
            "[I 2024-11-15 22:51:54,145] Trial 48 finished with value: -0.8827999999999999 and parameters: {'kernel': 'rbf', 'C': 1.0570502785441847, 'max iter': 2011, 'gamma': 7.166596316454826}. Best is trial 28 with value: -0.8872.\n"
          ]
        },
        {
          "name": "stdout",
          "output_type": "stream",
          "text": [
            "kernel: rbf, C: 6.7583148633488515, gamma: 0.21593867016852464, coef0: 0, degree: 3, tol: 245\n"
          ]
        },
        {
          "name": "stderr",
          "output_type": "stream",
          "text": [
            "[I 2024-11-15 22:51:54,495] Trial 49 finished with value: -0.592 and parameters: {'kernel': 'rbf', 'C': 6.7583148633488515, 'max iter': 245, 'gamma': 0.21593867016852464}. Best is trial 28 with value: -0.8872.\n"
          ]
        },
        {
          "name": "stdout",
          "output_type": "stream",
          "text": [
            "kernel: rbf, C: 13.749039539963205, gamma: 44.48459514505563, coef0: 0, degree: 3, tol: 818\n"
          ]
        },
        {
          "name": "stderr",
          "output_type": "stream",
          "text": [
            "[I 2024-11-15 22:51:55,009] Trial 50 finished with value: -0.8624 and parameters: {'kernel': 'rbf', 'C': 13.749039539963205, 'max iter': 818, 'gamma': 44.48459514505563}. Best is trial 28 with value: -0.8872.\n"
          ]
        },
        {
          "name": "stdout",
          "output_type": "stream",
          "text": [
            "kernel: rbf, C: 25.981817779997247, gamma: 0.24355798839726378, coef0: 0, degree: 3, tol: 667\n"
          ]
        },
        {
          "name": "stderr",
          "output_type": "stream",
          "text": [
            "[I 2024-11-15 22:51:55,504] Trial 51 finished with value: -0.8844 and parameters: {'kernel': 'rbf', 'C': 25.981817779997247, 'max iter': 667, 'gamma': 0.24355798839726378}. Best is trial 28 with value: -0.8872.\n"
          ]
        },
        {
          "name": "stdout",
          "output_type": "stream",
          "text": [
            "kernel: rbf, C: 64.71904763890059, gamma: 0.5982909356650565, coef0: 0, degree: 3, tol: 6212\n"
          ]
        },
        {
          "name": "stderr",
          "output_type": "stream",
          "text": [
            "[I 2024-11-15 22:51:56,075] Trial 52 finished with value: -0.8836 and parameters: {'kernel': 'rbf', 'C': 64.71904763890059, 'max iter': 6212, 'gamma': 0.5982909356650565}. Best is trial 28 with value: -0.8872.\n"
          ]
        },
        {
          "name": "stdout",
          "output_type": "stream",
          "text": [
            "kernel: rbf, C: 21.826205877906215, gamma: 1.0489126218327447, coef0: 0, degree: 3, tol: 2762\n"
          ]
        },
        {
          "name": "stderr",
          "output_type": "stream",
          "text": [
            "[I 2024-11-15 22:51:56,602] Trial 53 finished with value: -0.8852 and parameters: {'kernel': 'rbf', 'C': 21.826205877906215, 'max iter': 2762, 'gamma': 1.0489126218327447}. Best is trial 28 with value: -0.8872.\n"
          ]
        },
        {
          "name": "stdout",
          "output_type": "stream",
          "text": [
            "kernel: rbf, C: 137.31188719582877, gamma: 1.767494987308842, coef0: 0, degree: 3, tol: 2178\n"
          ]
        },
        {
          "name": "stderr",
          "output_type": "stream",
          "text": [
            "[I 2024-11-15 22:51:57,240] Trial 54 finished with value: -0.8836 and parameters: {'kernel': 'rbf', 'C': 137.31188719582877, 'max iter': 2178, 'gamma': 1.767494987308842}. Best is trial 28 with value: -0.8872.\n"
          ]
        },
        {
          "name": "stdout",
          "output_type": "stream",
          "text": [
            "kernel: rbf, C: 3.8713720117355757, gamma: 7.1691365806722285, coef0: 0, degree: 3, tol: 4505\n"
          ]
        },
        {
          "name": "stderr",
          "output_type": "stream",
          "text": [
            "[I 2024-11-15 22:51:57,782] Trial 55 finished with value: -0.8855999999999999 and parameters: {'kernel': 'rbf', 'C': 3.8713720117355757, 'max iter': 4505, 'gamma': 7.1691365806722285}. Best is trial 28 with value: -0.8872.\n"
          ]
        },
        {
          "name": "stdout",
          "output_type": "stream",
          "text": [
            "kernel: sigmoid, C: 3.848348701792898, gamma: 8.854660244191178, coef0: 0.02880474051167408, degree: 3, tol: 6150\n"
          ]
        },
        {
          "name": "stderr",
          "output_type": "stream",
          "text": [
            "[I 2024-11-15 22:51:58,480] Trial 56 finished with value: -0.52 and parameters: {'kernel': 'sigmoid', 'C': 3.848348701792898, 'max iter': 6150, 'gamma': 8.854660244191178, 'coef0': 0.02880474051167408}. Best is trial 28 with value: -0.8872.\n"
          ]
        },
        {
          "name": "stdout",
          "output_type": "stream",
          "text": [
            "kernel: poly, C: 2.6144487197680255, gamma: 90.81279655687031, coef0: 27.970764266981195, degree: 5, tol: 13450\n"
          ]
        },
        {
          "name": "stderr",
          "output_type": "stream",
          "text": [
            "[I 2024-11-15 22:51:59,858] Trial 57 finished with value: -0.5359999999999999 and parameters: {'kernel': 'poly', 'C': 2.6144487197680255, 'max iter': 13450, 'gamma': 90.81279655687031, 'coef0': 27.970764266981195, 'degree': 5}. Best is trial 28 with value: -0.8872.\n"
          ]
        },
        {
          "name": "stdout",
          "output_type": "stream",
          "text": [
            "kernel: rbf, C: 43.31371530306469, gamma: 21.51045588855294, coef0: 0, degree: 3, tol: 3613\n"
          ]
        },
        {
          "name": "stderr",
          "output_type": "stream",
          "text": [
            "[I 2024-11-15 22:52:00,581] Trial 58 finished with value: -0.8716000000000002 and parameters: {'kernel': 'rbf', 'C': 43.31371530306469, 'max iter': 3613, 'gamma': 21.51045588855294}. Best is trial 28 with value: -0.8872.\n"
          ]
        },
        {
          "name": "stdout",
          "output_type": "stream",
          "text": [
            "kernel: rbf, C: 1.1124142485424215, gamma: 1.6121904750927394, coef0: 0, degree: 3, tol: 11772\n"
          ]
        },
        {
          "name": "stderr",
          "output_type": "stream",
          "text": [
            "[I 2024-11-15 22:52:01,074] Trial 59 finished with value: -0.882 and parameters: {'kernel': 'rbf', 'C': 1.1124142485424215, 'max iter': 11772, 'gamma': 1.6121904750927394}. Best is trial 28 with value: -0.8872.\n"
          ]
        },
        {
          "name": "stdout",
          "output_type": "stream",
          "text": [
            "kernel: rbf, C: 7.432581540709394, gamma: 6.8911171080132245, coef0: 0, degree: 3, tol: 34912\n"
          ]
        },
        {
          "name": "stderr",
          "output_type": "stream",
          "text": [
            "[I 2024-11-15 22:52:01,620] Trial 60 finished with value: -0.8876 and parameters: {'kernel': 'rbf', 'C': 7.432581540709394, 'max iter': 34912, 'gamma': 6.8911171080132245}. Best is trial 60 with value: -0.8876.\n"
          ]
        },
        {
          "name": "stdout",
          "output_type": "stream",
          "text": [
            "kernel: rbf, C: 4.810319333021052, gamma: 10.268937020890071, coef0: 0, degree: 3, tol: 41267\n"
          ]
        },
        {
          "name": "stderr",
          "output_type": "stream",
          "text": [
            "[I 2024-11-15 22:52:02,180] Trial 61 finished with value: -0.8855999999999999 and parameters: {'kernel': 'rbf', 'C': 4.810319333021052, 'max iter': 41267, 'gamma': 10.268937020890071}. Best is trial 60 with value: -0.8876.\n"
          ]
        },
        {
          "name": "stdout",
          "output_type": "stream",
          "text": [
            "kernel: rbf, C: 5.084491904799911, gamma: 10.29788692412123, coef0: 0, degree: 3, tol: 33237\n"
          ]
        },
        {
          "name": "stderr",
          "output_type": "stream",
          "text": [
            "[I 2024-11-15 22:52:02,749] Trial 62 finished with value: -0.8859999999999999 and parameters: {'kernel': 'rbf', 'C': 5.084491904799911, 'max iter': 33237, 'gamma': 10.29788692412123}. Best is trial 60 with value: -0.8876.\n"
          ]
        },
        {
          "name": "stdout",
          "output_type": "stream",
          "text": [
            "kernel: rbf, C: 4.879262962567568, gamma: 14.18465897335079, coef0: 0, degree: 3, tol: 35937\n"
          ]
        },
        {
          "name": "stderr",
          "output_type": "stream",
          "text": [
            "[I 2024-11-15 22:52:03,339] Trial 63 finished with value: -0.8855999999999999 and parameters: {'kernel': 'rbf', 'C': 4.879262962567568, 'max iter': 35937, 'gamma': 14.18465897335079}. Best is trial 60 with value: -0.8876.\n"
          ]
        },
        {
          "name": "stdout",
          "output_type": "stream",
          "text": [
            "kernel: rbf, C: 1.656902220610688, gamma: 5.239275815385147, coef0: 0, degree: 3, tol: 24458\n"
          ]
        },
        {
          "name": "stderr",
          "output_type": "stream",
          "text": [
            "[I 2024-11-15 22:52:03,851] Trial 64 finished with value: -0.8847999999999999 and parameters: {'kernel': 'rbf', 'C': 1.656902220610688, 'max iter': 24458, 'gamma': 5.239275815385147}. Best is trial 60 with value: -0.8876.\n"
          ]
        },
        {
          "name": "stdout",
          "output_type": "stream",
          "text": [
            "kernel: rbf, C: 0.3899010570277076, gamma: 150.71591522801802, coef0: 0, degree: 3, tol: 91476\n"
          ]
        },
        {
          "name": "stderr",
          "output_type": "stream",
          "text": [
            "[I 2024-11-15 22:52:05,133] Trial 65 finished with value: -0.8523999999999999 and parameters: {'kernel': 'rbf', 'C': 0.3899010570277076, 'max iter': 91476, 'gamma': 150.71591522801802}. Best is trial 60 with value: -0.8876.\n"
          ]
        },
        {
          "name": "stdout",
          "output_type": "stream",
          "text": [
            "kernel: sigmoid, C: 9.010593039334134, gamma: 10.117817261529312, coef0: 0.033212912256511705, degree: 3, tol: 45541\n"
          ]
        },
        {
          "name": "stderr",
          "output_type": "stream",
          "text": [
            "[I 2024-11-15 22:52:05,823] Trial 66 finished with value: -0.52 and parameters: {'kernel': 'sigmoid', 'C': 9.010593039334134, 'max iter': 45541, 'gamma': 10.117817261529312, 'coef0': 0.033212912256511705}. Best is trial 60 with value: -0.8876.\n"
          ]
        },
        {
          "name": "stdout",
          "output_type": "stream",
          "text": [
            "kernel: rbf, C: 4.812882403132686, gamma: 39.38563331548775, coef0: 0, degree: 3, tol: 188962\n"
          ]
        },
        {
          "name": "stderr",
          "output_type": "stream",
          "text": [
            "[I 2024-11-15 22:52:06,616] Trial 67 finished with value: -0.8764 and parameters: {'kernel': 'rbf', 'C': 4.812882403132686, 'max iter': 188962, 'gamma': 39.38563331548775}. Best is trial 60 with value: -0.8876.\n"
          ]
        },
        {
          "name": "stdout",
          "output_type": "stream",
          "text": [
            "kernel: rbf, C: 0.7648534149223047, gamma: 4.369784424053067, coef0: 0, degree: 3, tol: 119607\n"
          ]
        },
        {
          "name": "stderr",
          "output_type": "stream",
          "text": [
            "[I 2024-11-15 22:52:07,117] Trial 68 finished with value: -0.8836 and parameters: {'kernel': 'rbf', 'C': 0.7648534149223047, 'max iter': 119607, 'gamma': 4.369784424053067}. Best is trial 60 with value: -0.8876.\n"
          ]
        },
        {
          "name": "stdout",
          "output_type": "stream",
          "text": [
            "kernel: poly, C: 1.5091590953045064, gamma: 17.624656937197745, coef0: 692.4005536046304, degree: 4, tol: 11120\n"
          ]
        },
        {
          "name": "stderr",
          "output_type": "stream",
          "text": [
            "[I 2024-11-15 22:52:08,146] Trial 69 finished with value: -0.6140000000000001 and parameters: {'kernel': 'poly', 'C': 1.5091590953045064, 'max iter': 11120, 'gamma': 17.624656937197745, 'coef0': 692.4005536046304, 'degree': 4}. Best is trial 60 with value: -0.8876.\n"
          ]
        },
        {
          "name": "stdout",
          "output_type": "stream",
          "text": [
            "kernel: rbf, C: 3.170703767612292, gamma: 225.79937028390253, coef0: 0, degree: 3, tol: 27905\n"
          ]
        },
        {
          "name": "stderr",
          "output_type": "stream",
          "text": [
            "[I 2024-11-15 22:52:09,661] Trial 70 finished with value: -0.8371999999999999 and parameters: {'kernel': 'rbf', 'C': 3.170703767612292, 'max iter': 27905, 'gamma': 225.79937028390253}. Best is trial 60 with value: -0.8876.\n"
          ]
        },
        {
          "name": "stdout",
          "output_type": "stream",
          "text": [
            "kernel: rbf, C: 6.834275219608065, gamma: 13.73124504988924, coef0: 0, degree: 3, tol: 50692\n"
          ]
        },
        {
          "name": "stderr",
          "output_type": "stream",
          "text": [
            "[I 2024-11-15 22:52:10,287] Trial 71 finished with value: -0.8860000000000001 and parameters: {'kernel': 'rbf', 'C': 6.834275219608065, 'max iter': 50692, 'gamma': 13.73124504988924}. Best is trial 60 with value: -0.8876.\n"
          ]
        },
        {
          "name": "stdout",
          "output_type": "stream",
          "text": [
            "kernel: rbf, C: 6.974488367923831, gamma: 2.6433204339757226, coef0: 0, degree: 3, tol: 55341\n"
          ]
        },
        {
          "name": "stderr",
          "output_type": "stream",
          "text": [
            "[I 2024-11-15 22:52:10,794] Trial 72 finished with value: -0.8844000000000001 and parameters: {'kernel': 'rbf', 'C': 6.974488367923831, 'max iter': 55341, 'gamma': 2.6433204339757226}. Best is trial 60 with value: -0.8876.\n"
          ]
        },
        {
          "name": "stdout",
          "output_type": "stream",
          "text": [
            "kernel: rbf, C: 12.458467359026768, gamma: 58.754043594055425, coef0: 0, degree: 3, tol: 84566\n"
          ]
        },
        {
          "name": "stderr",
          "output_type": "stream",
          "text": [
            "[I 2024-11-15 22:52:11,734] Trial 73 finished with value: -0.858 and parameters: {'kernel': 'rbf', 'C': 12.458467359026768, 'max iter': 84566, 'gamma': 58.754043594055425}. Best is trial 60 with value: -0.8876.\n"
          ]
        },
        {
          "name": "stdout",
          "output_type": "stream",
          "text": [
            "kernel: rbf, C: 6.54114702620004, gamma: 9.609823932119985, coef0: 0, degree: 3, tol: 235206\n"
          ]
        },
        {
          "name": "stderr",
          "output_type": "stream",
          "text": [
            "[I 2024-11-15 22:52:12,298] Trial 74 finished with value: -0.8868 and parameters: {'kernel': 'rbf', 'C': 6.54114702620004, 'max iter': 235206, 'gamma': 9.609823932119985}. Best is trial 60 with value: -0.8876.\n"
          ]
        },
        {
          "name": "stdout",
          "output_type": "stream",
          "text": [
            "kernel: rbf, C: 2.371787073457764, gamma: 25.745323302972487, coef0: 0, degree: 3, tol: 235458\n"
          ]
        },
        {
          "name": "stderr",
          "output_type": "stream",
          "text": [
            "[I 2024-11-15 22:52:12,952] Trial 75 finished with value: -0.8836 and parameters: {'kernel': 'rbf', 'C': 2.371787073457764, 'max iter': 235458, 'gamma': 25.745323302972487}. Best is trial 60 with value: -0.8876.\n"
          ]
        },
        {
          "name": "stdout",
          "output_type": "stream",
          "text": [
            "kernel: rbf, C: 7.757436680679531, gamma: 4.347912038598718, coef0: 0, degree: 3, tol: 487616\n"
          ]
        },
        {
          "name": "stderr",
          "output_type": "stream",
          "text": [
            "[I 2024-11-15 22:52:13,476] Trial 76 finished with value: -0.8859999999999999 and parameters: {'kernel': 'rbf', 'C': 7.757436680679531, 'max iter': 487616, 'gamma': 4.347912038598718}. Best is trial 60 with value: -0.8876.\n"
          ]
        },
        {
          "name": "stdout",
          "output_type": "stream",
          "text": [
            "kernel: rbf, C: 9.047665292586807, gamma: 1.2048915819826087, coef0: 0, degree: 3, tol: 525404\n"
          ]
        },
        {
          "name": "stderr",
          "output_type": "stream",
          "text": [
            "[I 2024-11-15 22:52:13,983] Trial 77 finished with value: -0.8855999999999999 and parameters: {'kernel': 'rbf', 'C': 9.047665292586807, 'max iter': 525404, 'gamma': 1.2048915819826087}. Best is trial 60 with value: -0.8876.\n"
          ]
        },
        {
          "name": "stdout",
          "output_type": "stream",
          "text": [
            "kernel: rbf, C: 31.763654780951455, gamma: 0.0005112479887494924, coef0: 0, degree: 3, tol: 396181\n"
          ]
        },
        {
          "name": "stderr",
          "output_type": "stream",
          "text": [
            "[I 2024-11-15 22:52:14,796] Trial 78 finished with value: -0.8596 and parameters: {'kernel': 'rbf', 'C': 31.763654780951455, 'max iter': 396181, 'gamma': 0.0005112479887494924}. Best is trial 60 with value: -0.8876.\n"
          ]
        },
        {
          "name": "stdout",
          "output_type": "stream",
          "text": [
            "kernel: rbf, C: 309.5723107402268, gamma: 3.495184210962248, coef0: 0, degree: 3, tol: 123306\n"
          ]
        },
        {
          "name": "stderr",
          "output_type": "stream",
          "text": [
            "[I 2024-11-15 22:52:16,271] Trial 79 finished with value: -0.8876 and parameters: {'kernel': 'rbf', 'C': 309.5723107402268, 'max iter': 123306, 'gamma': 3.495184210962248}. Best is trial 60 with value: -0.8876.\n"
          ]
        },
        {
          "name": "stdout",
          "output_type": "stream",
          "text": [
            "kernel: sigmoid, C: 482.2934434674529, gamma: 3.0380876860451766, coef0: 0.1972751427663015, degree: 3, tol: 146008\n"
          ]
        },
        {
          "name": "stderr",
          "output_type": "stream",
          "text": [
            "[I 2024-11-15 22:52:17,820] Trial 80 finished with value: -0.5204 and parameters: {'kernel': 'sigmoid', 'C': 482.2934434674529, 'max iter': 146008, 'gamma': 3.0380876860451766, 'coef0': 0.1972751427663015}. Best is trial 60 with value: -0.8876.\n"
          ]
        },
        {
          "name": "stdout",
          "output_type": "stream",
          "text": [
            "kernel: rbf, C: 204.36410675220583, gamma: 0.4463593669458306, coef0: 0, degree: 3, tol: 208325\n"
          ]
        },
        {
          "name": "stderr",
          "output_type": "stream",
          "text": [
            "[I 2024-11-15 22:52:18,512] Trial 81 finished with value: -0.8847999999999999 and parameters: {'kernel': 'rbf', 'C': 204.36410675220583, 'max iter': 208325, 'gamma': 0.4463593669458306}. Best is trial 60 with value: -0.8876.\n"
          ]
        },
        {
          "name": "stdout",
          "output_type": "stream",
          "text": [
            "kernel: rbf, C: 320.8505118703463, gamma: 3.9225208909167577, coef0: 0, degree: 3, tol: 112981\n"
          ]
        },
        {
          "name": "stderr",
          "output_type": "stream",
          "text": [
            "[I 2024-11-15 22:52:20,245] Trial 82 finished with value: -0.8884000000000001 and parameters: {'kernel': 'rbf', 'C': 320.8505118703463, 'max iter': 112981, 'gamma': 3.9225208909167577}. Best is trial 82 with value: -0.8884000000000001.\n"
          ]
        },
        {
          "name": "stdout",
          "output_type": "stream",
          "text": [
            "kernel: rbf, C: 352.2144974434234, gamma: 1.1787608232983342, coef0: 0, degree: 3, tol: 104300\n"
          ]
        },
        {
          "name": "stderr",
          "output_type": "stream",
          "text": [
            "[I 2024-11-15 22:52:21,295] Trial 83 finished with value: -0.8880000000000001 and parameters: {'kernel': 'rbf', 'C': 352.2144974434234, 'max iter': 104300, 'gamma': 1.1787608232983342}. Best is trial 82 with value: -0.8884000000000001.\n"
          ]
        },
        {
          "name": "stdout",
          "output_type": "stream",
          "text": [
            "kernel: rbf, C: 383.54691785723026, gamma: 1.0415561371041602, coef0: 0, degree: 3, tol: 109991\n"
          ]
        },
        {
          "name": "stderr",
          "output_type": "stream",
          "text": [
            "[I 2024-11-15 22:52:22,299] Trial 84 finished with value: -0.8876 and parameters: {'kernel': 'rbf', 'C': 383.54691785723026, 'max iter': 109991, 'gamma': 1.0415561371041602}. Best is trial 82 with value: -0.8884000000000001.\n"
          ]
        },
        {
          "name": "stdout",
          "output_type": "stream",
          "text": [
            "kernel: rbf, C: 329.04479513436536, gamma: 0.10089517724787372, coef0: 0, degree: 3, tol: 105269\n"
          ]
        },
        {
          "name": "stderr",
          "output_type": "stream",
          "text": [
            "[I 2024-11-15 22:52:22,872] Trial 85 finished with value: -0.8832000000000001 and parameters: {'kernel': 'rbf', 'C': 329.04479513436536, 'max iter': 105269, 'gamma': 0.10089517724787372}. Best is trial 82 with value: -0.8884000000000001.\n"
          ]
        },
        {
          "name": "stdout",
          "output_type": "stream",
          "text": [
            "kernel: rbf, C: 627.3470237596181, gamma: 0.9441464960183436, coef0: 0, degree: 3, tol: 272389\n"
          ]
        },
        {
          "name": "stderr",
          "output_type": "stream",
          "text": [
            "[I 2024-11-15 22:52:24,086] Trial 86 finished with value: -0.8888 and parameters: {'kernel': 'rbf', 'C': 627.3470237596181, 'max iter': 272389, 'gamma': 0.9441464960183436}. Best is trial 86 with value: -0.8888.\n"
          ]
        },
        {
          "name": "stdout",
          "output_type": "stream",
          "text": [
            "kernel: rbf, C: 672.2925775552193, gamma: 0.46055953397078564, coef0: 0, degree: 3, tol: 250763\n"
          ]
        },
        {
          "name": "stderr",
          "output_type": "stream",
          "text": [
            "[I 2024-11-15 22:52:25,020] Trial 87 finished with value: -0.8855999999999999 and parameters: {'kernel': 'rbf', 'C': 672.2925775552193, 'max iter': 250763, 'gamma': 0.46055953397078564}. Best is trial 86 with value: -0.8888.\n"
          ]
        },
        {
          "name": "stdout",
          "output_type": "stream",
          "text": [
            "kernel: rbf, C: 265.97575863819685, gamma: 0.8889458265720629, coef0: 0, degree: 3, tol: 163271\n"
          ]
        },
        {
          "name": "stderr",
          "output_type": "stream",
          "text": [
            "[I 2024-11-15 22:52:25,830] Trial 88 finished with value: -0.8860000000000001 and parameters: {'kernel': 'rbf', 'C': 265.97575863819685, 'max iter': 163271, 'gamma': 0.8889458265720629}. Best is trial 86 with value: -0.8888.\n"
          ]
        },
        {
          "name": "stdout",
          "output_type": "stream",
          "text": [
            "kernel: poly, C: 722.29714480615, gamma: 2.2656342708772814, coef0: 0.00595842810534384, degree: 2, tol: 68857\n"
          ]
        },
        {
          "name": "stderr",
          "output_type": "stream",
          "text": [
            "[I 2024-11-15 22:52:30,781] Trial 89 finished with value: -0.7248 and parameters: {'kernel': 'poly', 'C': 722.29714480615, 'max iter': 68857, 'gamma': 2.2656342708772814, 'coef0': 0.00595842810534384, 'degree': 2}. Best is trial 86 with value: -0.8888.\n"
          ]
        },
        {
          "name": "stdout",
          "output_type": "stream",
          "text": [
            "kernel: rbf, C: 428.21542571534155, gamma: 1.3563149644545027, coef0: 0, degree: 3, tol: 710255\n"
          ]
        },
        {
          "name": "stderr",
          "output_type": "stream",
          "text": [
            "[I 2024-11-15 22:52:31,952] Trial 90 finished with value: -0.8884000000000001 and parameters: {'kernel': 'rbf', 'C': 428.21542571534155, 'max iter': 710255, 'gamma': 1.3563149644545027}. Best is trial 86 with value: -0.8888.\n"
          ]
        },
        {
          "name": "stdout",
          "output_type": "stream",
          "text": [
            "kernel: rbf, C: 379.7758963985172, gamma: 1.3721389001004802, coef0: 0, degree: 3, tol: 658873\n"
          ]
        },
        {
          "name": "stderr",
          "output_type": "stream",
          "text": [
            "[I 2024-11-15 22:52:33,068] Trial 91 finished with value: -0.8884000000000001 and parameters: {'kernel': 'rbf', 'C': 379.7758963985172, 'max iter': 658873, 'gamma': 1.3721389001004802}. Best is trial 86 with value: -0.8888.\n"
          ]
        },
        {
          "name": "stdout",
          "output_type": "stream",
          "text": [
            "kernel: rbf, C: 381.77047742313056, gamma: 1.0813666347613502, coef0: 0, degree: 3, tol: 598937\n"
          ]
        },
        {
          "name": "stderr",
          "output_type": "stream",
          "text": [
            "[I 2024-11-15 22:52:34,093] Trial 92 finished with value: -0.8872 and parameters: {'kernel': 'rbf', 'C': 381.77047742313056, 'max iter': 598937, 'gamma': 1.0813666347613502}. Best is trial 86 with value: -0.8888.\n"
          ]
        },
        {
          "name": "stdout",
          "output_type": "stream",
          "text": [
            "kernel: rbf, C: 403.2456326733512, gamma: 1.1402855014582627, coef0: 0, degree: 3, tol: 649803\n"
          ]
        },
        {
          "name": "stderr",
          "output_type": "stream",
          "text": [
            "[I 2024-11-15 22:52:35,170] Trial 93 finished with value: -0.8884000000000001 and parameters: {'kernel': 'rbf', 'C': 403.2456326733512, 'max iter': 649803, 'gamma': 1.1402855014582627}. Best is trial 86 with value: -0.8888.\n"
          ]
        },
        {
          "name": "stdout",
          "output_type": "stream",
          "text": [
            "kernel: rbf, C: 156.46217486839942, gamma: 0.4364355810913634, coef0: 0, degree: 3, tol: 746405\n"
          ]
        },
        {
          "name": "stderr",
          "output_type": "stream",
          "text": [
            "[I 2024-11-15 22:52:35,814] Trial 94 finished with value: -0.8832000000000001 and parameters: {'kernel': 'rbf', 'C': 156.46217486839942, 'max iter': 746405, 'gamma': 0.4364355810913634}. Best is trial 86 with value: -0.8888.\n"
          ]
        },
        {
          "name": "stdout",
          "output_type": "stream",
          "text": [
            "kernel: rbf, C: 265.44229839295883, gamma: 1.4724211021686122, coef0: 0, degree: 3, tol: 359250\n"
          ]
        },
        {
          "name": "stderr",
          "output_type": "stream",
          "text": [
            "[I 2024-11-15 22:52:36,760] Trial 95 finished with value: -0.8888 and parameters: {'kernel': 'rbf', 'C': 265.44229839295883, 'max iter': 359250, 'gamma': 1.4724211021686122}. Best is trial 86 with value: -0.8888.\n"
          ]
        },
        {
          "name": "stdout",
          "output_type": "stream",
          "text": [
            "kernel: rbf, C: 261.22717694673867, gamma: 0.13809113110785654, coef0: 0, degree: 3, tol: 348476\n"
          ]
        },
        {
          "name": "stderr",
          "output_type": "stream",
          "text": [
            "[I 2024-11-15 22:52:37,338] Trial 96 finished with value: -0.8824 and parameters: {'kernel': 'rbf', 'C': 261.22717694673867, 'max iter': 348476, 'gamma': 0.13809113110785654}. Best is trial 86 with value: -0.8888.\n"
          ]
        },
        {
          "name": "stdout",
          "output_type": "stream",
          "text": [
            "kernel: rbf, C: 996.417282841323, gamma: 1.3775066545365808, coef0: 0, degree: 3, tol: 791126\n"
          ]
        },
        {
          "name": "stderr",
          "output_type": "stream",
          "text": [
            "[I 2024-11-15 22:52:39,257] Trial 97 finished with value: -0.8904 and parameters: {'kernel': 'rbf', 'C': 996.417282841323, 'max iter': 791126, 'gamma': 1.3775066545365808}. Best is trial 97 with value: -0.8904.\n"
          ]
        },
        {
          "name": "stdout",
          "output_type": "stream",
          "text": [
            "kernel: rbf, C: 542.2523241166418, gamma: 1.7339466180590122, coef0: 0, degree: 3, tol: 807667\n"
          ]
        },
        {
          "name": "stderr",
          "output_type": "stream",
          "text": [
            "[I 2024-11-15 22:52:40,714] Trial 98 finished with value: -0.89 and parameters: {'kernel': 'rbf', 'C': 542.2523241166418, 'max iter': 807667, 'gamma': 1.7339466180590122}. Best is trial 97 with value: -0.8904.\n"
          ]
        },
        {
          "name": "stdout",
          "output_type": "stream",
          "text": [
            "kernel: rbf, C: 981.1351611494647, gamma: 1.717163389408582, coef0: 0, degree: 3, tol: 705929\n"
          ]
        },
        {
          "name": "stderr",
          "output_type": "stream",
          "text": [
            "[I 2024-11-15 22:52:42,831] Trial 99 finished with value: -0.8928 and parameters: {'kernel': 'rbf', 'C': 981.1351611494647, 'max iter': 705929, 'gamma': 1.717163389408582}. Best is trial 99 with value: -0.8928.\n"
          ]
        },
        {
          "name": "stdout",
          "output_type": "stream",
          "text": [
            "kernel: rbf, C: 885.272814550071, gamma: 0.6811073080337094, coef0: 0, degree: 3, tol: 758251\n"
          ]
        },
        {
          "name": "stderr",
          "output_type": "stream",
          "text": [
            "[I 2024-11-15 22:52:44,107] Trial 100 finished with value: -0.8847999999999999 and parameters: {'kernel': 'rbf', 'C': 885.272814550071, 'max iter': 758251, 'gamma': 0.6811073080337094}. Best is trial 99 with value: -0.8928.\n"
          ]
        },
        {
          "name": "stdout",
          "output_type": "stream",
          "text": [
            "kernel: rbf, C: 494.6120760303239, gamma: 1.806097893436162, coef0: 0, degree: 3, tol: 985153\n"
          ]
        },
        {
          "name": "stderr",
          "output_type": "stream",
          "text": [
            "[I 2024-11-15 22:52:45,539] Trial 101 finished with value: -0.89 and parameters: {'kernel': 'rbf', 'C': 494.6120760303239, 'max iter': 985153, 'gamma': 1.806097893436162}. Best is trial 99 with value: -0.8928.\n"
          ]
        },
        {
          "name": "stdout",
          "output_type": "stream",
          "text": [
            "kernel: rbf, C: 547.7006325635272, gamma: 1.8024042822818487, coef0: 0, degree: 3, tol: 417249\n"
          ]
        },
        {
          "name": "stderr",
          "output_type": "stream",
          "text": [
            "[I 2024-11-15 22:52:47,070] Trial 102 finished with value: -0.8916000000000001 and parameters: {'kernel': 'rbf', 'C': 547.7006325635272, 'max iter': 417249, 'gamma': 1.8024042822818487}. Best is trial 99 with value: -0.8928.\n"
          ]
        },
        {
          "name": "stdout",
          "output_type": "stream",
          "text": [
            "kernel: rbf, C: 580.4930368653224, gamma: 2.1607382995024382, coef0: 0, degree: 3, tol: 989993\n"
          ]
        },
        {
          "name": "stderr",
          "output_type": "stream",
          "text": [
            "[I 2024-11-15 22:52:48,823] Trial 103 finished with value: -0.8928 and parameters: {'kernel': 'rbf', 'C': 580.4930368653224, 'max iter': 989993, 'gamma': 2.1607382995024382}. Best is trial 99 with value: -0.8928.\n"
          ]
        },
        {
          "name": "stdout",
          "output_type": "stream",
          "text": [
            "kernel: rbf, C: 507.1571723550836, gamma: 1.8350370983714364, coef0: 0, degree: 3, tol: 966816\n"
          ]
        },
        {
          "name": "stderr",
          "output_type": "stream",
          "text": [
            "[I 2024-11-15 22:52:50,230] Trial 104 finished with value: -0.8911999999999999 and parameters: {'kernel': 'rbf', 'C': 507.1571723550836, 'max iter': 966816, 'gamma': 1.8350370983714364}. Best is trial 99 with value: -0.8928.\n"
          ]
        },
        {
          "name": "stdout",
          "output_type": "stream",
          "text": [
            "kernel: linear, C: 540.1370524868105, gamma: 1, coef0: 0, degree: 3, tol: 956390\n"
          ]
        },
        {
          "name": "stderr",
          "output_type": "stream",
          "text": [
            "[I 2024-11-15 22:52:51,159] Trial 105 finished with value: -0.884 and parameters: {'kernel': 'linear', 'C': 540.1370524868105, 'max iter': 956390}. Best is trial 99 with value: -0.8928.\n"
          ]
        },
        {
          "name": "stdout",
          "output_type": "stream",
          "text": [
            "kernel: rbf, C: 973.3328763601666, gamma: 2.16474771342151, coef0: 0, degree: 3, tol: 416679\n"
          ]
        },
        {
          "name": "stderr",
          "output_type": "stream",
          "text": [
            "[I 2024-11-15 22:52:53,506] Trial 106 finished with value: -0.8872 and parameters: {'kernel': 'rbf', 'C': 973.3328763601666, 'max iter': 416679, 'gamma': 2.16474771342151}. Best is trial 99 with value: -0.8928.\n"
          ]
        },
        {
          "name": "stdout",
          "output_type": "stream",
          "text": [
            "kernel: sigmoid, C: 569.6566778923826, gamma: 0.3466387226924586, coef0: 33.370335224615815, degree: 3, tol: 871229\n"
          ]
        },
        {
          "name": "stderr",
          "output_type": "stream",
          "text": [
            "[I 2024-11-15 22:52:54,210] Trial 107 finished with value: -0.52 and parameters: {'kernel': 'sigmoid', 'C': 569.6566778923826, 'max iter': 871229, 'gamma': 0.3466387226924586, 'coef0': 33.370335224615815}. Best is trial 99 with value: -0.8928.\n"
          ]
        },
        {
          "name": "stdout",
          "output_type": "stream",
          "text": [
            "kernel: rbf, C: 719.5351860619353, gamma: 1.811707709339164, coef0: 0, degree: 3, tol: 511041\n"
          ]
        },
        {
          "name": "stderr",
          "output_type": "stream",
          "text": [
            "[I 2024-11-15 22:52:55,939] Trial 108 finished with value: -0.8911999999999999 and parameters: {'kernel': 'rbf', 'C': 719.5351860619353, 'max iter': 511041, 'gamma': 1.811707709339164}. Best is trial 99 with value: -0.8928.\n"
          ]
        },
        {
          "name": "stdout",
          "output_type": "stream",
          "text": [
            "kernel: rbf, C: 692.958574964289, gamma: 2.9156806597735407, coef0: 0, degree: 3, tol: 481073\n"
          ]
        },
        {
          "name": "stderr",
          "output_type": "stream",
          "text": [
            "[I 2024-11-15 22:52:58,082] Trial 109 finished with value: -0.8876 and parameters: {'kernel': 'rbf', 'C': 692.958574964289, 'max iter': 481073, 'gamma': 2.9156806597735407}. Best is trial 99 with value: -0.8928.\n"
          ]
        },
        {
          "name": "stdout",
          "output_type": "stream",
          "text": [
            "kernel: poly, C: 179.56158685665446, gamma: 0.5828240806581659, coef0: 8.238607141442742, degree: 4, tol: 990553\n"
          ]
        },
        {
          "name": "stderr",
          "output_type": "stream",
          "text": [
            "[I 2024-11-15 22:53:36,093] Trial 110 finished with value: -0.8664 and parameters: {'kernel': 'poly', 'C': 179.56158685665446, 'max iter': 990553, 'gamma': 0.5828240806581659, 'coef0': 8.238607141442742, 'degree': 4}. Best is trial 99 with value: -0.8928.\n"
          ]
        },
        {
          "name": "stdout",
          "output_type": "stream",
          "text": [
            "kernel: rbf, C: 223.4525116738456, gamma: 1.891799256651379, coef0: 0, degree: 3, tol: 563256\n"
          ]
        },
        {
          "name": "stderr",
          "output_type": "stream",
          "text": [
            "[I 2024-11-15 22:53:37,050] Trial 111 finished with value: -0.8880000000000001 and parameters: {'kernel': 'rbf', 'C': 223.4525116738456, 'max iter': 563256, 'gamma': 1.891799256651379}. Best is trial 99 with value: -0.8928.\n"
          ]
        },
        {
          "name": "stdout",
          "output_type": "stream",
          "text": [
            "kernel: rbf, C: 727.9258367430184, gamma: 5.547508476501805, coef0: 0, degree: 3, tol: 339594\n"
          ]
        },
        {
          "name": "stderr",
          "output_type": "stream",
          "text": [
            "[I 2024-11-15 22:53:40,074] Trial 112 finished with value: -0.8764 and parameters: {'kernel': 'rbf', 'C': 727.9258367430184, 'max iter': 339594, 'gamma': 5.547508476501805}. Best is trial 99 with value: -0.8928.\n"
          ]
        },
        {
          "name": "stdout",
          "output_type": "stream",
          "text": [
            "kernel: rbf, C: 498.1545924833698, gamma: 1.7805540694546287, coef0: 0, degree: 3, tol: 434969\n"
          ]
        },
        {
          "name": "stderr",
          "output_type": "stream",
          "text": [
            "[I 2024-11-15 22:53:41,480] Trial 113 finished with value: -0.89 and parameters: {'kernel': 'rbf', 'C': 498.1545924833698, 'max iter': 434969, 'gamma': 1.7805540694546287}. Best is trial 99 with value: -0.8928.\n"
          ]
        },
        {
          "name": "stdout",
          "output_type": "stream",
          "text": [
            "kernel: rbf, C: 987.0456727127957, gamma: 3.6159946212044836, coef0: 0, degree: 3, tol: 287412\n"
          ]
        },
        {
          "name": "stderr",
          "output_type": "stream",
          "text": [
            "[I 2024-11-15 22:53:44,606] Trial 114 finished with value: -0.8824 and parameters: {'kernel': 'rbf', 'C': 987.0456727127957, 'max iter': 287412, 'gamma': 3.6159946212044836}. Best is trial 99 with value: -0.8928.\n"
          ]
        },
        {
          "name": "stdout",
          "output_type": "stream",
          "text": [
            "kernel: rbf, C: 531.0116544269592, gamma: 1.9778002803035748, coef0: 0, degree: 3, tol: 421730\n"
          ]
        },
        {
          "name": "stderr",
          "output_type": "stream",
          "text": [
            "[I 2024-11-15 22:53:46,203] Trial 115 finished with value: -0.8924000000000001 and parameters: {'kernel': 'rbf', 'C': 531.0116544269592, 'max iter': 421730, 'gamma': 1.9778002803035748}. Best is trial 99 with value: -0.8928.\n"
          ]
        },
        {
          "name": "stdout",
          "output_type": "stream",
          "text": [
            "kernel: rbf, C: 573.8499583544012, gamma: 1.9828846123218902, coef0: 0, degree: 3, tol: 429673\n"
          ]
        },
        {
          "name": "stderr",
          "output_type": "stream",
          "text": [
            "[I 2024-11-15 22:53:47,832] Trial 116 finished with value: -0.8916000000000001 and parameters: {'kernel': 'rbf', 'C': 573.8499583544012, 'max iter': 429673, 'gamma': 1.9828846123218902}. Best is trial 99 with value: -0.8928.\n"
          ]
        },
        {
          "name": "stdout",
          "output_type": "stream",
          "text": [
            "kernel: rbf, C: 532.6517599862062, gamma: 1.590464547680249e-05, coef0: 0, degree: 3, tol: 445266\n"
          ]
        },
        {
          "name": "stderr",
          "output_type": "stream",
          "text": [
            "[I 2024-11-15 22:53:48,784] Trial 117 finished with value: -0.8539999999999999 and parameters: {'kernel': 'rbf', 'C': 532.6517599862062, 'max iter': 445266, 'gamma': 1.590464547680249e-05}. Best is trial 99 with value: -0.8928.\n"
          ]
        },
        {
          "name": "stdout",
          "output_type": "stream",
          "text": [
            "kernel: rbf, C: 700.0578949570566, gamma: 0.6460529649370997, coef0: 0, degree: 3, tol: 823451\n"
          ]
        },
        {
          "name": "stderr",
          "output_type": "stream",
          "text": [
            "[I 2024-11-15 22:53:49,884] Trial 118 finished with value: -0.8852 and parameters: {'kernel': 'rbf', 'C': 700.0578949570566, 'max iter': 823451, 'gamma': 0.6460529649370997}. Best is trial 99 with value: -0.8928.\n"
          ]
        },
        {
          "name": "stdout",
          "output_type": "stream",
          "text": [
            "kernel: rbf, C: 0.010804735077714395, gamma: 2.5033581120648103, coef0: 0, degree: 3, tol: 593676\n"
          ]
        },
        {
          "name": "stderr",
          "output_type": "stream",
          "text": [
            "[I 2024-11-15 22:53:50,798] Trial 119 finished with value: -0.8652 and parameters: {'kernel': 'rbf', 'C': 0.010804735077714395, 'max iter': 593676, 'gamma': 2.5033581120648103}. Best is trial 99 with value: -0.8928.\n"
          ]
        },
        {
          "name": "stdout",
          "output_type": "stream",
          "text": [
            "kernel: rbf, C: 509.5837275187326, gamma: 0.7649910325055366, coef0: 0, degree: 3, tol: 521660\n"
          ]
        },
        {
          "name": "stderr",
          "output_type": "stream",
          "text": [
            "[I 2024-11-15 22:53:51,827] Trial 120 finished with value: -0.8852 and parameters: {'kernel': 'rbf', 'C': 509.5837275187326, 'max iter': 521660, 'gamma': 0.7649910325055366}. Best is trial 99 with value: -0.8928.\n"
          ]
        },
        {
          "name": "stdout",
          "output_type": "stream",
          "text": [
            "kernel: rbf, C: 244.89277440989065, gamma: 1.7609552094942187, coef0: 0, degree: 3, tol: 366180\n"
          ]
        },
        {
          "name": "stderr",
          "output_type": "stream",
          "text": [
            "[I 2024-11-15 22:53:52,911] Trial 121 finished with value: -0.8880000000000001 and parameters: {'kernel': 'rbf', 'C': 244.89277440989065, 'max iter': 366180, 'gamma': 1.7609552094942187}. Best is trial 99 with value: -0.8928.\n"
          ]
        },
        {
          "name": "stdout",
          "output_type": "stream",
          "text": [
            "kernel: rbf, C: 754.7106938536652, gamma: 6.1446476692441045, coef0: 0, degree: 3, tol: 423835\n"
          ]
        },
        {
          "name": "stderr",
          "output_type": "stream",
          "text": [
            "[I 2024-11-15 22:53:56,595] Trial 122 finished with value: -0.8751999999999999 and parameters: {'kernel': 'rbf', 'C': 754.7106938536652, 'max iter': 423835, 'gamma': 6.1446476692441045}. Best is trial 99 with value: -0.8928.\n"
          ]
        },
        {
          "name": "stdout",
          "output_type": "stream",
          "text": [
            "kernel: rbf, C: 575.74527050708, gamma: 1.8302094955065487, coef0: 0, degree: 3, tol: 798260\n"
          ]
        },
        {
          "name": "stderr",
          "output_type": "stream",
          "text": [
            "[I 2024-11-15 22:53:58,336] Trial 123 finished with value: -0.8924 and parameters: {'kernel': 'rbf', 'C': 575.74527050708, 'max iter': 798260, 'gamma': 1.8302094955065487}. Best is trial 99 with value: -0.8928.\n"
          ]
        },
        {
          "name": "stdout",
          "output_type": "stream",
          "text": [
            "kernel: rbf, C: 994.3086610208045, gamma: 2.386347668340774, coef0: 0, degree: 3, tol: 810303\n"
          ]
        },
        {
          "name": "stderr",
          "output_type": "stream",
          "text": [
            "[I 2024-11-15 22:54:01,208] Trial 124 finished with value: -0.8859999999999999 and parameters: {'kernel': 'rbf', 'C': 994.3086610208045, 'max iter': 810303, 'gamma': 2.386347668340774}. Best is trial 99 with value: -0.8928.\n"
          ]
        },
        {
          "name": "stdout",
          "output_type": "stream",
          "text": [
            "kernel: rbf, C: 515.8703176140077, gamma: 0.32346620471424464, coef0: 0, degree: 3, tol: 609358\n"
          ]
        },
        {
          "name": "stderr",
          "output_type": "stream",
          "text": [
            "[I 2024-11-15 22:54:02,029] Trial 125 finished with value: -0.8847999999999999 and parameters: {'kernel': 'rbf', 'C': 515.8703176140077, 'max iter': 609358, 'gamma': 0.32346620471424464}. Best is trial 99 with value: -0.8928.\n"
          ]
        },
        {
          "name": "stdout",
          "output_type": "stream",
          "text": [
            "kernel: rbf, C: 123.95446191546002, gamma: 0.8351223705689029, coef0: 0, degree: 3, tol: 280089\n"
          ]
        },
        {
          "name": "stderr",
          "output_type": "stream",
          "text": [
            "[I 2024-11-15 22:54:02,701] Trial 126 finished with value: -0.8848 and parameters: {'kernel': 'rbf', 'C': 123.95446191546002, 'max iter': 280089, 'gamma': 0.8351223705689029}. Best is trial 99 with value: -0.8928.\n"
          ]
        },
        {
          "name": "stdout",
          "output_type": "stream",
          "text": [
            "kernel: linear, C: 619.6445280596008, gamma: 1, coef0: 0, degree: 3, tol: 934186\n"
          ]
        },
        {
          "name": "stderr",
          "output_type": "stream",
          "text": [
            "[I 2024-11-15 22:54:03,734] Trial 127 finished with value: -0.8848 and parameters: {'kernel': 'linear', 'C': 619.6445280596008, 'max iter': 934186}. Best is trial 99 with value: -0.8928.\n"
          ]
        },
        {
          "name": "stdout",
          "output_type": "stream",
          "text": [
            "kernel: rbf, C: 470.93070261487634, gamma: 0.027983828743541172, coef0: 0, degree: 3, tol: 513677\n"
          ]
        },
        {
          "name": "stderr",
          "output_type": "stream",
          "text": [
            "[I 2024-11-15 22:54:04,290] Trial 128 finished with value: -0.8827999999999999 and parameters: {'kernel': 'rbf', 'C': 470.93070261487634, 'max iter': 513677, 'gamma': 0.027983828743541172}. Best is trial 99 with value: -0.8928.\n"
          ]
        },
        {
          "name": "stdout",
          "output_type": "stream",
          "text": [
            "kernel: rbf, C: 167.2160364986731, gamma: 4.768344825947599, coef0: 0, degree: 3, tol: 732905\n"
          ]
        },
        {
          "name": "stderr",
          "output_type": "stream",
          "text": [
            "[I 2024-11-15 22:54:05,528] Trial 129 finished with value: -0.8868 and parameters: {'kernel': 'rbf', 'C': 167.2160364986731, 'max iter': 732905, 'gamma': 4.768344825947599}. Best is trial 99 with value: -0.8928.\n"
          ]
        },
        {
          "name": "stdout",
          "output_type": "stream",
          "text": [
            "kernel: sigmoid, C: 0.0014799401895154677, gamma: 1.8217781373144146, coef0: 0.2376306664167492, degree: 3, tol: 203875\n"
          ]
        },
        {
          "name": "stderr",
          "output_type": "stream",
          "text": [
            "[I 2024-11-15 22:54:07,058] Trial 130 finished with value: -0.52 and parameters: {'kernel': 'sigmoid', 'C': 0.0014799401895154677, 'max iter': 203875, 'gamma': 1.8217781373144146, 'coef0': 0.2376306664167492}. Best is trial 99 with value: -0.8928.\n"
          ]
        },
        {
          "name": "stdout",
          "output_type": "stream",
          "text": [
            "kernel: rbf, C: 279.21948478682356, gamma: 3.113789404565945, coef0: 0, degree: 3, tol: 400480\n"
          ]
        },
        {
          "name": "stderr",
          "output_type": "stream",
          "text": [
            "[I 2024-11-15 22:54:08,439] Trial 131 finished with value: -0.8872 and parameters: {'kernel': 'rbf', 'C': 279.21948478682356, 'max iter': 400480, 'gamma': 3.113789404565945}. Best is trial 99 with value: -0.8928.\n"
          ]
        },
        {
          "name": "stdout",
          "output_type": "stream",
          "text": [
            "kernel: rbf, C: 786.9561971755637, gamma: 1.4866806387891855, coef0: 0, degree: 3, tol: 979339\n"
          ]
        },
        {
          "name": "stderr",
          "output_type": "stream",
          "text": [
            "[I 2024-11-15 22:54:10,253] Trial 132 finished with value: -0.8892 and parameters: {'kernel': 'rbf', 'C': 786.9561971755637, 'max iter': 979339, 'gamma': 1.4866806387891855}. Best is trial 99 with value: -0.8928.\n"
          ]
        },
        {
          "name": "stdout",
          "output_type": "stream",
          "text": [
            "kernel: rbf, C: 755.6941652387744, gamma: 1.866673874520325, coef0: 0, degree: 3, tol: 634085\n"
          ]
        },
        {
          "name": "stderr",
          "output_type": "stream",
          "text": [
            "[I 2024-11-15 22:54:12,218] Trial 133 finished with value: -0.8916000000000001 and parameters: {'kernel': 'rbf', 'C': 755.6941652387744, 'max iter': 634085, 'gamma': 1.866673874520325}. Best is trial 99 with value: -0.8928.\n"
          ]
        },
        {
          "name": "stdout",
          "output_type": "stream",
          "text": [
            "kernel: rbf, C: 815.7388515231845, gamma: 7.66523773033991, coef0: 0, degree: 3, tol: 651493\n"
          ]
        },
        {
          "name": "stderr",
          "output_type": "stream",
          "text": [
            "[I 2024-11-15 22:54:15,920] Trial 134 finished with value: -0.8764 and parameters: {'kernel': 'rbf', 'C': 815.7388515231845, 'max iter': 651493, 'gamma': 7.66523773033991}. Best is trial 99 with value: -0.8928.\n"
          ]
        },
        {
          "name": "stdout",
          "output_type": "stream",
          "text": [
            "kernel: rbf, C: 531.1826727940439, gamma: 1.6163425183670845, coef0: 0, degree: 3, tol: 964996\n"
          ]
        },
        {
          "name": "stderr",
          "output_type": "stream",
          "text": [
            "[I 2024-11-15 22:54:17,325] Trial 135 finished with value: -0.8892000000000001 and parameters: {'kernel': 'rbf', 'C': 531.1826727940439, 'max iter': 964996, 'gamma': 1.6163425183670845}. Best is trial 99 with value: -0.8928.\n"
          ]
        },
        {
          "name": "stdout",
          "output_type": "stream",
          "text": [
            "kernel: rbf, C: 448.640254535355, gamma: 4.033764841055521, coef0: 0, degree: 3, tol: 761973\n"
          ]
        },
        {
          "name": "stderr",
          "output_type": "stream",
          "text": [
            "[I 2024-11-15 22:54:19,395] Trial 136 finished with value: -0.884 and parameters: {'kernel': 'rbf', 'C': 448.640254535355, 'max iter': 761973, 'gamma': 4.033764841055521}. Best is trial 99 with value: -0.8928.\n"
          ]
        },
        {
          "name": "stdout",
          "output_type": "stream",
          "text": [
            "kernel: rbf, C: 337.6167094479353, gamma: 2.1896006359770235, coef0: 0, degree: 3, tol: 467288\n"
          ]
        },
        {
          "name": "stderr",
          "output_type": "stream",
          "text": [
            "[I 2024-11-15 22:54:20,682] Trial 137 finished with value: -0.8912000000000001 and parameters: {'kernel': 'rbf', 'C': 337.6167094479353, 'max iter': 467288, 'gamma': 2.1896006359770235}. Best is trial 99 with value: -0.8928.\n"
          ]
        },
        {
          "name": "stdout",
          "output_type": "stream",
          "text": [
            "kernel: rbf, C: 337.1374644283544, gamma: 2.7157574555161337, coef0: 0, degree: 3, tol: 505921\n"
          ]
        },
        {
          "name": "stderr",
          "output_type": "stream",
          "text": [
            "[I 2024-11-15 22:54:22,105] Trial 138 finished with value: -0.8892 and parameters: {'kernel': 'rbf', 'C': 337.1374644283544, 'max iter': 505921, 'gamma': 2.7157574555161337}. Best is trial 99 with value: -0.8928.\n"
          ]
        },
        {
          "name": "stdout",
          "output_type": "stream",
          "text": [
            "kernel: poly, C: 209.99629026213708, gamma: 0.43659231823597094, coef0: 0.006817642182195195, degree: 5, tol: 603642\n"
          ]
        },
        {
          "name": "stderr",
          "output_type": "stream",
          "text": [
            "[I 2024-11-15 22:54:26,108] Trial 139 finished with value: -0.8815999999999999 and parameters: {'kernel': 'poly', 'C': 209.99629026213708, 'max iter': 603642, 'gamma': 0.43659231823597094, 'coef0': 0.006817642182195195, 'degree': 5}. Best is trial 99 with value: -0.8928.\n"
          ]
        },
        {
          "name": "stdout",
          "output_type": "stream",
          "text": [
            "kernel: rbf, C: 973.208722675593, gamma: 6.246170319711735, coef0: 0, degree: 3, tol: 439070\n"
          ]
        },
        {
          "name": "stderr",
          "output_type": "stream",
          "text": [
            "[I 2024-11-15 22:54:30,492] Trial 140 finished with value: -0.8772 and parameters: {'kernel': 'rbf', 'C': 973.208722675593, 'max iter': 439070, 'gamma': 6.246170319711735}. Best is trial 99 with value: -0.8928.\n"
          ]
        },
        {
          "name": "stdout",
          "output_type": "stream",
          "text": [
            "kernel: rbf, C: 581.798787134745, gamma: 1.38968227389657, coef0: 0, degree: 3, tol: 999052\n"
          ]
        },
        {
          "name": "stderr",
          "output_type": "stream",
          "text": [
            "[I 2024-11-15 22:54:31,992] Trial 141 finished with value: -0.89 and parameters: {'kernel': 'rbf', 'C': 581.798787134745, 'max iter': 999052, 'gamma': 1.38968227389657}. Best is trial 99 with value: -0.8928.\n"
          ]
        },
        {
          "name": "stdout",
          "output_type": "stream",
          "text": [
            "kernel: rbf, C: 624.1330062444267, gamma: 2.116620072016691, coef0: 0, degree: 3, tol: 734465\n"
          ]
        },
        {
          "name": "stderr",
          "output_type": "stream",
          "text": [
            "[I 2024-11-15 22:54:33,902] Trial 142 finished with value: -0.8932 and parameters: {'kernel': 'rbf', 'C': 624.1330062444267, 'max iter': 734465, 'gamma': 2.116620072016691}. Best is trial 142 with value: -0.8932.\n"
          ]
        },
        {
          "name": "stdout",
          "output_type": "stream",
          "text": [
            "kernel: rbf, C: 402.8022334545538, gamma: 2.303105704706545, coef0: 0, degree: 3, tol: 737734\n"
          ]
        },
        {
          "name": "stderr",
          "output_type": "stream",
          "text": [
            "[I 2024-11-15 22:54:35,417] Trial 143 finished with value: -0.8916000000000001 and parameters: {'kernel': 'rbf', 'C': 402.8022334545538, 'max iter': 737734, 'gamma': 2.303105704706545}. Best is trial 142 with value: -0.8932.\n"
          ]
        },
        {
          "name": "stdout",
          "output_type": "stream",
          "text": [
            "kernel: rbf, C: 343.32772891618407, gamma: 3.258855381441587, coef0: 0, degree: 3, tol: 688836\n"
          ]
        },
        {
          "name": "stderr",
          "output_type": "stream",
          "text": [
            "[I 2024-11-15 22:54:37,061] Trial 144 finished with value: -0.8888 and parameters: {'kernel': 'rbf', 'C': 343.32772891618407, 'max iter': 688836, 'gamma': 3.258855381441587}. Best is trial 142 with value: -0.8932.\n"
          ]
        },
        {
          "name": "stdout",
          "output_type": "stream",
          "text": [
            "kernel: rbf, C: 0.13964814076284932, gamma: 0.9343094091536082, coef0: 0, degree: 3, tol: 553810\n"
          ]
        },
        {
          "name": "stderr",
          "output_type": "stream",
          "text": [
            "[I 2024-11-15 22:54:37,649] Trial 145 finished with value: -0.874 and parameters: {'kernel': 'rbf', 'C': 0.13964814076284932, 'max iter': 553810, 'gamma': 0.9343094091536082}. Best is trial 142 with value: -0.8932.\n"
          ]
        },
        {
          "name": "stdout",
          "output_type": "stream",
          "text": [
            "kernel: rbf, C: 706.7678952055064, gamma: 13.009375080153843, coef0: 0, degree: 3, tol: 764578\n"
          ]
        },
        {
          "name": "stderr",
          "output_type": "stream",
          "text": [
            "[I 2024-11-15 22:54:41,195] Trial 146 finished with value: -0.8620000000000001 and parameters: {'kernel': 'rbf', 'C': 706.7678952055064, 'max iter': 764578, 'gamma': 13.009375080153843}. Best is trial 142 with value: -0.8932.\n"
          ]
        },
        {
          "name": "stdout",
          "output_type": "stream",
          "text": [
            "kernel: rbf, C: 376.9237699836918, gamma: 2.2328950013465065, coef0: 0, degree: 3, tol: 329075\n"
          ]
        },
        {
          "name": "stderr",
          "output_type": "stream",
          "text": [
            "[I 2024-11-15 22:54:42,548] Trial 147 finished with value: -0.8916000000000001 and parameters: {'kernel': 'rbf', 'C': 376.9237699836918, 'max iter': 329075, 'gamma': 2.2328950013465065}. Best is trial 142 with value: -0.8932.\n"
          ]
        },
        {
          "name": "stdout",
          "output_type": "stream",
          "text": [
            "kernel: rbf, C: 382.1075665994598, gamma: 4.972070991726894, coef0: 0, degree: 3, tol: 311180\n"
          ]
        },
        {
          "name": "stderr",
          "output_type": "stream",
          "text": [
            "[I 2024-11-15 22:54:44,448] Trial 148 finished with value: -0.8831999999999999 and parameters: {'kernel': 'rbf', 'C': 382.1075665994598, 'max iter': 311180, 'gamma': 4.972070991726894}. Best is trial 142 with value: -0.8932.\n"
          ]
        },
        {
          "name": "stdout",
          "output_type": "stream",
          "text": [
            "kernel: rbf, C: 984.7288827977657, gamma: 0.5832296194342209, coef0: 0, degree: 3, tol: 175666\n"
          ]
        },
        {
          "name": "stderr",
          "output_type": "stream",
          "text": [
            "[I 2024-11-15 22:54:45,679] Trial 149 finished with value: -0.8852 and parameters: {'kernel': 'rbf', 'C': 984.7288827977657, 'max iter': 175666, 'gamma': 0.5832296194342209}. Best is trial 142 with value: -0.8932.\n"
          ]
        },
        {
          "name": "stdout",
          "output_type": "stream",
          "text": [
            "kernel: rbf, C: 295.9903100768637, gamma: 2.40993983404844, coef0: 0, degree: 3, tol: 342865\n"
          ]
        },
        {
          "name": "stderr",
          "output_type": "stream",
          "text": [
            "[I 2024-11-15 22:54:46,856] Trial 150 finished with value: -0.8907999999999999 and parameters: {'kernel': 'rbf', 'C': 295.9903100768637, 'max iter': 342865, 'gamma': 2.40993983404844}. Best is trial 142 with value: -0.8932.\n"
          ]
        },
        {
          "name": "stdout",
          "output_type": "stream",
          "text": [
            "kernel: rbf, C: 263.83904425523275, gamma: 2.43676157776668, coef0: 0, degree: 3, tol: 338555\n"
          ]
        },
        {
          "name": "stderr",
          "output_type": "stream",
          "text": [
            "[I 2024-11-15 22:54:48,068] Trial 151 finished with value: -0.8904 and parameters: {'kernel': 'rbf', 'C': 263.83904425523275, 'max iter': 338555, 'gamma': 2.43676157776668}. Best is trial 142 with value: -0.8932.\n"
          ]
        },
        {
          "name": "stdout",
          "output_type": "stream",
          "text": [
            "kernel: rbf, C: 286.19722806631415, gamma: 2.649123936719506, coef0: 0, degree: 3, tol: 334312\n"
          ]
        },
        {
          "name": "stderr",
          "output_type": "stream",
          "text": [
            "[I 2024-11-15 22:54:49,324] Trial 152 finished with value: -0.8904 and parameters: {'kernel': 'rbf', 'C': 286.19722806631415, 'max iter': 334312, 'gamma': 2.649123936719506}. Best is trial 142 with value: -0.8932.\n"
          ]
        },
        {
          "name": "stdout",
          "output_type": "stream",
          "text": [
            "kernel: rbf, C: 228.34540126342637, gamma: 3.9607736709919124, coef0: 0, degree: 3, tol: 249746\n"
          ]
        },
        {
          "name": "stderr",
          "output_type": "stream",
          "text": [
            "[I 2024-11-15 22:54:50,615] Trial 153 finished with value: -0.8872 and parameters: {'kernel': 'rbf', 'C': 228.34540126342637, 'max iter': 249746, 'gamma': 3.9607736709919124}. Best is trial 142 with value: -0.8932.\n"
          ]
        },
        {
          "name": "stdout",
          "output_type": "stream",
          "text": [
            "kernel: rbf, C: 138.55509775702794, gamma: 1.097328722019396, coef0: 0, degree: 3, tol: 572191\n"
          ]
        },
        {
          "name": "stderr",
          "output_type": "stream",
          "text": [
            "[I 2024-11-15 22:54:51,320] Trial 154 finished with value: -0.8868 and parameters: {'kernel': 'rbf', 'C': 138.55509775702794, 'max iter': 572191, 'gamma': 1.097328722019396}. Best is trial 142 with value: -0.8932.\n"
          ]
        },
        {
          "name": "stdout",
          "output_type": "stream",
          "text": [
            "kernel: rbf, C: 416.13823795561825, gamma: 2.948584504801837, coef0: 0, degree: 3, tol: 412940\n"
          ]
        },
        {
          "name": "stderr",
          "output_type": "stream",
          "text": [
            "[I 2024-11-15 22:54:52,919] Trial 155 finished with value: -0.8863999999999999 and parameters: {'kernel': 'rbf', 'C': 416.13823795561825, 'max iter': 412940, 'gamma': 2.948584504801837}. Best is trial 142 with value: -0.8932.\n"
          ]
        },
        {
          "name": "stdout",
          "output_type": "stream",
          "text": [
            "kernel: rbf, C: 660.5350467618159, gamma: 2.299509672816496, coef0: 0, degree: 3, tol: 488448\n"
          ]
        },
        {
          "name": "stderr",
          "output_type": "stream",
          "text": [
            "[I 2024-11-15 22:54:54,792] Trial 156 finished with value: -0.89 and parameters: {'kernel': 'rbf', 'C': 660.5350467618159, 'max iter': 488448, 'gamma': 2.299509672816496}. Best is trial 142 with value: -0.8932.\n"
          ]
        },
        {
          "name": "stdout",
          "output_type": "stream",
          "text": [
            "kernel: linear, C: 290.7297730220865, gamma: 1, coef0: 0, degree: 3, tol: 330859\n"
          ]
        },
        {
          "name": "stderr",
          "output_type": "stream",
          "text": [
            "[I 2024-11-15 22:54:55,508] Trial 157 finished with value: -0.8824 and parameters: {'kernel': 'linear', 'C': 290.7297730220865, 'max iter': 330859}. Best is trial 142 with value: -0.8932.\n"
          ]
        },
        {
          "name": "stdout",
          "output_type": "stream",
          "text": [
            "kernel: rbf, C: 699.0189926864185, gamma: 5.7371801688856126, coef0: 0, degree: 3, tol: 226923\n"
          ]
        },
        {
          "name": "stderr",
          "output_type": "stream",
          "text": [
            "[I 2024-11-15 22:54:58,504] Trial 158 finished with value: -0.8747999999999999 and parameters: {'kernel': 'rbf', 'C': 699.0189926864185, 'max iter': 226923, 'gamma': 5.7371801688856126}. Best is trial 142 with value: -0.8932.\n"
          ]
        },
        {
          "name": "stdout",
          "output_type": "stream",
          "text": [
            "kernel: rbf, C: 0.03430234796718358, gamma: 0.7235461029856619, coef0: 0, degree: 3, tol: 641638\n"
          ]
        },
        {
          "name": "stderr",
          "output_type": "stream",
          "text": [
            "[I 2024-11-15 22:54:59,306] Trial 159 finished with value: -0.8671999999999999 and parameters: {'kernel': 'rbf', 'C': 0.03430234796718358, 'max iter': 641638, 'gamma': 0.7235461029856619}. Best is trial 142 with value: -0.8932.\n"
          ]
        },
        {
          "name": "stdout",
          "output_type": "stream",
          "text": [
            "kernel: rbf, C: 375.68188102857147, gamma: 1.2422257743445813, coef0: 0, degree: 3, tol: 388282\n"
          ]
        },
        {
          "name": "stderr",
          "output_type": "stream",
          "text": [
            "[I 2024-11-15 22:55:00,377] Trial 160 finished with value: -0.8888 and parameters: {'kernel': 'rbf', 'C': 375.68188102857147, 'max iter': 388282, 'gamma': 1.2422257743445813}. Best is trial 142 with value: -0.8932.\n"
          ]
        },
        {
          "name": "stdout",
          "output_type": "stream",
          "text": [
            "kernel: rbf, C: 183.58097324789395, gamma: 2.976158243732118, coef0: 0, degree: 3, tol: 295671\n"
          ]
        },
        {
          "name": "stderr",
          "output_type": "stream",
          "text": [
            "[I 2024-11-15 22:55:01,438] Trial 161 finished with value: -0.8892 and parameters: {'kernel': 'rbf', 'C': 183.58097324789395, 'max iter': 295671, 'gamma': 2.976158243732118}. Best is trial 142 with value: -0.8932.\n"
          ]
        },
        {
          "name": "stdout",
          "output_type": "stream",
          "text": [
            "kernel: rbf, C: 288.76389806160824, gamma: 2.40499191778811, coef0: 0, degree: 3, tol: 496583\n"
          ]
        },
        {
          "name": "stderr",
          "output_type": "stream",
          "text": [
            "[I 2024-11-15 22:55:02,662] Trial 162 finished with value: -0.8907999999999999 and parameters: {'kernel': 'rbf', 'C': 288.76389806160824, 'max iter': 496583, 'gamma': 2.40499191778811}. Best is trial 142 with value: -0.8932.\n"
          ]
        },
        {
          "name": "stdout",
          "output_type": "stream",
          "text": [
            "kernel: rbf, C: 410.3644693650251, gamma: 2.239398313734652, coef0: 0, degree: 3, tol: 520693\n"
          ]
        },
        {
          "name": "stderr",
          "output_type": "stream",
          "text": [
            "[I 2024-11-15 22:55:04,081] Trial 163 finished with value: -0.892 and parameters: {'kernel': 'rbf', 'C': 410.3644693650251, 'max iter': 520693, 'gamma': 2.239398313734652}. Best is trial 142 with value: -0.8932.\n"
          ]
        },
        {
          "name": "stdout",
          "output_type": "stream",
          "text": [
            "kernel: rbf, C: 463.65422476625065, gamma: 4.385317066468886, coef0: 0, degree: 3, tol: 499669\n"
          ]
        },
        {
          "name": "stderr",
          "output_type": "stream",
          "text": [
            "[I 2024-11-15 22:55:06,115] Trial 164 finished with value: -0.8812 and parameters: {'kernel': 'rbf', 'C': 463.65422476625065, 'max iter': 499669, 'gamma': 4.385317066468886}. Best is trial 142 with value: -0.8932.\n"
          ]
        },
        {
          "name": "stdout",
          "output_type": "stream",
          "text": [
            "kernel: rbf, C: 777.8338750454091, gamma: 855.9993624037545, coef0: 0, degree: 3, tol: 670641\n"
          ]
        },
        {
          "name": "stderr",
          "output_type": "stream",
          "text": [
            "[I 2024-11-15 22:55:07,956] Trial 165 finished with value: -0.7876 and parameters: {'kernel': 'rbf', 'C': 777.8338750454091, 'max iter': 670641, 'gamma': 855.9993624037545}. Best is trial 142 with value: -0.8932.\n"
          ]
        },
        {
          "name": "stdout",
          "output_type": "stream",
          "text": [
            "kernel: rbf, C: 637.1194361219272, gamma: 0.9640289674870991, coef0: 0, degree: 3, tol: 552933\n"
          ]
        },
        {
          "name": "stderr",
          "output_type": "stream",
          "text": [
            "[I 2024-11-15 22:55:09,175] Trial 166 finished with value: -0.8888 and parameters: {'kernel': 'rbf', 'C': 637.1194361219272, 'max iter': 552933, 'gamma': 0.9640289674870991}. Best is trial 142 with value: -0.8932.\n"
          ]
        },
        {
          "name": "stdout",
          "output_type": "stream",
          "text": [
            "kernel: sigmoid, C: 433.06994848148105, gamma: 9.117230217029151, coef0: 143.2435863362402, degree: 3, tol: 788379\n"
          ]
        },
        {
          "name": "stderr",
          "output_type": "stream",
          "text": [
            "[I 2024-11-15 22:55:09,872] Trial 167 finished with value: -0.52 and parameters: {'kernel': 'sigmoid', 'C': 433.06994848148105, 'max iter': 788379, 'gamma': 9.117230217029151, 'coef0': 143.2435863362402}. Best is trial 142 with value: -0.8932.\n"
          ]
        },
        {
          "name": "stdout",
          "output_type": "stream",
          "text": [
            "kernel: rbf, C: 813.8722930836291, gamma: 1.7402553465613195, coef0: 0, degree: 3, tol: 757960\n"
          ]
        },
        {
          "name": "stderr",
          "output_type": "stream",
          "text": [
            "[I 2024-11-15 22:55:11,860] Trial 168 finished with value: -0.892 and parameters: {'kernel': 'rbf', 'C': 813.8722930836291, 'max iter': 757960, 'gamma': 1.7402553465613195}. Best is trial 142 with value: -0.8932.\n"
          ]
        },
        {
          "name": "stdout",
          "output_type": "stream",
          "text": [
            "kernel: rbf, C: 323.4627610463581, gamma: 0.0016416931720449651, coef0: 0, degree: 3, tol: 439239\n"
          ]
        },
        {
          "name": "stderr",
          "output_type": "stream",
          "text": [
            "[I 2024-11-15 22:55:12,429] Trial 169 finished with value: -0.8719999999999999 and parameters: {'kernel': 'rbf', 'C': 323.4627610463581, 'max iter': 439239, 'gamma': 0.0016416931720449651}. Best is trial 142 with value: -0.8932.\n"
          ]
        },
        {
          "name": "stdout",
          "output_type": "stream",
          "text": [
            "kernel: rbf, C: 79.3979079574013, gamma: 1.9860152385024734, coef0: 0, degree: 3, tol: 632196\n"
          ]
        },
        {
          "name": "stderr",
          "output_type": "stream",
          "text": [
            "[I 2024-11-15 22:55:13,164] Trial 170 finished with value: -0.8864000000000001 and parameters: {'kernel': 'rbf', 'C': 79.3979079574013, 'max iter': 632196, 'gamma': 1.9860152385024734}. Best is trial 142 with value: -0.8932.\n"
          ]
        },
        {
          "name": "stdout",
          "output_type": "stream",
          "text": [
            "kernel: rbf, C: 861.8778999621325, gamma: 1.4696976886224742, coef0: 0, degree: 3, tol: 759712\n"
          ]
        },
        {
          "name": "stderr",
          "output_type": "stream",
          "text": [
            "[I 2024-11-15 22:55:15,097] Trial 171 finished with value: -0.89 and parameters: {'kernel': 'rbf', 'C': 861.8778999621325, 'max iter': 759712, 'gamma': 1.4696976886224742}. Best is trial 142 with value: -0.8932.\n"
          ]
        },
        {
          "name": "stdout",
          "output_type": "stream",
          "text": [
            "kernel: rbf, C: 566.3805479568011, gamma: 3.744863982930522, coef0: 0, degree: 3, tol: 507988\n"
          ]
        },
        {
          "name": "stderr",
          "output_type": "stream",
          "text": [
            "[I 2024-11-15 22:55:17,296] Trial 172 finished with value: -0.8848 and parameters: {'kernel': 'rbf', 'C': 566.3805479568011, 'max iter': 507988, 'gamma': 3.744863982930522}. Best is trial 142 with value: -0.8932.\n"
          ]
        },
        {
          "name": "stdout",
          "output_type": "stream",
          "text": [
            "kernel: rbf, C: 629.5968949041305, gamma: 1.8720380648059478, coef0: 0, degree: 3, tol: 787536\n"
          ]
        },
        {
          "name": "stderr",
          "output_type": "stream",
          "text": [
            "[I 2024-11-15 22:55:18,927] Trial 173 finished with value: -0.8916000000000001 and parameters: {'kernel': 'rbf', 'C': 629.5968949041305, 'max iter': 787536, 'gamma': 1.8720380648059478}. Best is trial 142 with value: -0.8932.\n"
          ]
        },
        {
          "name": "stdout",
          "output_type": "stream",
          "text": [
            "kernel: rbf, C: 431.63278422046307, gamma: 2.10248501193831, coef0: 0, degree: 3, tol: 601588\n"
          ]
        },
        {
          "name": "stderr",
          "output_type": "stream",
          "text": [
            "[I 2024-11-15 22:55:20,327] Trial 174 finished with value: -0.8924000000000001 and parameters: {'kernel': 'rbf', 'C': 431.63278422046307, 'max iter': 601588, 'gamma': 2.10248501193831}. Best is trial 142 with value: -0.8932.\n"
          ]
        },
        {
          "name": "stdout",
          "output_type": "stream",
          "text": [
            "kernel: poly, C: 440.6230059090186, gamma: 0.9487661883070233, coef0: 5.563911989749804, degree: 5, tol: 997111\n"
          ]
        },
        {
          "name": "stderr",
          "output_type": "stream",
          "text": [
            "[I 2024-11-15 22:56:08,456] Trial 175 finished with value: -0.5048000000000001 and parameters: {'kernel': 'poly', 'C': 440.6230059090186, 'max iter': 997111, 'gamma': 0.9487661883070233, 'coef0': 5.563911989749804, 'degree': 5}. Best is trial 142 with value: -0.8932.\n"
          ]
        },
        {
          "name": "stdout",
          "output_type": "stream",
          "text": [
            "kernel: rbf, C: 621.8521751393843, gamma: 1.9087720480635648, coef0: 0, degree: 3, tol: 637148\n"
          ]
        },
        {
          "name": "stderr",
          "output_type": "stream",
          "text": [
            "[I 2024-11-15 22:56:10,099] Trial 176 finished with value: -0.892 and parameters: {'kernel': 'rbf', 'C': 621.8521751393843, 'max iter': 637148, 'gamma': 1.9087720480635648}. Best is trial 142 with value: -0.8932.\n"
          ]
        },
        {
          "name": "stdout",
          "output_type": "stream",
          "text": [
            "kernel: rbf, C: 609.9473755576048, gamma: 1.8215683941401883, coef0: 0, degree: 3, tol: 649379\n"
          ]
        },
        {
          "name": "stderr",
          "output_type": "stream",
          "text": [
            "[I 2024-11-15 22:56:11,735] Trial 177 finished with value: -0.8927999999999999 and parameters: {'kernel': 'rbf', 'C': 609.9473755576048, 'max iter': 649379, 'gamma': 1.8215683941401883}. Best is trial 142 with value: -0.8932.\n"
          ]
        },
        {
          "name": "stdout",
          "output_type": "stream",
          "text": [
            "kernel: rbf, C: 583.2449388808043, gamma: 0.6888266682317518, coef0: 0, degree: 3, tol: 681157\n"
          ]
        },
        {
          "name": "stderr",
          "output_type": "stream",
          "text": [
            "[I 2024-11-15 22:56:12,837] Trial 178 finished with value: -0.8855999999999999 and parameters: {'kernel': 'rbf', 'C': 583.2449388808043, 'max iter': 681157, 'gamma': 0.6888266682317518}. Best is trial 142 with value: -0.8932.\n"
          ]
        },
        {
          "name": "stdout",
          "output_type": "stream",
          "text": [
            "kernel: rbf, C: 417.78635256318915, gamma: 1.2340236777598934, coef0: 0, degree: 3, tol: 798581\n"
          ]
        },
        {
          "name": "stderr",
          "output_type": "stream",
          "text": [
            "[I 2024-11-15 22:56:13,998] Trial 179 finished with value: -0.8888 and parameters: {'kernel': 'rbf', 'C': 417.78635256318915, 'max iter': 798581, 'gamma': 1.2340236777598934}. Best is trial 142 with value: -0.8932.\n"
          ]
        },
        {
          "name": "stdout",
          "output_type": "stream",
          "text": [
            "kernel: rbf, C: 629.6007689547796, gamma: 5.86127774709156, coef0: 0, degree: 3, tol: 648981\n"
          ]
        },
        {
          "name": "stderr",
          "output_type": "stream",
          "text": [
            "[I 2024-11-15 22:56:17,138] Trial 180 finished with value: -0.874 and parameters: {'kernel': 'rbf', 'C': 629.6007689547796, 'max iter': 648981, 'gamma': 5.86127774709156}. Best is trial 142 with value: -0.8932.\n"
          ]
        },
        {
          "name": "stdout",
          "output_type": "stream",
          "text": [
            "kernel: rbf, C: 694.2003735621996, gamma: 1.5988397610479292, coef0: 0, degree: 3, tol: 563205\n"
          ]
        },
        {
          "name": "stderr",
          "output_type": "stream",
          "text": [
            "[I 2024-11-15 22:56:18,823] Trial 181 finished with value: -0.89 and parameters: {'kernel': 'rbf', 'C': 694.2003735621996, 'max iter': 563205, 'gamma': 1.5988397610479292}. Best is trial 142 with value: -0.8932.\n"
          ]
        },
        {
          "name": "stdout",
          "output_type": "stream",
          "text": [
            "kernel: rbf, C: 839.9643342771068, gamma: 1.9014306765412465, coef0: 0, degree: 3, tol: 424468\n"
          ]
        },
        {
          "name": "stderr",
          "output_type": "stream",
          "text": [
            "[I 2024-11-15 22:56:20,857] Trial 182 finished with value: -0.8936 and parameters: {'kernel': 'rbf', 'C': 839.9643342771068, 'max iter': 424468, 'gamma': 1.9014306765412465}. Best is trial 182 with value: -0.8936.\n"
          ]
        },
        {
          "name": "stdout",
          "output_type": "stream",
          "text": [
            "kernel: rbf, C: 815.8998138218869, gamma: 3.9349441723034824, coef0: 0, degree: 3, tol: 413710\n"
          ]
        },
        {
          "name": "stderr",
          "output_type": "stream",
          "text": [
            "[I 2024-11-15 22:56:23,847] Trial 183 finished with value: -0.8816 and parameters: {'kernel': 'rbf', 'C': 815.8998138218869, 'max iter': 413710, 'gamma': 3.9349441723034824}. Best is trial 182 with value: -0.8936.\n"
          ]
        },
        {
          "name": "stdout",
          "output_type": "stream",
          "text": [
            "kernel: rbf, C: 997.3770839457825, gamma: 1.8681842450793085, coef0: 0, degree: 3, tol: 775874\n"
          ]
        },
        {
          "name": "stderr",
          "output_type": "stream",
          "text": [
            "[I 2024-11-15 22:56:26,153] Trial 184 finished with value: -0.89 and parameters: {'kernel': 'rbf', 'C': 997.3770839457825, 'max iter': 775874, 'gamma': 1.8681842450793085}. Best is trial 182 with value: -0.8936.\n"
          ]
        },
        {
          "name": "stdout",
          "output_type": "stream",
          "text": [
            "kernel: rbf, C: 506.5583294294514, gamma: 1.0593740545222226, coef0: 0, degree: 3, tol: 607559\n"
          ]
        },
        {
          "name": "stderr",
          "output_type": "stream",
          "text": [
            "[I 2024-11-15 22:56:27,287] Trial 185 finished with value: -0.8896000000000001 and parameters: {'kernel': 'rbf', 'C': 506.5583294294514, 'max iter': 607559, 'gamma': 1.0593740545222226}. Best is trial 182 with value: -0.8936.\n"
          ]
        },
        {
          "name": "stdout",
          "output_type": "stream",
          "text": [
            "kernel: rbf, C: 396.0433657002894, gamma: 2.188263959213053, coef0: 0, degree: 3, tol: 805420\n"
          ]
        },
        {
          "name": "stderr",
          "output_type": "stream",
          "text": [
            "[I 2024-11-15 22:56:28,643] Trial 186 finished with value: -0.8916000000000001 and parameters: {'kernel': 'rbf', 'C': 396.0433657002894, 'max iter': 805420, 'gamma': 2.188263959213053}. Best is trial 182 with value: -0.8936.\n"
          ]
        },
        {
          "name": "stdout",
          "output_type": "stream",
          "text": [
            "kernel: rbf, C: 430.32231268542387, gamma: 3.337544101331097, coef0: 0, degree: 3, tol: 432048\n"
          ]
        },
        {
          "name": "stderr",
          "output_type": "stream",
          "text": [
            "[I 2024-11-15 22:56:30,531] Trial 187 finished with value: -0.8884000000000001 and parameters: {'kernel': 'rbf', 'C': 430.32231268542387, 'max iter': 432048, 'gamma': 3.337544101331097}. Best is trial 182 with value: -0.8936.\n"
          ]
        },
        {
          "name": "stdout",
          "output_type": "stream",
          "text": [
            "kernel: rbf, C: 620.8363049487646, gamma: 2.256625070615371, coef0: 0, degree: 3, tol: 819262\n"
          ]
        },
        {
          "name": "stderr",
          "output_type": "stream",
          "text": [
            "[I 2024-11-15 22:56:32,458] Trial 188 finished with value: -0.8916000000000001 and parameters: {'kernel': 'rbf', 'C': 620.8363049487646, 'max iter': 819262, 'gamma': 2.256625070615371}. Best is trial 182 with value: -0.8936.\n"
          ]
        },
        {
          "name": "stdout",
          "output_type": "stream",
          "text": [
            "kernel: rbf, C: 786.6071546459247, gamma: 0.5366144676861287, coef0: 0, degree: 3, tol: 833439\n"
          ]
        },
        {
          "name": "stderr",
          "output_type": "stream",
          "text": [
            "[I 2024-11-15 22:56:33,623] Trial 189 finished with value: -0.8864000000000001 and parameters: {'kernel': 'rbf', 'C': 786.6071546459247, 'max iter': 833439, 'gamma': 0.5366144676861287}. Best is trial 182 with value: -0.8936.\n"
          ]
        },
        {
          "name": "stdout",
          "output_type": "stream",
          "text": [
            "kernel: rbf, C: 618.6330100669438, gamma: 7.403190785186345, coef0: 0, degree: 3, tol: 679681\n"
          ]
        },
        {
          "name": "stderr",
          "output_type": "stream",
          "text": [
            "[I 2024-11-15 22:56:36,783] Trial 190 finished with value: -0.8764000000000001 and parameters: {'kernel': 'rbf', 'C': 618.6330100669438, 'max iter': 679681, 'gamma': 7.403190785186345}. Best is trial 182 with value: -0.8936.\n"
          ]
        },
        {
          "name": "stdout",
          "output_type": "stream",
          "text": [
            "kernel: rbf, C: 364.381444737902, gamma: 2.214188864405542, coef0: 0, degree: 3, tol: 575550\n"
          ]
        },
        {
          "name": "stderr",
          "output_type": "stream",
          "text": [
            "[I 2024-11-15 22:56:38,227] Trial 191 finished with value: -0.8912000000000001 and parameters: {'kernel': 'rbf', 'C': 364.381444737902, 'max iter': 575550, 'gamma': 2.214188864405542}. Best is trial 182 with value: -0.8936.\n"
          ]
        },
        {
          "name": "stdout",
          "output_type": "stream",
          "text": [
            "kernel: rbf, C: 568.5237149005508, gamma: 1.3355525449778376, coef0: 0, degree: 3, tol: 832110\n"
          ]
        },
        {
          "name": "stderr",
          "output_type": "stream",
          "text": [
            "[I 2024-11-15 22:56:39,616] Trial 192 finished with value: -0.8896000000000001 and parameters: {'kernel': 'rbf', 'C': 568.5237149005508, 'max iter': 832110, 'gamma': 1.3355525449778376}. Best is trial 182 with value: -0.8936.\n"
          ]
        },
        {
          "name": "stdout",
          "output_type": "stream",
          "text": [
            "kernel: rbf, C: 364.7089393660909, gamma: 3.3982560086357565, coef0: 0, degree: 3, tol: 443628\n"
          ]
        },
        {
          "name": "stderr",
          "output_type": "stream",
          "text": [
            "[I 2024-11-15 22:56:41,312] Trial 193 finished with value: -0.8884000000000001 and parameters: {'kernel': 'rbf', 'C': 364.7089393660909, 'max iter': 443628, 'gamma': 3.3982560086357565}. Best is trial 182 with value: -0.8936.\n"
          ]
        },
        {
          "name": "stdout",
          "output_type": "stream",
          "text": [
            "kernel: rbf, C: 799.2176829915951, gamma: 2.223578459783279, coef0: 0, degree: 3, tol: 644253\n"
          ]
        },
        {
          "name": "stderr",
          "output_type": "stream",
          "text": [
            "[I 2024-11-15 22:56:43,612] Trial 194 finished with value: -0.8880000000000001 and parameters: {'kernel': 'rbf', 'C': 799.2176829915951, 'max iter': 644253, 'gamma': 2.223578459783279}. Best is trial 182 with value: -0.8936.\n"
          ]
        },
        {
          "name": "stdout",
          "output_type": "stream",
          "text": [
            "kernel: rbf, C: 212.09829249401855, gamma: 0.7543016614541403, coef0: 0, degree: 3, tol: 377885\n"
          ]
        },
        {
          "name": "stderr",
          "output_type": "stream",
          "text": [
            "[I 2024-11-15 22:56:44,370] Trial 195 finished with value: -0.8868 and parameters: {'kernel': 'rbf', 'C': 212.09829249401855, 'max iter': 377885, 'gamma': 0.7543016614541403}. Best is trial 182 with value: -0.8936.\n",
            "[I 2024-11-15 22:56:44,413] Trial 196 finished with value: -0.5824 and parameters: {'kernel': 'linear', 'C': 479.70492778284233, 'max iter': 27}. Best is trial 182 with value: -0.8936.\n"
          ]
        },
        {
          "name": "stdout",
          "output_type": "stream",
          "text": [
            "kernel: linear, C: 479.70492778284233, gamma: 1, coef0: 0, degree: 3, tol: 27\n",
            "kernel: rbf, C: 600.5207683777209, gamma: 1.2566695378922195, coef0: 0, degree: 3, tol: 783916\n"
          ]
        },
        {
          "name": "stderr",
          "output_type": "stream",
          "text": [
            "[I 2024-11-15 22:56:45,804] Trial 197 finished with value: -0.8892 and parameters: {'kernel': 'rbf', 'C': 600.5207683777209, 'max iter': 783916, 'gamma': 1.2566695378922195}. Best is trial 182 with value: -0.8936.\n"
          ]
        },
        {
          "name": "stdout",
          "output_type": "stream",
          "text": [
            "kernel: rbf, C: 347.6993013047623, gamma: 4.521908736801778, coef0: 0, degree: 3, tol: 997382\n"
          ]
        },
        {
          "name": "stderr",
          "output_type": "stream",
          "text": [
            "[I 2024-11-15 22:56:47,648] Trial 198 finished with value: -0.8836 and parameters: {'kernel': 'rbf', 'C': 347.6993013047623, 'max iter': 997382, 'gamma': 4.521908736801778}. Best is trial 182 with value: -0.8936.\n"
          ]
        },
        {
          "name": "stdout",
          "output_type": "stream",
          "text": [
            "kernel: rbf, C: 749.866537993717, gamma: 2.8153085822545187, coef0: 0, degree: 3, tol: 532974\n"
          ]
        },
        {
          "name": "stderr",
          "output_type": "stream",
          "text": [
            "[I 2024-11-15 22:56:50,210] Trial 199 finished with value: -0.8876 and parameters: {'kernel': 'rbf', 'C': 749.866537993717, 'max iter': 532974, 'gamma': 2.8153085822545187}. Best is trial 182 with value: -0.8936.\n"
          ]
        },
        {
          "name": "stdout",
          "output_type": "stream",
          "text": [
            "kernel: sigmoid, C: 949.1070347128508, gamma: 1.7056227797628103, coef0: 0.08419455875580865, degree: 3, tol: 284910\n"
          ]
        },
        {
          "name": "stderr",
          "output_type": "stream",
          "text": [
            "[I 2024-11-15 22:56:50,894] Trial 200 finished with value: -0.6548 and parameters: {'kernel': 'sigmoid', 'C': 949.1070347128508, 'max iter': 284910, 'gamma': 1.7056227797628103, 'coef0': 0.08419455875580865}. Best is trial 182 with value: -0.8936.\n"
          ]
        },
        {
          "name": "stdout",
          "output_type": "stream",
          "text": [
            "kernel: rbf, C: 383.5721664916336, gamma: 2.2681119567869623, coef0: 0, degree: 3, tol: 585942\n"
          ]
        },
        {
          "name": "stderr",
          "output_type": "stream",
          "text": [
            "[I 2024-11-15 22:56:52,358] Trial 201 finished with value: -0.892 and parameters: {'kernel': 'rbf', 'C': 383.5721664916336, 'max iter': 585942, 'gamma': 2.2681119567869623}. Best is trial 182 with value: -0.8936.\n"
          ]
        },
        {
          "name": "stdout",
          "output_type": "stream",
          "text": [
            "kernel: rbf, C: 492.6923322490101, gamma: 2.0722464834919747, coef0: 0, degree: 3, tol: 675077\n"
          ]
        },
        {
          "name": "stderr",
          "output_type": "stream",
          "text": [
            "[I 2024-11-15 22:56:53,934] Trial 202 finished with value: -0.892 and parameters: {'kernel': 'rbf', 'C': 492.6923322490101, 'max iter': 675077, 'gamma': 2.0722464834919747}. Best is trial 182 with value: -0.8936.\n"
          ]
        },
        {
          "name": "stdout",
          "output_type": "stream",
          "text": [
            "kernel: rbf, C: 475.7873340748385, gamma: 3.1569378924306397, coef0: 0, degree: 3, tol: 684299\n"
          ]
        },
        {
          "name": "stderr",
          "output_type": "stream",
          "text": [
            "[I 2024-11-15 22:56:55,853] Trial 203 finished with value: -0.8884000000000001 and parameters: {'kernel': 'rbf', 'C': 475.7873340748385, 'max iter': 684299, 'gamma': 3.1569378924306397}. Best is trial 182 with value: -0.8936.\n"
          ]
        },
        {
          "name": "stdout",
          "output_type": "stream",
          "text": [
            "kernel: rbf, C: 601.6061056176558, gamma: 0.9534022368715703, coef0: 0, degree: 3, tol: 818247\n"
          ]
        },
        {
          "name": "stderr",
          "output_type": "stream",
          "text": [
            "[I 2024-11-15 22:56:57,074] Trial 204 finished with value: -0.8884000000000001 and parameters: {'kernel': 'rbf', 'C': 601.6061056176558, 'max iter': 818247, 'gamma': 0.9534022368715703}. Best is trial 182 with value: -0.8936.\n"
          ]
        },
        {
          "name": "stdout",
          "output_type": "stream",
          "text": [
            "kernel: rbf, C: 432.5009091887962, gamma: 1.5543528401139386, coef0: 0, degree: 3, tol: 574336\n"
          ]
        },
        {
          "name": "stderr",
          "output_type": "stream",
          "text": [
            "[I 2024-11-15 22:56:58,455] Trial 205 finished with value: -0.8892 and parameters: {'kernel': 'rbf', 'C': 432.5009091887962, 'max iter': 574336, 'gamma': 1.5543528401139386}. Best is trial 182 with value: -0.8936.\n"
          ]
        },
        {
          "name": "stdout",
          "output_type": "stream",
          "text": [
            "kernel: rbf, C: 989.8362983747922, gamma: 2.1945315896170423, coef0: 0, degree: 3, tol: 984858\n"
          ]
        },
        {
          "name": "stderr",
          "output_type": "stream",
          "text": [
            "[I 2024-11-15 22:57:01,086] Trial 206 finished with value: -0.8868 and parameters: {'kernel': 'rbf', 'C': 989.8362983747922, 'max iter': 984858, 'gamma': 2.1945315896170423}. Best is trial 182 with value: -0.8936.\n"
          ]
        },
        {
          "name": "stdout",
          "output_type": "stream",
          "text": [
            "kernel: rbf, C: 689.5399437350467, gamma: 4.765891001935988, coef0: 0, degree: 3, tol: 697931\n"
          ]
        },
        {
          "name": "stderr",
          "output_type": "stream",
          "text": [
            "[I 2024-11-15 22:57:03,993] Trial 207 finished with value: -0.8799999999999999 and parameters: {'kernel': 'rbf', 'C': 689.5399437350467, 'max iter': 697931, 'gamma': 4.765891001935988}. Best is trial 182 with value: -0.8936.\n"
          ]
        },
        {
          "name": "stdout",
          "output_type": "stream",
          "text": [
            "kernel: rbf, C: 246.2911516365962, gamma: 1.4064735491119325, coef0: 0, degree: 3, tol: 492616\n"
          ]
        },
        {
          "name": "stderr",
          "output_type": "stream",
          "text": [
            "[I 2024-11-15 22:57:04,937] Trial 208 finished with value: -0.8876000000000002 and parameters: {'kernel': 'rbf', 'C': 246.2911516365962, 'max iter': 492616, 'gamma': 1.4064735491119325}. Best is trial 182 with value: -0.8936.\n"
          ]
        },
        {
          "name": "stdout",
          "output_type": "stream",
          "text": [
            "kernel: rbf, C: 513.9489980759591, gamma: 2.988735024001125, coef0: 0, degree: 3, tol: 378087\n"
          ]
        },
        {
          "name": "stderr",
          "output_type": "stream",
          "text": [
            "[I 2024-11-15 22:57:06,865] Trial 209 finished with value: -0.8892 and parameters: {'kernel': 'rbf', 'C': 513.9489980759591, 'max iter': 378087, 'gamma': 2.988735024001125}. Best is trial 182 with value: -0.8936.\n"
          ]
        },
        {
          "name": "stdout",
          "output_type": "stream",
          "text": [
            "kernel: poly, C: 748.1961951288561, gamma: 2.033735420792768, coef0: 0.005230161858229945, degree: 3, tol: 602437\n"
          ]
        },
        {
          "name": "stderr",
          "output_type": "stream",
          "text": [
            "[I 2024-11-15 22:57:47,093] Trial 210 finished with value: -0.74 and parameters: {'kernel': 'poly', 'C': 748.1961951288561, 'max iter': 602437, 'gamma': 2.033735420792768, 'coef0': 0.005230161858229945, 'degree': 3}. Best is trial 182 with value: -0.8936.\n"
          ]
        },
        {
          "name": "stdout",
          "output_type": "stream",
          "text": [
            "kernel: rbf, C: 372.29744211986457, gamma: 2.3465000437809533, coef0: 0, degree: 3, tol: 467563\n"
          ]
        },
        {
          "name": "stderr",
          "output_type": "stream",
          "text": [
            "[I 2024-11-15 22:57:48,667] Trial 211 finished with value: -0.8916000000000001 and parameters: {'kernel': 'rbf', 'C': 372.29744211986457, 'max iter': 467563, 'gamma': 2.3465000437809533}. Best is trial 182 with value: -0.8936.\n"
          ]
        },
        {
          "name": "stdout",
          "output_type": "stream",
          "text": [
            "kernel: rbf, C: 438.93808878696547, gamma: 1.1304602952536107, coef0: 0, degree: 3, tol: 801619\n"
          ]
        },
        {
          "name": "stderr",
          "output_type": "stream",
          "text": [
            "[I 2024-11-15 22:57:49,947] Trial 212 finished with value: -0.8892000000000001 and parameters: {'kernel': 'rbf', 'C': 438.93808878696547, 'max iter': 801619, 'gamma': 1.1304602952536107}. Best is trial 182 with value: -0.8936.\n"
          ]
        },
        {
          "name": "stdout",
          "output_type": "stream",
          "text": [
            "kernel: rbf, C: 319.31943469508326, gamma: 2.665048805253787, coef0: 0, degree: 3, tol: 479938\n"
          ]
        },
        {
          "name": "stderr",
          "output_type": "stream",
          "text": [
            "[I 2024-11-15 22:57:51,543] Trial 213 finished with value: -0.8904 and parameters: {'kernel': 'rbf', 'C': 319.31943469508326, 'max iter': 479938, 'gamma': 2.665048805253787}. Best is trial 182 with value: -0.8936.\n"
          ]
        },
        {
          "name": "stdout",
          "output_type": "stream",
          "text": [
            "kernel: rbf, C: 578.874421391414, gamma: 1.7586678960994346, coef0: 0, degree: 3, tol: 635624\n"
          ]
        },
        {
          "name": "stderr",
          "output_type": "stream",
          "text": [
            "[I 2024-11-15 22:57:53,432] Trial 214 finished with value: -0.8904 and parameters: {'kernel': 'rbf', 'C': 578.874421391414, 'max iter': 635624, 'gamma': 1.7586678960994346}. Best is trial 182 with value: -0.8936.\n"
          ]
        },
        {
          "name": "stdout",
          "output_type": "stream",
          "text": [
            "kernel: rbf, C: 376.67671643157166, gamma: 3.7031242279634027, coef0: 0, degree: 3, tol: 372275\n"
          ]
        },
        {
          "name": "stderr",
          "output_type": "stream",
          "text": [
            "[I 2024-11-15 22:57:55,508] Trial 215 finished with value: -0.8880000000000001 and parameters: {'kernel': 'rbf', 'C': 376.67671643157166, 'max iter': 372275, 'gamma': 3.7031242279634027}. Best is trial 182 with value: -0.8936.\n"
          ]
        },
        {
          "name": "stdout",
          "output_type": "stream",
          "text": [
            "kernel: rbf, C: 571.6375598525716, gamma: 0.8070776934997219, coef0: 0, degree: 3, tol: 535858\n"
          ]
        },
        {
          "name": "stderr",
          "output_type": "stream",
          "text": [
            "[I 2024-11-15 22:57:56,783] Trial 216 finished with value: -0.8855999999999999 and parameters: {'kernel': 'rbf', 'C': 571.6375598525716, 'max iter': 535858, 'gamma': 0.8070776934997219}. Best is trial 182 with value: -0.8936.\n"
          ]
        },
        {
          "name": "stdout",
          "output_type": "stream",
          "text": [
            "kernel: rbf, C: 760.7614433319023, gamma: 2.04154202078212, coef0: 0, degree: 3, tol: 806081\n"
          ]
        },
        {
          "name": "stderr",
          "output_type": "stream",
          "text": [
            "[I 2024-11-15 22:57:59,268] Trial 217 finished with value: -0.8924 and parameters: {'kernel': 'rbf', 'C': 760.7614433319023, 'max iter': 806081, 'gamma': 2.04154202078212}. Best is trial 182 with value: -0.8936.\n"
          ]
        },
        {
          "name": "stdout",
          "output_type": "stream",
          "text": [
            "kernel: rbf, C: 984.7259443177763, gamma: 1.3397416118816488, coef0: 0, degree: 3, tol: 999650\n"
          ]
        },
        {
          "name": "stderr",
          "output_type": "stream",
          "text": [
            "[I 2024-11-15 22:58:01,596] Trial 218 finished with value: -0.8888 and parameters: {'kernel': 'rbf', 'C': 984.7259443177763, 'max iter': 999650, 'gamma': 1.3397416118816488}. Best is trial 182 with value: -0.8936.\n"
          ]
        },
        {
          "name": "stdout",
          "output_type": "stream",
          "text": [
            "kernel: rbf, C: 730.0751299859094, gamma: 4.626436934883772, coef0: 0, degree: 3, tol: 795142\n"
          ]
        },
        {
          "name": "stderr",
          "output_type": "stream",
          "text": [
            "[I 2024-11-15 22:58:05,087] Trial 219 finished with value: -0.8804000000000001 and parameters: {'kernel': 'rbf', 'C': 730.0751299859094, 'max iter': 795142, 'gamma': 4.626436934883772}. Best is trial 182 with value: -0.8936.\n"
          ]
        },
        {
          "name": "stdout",
          "output_type": "stream",
          "text": [
            "kernel: rbf, C: 749.4044452188707, gamma: 1.7728013070039292, coef0: 0, degree: 3, tol: 669464\n"
          ]
        },
        {
          "name": "stderr",
          "output_type": "stream",
          "text": [
            "[I 2024-11-15 22:58:07,321] Trial 220 finished with value: -0.8924 and parameters: {'kernel': 'rbf', 'C': 749.4044452188707, 'max iter': 669464, 'gamma': 1.7728013070039292}. Best is trial 182 with value: -0.8936.\n"
          ]
        },
        {
          "name": "stdout",
          "output_type": "stream",
          "text": [
            "kernel: rbf, C: 761.8539476949786, gamma: 1.7867610270483285, coef0: 0, degree: 3, tol: 707832\n"
          ]
        },
        {
          "name": "stderr",
          "output_type": "stream",
          "text": [
            "[I 2024-11-15 22:58:09,645] Trial 221 finished with value: -0.8916000000000001 and parameters: {'kernel': 'rbf', 'C': 761.8539476949786, 'max iter': 707832, 'gamma': 1.7867610270483285}. Best is trial 182 with value: -0.8936.\n"
          ]
        },
        {
          "name": "stdout",
          "output_type": "stream",
          "text": [
            "kernel: rbf, C: 541.170848005367, gamma: 2.8723660420482693, coef0: 0, degree: 3, tol: 626805\n"
          ]
        },
        {
          "name": "stderr",
          "output_type": "stream",
          "text": [
            "[I 2024-11-15 22:58:11,912] Trial 222 finished with value: -0.8880000000000001 and parameters: {'kernel': 'rbf', 'C': 541.170848005367, 'max iter': 626805, 'gamma': 2.8723660420482693}. Best is trial 182 with value: -0.8936.\n"
          ]
        },
        {
          "name": "stdout",
          "output_type": "stream",
          "text": [
            "kernel: rbf, C: 770.5231332020278, gamma: 0.9353799049361812, coef0: 0, degree: 3, tol: 829875\n"
          ]
        },
        {
          "name": "stderr",
          "output_type": "stream",
          "text": [
            "[I 2024-11-15 22:58:13,484] Trial 223 finished with value: -0.8884000000000001 and parameters: {'kernel': 'rbf', 'C': 770.5231332020278, 'max iter': 829875, 'gamma': 0.9353799049361812}. Best is trial 182 with value: -0.8936.\n"
          ]
        },
        {
          "name": "stdout",
          "output_type": "stream",
          "text": [
            "kernel: rbf, C: 476.2154133840455, gamma: 1.6575875949863463, coef0: 0, degree: 3, tol: 576599\n"
          ]
        },
        {
          "name": "stderr",
          "output_type": "stream",
          "text": [
            "[I 2024-11-15 22:58:15,089] Trial 224 finished with value: -0.8892000000000001 and parameters: {'kernel': 'rbf', 'C': 476.2154133840455, 'max iter': 576599, 'gamma': 1.6575875949863463}. Best is trial 182 with value: -0.8936.\n"
          ]
        },
        {
          "name": "stdout",
          "output_type": "stream",
          "text": [
            "kernel: rbf, C: 642.4982232171021, gamma: 2.1853780254074606, coef0: 0, degree: 3, tol: 767984\n"
          ]
        },
        {
          "name": "stderr",
          "output_type": "stream",
          "text": [
            "[I 2024-11-15 22:58:17,353] Trial 225 finished with value: -0.8916000000000001 and parameters: {'kernel': 'rbf', 'C': 642.4982232171021, 'max iter': 767984, 'gamma': 2.1853780254074606}. Best is trial 182 with value: -0.8936.\n"
          ]
        },
        {
          "name": "stdout",
          "output_type": "stream",
          "text": [
            "kernel: rbf, C: 586.5640558213145, gamma: 2.8734817273271247, coef0: 0, degree: 3, tol: 666176\n"
          ]
        },
        {
          "name": "stderr",
          "output_type": "stream",
          "text": [
            "[I 2024-11-15 22:58:19,954] Trial 226 finished with value: -0.8880000000000001 and parameters: {'kernel': 'rbf', 'C': 586.5640558213145, 'max iter': 666176, 'gamma': 2.8734817273271247}. Best is trial 182 with value: -0.8936.\n"
          ]
        },
        {
          "name": "stdout",
          "output_type": "stream",
          "text": [
            "kernel: rbf, C: 977.1018318339134, gamma: 1.4626460634963372, coef0: 0, degree: 3, tol: 436509\n"
          ]
        },
        {
          "name": "stderr",
          "output_type": "stream",
          "text": [
            "[I 2024-11-15 22:58:22,238] Trial 227 finished with value: -0.8896000000000001 and parameters: {'kernel': 'rbf', 'C': 977.1018318339134, 'max iter': 436509, 'gamma': 1.4626460634963372}. Best is trial 182 with value: -0.8936.\n"
          ]
        },
        {
          "name": "stdout",
          "output_type": "stream",
          "text": [
            "kernel: rbf, C: 416.2477542053511, gamma: 1.1261135821629435, coef0: 0, degree: 3, tol: 864935\n"
          ]
        },
        {
          "name": "stderr",
          "output_type": "stream",
          "text": [
            "[I 2024-11-15 22:58:23,484] Trial 228 finished with value: -0.8888 and parameters: {'kernel': 'rbf', 'C': 416.2477542053511, 'max iter': 864935, 'gamma': 1.1261135821629435}. Best is trial 182 with value: -0.8936.\n"
          ]
        },
        {
          "name": "stdout",
          "output_type": "stream",
          "text": [
            "kernel: rbf, C: 751.3739912441067, gamma: 4.019341509985406, coef0: 0, degree: 3, tol: 557618\n"
          ]
        },
        {
          "name": "stderr",
          "output_type": "stream",
          "text": [
            "[I 2024-11-15 22:58:26,900] Trial 229 finished with value: -0.8804000000000001 and parameters: {'kernel': 'rbf', 'C': 751.3739912441067, 'max iter': 557618, 'gamma': 4.019341509985406}. Best is trial 182 with value: -0.8936.\n"
          ]
        },
        {
          "name": "stdout",
          "output_type": "stream",
          "text": [
            "kernel: rbf, C: 502.9474362589875, gamma: 6.058270199811262, coef0: 0, degree: 3, tol: 989528\n"
          ]
        },
        {
          "name": "stderr",
          "output_type": "stream",
          "text": [
            "[I 2024-11-15 22:58:30,061] Trial 230 finished with value: -0.8775999999999999 and parameters: {'kernel': 'rbf', 'C': 502.9474362589875, 'max iter': 989528, 'gamma': 6.058270199811262}. Best is trial 182 with value: -0.8936.\n"
          ]
        },
        {
          "name": "stdout",
          "output_type": "stream",
          "text": [
            "kernel: rbf, C: 338.29910146331747, gamma: 2.180334364755261, coef0: 0, degree: 3, tol: 465400\n"
          ]
        },
        {
          "name": "stderr",
          "output_type": "stream",
          "text": [
            "[I 2024-11-15 22:58:31,492] Trial 231 finished with value: -0.8907999999999999 and parameters: {'kernel': 'rbf', 'C': 338.29910146331747, 'max iter': 465400, 'gamma': 2.180334364755261}. Best is trial 182 with value: -0.8936.\n"
          ]
        },
        {
          "name": "stdout",
          "output_type": "stream",
          "text": [
            "kernel: rbf, C: 257.53169295681556, gamma: 2.212858764033859, coef0: 0, degree: 3, tol: 390030\n"
          ]
        },
        {
          "name": "stderr",
          "output_type": "stream",
          "text": [
            "[I 2024-11-15 22:58:32,783] Trial 232 finished with value: -0.8892 and parameters: {'kernel': 'rbf', 'C': 257.53169295681556, 'max iter': 390030, 'gamma': 2.212858764033859}. Best is trial 182 with value: -0.8936.\n"
          ]
        },
        {
          "name": "stdout",
          "output_type": "stream",
          "text": [
            "kernel: rbf, C: 403.4732497492055, gamma: 2.9684042295320907, coef0: 0, degree: 3, tol: 675691\n"
          ]
        },
        {
          "name": "stderr",
          "output_type": "stream",
          "text": [
            "[I 2024-11-15 22:58:34,670] Trial 233 finished with value: -0.8863999999999999 and parameters: {'kernel': 'rbf', 'C': 403.4732497492055, 'max iter': 675691, 'gamma': 2.9684042295320907}. Best is trial 182 with value: -0.8936.\n"
          ]
        },
        {
          "name": "stdout",
          "output_type": "stream",
          "text": [
            "kernel: rbf, C: 611.8697794829001, gamma: 1.3498005287378096, coef0: 0, degree: 3, tol: 487015\n"
          ]
        },
        {
          "name": "stderr",
          "output_type": "stream",
          "text": [
            "[I 2024-11-15 22:58:36,363] Trial 234 finished with value: -0.89 and parameters: {'kernel': 'rbf', 'C': 611.8697794829001, 'max iter': 487015, 'gamma': 1.3498005287378096}. Best is trial 182 with value: -0.8936.\n"
          ]
        },
        {
          "name": "stdout",
          "output_type": "stream",
          "text": [
            "kernel: rbf, C: 449.37455239505374, gamma: 1.9835310167501494, coef0: 0, degree: 3, tol: 296478\n"
          ]
        },
        {
          "name": "stderr",
          "output_type": "stream",
          "text": [
            "[I 2024-11-15 22:58:38,006] Trial 235 finished with value: -0.892 and parameters: {'kernel': 'rbf', 'C': 449.37455239505374, 'max iter': 296478, 'gamma': 1.9835310167501494}. Best is trial 182 with value: -0.8936.\n"
          ]
        },
        {
          "name": "stdout",
          "output_type": "stream",
          "text": [
            "kernel: rbf, C: 796.0121390265135, gamma: 1.7519441844489825, coef0: 0, degree: 3, tol: 301048\n"
          ]
        },
        {
          "name": "stderr",
          "output_type": "stream",
          "text": [
            "[I 2024-11-15 22:58:40,376] Trial 236 finished with value: -0.892 and parameters: {'kernel': 'rbf', 'C': 796.0121390265135, 'max iter': 301048, 'gamma': 1.7519441844489825}. Best is trial 182 with value: -0.8936.\n"
          ]
        },
        {
          "name": "stdout",
          "output_type": "stream",
          "text": [
            "kernel: rbf, C: 802.352237679709, gamma: 0.8036441304448189, coef0: 0, degree: 3, tol: 315246\n"
          ]
        },
        {
          "name": "stderr",
          "output_type": "stream",
          "text": [
            "[I 2024-11-15 22:58:41,851] Trial 237 finished with value: -0.8868 and parameters: {'kernel': 'rbf', 'C': 802.352237679709, 'max iter': 315246, 'gamma': 0.8036441304448189}. Best is trial 182 with value: -0.8936.\n"
          ]
        },
        {
          "name": "stdout",
          "output_type": "stream",
          "text": [
            "kernel: rbf, C: 995.0234995679425, gamma: 1.5893690311876822, coef0: 0, degree: 3, tol: 280724\n"
          ]
        },
        {
          "name": "stderr",
          "output_type": "stream",
          "text": [
            "[I 2024-11-15 22:58:44,411] Trial 238 finished with value: -0.8911999999999999 and parameters: {'kernel': 'rbf', 'C': 995.0234995679425, 'max iter': 280724, 'gamma': 1.5893690311876822}. Best is trial 182 with value: -0.8936.\n"
          ]
        },
        {
          "name": "stdout",
          "output_type": "stream",
          "text": [
            "kernel: linear, C: 475.31512870756814, gamma: 1, coef0: 0, degree: 3, tol: 231950\n"
          ]
        },
        {
          "name": "stderr",
          "output_type": "stream",
          "text": [
            "[I 2024-11-15 22:58:45,401] Trial 239 finished with value: -0.8836 and parameters: {'kernel': 'linear', 'C': 475.31512870756814, 'max iter': 231950}. Best is trial 182 with value: -0.8936.\n"
          ]
        },
        {
          "name": "stdout",
          "output_type": "stream",
          "text": [
            "kernel: rbf, C: 734.4174894166756, gamma: 1.1715032412864796, coef0: 0, degree: 3, tol: 272505\n"
          ]
        },
        {
          "name": "stderr",
          "output_type": "stream",
          "text": [
            "[I 2024-11-15 22:58:47,058] Trial 240 finished with value: -0.8888 and parameters: {'kernel': 'rbf', 'C': 734.4174894166756, 'max iter': 272505, 'gamma': 1.1715032412864796}. Best is trial 182 with value: -0.8936.\n"
          ]
        },
        {
          "name": "stdout",
          "output_type": "stream",
          "text": [
            "kernel: rbf, C: 595.4112955173833, gamma: 1.868950917856523, coef0: 0, degree: 3, tol: 735310\n"
          ]
        },
        {
          "name": "stderr",
          "output_type": "stream",
          "text": [
            "[I 2024-11-15 22:58:48,980] Trial 241 finished with value: -0.8928 and parameters: {'kernel': 'rbf', 'C': 595.4112955173833, 'max iter': 735310, 'gamma': 1.868950917856523}. Best is trial 182 with value: -0.8936.\n"
          ]
        },
        {
          "name": "stdout",
          "output_type": "stream",
          "text": [
            "kernel: rbf, C: 559.5979534554033, gamma: 1.8086864602118895, coef0: 0, degree: 3, tol: 611704\n"
          ]
        },
        {
          "name": "stderr",
          "output_type": "stream",
          "text": [
            "[I 2024-11-15 22:58:50,786] Trial 242 finished with value: -0.8924 and parameters: {'kernel': 'rbf', 'C': 559.5979534554033, 'max iter': 611704, 'gamma': 1.8086864602118895}. Best is trial 182 with value: -0.8936.\n"
          ]
        },
        {
          "name": "stdout",
          "output_type": "stream",
          "text": [
            "kernel: rbf, C: 587.0311136048209, gamma: 1.6423492555425314, coef0: 0, degree: 3, tol: 361890\n"
          ]
        },
        {
          "name": "stderr",
          "output_type": "stream",
          "text": [
            "[I 2024-11-15 22:58:52,579] Trial 243 finished with value: -0.89 and parameters: {'kernel': 'rbf', 'C': 587.0311136048209, 'max iter': 361890, 'gamma': 1.6423492555425314}. Best is trial 182 with value: -0.8936.\n"
          ]
        },
        {
          "name": "stdout",
          "output_type": "stream",
          "text": [
            "kernel: rbf, C: 789.0510746909256, gamma: 3.418513784156264, coef0: 0, degree: 3, tol: 8911\n"
          ]
        },
        {
          "name": "stderr",
          "output_type": "stream",
          "text": [
            "[I 2024-11-15 22:58:54,026] Trial 244 finished with value: -0.8736 and parameters: {'kernel': 'rbf', 'C': 789.0510746909256, 'max iter': 8911, 'gamma': 3.418513784156264}. Best is trial 182 with value: -0.8936.\n"
          ]
        },
        {
          "name": "stdout",
          "output_type": "stream",
          "text": [
            "kernel: rbf, C: 486.4803857092498, gamma: 1.194723648465077, coef0: 0, degree: 3, tol: 570834\n"
          ]
        },
        {
          "name": "stderr",
          "output_type": "stream",
          "text": [
            "[I 2024-11-15 22:58:55,422] Trial 245 finished with value: -0.8888 and parameters: {'kernel': 'rbf', 'C': 486.4803857092498, 'max iter': 570834, 'gamma': 1.194723648465077}. Best is trial 182 with value: -0.8936.\n"
          ]
        },
        {
          "name": "stdout",
          "output_type": "stream",
          "text": [
            "kernel: rbf, C: 629.1488753207694, gamma: 1.761588294246179, coef0: 0, degree: 3, tol: 599390\n"
          ]
        },
        {
          "name": "stderr",
          "output_type": "stream",
          "text": [
            "[I 2024-11-15 22:58:57,355] Trial 246 finished with value: -0.892 and parameters: {'kernel': 'rbf', 'C': 629.1488753207694, 'max iter': 599390, 'gamma': 1.761588294246179}. Best is trial 182 with value: -0.8936.\n"
          ]
        },
        {
          "name": "stdout",
          "output_type": "stream",
          "text": [
            "kernel: sigmoid, C: 778.4454555456625, gamma: 2.9185562331948574, coef0: 90.60505963732668, degree: 3, tol: 421739\n"
          ]
        },
        {
          "name": "stderr",
          "output_type": "stream",
          "text": [
            "[I 2024-11-15 22:58:58,093] Trial 247 finished with value: -0.52 and parameters: {'kernel': 'sigmoid', 'C': 778.4454555456625, 'max iter': 421739, 'gamma': 2.9185562331948574, 'coef0': 90.60505963732668}. Best is trial 182 with value: -0.8936.\n"
          ]
        },
        {
          "name": "stdout",
          "output_type": "stream",
          "text": [
            "kernel: rbf, C: 543.9314203767982, gamma: 0.9222866267944936, coef0: 0, degree: 3, tol: 552996\n"
          ]
        },
        {
          "name": "stderr",
          "output_type": "stream",
          "text": [
            "[I 2024-11-15 22:58:59,394] Trial 248 finished with value: -0.8868 and parameters: {'kernel': 'rbf', 'C': 543.9314203767982, 'max iter': 552996, 'gamma': 0.9222866267944936}. Best is trial 182 with value: -0.8936.\n"
          ]
        },
        {
          "name": "stdout",
          "output_type": "stream",
          "text": [
            "kernel: rbf, C: 978.2639414715411, gamma: 1.6908671322270379, coef0: 0, degree: 3, tol: 334001\n"
          ]
        },
        {
          "name": "stderr",
          "output_type": "stream",
          "text": [
            "[I 2024-11-15 22:59:02,040] Trial 249 finished with value: -0.8924000000000001 and parameters: {'kernel': 'rbf', 'C': 978.2639414715411, 'max iter': 334001, 'gamma': 1.6908671322270379}. Best is trial 182 with value: -0.8936.\n"
          ]
        },
        {
          "name": "stdout",
          "output_type": "stream",
          "text": [
            "kernel: rbf, C: 847.1008672716988, gamma: 1.5376669672484375, coef0: 0, degree: 3, tol: 632228\n"
          ]
        },
        {
          "name": "stderr",
          "output_type": "stream",
          "text": [
            "[I 2024-11-15 22:59:04,179] Trial 250 finished with value: -0.8907999999999999 and parameters: {'kernel': 'rbf', 'C': 847.1008672716988, 'max iter': 632228, 'gamma': 1.5376669672484375}. Best is trial 182 with value: -0.8936.\n"
          ]
        },
        {
          "name": "stdout",
          "output_type": "stream",
          "text": [
            "kernel: rbf, C: 669.9469503138414, gamma: 0.6376212924117958, coef0: 0, degree: 3, tol: 478796\n"
          ]
        },
        {
          "name": "stderr",
          "output_type": "stream",
          "text": [
            "[I 2024-11-15 22:59:05,403] Trial 251 finished with value: -0.8855999999999999 and parameters: {'kernel': 'rbf', 'C': 669.9469503138414, 'max iter': 478796, 'gamma': 0.6376212924117958}. Best is trial 182 with value: -0.8936.\n"
          ]
        },
        {
          "name": "stdout",
          "output_type": "stream",
          "text": [
            "kernel: rbf, C: 895.6586416277825, gamma: 3.508852707768063, coef0: 0, degree: 3, tol: 350279\n"
          ]
        },
        {
          "name": "stderr",
          "output_type": "stream",
          "text": [
            "[I 2024-11-15 22:59:09,058] Trial 252 finished with value: -0.8828000000000001 and parameters: {'kernel': 'rbf', 'C': 895.6586416277825, 'max iter': 350279, 'gamma': 3.508852707768063}. Best is trial 182 with value: -0.8936.\n"
          ]
        },
        {
          "name": "stdout",
          "output_type": "stream",
          "text": [
            "kernel: poly, C: 953.3417528654821, gamma: 1.0396029633632784, coef0: 0.5609011528728574, degree: 2, tol: 653191\n"
          ]
        },
        {
          "name": "stderr",
          "output_type": "stream",
          "text": [
            "[I 2024-11-15 22:59:16,148] Trial 253 finished with value: -0.8824 and parameters: {'kernel': 'poly', 'C': 953.3417528654821, 'max iter': 653191, 'gamma': 1.0396029633632784, 'coef0': 0.5609011528728574, 'degree': 2}. Best is trial 182 with value: -0.8936.\n"
          ]
        },
        {
          "name": "stdout",
          "output_type": "stream",
          "text": [
            "kernel: rbf, C: 995.280990136236, gamma: 1.7632740147265071, coef0: 0, degree: 3, tol: 515853\n"
          ]
        },
        {
          "name": "stderr",
          "output_type": "stream",
          "text": [
            "[I 2024-11-15 22:59:18,688] Trial 254 finished with value: -0.8928 and parameters: {'kernel': 'rbf', 'C': 995.280990136236, 'max iter': 515853, 'gamma': 1.7632740147265071}. Best is trial 182 with value: -0.8936.\n"
          ]
        },
        {
          "name": "stdout",
          "output_type": "stream",
          "text": [
            "kernel: rbf, C: 962.1131876483713, gamma: 1.669712984038049, coef0: 0, degree: 3, tol: 428367\n"
          ]
        },
        {
          "name": "stderr",
          "output_type": "stream",
          "text": [
            "[I 2024-11-15 22:59:21,151] Trial 255 finished with value: -0.8924 and parameters: {'kernel': 'rbf', 'C': 962.1131876483713, 'max iter': 428367, 'gamma': 1.669712984038049}. Best is trial 182 with value: -0.8936.\n"
          ]
        },
        {
          "name": "stdout",
          "output_type": "stream",
          "text": [
            "kernel: rbf, C: 669.2902715484286, gamma: 1.5679308134769812, coef0: 0, degree: 3, tol: 221731\n"
          ]
        },
        {
          "name": "stderr",
          "output_type": "stream",
          "text": [
            "[I 2024-11-15 22:59:23,043] Trial 256 finished with value: -0.8896000000000001 and parameters: {'kernel': 'rbf', 'C': 669.2902715484286, 'max iter': 221731, 'gamma': 1.5679308134769812}. Best is trial 182 with value: -0.8936.\n"
          ]
        },
        {
          "name": "stdout",
          "output_type": "stream",
          "text": [
            "kernel: rbf, C: 963.2697186316915, gamma: 1.0085506596949334, coef0: 0, degree: 3, tol: 413815\n"
          ]
        },
        {
          "name": "stderr",
          "output_type": "stream",
          "text": [
            "[I 2024-11-15 22:59:24,868] Trial 257 finished with value: -0.8884000000000001 and parameters: {'kernel': 'rbf', 'C': 963.2697186316915, 'max iter': 413815, 'gamma': 1.0085506596949334}. Best is trial 182 with value: -0.8936.\n"
          ]
        },
        {
          "name": "stdout",
          "output_type": "stream",
          "text": [
            "kernel: rbf, C: 574.3330152485056, gamma: 1.2872723011908274, coef0: 0, degree: 3, tol: 293939\n"
          ]
        },
        {
          "name": "stderr",
          "output_type": "stream",
          "text": [
            "[I 2024-11-15 22:59:26,393] Trial 258 finished with value: -0.8896000000000001 and parameters: {'kernel': 'rbf', 'C': 574.3330152485056, 'max iter': 293939, 'gamma': 1.2872723011908274}. Best is trial 182 with value: -0.8936.\n"
          ]
        },
        {
          "name": "stdout",
          "output_type": "stream",
          "text": [
            "kernel: rbf, C: 954.907211712864, gamma: 1.9716859844597663, coef0: 0, degree: 3, tol: 397450\n"
          ]
        },
        {
          "name": "stderr",
          "output_type": "stream",
          "text": [
            "[I 2024-11-15 22:59:29,027] Trial 259 finished with value: -0.89 and parameters: {'kernel': 'rbf', 'C': 954.907211712864, 'max iter': 397450, 'gamma': 1.9716859844597663}. Best is trial 182 with value: -0.8936.\n"
          ]
        },
        {
          "name": "stdout",
          "output_type": "stream",
          "text": [
            "kernel: rbf, C: 997.6460658688013, gamma: 4.308582230002881, coef0: 0, degree: 3, tol: 509555\n"
          ]
        },
        {
          "name": "stderr",
          "output_type": "stream",
          "text": [
            "[I 2024-11-15 22:59:33,206] Trial 260 finished with value: -0.8795999999999999 and parameters: {'kernel': 'rbf', 'C': 997.6460658688013, 'max iter': 509555, 'gamma': 4.308582230002881}. Best is trial 182 with value: -0.8936.\n"
          ]
        },
        {
          "name": "stdout",
          "output_type": "stream",
          "text": [
            "kernel: rbf, C: 678.6146749508991, gamma: 0.5643454727309153, coef0: 0, degree: 3, tol: 511789\n"
          ]
        },
        {
          "name": "stderr",
          "output_type": "stream",
          "text": [
            "[I 2024-11-15 22:59:34,368] Trial 261 finished with value: -0.8868 and parameters: {'kernel': 'rbf', 'C': 678.6146749508991, 'max iter': 511789, 'gamma': 0.5643454727309153}. Best is trial 182 with value: -0.8936.\n"
          ]
        },
        {
          "name": "stdout",
          "output_type": "stream",
          "text": [
            "kernel: rbf, C: 501.2303714552703, gamma: 2.749260636967822, coef0: 0, degree: 3, tol: 189315\n"
          ]
        },
        {
          "name": "stderr",
          "output_type": "stream",
          "text": [
            "[I 2024-11-15 22:59:36,376] Trial 262 finished with value: -0.8872 and parameters: {'kernel': 'rbf', 'C': 501.2303714552703, 'max iter': 189315, 'gamma': 2.749260636967822}. Best is trial 182 with value: -0.8936.\n"
          ]
        },
        {
          "name": "stdout",
          "output_type": "stream",
          "text": [
            "kernel: rbf, C: 645.8482850181188, gamma: 1.7454862080934848, coef0: 0, degree: 3, tol: 346945\n"
          ]
        },
        {
          "name": "stderr",
          "output_type": "stream",
          "text": [
            "[I 2024-11-15 22:59:38,324] Trial 263 finished with value: -0.892 and parameters: {'kernel': 'rbf', 'C': 645.8482850181188, 'max iter': 346945, 'gamma': 1.7454862080934848}. Best is trial 182 with value: -0.8936.\n",
            "[I 2024-11-15 22:59:38,480] Trial 264 finished with value: -0.3992 and parameters: {'kernel': 'rbf', 'C': 748.052633527472, 'max iter': 115, 'gamma': 0.8589308247716918}. Best is trial 182 with value: -0.8936.\n"
          ]
        },
        {
          "name": "stdout",
          "output_type": "stream",
          "text": [
            "kernel: rbf, C: 748.052633527472, gamma: 0.8589308247716918, coef0: 0, degree: 3, tol: 115\n",
            "kernel: rbf, C: 474.84002240002513, gamma: 1.446680923445479, coef0: 0, degree: 3, tol: 341338\n"
          ]
        },
        {
          "name": "stderr",
          "output_type": "stream",
          "text": [
            "[I 2024-11-15 22:59:39,887] Trial 265 finished with value: -0.8896000000000001 and parameters: {'kernel': 'rbf', 'C': 474.84002240002513, 'max iter': 341338, 'gamma': 1.446680923445479}. Best is trial 182 with value: -0.8936.\n"
          ]
        },
        {
          "name": "stdout",
          "output_type": "stream",
          "text": [
            "kernel: rbf, C: 0.28677067509551657, gamma: 0.006974125975597031, coef0: 0, degree: 3, tol: 257746\n"
          ]
        },
        {
          "name": "stderr",
          "output_type": "stream",
          "text": [
            "[I 2024-11-15 22:59:41,249] Trial 266 finished with value: -0.826 and parameters: {'kernel': 'rbf', 'C': 0.28677067509551657, 'max iter': 257746, 'gamma': 0.006974125975597031}. Best is trial 182 with value: -0.8936.\n"
          ]
        },
        {
          "name": "stdout",
          "output_type": "stream",
          "text": [
            "kernel: linear, C: 999.6218454216503, gamma: 1, coef0: 0, degree: 3, tol: 577554\n"
          ]
        },
        {
          "name": "stderr",
          "output_type": "stream",
          "text": [
            "[I 2024-11-15 22:59:42,732] Trial 267 finished with value: -0.8844 and parameters: {'kernel': 'linear', 'C': 999.6218454216503, 'max iter': 577554}. Best is trial 182 with value: -0.8936.\n"
          ]
        },
        {
          "name": "stdout",
          "output_type": "stream",
          "text": [
            "kernel: rbf, C: 646.7718206697527, gamma: 2.643527153417328, coef0: 0, degree: 3, tol: 408364\n"
          ]
        },
        {
          "name": "stderr",
          "output_type": "stream",
          "text": [
            "[I 2024-11-15 22:59:45,083] Trial 268 finished with value: -0.8872 and parameters: {'kernel': 'rbf', 'C': 646.7718206697527, 'max iter': 408364, 'gamma': 2.643527153417328}. Best is trial 182 with value: -0.8936.\n"
          ]
        },
        {
          "name": "stdout",
          "output_type": "stream",
          "text": [
            "kernel: rbf, C: 0.03620964998697649, gamma: 1.7358290264880678, coef0: 0, degree: 3, tol: 20447\n"
          ]
        },
        {
          "name": "stderr",
          "output_type": "stream",
          "text": [
            "[I 2024-11-15 22:59:45,815] Trial 269 finished with value: -0.8708 and parameters: {'kernel': 'rbf', 'C': 0.03620964998697649, 'max iter': 20447, 'gamma': 1.7358290264880678}. Best is trial 182 with value: -0.8936.\n"
          ]
        },
        {
          "name": "stdout",
          "output_type": "stream",
          "text": [
            "kernel: rbf, C: 718.7763120608755, gamma: 3.6441979719482593, coef0: 0, degree: 3, tol: 996117\n"
          ]
        },
        {
          "name": "stderr",
          "output_type": "stream",
          "text": [
            "[I 2024-11-15 22:59:48,900] Trial 270 finished with value: -0.8848 and parameters: {'kernel': 'rbf', 'C': 718.7763120608755, 'max iter': 996117, 'gamma': 3.6441979719482593}. Best is trial 182 with value: -0.8936.\n"
          ]
        },
        {
          "name": "stdout",
          "output_type": "stream",
          "text": [
            "kernel: rbf, C: 524.1849916855012, gamma: 1.243621064502234, coef0: 0, degree: 3, tol: 737038\n"
          ]
        },
        {
          "name": "stderr",
          "output_type": "stream",
          "text": [
            "[I 2024-11-15 22:59:50,348] Trial 271 finished with value: -0.8888 and parameters: {'kernel': 'rbf', 'C': 524.1849916855012, 'max iter': 737038, 'gamma': 1.243621064502234}. Best is trial 182 with value: -0.8936.\n"
          ]
        },
        {
          "name": "stdout",
          "output_type": "stream",
          "text": [
            "kernel: sigmoid, C: 317.2122090904141, gamma: 2.00660319957906, coef0: 2.54330781823068, degree: 3, tol: 320571\n"
          ]
        },
        {
          "name": "stderr",
          "output_type": "stream",
          "text": [
            "[I 2024-11-15 22:59:52,068] Trial 272 finished with value: -0.5204 and parameters: {'kernel': 'sigmoid', 'C': 317.2122090904141, 'max iter': 320571, 'gamma': 2.00660319957906, 'coef0': 2.54330781823068}. Best is trial 182 with value: -0.8936.\n"
          ]
        },
        {
          "name": "stdout",
          "output_type": "stream",
          "text": [
            "kernel: rbf, C: 746.985617446403, gamma: 0.4201512831064515, coef0: 0, degree: 3, tol: 574808\n"
          ]
        },
        {
          "name": "stderr",
          "output_type": "stream",
          "text": [
            "[I 2024-11-15 22:59:53,178] Trial 273 finished with value: -0.8859999999999999 and parameters: {'kernel': 'rbf', 'C': 746.985617446403, 'max iter': 574808, 'gamma': 0.4201512831064515}. Best is trial 182 with value: -0.8936.\n"
          ]
        },
        {
          "name": "stdout",
          "output_type": "stream",
          "text": [
            "kernel: rbf, C: 431.4968273669748, gamma: 5.167474096222826, coef0: 0, degree: 3, tol: 431246\n"
          ]
        },
        {
          "name": "stderr",
          "output_type": "stream",
          "text": [
            "[I 2024-11-15 22:59:55,699] Trial 274 finished with value: -0.8827999999999999 and parameters: {'kernel': 'rbf', 'C': 431.4968273669748, 'max iter': 431246, 'gamma': 5.167474096222826}. Best is trial 182 with value: -0.8936.\n"
          ]
        },
        {
          "name": "stdout",
          "output_type": "stream",
          "text": [
            "kernel: rbf, C: 626.4459986019097, gamma: 0.8874735887281766, coef0: 0, degree: 3, tol: 703428\n"
          ]
        },
        {
          "name": "stderr",
          "output_type": "stream",
          "text": [
            "[I 2024-11-15 22:59:57,055] Trial 275 finished with value: -0.8876 and parameters: {'kernel': 'rbf', 'C': 626.4459986019097, 'max iter': 703428, 'gamma': 0.8874735887281766}. Best is trial 182 with value: -0.8936.\n"
          ]
        },
        {
          "name": "stdout",
          "output_type": "stream",
          "text": [
            "kernel: rbf, C: 509.15348356060986, gamma: 2.799626276664208, coef0: 0, degree: 3, tol: 511551\n"
          ]
        },
        {
          "name": "stderr",
          "output_type": "stream",
          "text": [
            "[I 2024-11-15 22:59:59,269] Trial 276 finished with value: -0.8868 and parameters: {'kernel': 'rbf', 'C': 509.15348356060986, 'max iter': 511551, 'gamma': 2.799626276664208}. Best is trial 182 with value: -0.8936.\n"
          ]
        },
        {
          "name": "stdout",
          "output_type": "stream",
          "text": [
            "kernel: rbf, C: 778.3888779319744, gamma: 1.3956967894653696, coef0: 0, degree: 3, tol: 677468\n"
          ]
        },
        {
          "name": "stderr",
          "output_type": "stream",
          "text": [
            "[I 2024-11-15 23:00:01,299] Trial 277 finished with value: -0.8880000000000001 and parameters: {'kernel': 'rbf', 'C': 778.3888779319744, 'max iter': 677468, 'gamma': 1.3956967894653696}. Best is trial 182 with value: -0.8936.\n"
          ]
        },
        {
          "name": "stdout",
          "output_type": "stream",
          "text": [
            "kernel: rbf, C: 996.6341735792828, gamma: 1.996208304668374, coef0: 0, degree: 3, tol: 142715\n"
          ]
        },
        {
          "name": "stderr",
          "output_type": "stream",
          "text": [
            "[I 2024-11-15 23:00:03,955] Trial 278 finished with value: -0.8892000000000001 and parameters: {'kernel': 'rbf', 'C': 996.6341735792828, 'max iter': 142715, 'gamma': 1.996208304668374}. Best is trial 182 with value: -0.8936.\n"
          ]
        },
        {
          "name": "stdout",
          "output_type": "stream",
          "text": [
            "kernel: poly, C: 580.0738226391812, gamma: 0.6428150758704788, coef0: 14.343943837172603, degree: 6, tol: 364008\n"
          ]
        },
        {
          "name": "stderr",
          "output_type": "stream",
          "text": [
            "[I 2024-11-15 23:00:28,635] Trial 279 finished with value: -0.5664 and parameters: {'kernel': 'poly', 'C': 580.0738226391812, 'max iter': 364008, 'gamma': 0.6428150758704788, 'coef0': 14.343943837172603, 'degree': 6}. Best is trial 182 with value: -0.8936.\n"
          ]
        },
        {
          "name": "stdout",
          "output_type": "stream",
          "text": [
            "kernel: rbf, C: 320.64533009812044, gamma: 3.56872905518333, coef0: 0, degree: 3, tol: 480114\n"
          ]
        },
        {
          "name": "stderr",
          "output_type": "stream",
          "text": [
            "[I 2024-11-15 23:00:30,419] Trial 280 finished with value: -0.8876 and parameters: {'kernel': 'rbf', 'C': 320.64533009812044, 'max iter': 480114, 'gamma': 3.56872905518333}. Best is trial 182 with value: -0.8936.\n"
          ]
        },
        {
          "name": "stdout",
          "output_type": "stream",
          "text": [
            "kernel: rbf, C: 454.95712215353427, gamma: 1.1239161284557508, coef0: 0, degree: 3, tol: 769306\n"
          ]
        },
        {
          "name": "stderr",
          "output_type": "stream",
          "text": [
            "[I 2024-11-15 23:00:31,759] Trial 281 finished with value: -0.8896000000000001 and parameters: {'kernel': 'rbf', 'C': 454.95712215353427, 'max iter': 769306, 'gamma': 1.1239161284557508}. Best is trial 182 with value: -0.8936.\n"
          ]
        },
        {
          "name": "stdout",
          "output_type": "stream",
          "text": [
            "kernel: rbf, C: 748.015477532689, gamma: 2.4366898417893625, coef0: 0, degree: 3, tol: 285475\n"
          ]
        },
        {
          "name": "stderr",
          "output_type": "stream",
          "text": [
            "[I 2024-11-15 23:00:34,340] Trial 282 finished with value: -0.8876000000000002 and parameters: {'kernel': 'rbf', 'C': 748.015477532689, 'max iter': 285475, 'gamma': 2.4366898417893625}. Best is trial 182 with value: -0.8936.\n"
          ]
        },
        {
          "name": "stdout",
          "output_type": "stream",
          "text": [
            "kernel: rbf, C: 398.9040367308754, gamma: 1.722759310880947, coef0: 0, degree: 3, tol: 582461\n"
          ]
        },
        {
          "name": "stderr",
          "output_type": "stream",
          "text": [
            "[I 2024-11-15 23:00:35,840] Trial 283 finished with value: -0.8888 and parameters: {'kernel': 'rbf', 'C': 398.9040367308754, 'max iter': 582461, 'gamma': 1.722759310880947}. Best is trial 182 with value: -0.8936.\n"
          ]
        },
        {
          "name": "stdout",
          "output_type": "stream",
          "text": [
            "kernel: rbf, C: 584.4932747236327, gamma: 6.6755913599580845, coef0: 0, degree: 3, tol: 999234\n"
          ]
        },
        {
          "name": "stderr",
          "output_type": "stream",
          "text": [
            "[I 2024-11-15 23:00:39,670] Trial 284 finished with value: -0.8756 and parameters: {'kernel': 'rbf', 'C': 584.4932747236327, 'max iter': 999234, 'gamma': 6.6755913599580845}. Best is trial 182 with value: -0.8936.\n"
          ]
        },
        {
          "name": "stdout",
          "output_type": "stream",
          "text": [
            "kernel: rbf, C: 765.3830268433818, gamma: 2.7066656046680446, coef0: 0, degree: 3, tol: 817176\n"
          ]
        },
        {
          "name": "stderr",
          "output_type": "stream",
          "text": [
            "[I 2024-11-15 23:00:42,518] Trial 285 finished with value: -0.8880000000000001 and parameters: {'kernel': 'rbf', 'C': 765.3830268433818, 'max iter': 817176, 'gamma': 2.7066656046680446}. Best is trial 182 with value: -0.8936.\n"
          ]
        },
        {
          "name": "stdout",
          "output_type": "stream",
          "text": [
            "kernel: rbf, C: 285.61842995014814, gamma: 1.3286504751568866, coef0: 0, degree: 3, tol: 485326\n"
          ]
        },
        {
          "name": "stderr",
          "output_type": "stream",
          "text": [
            "[I 2024-11-15 23:00:43,657] Trial 286 finished with value: -0.8880000000000001 and parameters: {'kernel': 'rbf', 'C': 285.61842995014814, 'max iter': 485326, 'gamma': 1.3286504751568866}. Best is trial 182 with value: -0.8936.\n"
          ]
        },
        {
          "name": "stdout",
          "output_type": "stream",
          "text": [
            "kernel: rbf, C: 987.8910273406991, gamma: 4.467522646274592, coef0: 0, degree: 3, tol: 632821\n"
          ]
        },
        {
          "name": "stderr",
          "output_type": "stream",
          "text": [
            "[I 2024-11-15 23:00:47,952] Trial 287 finished with value: -0.8772 and parameters: {'kernel': 'rbf', 'C': 987.8910273406991, 'max iter': 632821, 'gamma': 4.467522646274592}. Best is trial 182 with value: -0.8936.\n"
          ]
        },
        {
          "name": "stdout",
          "output_type": "stream",
          "text": [
            "kernel: rbf, C: 452.1449739928524, gamma: 0.8676400518957813, coef0: 0, degree: 3, tol: 242\n"
          ]
        },
        {
          "name": "stderr",
          "output_type": "stream",
          "text": [
            "[I 2024-11-15 23:00:48,204] Trial 288 finished with value: -0.5448000000000001 and parameters: {'kernel': 'rbf', 'C': 452.1449739928524, 'max iter': 242, 'gamma': 0.8676400518957813}. Best is trial 182 with value: -0.8936.\n"
          ]
        },
        {
          "name": "stdout",
          "output_type": "stream",
          "text": [
            "kernel: rbf, C: 597.747964697255, gamma: 1.900405018277139, coef0: 0, degree: 3, tol: 231601\n"
          ]
        },
        {
          "name": "stderr",
          "output_type": "stream",
          "text": [
            "[I 2024-11-15 23:00:50,091] Trial 289 finished with value: -0.8916000000000001 and parameters: {'kernel': 'rbf', 'C': 597.747964697255, 'max iter': 231601, 'gamma': 1.900405018277139}. Best is trial 182 with value: -0.8936.\n"
          ]
        },
        {
          "name": "stdout",
          "output_type": "stream",
          "text": [
            "kernel: rbf, C: 749.0845358611722, gamma: 3.3369400529240694, coef0: 0, degree: 3, tol: 368653\n"
          ]
        },
        {
          "name": "stderr",
          "output_type": "stream",
          "text": [
            "[I 2024-11-15 23:00:53,126] Trial 290 finished with value: -0.8872 and parameters: {'kernel': 'rbf', 'C': 749.0845358611722, 'max iter': 368653, 'gamma': 3.3369400529240694}. Best is trial 182 with value: -0.8936.\n"
          ]
        },
        {
          "name": "stdout",
          "output_type": "stream",
          "text": [
            "kernel: rbf, C: 0.0021499922119227245, gamma: 0.000232211382474537, coef0: 0, degree: 3, tol: 804287\n"
          ]
        },
        {
          "name": "stderr",
          "output_type": "stream",
          "text": [
            "[I 2024-11-15 23:00:54,666] Trial 291 finished with value: -0.52 and parameters: {'kernel': 'rbf', 'C': 0.0021499922119227245, 'max iter': 804287, 'gamma': 0.000232211382474537}. Best is trial 182 with value: -0.8936.\n"
          ]
        },
        {
          "name": "stdout",
          "output_type": "stream",
          "text": [
            "kernel: linear, C: 356.785224607999, gamma: 1, coef0: 0, degree: 3, tol: 556916\n"
          ]
        },
        {
          "name": "stderr",
          "output_type": "stream",
          "text": [
            "[I 2024-11-15 23:00:55,565] Trial 292 finished with value: -0.8836 and parameters: {'kernel': 'linear', 'C': 356.785224607999, 'max iter': 556916}. Best is trial 182 with value: -0.8936.\n"
          ]
        },
        {
          "name": "stdout",
          "output_type": "stream",
          "text": [
            "kernel: rbf, C: 543.8126516322566, gamma: 1.28530790348152, coef0: 0, degree: 3, tol: 412950\n"
          ]
        },
        {
          "name": "stderr",
          "output_type": "stream",
          "text": [
            "[I 2024-11-15 23:00:56,988] Trial 293 finished with value: -0.8892000000000001 and parameters: {'kernel': 'rbf', 'C': 543.8126516322566, 'max iter': 412950, 'gamma': 1.28530790348152}. Best is trial 182 with value: -0.8936.\n"
          ]
        },
        {
          "name": "stdout",
          "output_type": "stream",
          "text": [
            "kernel: rbf, C: 815.7216125652459, gamma: 2.1875155643284816, coef0: 0, degree: 3, tol: 653447\n"
          ]
        },
        {
          "name": "stderr",
          "output_type": "stream",
          "text": [
            "[I 2024-11-15 23:00:59,350] Trial 294 finished with value: -0.8888 and parameters: {'kernel': 'rbf', 'C': 815.7216125652459, 'max iter': 653447, 'gamma': 2.1875155643284816}. Best is trial 182 with value: -0.8936.\n"
          ]
        },
        {
          "name": "stdout",
          "output_type": "stream",
          "text": [
            "kernel: rbf, C: 222.36041534624698, gamma: 0.06973266047832061, coef0: 0, degree: 3, tol: 317607\n"
          ]
        },
        {
          "name": "stderr",
          "output_type": "stream",
          "text": [
            "[I 2024-11-15 23:00:59,901] Trial 295 finished with value: -0.8828000000000001 and parameters: {'kernel': 'rbf', 'C': 222.36041534624698, 'max iter': 317607, 'gamma': 0.06973266047832061}. Best is trial 182 with value: -0.8936.\n"
          ]
        },
        {
          "name": "stdout",
          "output_type": "stream",
          "text": [
            "kernel: rbf, C: 621.2462336634693, gamma: 1.5582777356530735, coef0: 0, degree: 3, tol: 481885\n"
          ]
        },
        {
          "name": "stderr",
          "output_type": "stream",
          "text": [
            "[I 2024-11-15 23:01:01,560] Trial 296 finished with value: -0.8888 and parameters: {'kernel': 'rbf', 'C': 621.2462336634693, 'max iter': 481885, 'gamma': 1.5582777356530735}. Best is trial 182 with value: -0.8936.\n"
          ]
        },
        {
          "name": "stdout",
          "output_type": "stream",
          "text": [
            "kernel: rbf, C: 414.6799676837351, gamma: 2.640520359531483, coef0: 0, degree: 3, tol: 842959\n"
          ]
        },
        {
          "name": "stderr",
          "output_type": "stream",
          "text": [
            "[I 2024-11-15 23:01:03,320] Trial 297 finished with value: -0.89 and parameters: {'kernel': 'rbf', 'C': 414.6799676837351, 'max iter': 842959, 'gamma': 2.640520359531483}. Best is trial 182 with value: -0.8936.\n"
          ]
        },
        {
          "name": "stdout",
          "output_type": "stream",
          "text": [
            "kernel: rbf, C: 766.3835191608108, gamma: 0.7226814246653106, coef0: 0, degree: 3, tol: 648387\n"
          ]
        },
        {
          "name": "stderr",
          "output_type": "stream",
          "text": [
            "[I 2024-11-15 23:01:04,593] Trial 298 finished with value: -0.8855999999999999 and parameters: {'kernel': 'rbf', 'C': 766.3835191608108, 'max iter': 648387, 'gamma': 0.7226814246653106}. Best is trial 182 with value: -0.8936.\n"
          ]
        },
        {
          "name": "stdout",
          "output_type": "stream",
          "text": [
            "kernel: sigmoid, C: 473.88682497033477, gamma: 1.0583913088095709, coef0: 0.6976453765524435, degree: 3, tol: 527636\n"
          ]
        },
        {
          "name": "stderr",
          "output_type": "stream",
          "text": [
            "[I 2024-11-15 23:01:05,203] Trial 299 finished with value: -0.6784000000000001 and parameters: {'kernel': 'sigmoid', 'C': 473.88682497033477, 'max iter': 527636, 'gamma': 1.0583913088095709, 'coef0': 0.6976453765524435}. Best is trial 182 with value: -0.8936.\n"
          ]
        },
        {
          "name": "stdout",
          "output_type": "stream",
          "text": [
            "kernel: rbf, C: 972.4134834011313, gamma: 3.6442399105697842, coef0: 0, degree: 3, tol: 996830\n"
          ]
        },
        {
          "name": "stderr",
          "output_type": "stream",
          "text": [
            "[I 2024-11-15 23:01:08,830] Trial 300 finished with value: -0.882 and parameters: {'kernel': 'rbf', 'C': 972.4134834011313, 'max iter': 996830, 'gamma': 3.6442399105697842}. Best is trial 182 with value: -0.8936.\n"
          ]
        },
        {
          "name": "stdout",
          "output_type": "stream",
          "text": [
            "kernel: rbf, C: 301.62662520795635, gamma: 1.7278344172294513, coef0: 0, degree: 3, tol: 401162\n"
          ]
        },
        {
          "name": "stderr",
          "output_type": "stream",
          "text": [
            "[I 2024-11-15 23:01:10,013] Trial 301 finished with value: -0.8884000000000001 and parameters: {'kernel': 'rbf', 'C': 301.62662520795635, 'max iter': 401162, 'gamma': 1.7278344172294513}. Best is trial 182 with value: -0.8936.\n"
          ]
        },
        {
          "name": "stdout",
          "output_type": "stream",
          "text": [
            "kernel: rbf, C: 605.0265304149218, gamma: 2.277009476078286, coef0: 0, degree: 3, tol: 699693\n"
          ]
        },
        {
          "name": "stderr",
          "output_type": "stream",
          "text": [
            "[I 2024-11-15 23:01:12,216] Trial 302 finished with value: -0.8916000000000001 and parameters: {'kernel': 'rbf', 'C': 605.0265304149218, 'max iter': 699693, 'gamma': 2.277009476078286}. Best is trial 182 with value: -0.8936.\n"
          ]
        },
        {
          "name": "stdout",
          "output_type": "stream",
          "text": [
            "kernel: rbf, C: 483.87652375866026, gamma: 5.3088805310405816, coef0: 0, degree: 3, tol: 185212\n"
          ]
        },
        {
          "name": "stderr",
          "output_type": "stream",
          "text": [
            "[I 2024-11-15 23:01:14,822] Trial 303 finished with value: -0.8804000000000001 and parameters: {'kernel': 'rbf', 'C': 483.87652375866026, 'max iter': 185212, 'gamma': 5.3088805310405816}. Best is trial 182 with value: -0.8936.\n"
          ]
        },
        {
          "name": "stdout",
          "output_type": "stream",
          "text": [
            "kernel: poly, C: 999.5542566927213, gamma: 1.115997967685755, coef0: 917.8641032752331, degree: 4, tol: 268981\n"
          ]
        },
        {
          "name": "stderr",
          "output_type": "stream",
          "text": [
            "[I 2024-11-15 23:01:18,575] Trial 304 finished with value: -0.8704000000000001 and parameters: {'kernel': 'poly', 'C': 999.5542566927213, 'max iter': 268981, 'gamma': 1.115997967685755, 'coef0': 917.8641032752331, 'degree': 4}. Best is trial 182 with value: -0.8936.\n"
          ]
        },
        {
          "name": "stdout",
          "output_type": "stream",
          "text": [
            "kernel: rbf, C: 708.6822472666096, gamma: 1.7475162856141042, coef0: 0, degree: 3, tol: 515246\n"
          ]
        },
        {
          "name": "stderr",
          "output_type": "stream",
          "text": [
            "[I 2024-11-15 23:01:20,497] Trial 305 finished with value: -0.8916000000000001 and parameters: {'kernel': 'rbf', 'C': 708.6822472666096, 'max iter': 515246, 'gamma': 1.7475162856141042}. Best is trial 182 with value: -0.8936.\n"
          ]
        },
        {
          "name": "stdout",
          "output_type": "stream",
          "text": [
            "kernel: rbf, C: 358.65114831393635, gamma: 3.350621500874037, coef0: 0, degree: 3, tol: 810233\n"
          ]
        },
        {
          "name": "stderr",
          "output_type": "stream",
          "text": [
            "[I 2024-11-15 23:01:22,215] Trial 306 finished with value: -0.8884000000000001 and parameters: {'kernel': 'rbf', 'C': 358.65114831393635, 'max iter': 810233, 'gamma': 3.350621500874037}. Best is trial 182 with value: -0.8936.\n"
          ]
        },
        {
          "name": "stdout",
          "output_type": "stream",
          "text": [
            "kernel: rbf, C: 613.5630050946572, gamma: 0.7376980649692875, coef0: 0, degree: 3, tol: 384178\n"
          ]
        },
        {
          "name": "stderr",
          "output_type": "stream",
          "text": [
            "[I 2024-11-15 23:01:23,503] Trial 307 finished with value: -0.8852 and parameters: {'kernel': 'rbf', 'C': 613.5630050946572, 'max iter': 384178, 'gamma': 0.7376980649692875}. Best is trial 182 with value: -0.8936.\n"
          ]
        },
        {
          "name": "stdout",
          "output_type": "stream",
          "text": [
            "kernel: rbf, C: 774.5195785115924, gamma: 2.221528484417084e-05, coef0: 0, degree: 3, tol: 591494\n"
          ]
        },
        {
          "name": "stderr",
          "output_type": "stream",
          "text": [
            "[I 2024-11-15 23:01:24,355] Trial 308 finished with value: -0.8592000000000001 and parameters: {'kernel': 'rbf', 'C': 774.5195785115924, 'max iter': 591494, 'gamma': 2.221528484417084e-05}. Best is trial 182 with value: -0.8936.\n"
          ]
        },
        {
          "name": "stdout",
          "output_type": "stream",
          "text": [
            "kernel: rbf, C: 56.70518802232085, gamma: 2.498619190697652, coef0: 0, degree: 3, tol: 447241\n"
          ]
        },
        {
          "name": "stderr",
          "output_type": "stream",
          "text": [
            "[I 2024-11-15 23:01:25,078] Trial 309 finished with value: -0.8880000000000001 and parameters: {'kernel': 'rbf', 'C': 56.70518802232085, 'max iter': 447241, 'gamma': 2.498619190697652}. Best is trial 182 with value: -0.8936.\n"
          ]
        },
        {
          "name": "stdout",
          "output_type": "stream",
          "text": [
            "kernel: rbf, C: 488.72037923937694, gamma: 1.5829117715687946, coef0: 0, degree: 3, tol: 325738\n"
          ]
        },
        {
          "name": "stderr",
          "output_type": "stream",
          "text": [
            "[I 2024-11-15 23:01:26,617] Trial 310 finished with value: -0.8880000000000001 and parameters: {'kernel': 'rbf', 'C': 488.72037923937694, 'max iter': 325738, 'gamma': 1.5829117715687946}. Best is trial 182 with value: -0.8936.\n"
          ]
        },
        {
          "name": "stdout",
          "output_type": "stream",
          "text": [
            "kernel: rbf, C: 390.8742256420696, gamma: 4.473984343509848, coef0: 0, degree: 3, tol: 5019\n"
          ]
        },
        {
          "name": "stderr",
          "output_type": "stream",
          "text": [
            "[I 2024-11-15 23:01:27,661] Trial 311 finished with value: -0.8815999999999999 and parameters: {'kernel': 'rbf', 'C': 390.8742256420696, 'max iter': 5019, 'gamma': 4.473984343509848}. Best is trial 182 with value: -0.8936.\n"
          ]
        },
        {
          "name": "stdout",
          "output_type": "stream",
          "text": [
            "kernel: rbf, C: 661.8265922373942, gamma: 1.17091124845703, coef0: 0, degree: 3, tol: 687528\n"
          ]
        },
        {
          "name": "stderr",
          "output_type": "stream",
          "text": [
            "[I 2024-11-15 23:01:29,232] Trial 312 finished with value: -0.8892 and parameters: {'kernel': 'rbf', 'C': 661.8265922373942, 'max iter': 687528, 'gamma': 1.17091124845703}. Best is trial 182 with value: -0.8936.\n"
          ]
        },
        {
          "name": "stdout",
          "output_type": "stream",
          "text": [
            "kernel: rbf, C: 981.0404684288166, gamma: 0.5340948743604564, coef0: 0, degree: 3, tol: 996455\n"
          ]
        },
        {
          "name": "stderr",
          "output_type": "stream",
          "text": [
            "[I 2024-11-15 23:01:30,624] Trial 313 finished with value: -0.8852 and parameters: {'kernel': 'rbf', 'C': 981.0404684288166, 'max iter': 996455, 'gamma': 0.5340948743604564}. Best is trial 182 with value: -0.8936.\n"
          ]
        },
        {
          "name": "stdout",
          "output_type": "stream",
          "text": [
            "kernel: rbf, C: 522.1142055504138, gamma: 2.2449996100543905, coef0: 0, degree: 3, tol: 398\n"
          ]
        },
        {
          "name": "stderr",
          "output_type": "stream",
          "text": [
            "[I 2024-11-15 23:01:30,956] Trial 314 finished with value: -0.5508 and parameters: {'kernel': 'rbf', 'C': 522.1142055504138, 'max iter': 398, 'gamma': 2.2449996100543905}. Best is trial 182 with value: -0.8936.\n"
          ]
        },
        {
          "name": "stdout",
          "output_type": "stream",
          "text": [
            "kernel: rbf, C: 251.26466078324668, gamma: 1.5067962893323112, coef0: 0, degree: 3, tol: 541976\n"
          ]
        },
        {
          "name": "stderr",
          "output_type": "stream",
          "text": [
            "[I 2024-11-15 23:01:32,051] Trial 315 finished with value: -0.8884000000000001 and parameters: {'kernel': 'rbf', 'C': 251.26466078324668, 'max iter': 541976, 'gamma': 1.5067962893323112}. Best is trial 182 with value: -0.8936.\n"
          ]
        },
        {
          "name": "stdout",
          "output_type": "stream",
          "text": [
            "kernel: linear, C: 0.7245340773092128, gamma: 1, coef0: 0, degree: 3, tol: 777180\n"
          ]
        },
        {
          "name": "stderr",
          "output_type": "stream",
          "text": [
            "[I 2024-11-15 23:01:32,356] Trial 316 finished with value: -0.8708 and parameters: {'kernel': 'linear', 'C': 0.7245340773092128, 'max iter': 777180}. Best is trial 182 with value: -0.8936.\n"
          ]
        },
        {
          "name": "stdout",
          "output_type": "stream",
          "text": [
            "kernel: rbf, C: 765.4647180075993, gamma: 7.717361616868255, coef0: 0, degree: 3, tol: 419871\n"
          ]
        },
        {
          "name": "stderr",
          "output_type": "stream",
          "text": [
            "[I 2024-11-15 23:01:36,545] Trial 317 finished with value: -0.876 and parameters: {'kernel': 'rbf', 'C': 765.4647180075993, 'max iter': 419871, 'gamma': 7.717361616868255}. Best is trial 182 with value: -0.8936.\n"
          ]
        },
        {
          "name": "stdout",
          "output_type": "stream",
          "text": [
            "kernel: rbf, C: 409.436760431527, gamma: 3.127829908959065, coef0: 0, degree: 3, tol: 622329\n"
          ]
        },
        {
          "name": "stderr",
          "output_type": "stream",
          "text": [
            "[I 2024-11-15 23:01:38,409] Trial 318 finished with value: -0.8884000000000001 and parameters: {'kernel': 'rbf', 'C': 409.436760431527, 'max iter': 622329, 'gamma': 3.127829908959065}. Best is trial 182 with value: -0.8936.\n"
          ]
        },
        {
          "name": "stdout",
          "output_type": "stream",
          "text": [
            "kernel: rbf, C: 582.2553681734915, gamma: 0.9463926271753649, coef0: 0, degree: 3, tol: 252851\n"
          ]
        },
        {
          "name": "stderr",
          "output_type": "stream",
          "text": [
            "[I 2024-11-15 23:01:39,736] Trial 319 finished with value: -0.8879999999999999 and parameters: {'kernel': 'rbf', 'C': 582.2553681734915, 'max iter': 252851, 'gamma': 0.9463926271753649}. Best is trial 182 with value: -0.8936.\n"
          ]
        },
        {
          "name": "stdout",
          "output_type": "stream",
          "text": [
            "kernel: rbf, C: 992.4175002866118, gamma: 2.227687934118109, coef0: 0, degree: 3, tol: 337637\n"
          ]
        },
        {
          "name": "stderr",
          "output_type": "stream",
          "text": [
            "[I 2024-11-15 23:01:42,696] Trial 320 finished with value: -0.8872 and parameters: {'kernel': 'rbf', 'C': 992.4175002866118, 'max iter': 337637, 'gamma': 2.227687934118109}. Best is trial 182 with value: -0.8936.\n"
          ]
        },
        {
          "name": "stdout",
          "output_type": "stream",
          "text": [
            "kernel: sigmoid, C: 326.3405230449119, gamma: 1.4700854501757383, coef0: 346.55928412650223, degree: 3, tol: 1448\n"
          ]
        },
        {
          "name": "stderr",
          "output_type": "stream",
          "text": [
            "[I 2024-11-15 23:01:43,436] Trial 321 finished with value: -0.52 and parameters: {'kernel': 'sigmoid', 'C': 326.3405230449119, 'max iter': 1448, 'gamma': 1.4700854501757383, 'coef0': 346.55928412650223}. Best is trial 182 with value: -0.8936.\n",
            "[I 2024-11-15 23:01:43,509] Trial 322 finished with value: -0.5104 and parameters: {'kernel': 'rbf', 'C': 749.9518559692906, 'max iter': 24, 'gamma': 3.5582828415560335}. Best is trial 182 with value: -0.8936.\n"
          ]
        },
        {
          "name": "stdout",
          "output_type": "stream",
          "text": [
            "kernel: rbf, C: 749.9518559692906, gamma: 3.5582828415560335, coef0: 0, degree: 3, tol: 24\n",
            "kernel: rbf, C: 546.7283719800894, gamma: 1.936813054831228, coef0: 0, degree: 3, tol: 740269\n"
          ]
        },
        {
          "name": "stderr",
          "output_type": "stream",
          "text": [
            "[I 2024-11-15 23:01:45,334] Trial 323 finished with value: -0.892 and parameters: {'kernel': 'rbf', 'C': 546.7283719800894, 'max iter': 740269, 'gamma': 1.936813054831228}. Best is trial 182 with value: -0.8936.\n"
          ]
        },
        {
          "name": "stdout",
          "output_type": "stream",
          "text": [
            "kernel: rbf, C: 523.3908675655315, gamma: 4.915483143662818, coef0: 0, degree: 3, tol: 823341\n"
          ]
        },
        {
          "name": "stderr",
          "output_type": "stream",
          "text": [
            "[I 2024-11-15 23:01:48,197] Trial 324 finished with value: -0.8808 and parameters: {'kernel': 'rbf', 'C': 523.3908675655315, 'max iter': 823341, 'gamma': 4.915483143662818}. Best is trial 182 with value: -0.8936.\n"
          ]
        },
        {
          "name": "stdout",
          "output_type": "stream",
          "text": [
            "kernel: rbf, C: 737.6860499868251, gamma: 1.999096484373741, coef0: 0, degree: 3, tol: 700797\n"
          ]
        },
        {
          "name": "stderr",
          "output_type": "stream",
          "text": [
            "[I 2024-11-15 23:01:50,578] Trial 325 finished with value: -0.8932 and parameters: {'kernel': 'rbf', 'C': 737.6860499868251, 'max iter': 700797, 'gamma': 1.999096484373741}. Best is trial 182 with value: -0.8936.\n"
          ]
        },
        {
          "name": "stdout",
          "output_type": "stream",
          "text": [
            "kernel: rbf, C: 773.3920621758233, gamma: 0.21076632279310017, coef0: 0, degree: 3, tol: 609898\n"
          ]
        },
        {
          "name": "stderr",
          "output_type": "stream",
          "text": [
            "[I 2024-11-15 23:01:51,456] Trial 326 finished with value: -0.8827999999999999 and parameters: {'kernel': 'rbf', 'C': 773.3920621758233, 'max iter': 609898, 'gamma': 0.21076632279310017}. Best is trial 182 with value: -0.8936.\n"
          ]
        },
        {
          "name": "stdout",
          "output_type": "stream",
          "text": [
            "kernel: rbf, C: 702.9996447285426, gamma: 1.0208223492584534, coef0: 0, degree: 3, tol: 516240\n"
          ]
        },
        {
          "name": "stderr",
          "output_type": "stream",
          "text": [
            "[I 2024-11-15 23:01:53,007] Trial 327 finished with value: -0.8879999999999999 and parameters: {'kernel': 'rbf', 'C': 702.9996447285426, 'max iter': 516240, 'gamma': 1.0208223492584534}. Best is trial 182 with value: -0.8936.\n"
          ]
        },
        {
          "name": "stdout",
          "output_type": "stream",
          "text": [
            "kernel: poly, C: 994.6537521293455, gamma: 2.599756875626014, coef0: 0.01388168583189332, degree: 3, tol: 840012\n"
          ]
        },
        {
          "name": "stderr",
          "output_type": "stream",
          "text": [
            "[I 2024-11-15 23:02:51,620] Trial 328 finished with value: -0.5508000000000001 and parameters: {'kernel': 'poly', 'C': 994.6537521293455, 'max iter': 840012, 'gamma': 2.599756875626014, 'coef0': 0.01388168583189332, 'degree': 3}. Best is trial 182 with value: -0.8936.\n"
          ]
        },
        {
          "name": "stdout",
          "output_type": "stream",
          "text": [
            "kernel: rbf, C: 457.90734289437603, gamma: 1.3408741942659022, coef0: 0, degree: 3, tol: 673899\n"
          ]
        },
        {
          "name": "stderr",
          "output_type": "stream",
          "text": [
            "[I 2024-11-15 23:02:52,999] Trial 329 finished with value: -0.8888 and parameters: {'kernel': 'rbf', 'C': 457.90734289437603, 'max iter': 673899, 'gamma': 1.3408741942659022}. Best is trial 182 with value: -0.8936.\n"
          ]
        },
        {
          "name": "stdout",
          "output_type": "stream",
          "text": [
            "kernel: rbf, C: 642.6185879220012, gamma: 2.874916216822765, coef0: 0, degree: 3, tol: 998031\n"
          ]
        },
        {
          "name": "stderr",
          "output_type": "stream",
          "text": [
            "[I 2024-11-15 23:02:55,570] Trial 330 finished with value: -0.8888 and parameters: {'kernel': 'rbf', 'C': 642.6185879220012, 'max iter': 998031, 'gamma': 2.874916216822765}. Best is trial 182 with value: -0.8936.\n"
          ]
        },
        {
          "name": "stdout",
          "output_type": "stream",
          "text": [
            "kernel: rbf, C: 775.8604604508486, gamma: 0.7344838108693903, coef0: 0, degree: 3, tol: 500409\n"
          ]
        },
        {
          "name": "stderr",
          "output_type": "stream",
          "text": [
            "[I 2024-11-15 23:02:56,922] Trial 331 finished with value: -0.8859999999999999 and parameters: {'kernel': 'rbf', 'C': 775.8604604508486, 'max iter': 500409, 'gamma': 0.7344838108693903}. Best is trial 182 with value: -0.8936.\n"
          ]
        },
        {
          "name": "stdout",
          "output_type": "stream",
          "text": [
            "kernel: rbf, C: 182.6024359691816, gamma: 1.8626976548673873, coef0: 0, degree: 3, tol: 646681\n"
          ]
        },
        {
          "name": "stderr",
          "output_type": "stream",
          "text": [
            "[I 2024-11-15 23:02:57,959] Trial 332 finished with value: -0.8876 and parameters: {'kernel': 'rbf', 'C': 182.6024359691816, 'max iter': 646681, 'gamma': 1.8626976548673873}. Best is trial 182 with value: -0.8936.\n"
          ]
        },
        {
          "name": "stdout",
          "output_type": "stream",
          "text": [
            "kernel: rbf, C: 410.1691102779868, gamma: 0.35371094172515405, coef0: 0, degree: 3, tol: 793495\n"
          ]
        },
        {
          "name": "stderr",
          "output_type": "stream",
          "text": [
            "[I 2024-11-15 23:02:58,783] Trial 333 finished with value: -0.8844 and parameters: {'kernel': 'rbf', 'C': 410.1691102779868, 'max iter': 793495, 'gamma': 0.35371094172515405}. Best is trial 182 with value: -0.8936.\n"
          ]
        },
        {
          "name": "stdout",
          "output_type": "stream",
          "text": [
            "kernel: rbf, C: 290.45684743368565, gamma: 78.46421051053005, coef0: 0, degree: 3, tol: 482529\n"
          ]
        },
        {
          "name": "stderr",
          "output_type": "stream",
          "text": [
            "[I 2024-11-15 23:03:00,259] Trial 334 finished with value: -0.8244 and parameters: {'kernel': 'rbf', 'C': 290.45684743368565, 'max iter': 482529, 'gamma': 78.46421051053005}. Best is trial 182 with value: -0.8936.\n"
          ]
        },
        {
          "name": "stdout",
          "output_type": "stream",
          "text": [
            "kernel: rbf, C: 586.0279446996915, gamma: 4.071757287903716, coef0: 0, degree: 3, tol: 593265\n"
          ]
        },
        {
          "name": "stderr",
          "output_type": "stream",
          "text": [
            "[I 2024-11-15 23:03:02,922] Trial 335 finished with value: -0.882 and parameters: {'kernel': 'rbf', 'C': 586.0279446996915, 'max iter': 593265, 'gamma': 4.071757287903716}. Best is trial 182 with value: -0.8936.\n"
          ]
        },
        {
          "name": "stdout",
          "output_type": "stream",
          "text": [
            "kernel: rbf, C: 990.9882818816908, gamma: 1.2067390468417192, coef0: 0, degree: 3, tol: 413443\n"
          ]
        },
        {
          "name": "stderr",
          "output_type": "stream",
          "text": [
            "[I 2024-11-15 23:03:04,999] Trial 336 finished with value: -0.8896000000000001 and parameters: {'kernel': 'rbf', 'C': 990.9882818816908, 'max iter': 413443, 'gamma': 1.2067390468417192}. Best is trial 182 with value: -0.8936.\n"
          ]
        },
        {
          "name": "stdout",
          "output_type": "stream",
          "text": [
            "kernel: rbf, C: 702.6052241932214, gamma: 221.54357516220307, coef0: 0, degree: 3, tol: 691453\n"
          ]
        },
        {
          "name": "stderr",
          "output_type": "stream",
          "text": [
            "[I 2024-11-15 23:03:06,633] Trial 337 finished with value: -0.8268000000000001 and parameters: {'kernel': 'rbf', 'C': 702.6052241932214, 'max iter': 691453, 'gamma': 221.54357516220307}. Best is trial 182 with value: -0.8936.\n"
          ]
        },
        {
          "name": "stdout",
          "output_type": "stream",
          "text": [
            "kernel: rbf, C: 385.06067139520303, gamma: 2.2631615151174653, coef0: 0, degree: 3, tol: 868497\n"
          ]
        },
        {
          "name": "stderr",
          "output_type": "stream",
          "text": [
            "[I 2024-11-15 23:03:08,246] Trial 338 finished with value: -0.892 and parameters: {'kernel': 'rbf', 'C': 385.06067139520303, 'max iter': 868497, 'gamma': 2.2631615151174653}. Best is trial 182 with value: -0.8936.\n"
          ]
        },
        {
          "name": "stdout",
          "output_type": "stream",
          "text": [
            "kernel: rbf, C: 491.983638754451, gamma: 1.6751559526292017, coef0: 0, degree: 3, tol: 318330\n"
          ]
        },
        {
          "name": "stderr",
          "output_type": "stream",
          "text": [
            "[I 2024-11-15 23:03:09,863] Trial 339 finished with value: -0.8896000000000001 and parameters: {'kernel': 'rbf', 'C': 491.983638754451, 'max iter': 318330, 'gamma': 1.6751559526292017}. Best is trial 182 with value: -0.8936.\n"
          ]
        },
        {
          "name": "stdout",
          "output_type": "stream",
          "text": [
            "kernel: rbf, C: 738.4697363829503, gamma: 0.031117229261954094, coef0: 0, degree: 3, tol: 541794\n"
          ]
        },
        {
          "name": "stderr",
          "output_type": "stream",
          "text": [
            "[I 2024-11-15 23:03:10,459] Trial 340 finished with value: -0.8827999999999999 and parameters: {'kernel': 'rbf', 'C': 738.4697363829503, 'max iter': 541794, 'gamma': 0.031117229261954094}. Best is trial 182 with value: -0.8936.\n"
          ]
        },
        {
          "name": "stdout",
          "output_type": "stream",
          "text": [
            "kernel: linear, C: 993.3732787458043, gamma: 1, coef0: 0, degree: 3, tol: 423782\n"
          ]
        },
        {
          "name": "stderr",
          "output_type": "stream",
          "text": [
            "[I 2024-11-15 23:03:12,110] Trial 341 finished with value: -0.8844 and parameters: {'kernel': 'linear', 'C': 993.3732787458043, 'max iter': 423782}. Best is trial 182 with value: -0.8936.\n"
          ]
        },
        {
          "name": "stdout",
          "output_type": "stream",
          "text": [
            "kernel: rbf, C: 620.6455550068619, gamma: 10.73142307955295, coef0: 0, degree: 3, tol: 988724\n"
          ]
        },
        {
          "name": "stderr",
          "output_type": "stream",
          "text": [
            "[I 2024-11-15 23:03:16,087] Trial 342 finished with value: -0.8671999999999999 and parameters: {'kernel': 'rbf', 'C': 620.6455550068619, 'max iter': 988724, 'gamma': 10.73142307955295}. Best is trial 182 with value: -0.8936.\n"
          ]
        },
        {
          "name": "stdout",
          "output_type": "stream",
          "text": [
            "kernel: rbf, C: 478.1402312413667, gamma: 5.751328822014249, coef0: 0, degree: 3, tol: 206330\n"
          ]
        },
        {
          "name": "stderr",
          "output_type": "stream",
          "text": [
            "[I 2024-11-15 23:03:18,878] Trial 343 finished with value: -0.8772 and parameters: {'kernel': 'rbf', 'C': 478.1402312413667, 'max iter': 206330, 'gamma': 5.751328822014249}. Best is trial 182 with value: -0.8936.\n"
          ]
        },
        {
          "name": "stdout",
          "output_type": "stream",
          "text": [
            "kernel: rbf, C: 324.20507238735075, gamma: 2.8540796722447643, coef0: 0, degree: 3, tol: 174\n"
          ]
        },
        {
          "name": "stderr",
          "output_type": "stream",
          "text": [
            "[I 2024-11-15 23:03:19,088] Trial 344 finished with value: -0.4 and parameters: {'kernel': 'rbf', 'C': 324.20507238735075, 'max iter': 174, 'gamma': 2.8540796722447643}. Best is trial 182 with value: -0.8936.\n"
          ]
        },
        {
          "name": "stdout",
          "output_type": "stream",
          "text": [
            "kernel: rbf, C: 814.800996763561, gamma: 0.9099012321530712, coef0: 0, degree: 3, tol: 695212\n"
          ]
        },
        {
          "name": "stderr",
          "output_type": "stream",
          "text": [
            "[I 2024-11-15 23:03:20,600] Trial 345 finished with value: -0.8888 and parameters: {'kernel': 'rbf', 'C': 814.800996763561, 'max iter': 695212, 'gamma': 0.9099012321530712}. Best is trial 182 with value: -0.8936.\n"
          ]
        },
        {
          "name": "stdout",
          "output_type": "stream",
          "text": [
            "kernel: sigmoid, C: 612.2477441081282, gamma: 1.4955577750881428, coef0: 0.0025615906749558567, degree: 3, tol: 534158\n"
          ]
        },
        {
          "name": "stderr",
          "output_type": "stream",
          "text": [
            "[I 2024-11-15 23:03:21,261] Trial 346 finished with value: -0.6572 and parameters: {'kernel': 'sigmoid', 'C': 612.2477441081282, 'max iter': 534158, 'gamma': 1.4955577750881428, 'coef0': 0.0025615906749558567}. Best is trial 182 with value: -0.8936.\n"
          ]
        },
        {
          "name": "stdout",
          "output_type": "stream",
          "text": [
            "kernel: rbf, C: 400.1868670864614, gamma: 3.5541830059995143, coef0: 0, degree: 3, tol: 762674\n"
          ]
        },
        {
          "name": "stderr",
          "output_type": "stream",
          "text": [
            "[I 2024-11-15 23:03:23,290] Trial 347 finished with value: -0.8876 and parameters: {'kernel': 'rbf', 'C': 400.1868670864614, 'max iter': 762674, 'gamma': 3.5541830059995143}. Best is trial 182 with value: -0.8936.\n"
          ]
        },
        {
          "name": "stdout",
          "output_type": "stream",
          "text": [
            "kernel: rbf, C: 255.81500365202274, gamma: 2.2138406103141564, coef0: 0, degree: 3, tol: 345018\n"
          ]
        },
        {
          "name": "stderr",
          "output_type": "stream",
          "text": [
            "[I 2024-11-15 23:03:24,532] Trial 348 finished with value: -0.8884000000000001 and parameters: {'kernel': 'rbf', 'C': 255.81500365202274, 'max iter': 345018, 'gamma': 2.2138406103141564}. Best is trial 182 with value: -0.8936.\n"
          ]
        },
        {
          "name": "stdout",
          "output_type": "stream",
          "text": [
            "kernel: rbf, C: 806.303631643886, gamma: 0.6358406777676456, coef0: 0, degree: 3, tol: 454207\n"
          ]
        },
        {
          "name": "stderr",
          "output_type": "stream",
          "text": [
            "[I 2024-11-15 23:03:25,835] Trial 349 finished with value: -0.8852 and parameters: {'kernel': 'rbf', 'C': 806.303631643886, 'max iter': 454207, 'gamma': 0.6358406777676456}. Best is trial 182 with value: -0.8936.\n"
          ]
        },
        {
          "name": "stdout",
          "output_type": "stream",
          "text": [
            "kernel: rbf, C: 545.2457216393972, gamma: 30.69599422172756, coef0: 0, degree: 3, tol: 601532\n"
          ]
        },
        {
          "name": "stderr",
          "output_type": "stream",
          "text": [
            "[I 2024-11-15 23:03:29,027] Trial 350 finished with value: -0.8291999999999999 and parameters: {'kernel': 'rbf', 'C': 545.2457216393972, 'max iter': 601532, 'gamma': 30.69599422172756}. Best is trial 182 with value: -0.8936.\n"
          ]
        },
        {
          "name": "stdout",
          "output_type": "stream",
          "text": [
            "kernel: rbf, C: 0.4830363642531055, gamma: 1.072389528493075, coef0: 0, degree: 3, tol: 278737\n"
          ]
        },
        {
          "name": "stderr",
          "output_type": "stream",
          "text": [
            "[I 2024-11-15 23:03:29,564] Trial 351 finished with value: -0.8796000000000002 and parameters: {'kernel': 'rbf', 'C': 0.4830363642531055, 'max iter': 278737, 'gamma': 1.072389528493075}. Best is trial 182 with value: -0.8936.\n"
          ]
        },
        {
          "name": "stdout",
          "output_type": "stream",
          "text": [
            "kernel: poly, C: 766.6668157204552, gamma: 1.9861068433688296, coef0: 2.8733066076111657, degree: 5, tol: 835774\n"
          ]
        },
        {
          "name": "stderr",
          "output_type": "stream",
          "text": [
            "[I 2024-11-15 23:04:25,787] Trial 352 finished with value: -0.5468 and parameters: {'kernel': 'poly', 'C': 766.6668157204552, 'max iter': 835774, 'gamma': 1.9861068433688296, 'coef0': 2.8733066076111657, 'degree': 5}. Best is trial 182 with value: -0.8936.\n"
          ]
        },
        {
          "name": "stdout",
          "output_type": "stream",
          "text": [
            "kernel: rbf, C: 451.47567692493897, gamma: 3.028861055779235, coef0: 0, degree: 3, tol: 607200\n"
          ]
        },
        {
          "name": "stderr",
          "output_type": "stream",
          "text": [
            "[I 2024-11-15 23:04:27,829] Trial 353 finished with value: -0.8879999999999999 and parameters: {'kernel': 'rbf', 'C': 451.47567692493897, 'max iter': 607200, 'gamma': 3.028861055779235}. Best is trial 182 with value: -0.8936.\n"
          ]
        },
        {
          "name": "stdout",
          "output_type": "stream",
          "text": [
            "kernel: rbf, C: 556.712542902685, gamma: 1.3184048495248575, coef0: 0, degree: 3, tol: 395500\n"
          ]
        },
        {
          "name": "stderr",
          "output_type": "stream",
          "text": [
            "[I 2024-11-15 23:04:29,331] Trial 354 finished with value: -0.89 and parameters: {'kernel': 'rbf', 'C': 556.712542902685, 'max iter': 395500, 'gamma': 1.3184048495248575}. Best is trial 182 with value: -0.8936.\n"
          ]
        },
        {
          "name": "stdout",
          "output_type": "stream",
          "text": [
            "kernel: rbf, C: 797.8427621291836, gamma: 4.507419635276485, coef0: 0, degree: 3, tol: 490919\n"
          ]
        },
        {
          "name": "stderr",
          "output_type": "stream",
          "text": [
            "[I 2024-11-15 23:04:33,019] Trial 355 finished with value: -0.8795999999999999 and parameters: {'kernel': 'rbf', 'C': 797.8427621291836, 'max iter': 490919, 'gamma': 4.507419635276485}. Best is trial 182 with value: -0.8936.\n"
          ]
        },
        {
          "name": "stdout",
          "output_type": "stream",
          "text": [
            "kernel: rbf, C: 650.8510384922262, gamma: 1.7938039427164698, coef0: 0, degree: 3, tol: 724434\n"
          ]
        },
        {
          "name": "stderr",
          "output_type": "stream",
          "text": [
            "[I 2024-11-15 23:04:34,947] Trial 356 finished with value: -0.8927999999999999 and parameters: {'kernel': 'rbf', 'C': 650.8510384922262, 'max iter': 724434, 'gamma': 1.7938039427164698}. Best is trial 182 with value: -0.8936.\n"
          ]
        },
        {
          "name": "stdout",
          "output_type": "stream",
          "text": [
            "kernel: rbf, C: 339.1315765895136, gamma: 2.502828257443725, coef0: 0, degree: 3, tol: 801735\n"
          ]
        },
        {
          "name": "stderr",
          "output_type": "stream",
          "text": [
            "[I 2024-11-15 23:04:36,510] Trial 357 finished with value: -0.892 and parameters: {'kernel': 'rbf', 'C': 339.1315765895136, 'max iter': 801735, 'gamma': 2.502828257443725}. Best is trial 182 with value: -0.8936.\n"
          ]
        },
        {
          "name": "stdout",
          "output_type": "stream",
          "text": [
            "kernel: rbf, C: 445.0128958717595, gamma: 0.9791196794879334, coef0: 0, degree: 3, tol: 680459\n"
          ]
        },
        {
          "name": "stderr",
          "output_type": "stream",
          "text": [
            "[I 2024-11-15 23:04:37,679] Trial 358 finished with value: -0.8872 and parameters: {'kernel': 'rbf', 'C': 445.0128958717595, 'max iter': 680459, 'gamma': 0.9791196794879334}. Best is trial 182 with value: -0.8936.\n"
          ]
        },
        {
          "name": "stdout",
          "output_type": "stream",
          "text": [
            "kernel: rbf, C: 638.0441146051497, gamma: 1.5373302614167796, coef0: 0, degree: 3, tol: 3016\n"
          ]
        },
        {
          "name": "stderr",
          "output_type": "stream",
          "text": [
            "[I 2024-11-15 23:04:38,523] Trial 359 finished with value: -0.7316 and parameters: {'kernel': 'rbf', 'C': 638.0441146051497, 'max iter': 3016, 'gamma': 1.5373302614167796}. Best is trial 182 with value: -0.8936.\n"
          ]
        },
        {
          "name": "stdout",
          "output_type": "stream",
          "text": [
            "kernel: rbf, C: 984.3143406413573, gamma: 7.028531810171688, coef0: 0, degree: 3, tol: 997059\n"
          ]
        },
        {
          "name": "stderr",
          "output_type": "stream",
          "text": [
            "[I 2024-11-15 23:04:43,528] Trial 360 finished with value: -0.874 and parameters: {'kernel': 'rbf', 'C': 984.3143406413573, 'max iter': 997059, 'gamma': 7.028531810171688}. Best is trial 182 with value: -0.8936.\n"
          ]
        },
        {
          "name": "stdout",
          "output_type": "stream",
          "text": [
            "kernel: rbf, C: 230.42057196061194, gamma: 0.4813506168623821, coef0: 0, degree: 3, tol: 711010\n"
          ]
        },
        {
          "name": "stderr",
          "output_type": "stream",
          "text": [
            "[I 2024-11-15 23:04:44,290] Trial 361 finished with value: -0.8848 and parameters: {'kernel': 'rbf', 'C': 230.42057196061194, 'max iter': 711010, 'gamma': 0.4813506168623821}. Best is trial 182 with value: -0.8936.\n"
          ]
        },
        {
          "name": "stdout",
          "output_type": "stream",
          "text": [
            "kernel: rbf, C: 554.5708655286411, gamma: 3.342199354797524, coef0: 0, degree: 3, tol: 572695\n"
          ]
        },
        {
          "name": "stderr",
          "output_type": "stream",
          "text": [
            "[I 2024-11-15 23:04:46,721] Trial 362 finished with value: -0.8876 and parameters: {'kernel': 'rbf', 'C': 554.5708655286411, 'max iter': 572695, 'gamma': 3.342199354797524}. Best is trial 182 with value: -0.8936.\n"
          ]
        },
        {
          "name": "stdout",
          "output_type": "stream",
          "text": [
            "kernel: rbf, C: 768.2786808146641, gamma: 1.9960301754835843, coef0: 0, degree: 3, tol: 819367\n"
          ]
        },
        {
          "name": "stderr",
          "output_type": "stream",
          "text": [
            "[I 2024-11-15 23:04:49,051] Trial 363 finished with value: -0.8907999999999999 and parameters: {'kernel': 'rbf', 'C': 768.2786808146641, 'max iter': 819367, 'gamma': 1.9960301754835843}. Best is trial 182 with value: -0.8936.\n"
          ]
        },
        {
          "name": "stdout",
          "output_type": "stream",
          "text": [
            "kernel: rbf, C: 337.14021318931754, gamma: 0.8591131566876776, coef0: 0, degree: 3, tol: 555065\n"
          ]
        },
        {
          "name": "stderr",
          "output_type": "stream",
          "text": [
            "[I 2024-11-15 23:04:50,044] Trial 364 finished with value: -0.8852 and parameters: {'kernel': 'rbf', 'C': 337.14021318931754, 'max iter': 555065, 'gamma': 0.8591131566876776}. Best is trial 182 with value: -0.8936.\n"
          ]
        },
        {
          "name": "stdout",
          "output_type": "stream",
          "text": [
            "kernel: rbf, C: 439.3507671846474, gamma: 1.289935765467993, coef0: 0, degree: 3, tol: 720115\n"
          ]
        },
        {
          "name": "stderr",
          "output_type": "stream",
          "text": [
            "[I 2024-11-15 23:04:51,318] Trial 365 finished with value: -0.8880000000000001 and parameters: {'kernel': 'rbf', 'C': 439.3507671846474, 'max iter': 720115, 'gamma': 1.289935765467993}. Best is trial 182 with value: -0.8936.\n"
          ]
        },
        {
          "name": "stdout",
          "output_type": "stream",
          "text": [
            "kernel: linear, C: 977.1473320272466, gamma: 1, coef0: 0, degree: 3, tol: 488309\n"
          ]
        },
        {
          "name": "stderr",
          "output_type": "stream",
          "text": [
            "[I 2024-11-15 23:04:52,930] Trial 366 finished with value: -0.8844 and parameters: {'kernel': 'linear', 'C': 977.1473320272466, 'max iter': 488309}. Best is trial 182 with value: -0.8936.\n"
          ]
        },
        {
          "name": "stdout",
          "output_type": "stream",
          "text": [
            "kernel: rbf, C: 620.0181571474111, gamma: 2.5614929754139006, coef0: 0, degree: 3, tol: 898369\n"
          ]
        },
        {
          "name": "stderr",
          "output_type": "stream",
          "text": [
            "[I 2024-11-15 23:04:55,188] Trial 367 finished with value: -0.8880000000000001 and parameters: {'kernel': 'rbf', 'C': 620.0181571474111, 'max iter': 898369, 'gamma': 2.5614929754139006}. Best is trial 182 with value: -0.8936.\n"
          ]
        },
        {
          "name": "stdout",
          "output_type": "stream",
          "text": [
            "kernel: rbf, C: 778.520349159863, gamma: 5.08319991656356, coef0: 0, degree: 3, tol: 995879\n"
          ]
        },
        {
          "name": "stderr",
          "output_type": "stream",
          "text": [
            "[I 2024-11-15 23:04:59,174] Trial 368 finished with value: -0.876 and parameters: {'kernel': 'rbf', 'C': 778.520349159863, 'max iter': 995879, 'gamma': 5.08319991656356}. Best is trial 182 with value: -0.8936.\n"
          ]
        },
        {
          "name": "stdout",
          "output_type": "stream",
          "text": [
            "kernel: rbf, C: 533.6063295712878, gamma: 2.0042578100082333, coef0: 0, degree: 3, tol: 619239\n"
          ]
        },
        {
          "name": "stderr",
          "output_type": "stream",
          "text": [
            "[I 2024-11-15 23:05:01,003] Trial 369 finished with value: -0.892 and parameters: {'kernel': 'rbf', 'C': 533.6063295712878, 'max iter': 619239, 'gamma': 2.0042578100082333}. Best is trial 182 with value: -0.8936.\n"
          ]
        },
        {
          "name": "stdout",
          "output_type": "stream",
          "text": [
            "kernel: rbf, C: 315.1246308667817, gamma: 18.507266188139447, coef0: 0, degree: 3, tol: 456768\n"
          ]
        },
        {
          "name": "stderr",
          "output_type": "stream",
          "text": [
            "[I 2024-11-15 23:05:03,621] Trial 370 finished with value: -0.8576 and parameters: {'kernel': 'rbf', 'C': 315.1246308667817, 'max iter': 456768, 'gamma': 18.507266188139447}. Best is trial 182 with value: -0.8936.\n"
          ]
        },
        {
          "name": "stdout",
          "output_type": "stream",
          "text": [
            "kernel: rbf, C: 436.7904980803307, gamma: 3.599219512909073, coef0: 0, degree: 3, tol: 696285\n"
          ]
        },
        {
          "name": "stderr",
          "output_type": "stream",
          "text": [
            "[I 2024-11-15 23:05:05,715] Trial 371 finished with value: -0.8880000000000001 and parameters: {'kernel': 'rbf', 'C': 436.7904980803307, 'max iter': 696285, 'gamma': 3.599219512909073}. Best is trial 182 with value: -0.8936.\n"
          ]
        },
        {
          "name": "stdout",
          "output_type": "stream",
          "text": [
            "kernel: sigmoid, C: 655.631835555828, gamma: 1.3406940420300562, coef0: 58.89465584060217, degree: 3, tol: 568490\n"
          ]
        },
        {
          "name": "stderr",
          "output_type": "stream",
          "text": [
            "[I 2024-11-15 23:05:06,441] Trial 372 finished with value: -0.52 and parameters: {'kernel': 'sigmoid', 'C': 655.631835555828, 'max iter': 568490, 'gamma': 1.3406940420300562, 'coef0': 58.89465584060217}. Best is trial 182 with value: -0.8936.\n"
          ]
        },
        {
          "name": "stdout",
          "output_type": "stream",
          "text": [
            "kernel: rbf, C: 0.12645168077306437, gamma: 0.7354911624816066, coef0: 0, degree: 3, tol: 1035\n"
          ]
        },
        {
          "name": "stderr",
          "output_type": "stream",
          "text": [
            "[I 2024-11-15 23:05:07,085] Trial 373 finished with value: -0.8736 and parameters: {'kernel': 'rbf', 'C': 0.12645168077306437, 'max iter': 1035, 'gamma': 0.7354911624816066}. Best is trial 182 with value: -0.8936.\n"
          ]
        },
        {
          "name": "stdout",
          "output_type": "stream",
          "text": [
            "kernel: rbf, C: 978.9059449014317, gamma: 1.7752987950502515, coef0: 0, degree: 3, tol: 407890\n"
          ]
        },
        {
          "name": "stderr",
          "output_type": "stream",
          "text": [
            "[I 2024-11-15 23:05:09,608] Trial 374 finished with value: -0.8924 and parameters: {'kernel': 'rbf', 'C': 978.9059449014317, 'max iter': 407890, 'gamma': 1.7752987950502515}. Best is trial 182 with value: -0.8936.\n"
          ]
        },
        {
          "name": "stdout",
          "output_type": "stream",
          "text": [
            "kernel: rbf, C: 961.7678416521293, gamma: 2.6424864373831234, coef0: 0, degree: 3, tol: 400404\n"
          ]
        },
        {
          "name": "stderr",
          "output_type": "stream",
          "text": [
            "[I 2024-11-15 23:05:12,860] Trial 375 finished with value: -0.8876 and parameters: {'kernel': 'rbf', 'C': 961.7678416521293, 'max iter': 400404, 'gamma': 2.6424864373831234}. Best is trial 182 with value: -0.8936.\n"
          ]
        },
        {
          "name": "stdout",
          "output_type": "stream",
          "text": [
            "kernel: rbf, C: 974.9638894539793, gamma: 1.221753168565425, coef0: 0, degree: 3, tol: 276449\n"
          ]
        },
        {
          "name": "stderr",
          "output_type": "stream",
          "text": [
            "[I 2024-11-15 23:05:14,938] Trial 376 finished with value: -0.8896000000000001 and parameters: {'kernel': 'rbf', 'C': 974.9638894539793, 'max iter': 276449, 'gamma': 1.221753168565425}. Best is trial 182 with value: -0.8936.\n"
          ]
        },
        {
          "name": "stdout",
          "output_type": "stream",
          "text": [
            "kernel: poly, C: 0.05899424114283627, gamma: 1.9013900921655122, coef0: 315.1021671778518, degree: 4, tol: 354753\n"
          ]
        },
        {
          "name": "stderr",
          "output_type": "stream",
          "text": [
            "[I 2024-11-15 23:05:25,132] Trial 377 finished with value: -0.8792 and parameters: {'kernel': 'poly', 'C': 0.05899424114283627, 'max iter': 354753, 'gamma': 1.9013900921655122, 'coef0': 315.1021671778518, 'degree': 4}. Best is trial 182 with value: -0.8936.\n"
          ]
        },
        {
          "name": "stdout",
          "output_type": "stream",
          "text": [
            "kernel: rbf, C: 820.6247095231612, gamma: 3.5806638087354017, coef0: 0, degree: 3, tol: 2037\n"
          ]
        },
        {
          "name": "stderr",
          "output_type": "stream",
          "text": [
            "[I 2024-11-15 23:05:25,892] Trial 378 finished with value: -0.5868 and parameters: {'kernel': 'rbf', 'C': 820.6247095231612, 'max iter': 2037, 'gamma': 3.5806638087354017}. Best is trial 182 with value: -0.8936.\n",
            "[I 2024-11-15 23:05:26,014] Trial 379 finished with value: -0.43879999999999997 and parameters: {'kernel': 'rbf', 'C': 749.2317580372736, 'max iter': 73, 'gamma': 0.9856679341577114}. Best is trial 182 with value: -0.8936.\n"
          ]
        },
        {
          "name": "stdout",
          "output_type": "stream",
          "text": [
            "kernel: rbf, C: 749.2317580372736, gamma: 0.9856679341577114, coef0: 0, degree: 3, tol: 73\n",
            "kernel: rbf, C: 0.015794426054990655, gamma: 2.6754150855718106, coef0: 0, degree: 3, tol: 464369\n"
          ]
        },
        {
          "name": "stderr",
          "output_type": "stream",
          "text": [
            "[I 2024-11-15 23:05:26,876] Trial 380 finished with value: -0.868 and parameters: {'kernel': 'rbf', 'C': 0.015794426054990655, 'max iter': 464369, 'gamma': 2.6754150855718106}. Best is trial 182 with value: -0.8936.\n"
          ]
        },
        {
          "name": "stdout",
          "output_type": "stream",
          "text": [
            "kernel: rbf, C: 997.3739499015455, gamma: 0.1310762791474546, coef0: 0, degree: 3, tol: 803629\n"
          ]
        },
        {
          "name": "stderr",
          "output_type": "stream",
          "text": [
            "[I 2024-11-15 23:05:27,704] Trial 381 finished with value: -0.8827999999999999 and parameters: {'kernel': 'rbf', 'C': 997.3739499015455, 'max iter': 803629, 'gamma': 0.1310762791474546}. Best is trial 182 with value: -0.8936.\n"
          ]
        },
        {
          "name": "stdout",
          "output_type": "stream",
          "text": [
            "kernel: rbf, C: 507.00453764670715, gamma: 1.6173074334487372, coef0: 0, degree: 3, tol: 228284\n"
          ]
        },
        {
          "name": "stderr",
          "output_type": "stream",
          "text": [
            "[I 2024-11-15 23:05:29,264] Trial 382 finished with value: -0.8892000000000001 and parameters: {'kernel': 'rbf', 'C': 507.00453764670715, 'max iter': 228284, 'gamma': 1.6173074334487372}. Best is trial 182 with value: -0.8936.\n"
          ]
        },
        {
          "name": "stdout",
          "output_type": "stream",
          "text": [
            "kernel: rbf, C: 647.8835614332746, gamma: 4.409710130768841, coef0: 0, degree: 3, tol: 422615\n"
          ]
        },
        {
          "name": "stderr",
          "output_type": "stream",
          "text": [
            "[I 2024-11-15 23:05:32,305] Trial 383 finished with value: -0.882 and parameters: {'kernel': 'rbf', 'C': 647.8835614332746, 'max iter': 422615, 'gamma': 4.409710130768841}. Best is trial 182 with value: -0.8936.\n"
          ]
        },
        {
          "name": "stdout",
          "output_type": "stream",
          "text": [
            "kernel: rbf, C: 396.8141811007964, gamma: 1.9493734090617703, coef0: 0, degree: 3, tol: 681184\n"
          ]
        },
        {
          "name": "stderr",
          "output_type": "stream",
          "text": [
            "[I 2024-11-15 23:05:33,736] Trial 384 finished with value: -0.8888 and parameters: {'kernel': 'rbf', 'C': 396.8141811007964, 'max iter': 681184, 'gamma': 1.9493734090617703}. Best is trial 182 with value: -0.8936.\n"
          ]
        },
        {
          "name": "stdout",
          "output_type": "stream",
          "text": [
            "kernel: rbf, C: 731.7767631347829, gamma: 0.6025486967057018, coef0: 0, degree: 3, tol: 316322\n"
          ]
        },
        {
          "name": "stderr",
          "output_type": "stream",
          "text": [
            "[I 2024-11-15 23:05:34,933] Trial 385 finished with value: -0.8859999999999999 and parameters: {'kernel': 'rbf', 'C': 731.7767631347829, 'max iter': 316322, 'gamma': 0.6025486967057018}. Best is trial 182 with value: -0.8936.\n"
          ]
        },
        {
          "name": "stdout",
          "output_type": "stream",
          "text": [
            "kernel: rbf, C: 544.5081602462051, gamma: 1.207641146812043, coef0: 0, degree: 3, tol: 546188\n"
          ]
        },
        {
          "name": "stderr",
          "output_type": "stream",
          "text": [
            "[I 2024-11-15 23:05:36,331] Trial 386 finished with value: -0.8888 and parameters: {'kernel': 'rbf', 'C': 544.5081602462051, 'max iter': 546188, 'gamma': 1.207641146812043}. Best is trial 182 with value: -0.8936.\n"
          ]
        },
        {
          "name": "stdout",
          "output_type": "stream",
          "text": [
            "kernel: rbf, C: 154.80913292300315, gamma: 2.7902137572350196, coef0: 0, degree: 3, tol: 810407\n"
          ]
        },
        {
          "name": "stderr",
          "output_type": "stream",
          "text": [
            "[I 2024-11-15 23:05:37,363] Trial 387 finished with value: -0.8880000000000001 and parameters: {'kernel': 'rbf', 'C': 154.80913292300315, 'max iter': 810407, 'gamma': 2.7902137572350196}. Best is trial 182 with value: -0.8936.\n"
          ]
        },
        {
          "name": "stdout",
          "output_type": "stream",
          "text": [
            "kernel: rbf, C: 781.6328960405522, gamma: 0.0027056055388981594, coef0: 0, degree: 3, tol: 472941\n"
          ]
        },
        {
          "name": "stderr",
          "output_type": "stream",
          "text": [
            "[I 2024-11-15 23:05:37,966] Trial 388 finished with value: -0.8779999999999999 and parameters: {'kernel': 'rbf', 'C': 781.6328960405522, 'max iter': 472941, 'gamma': 0.0027056055388981594}. Best is trial 182 with value: -0.8936.\n"
          ]
        },
        {
          "name": "stdout",
          "output_type": "stream",
          "text": [
            "kernel: rbf, C: 1.277206460435987, gamma: 6.309112686496745, coef0: 0, degree: 3, tol: 595586\n"
          ]
        },
        {
          "name": "stderr",
          "output_type": "stream",
          "text": [
            "[I 2024-11-15 23:05:38,523] Trial 389 finished with value: -0.8836 and parameters: {'kernel': 'rbf', 'C': 1.277206460435987, 'max iter': 595586, 'gamma': 6.309112686496745}. Best is trial 182 with value: -0.8936.\n"
          ]
        },
        {
          "name": "stdout",
          "output_type": "stream",
          "text": [
            "kernel: rbf, C: 270.1956210907103, gamma: 1.6277424549465245, coef0: 0, degree: 3, tol: 167431\n"
          ]
        },
        {
          "name": "stderr",
          "output_type": "stream",
          "text": [
            "[I 2024-11-15 23:05:39,653] Trial 390 finished with value: -0.8884000000000001 and parameters: {'kernel': 'rbf', 'C': 270.1956210907103, 'max iter': 167431, 'gamma': 1.6277424549465245}. Best is trial 182 with value: -0.8936.\n"
          ]
        },
        {
          "name": "stdout",
          "output_type": "stream",
          "text": [
            "kernel: rbf, C: 390.1603733081568, gamma: 0.8765373549932377, coef0: 0, degree: 3, tol: 994754\n"
          ]
        },
        {
          "name": "stderr",
          "output_type": "stream",
          "text": [
            "[I 2024-11-15 23:05:40,714] Trial 391 finished with value: -0.8848 and parameters: {'kernel': 'rbf', 'C': 390.1603733081568, 'max iter': 994754, 'gamma': 0.8765373549932377}. Best is trial 182 with value: -0.8936.\n"
          ]
        },
        {
          "name": "stdout",
          "output_type": "stream",
          "text": [
            "kernel: linear, C: 584.3738765659107, gamma: 1, coef0: 0, degree: 3, tol: 373547\n"
          ]
        },
        {
          "name": "stderr",
          "output_type": "stream",
          "text": [
            "[I 2024-11-15 23:05:41,776] Trial 392 finished with value: -0.8844000000000001 and parameters: {'kernel': 'linear', 'C': 584.3738765659107, 'max iter': 373547}. Best is trial 182 with value: -0.8936.\n"
          ]
        },
        {
          "name": "stdout",
          "output_type": "stream",
          "text": [
            "kernel: rbf, C: 798.6081033290316, gamma: 2.4983853594598737, coef0: 0, degree: 3, tol: 659383\n"
          ]
        },
        {
          "name": "stderr",
          "output_type": "stream",
          "text": [
            "[I 2024-11-15 23:05:44,427] Trial 393 finished with value: -0.8872 and parameters: {'kernel': 'rbf', 'C': 798.6081033290316, 'max iter': 659383, 'gamma': 2.4983853594598737}. Best is trial 182 with value: -0.8936.\n"
          ]
        },
        {
          "name": "stdout",
          "output_type": "stream",
          "text": [
            "kernel: rbf, C: 539.6930924220411, gamma: 3.7230212346193254, coef0: 0, degree: 3, tol: 838714\n"
          ]
        },
        {
          "name": "stderr",
          "output_type": "stream",
          "text": [
            "[I 2024-11-15 23:05:47,116] Trial 394 finished with value: -0.8855999999999999 and parameters: {'kernel': 'rbf', 'C': 539.6930924220411, 'max iter': 838714, 'gamma': 3.7230212346193254}. Best is trial 182 with value: -0.8936.\n"
          ]
        },
        {
          "name": "stdout",
          "output_type": "stream",
          "text": [
            "kernel: rbf, C: 428.0108263772106, gamma: 1.5762624797458666, coef0: 0, degree: 3, tol: 495129\n"
          ]
        },
        {
          "name": "stderr",
          "output_type": "stream",
          "text": [
            "[I 2024-11-15 23:05:48,561] Trial 395 finished with value: -0.8888 and parameters: {'kernel': 'rbf', 'C': 428.0108263772106, 'max iter': 495129, 'gamma': 1.5762624797458666}. Best is trial 182 with value: -0.8936.\n"
          ]
        },
        {
          "name": "stdout",
          "output_type": "stream",
          "text": [
            "kernel: sigmoid, C: 657.3777111688577, gamma: 2.188089192654361, coef0: 0.08543686569317736, degree: 3, tol: 721371\n"
          ]
        },
        {
          "name": "stderr",
          "output_type": "stream",
          "text": [
            "[I 2024-11-15 23:05:50,108] Trial 396 finished with value: -0.5728 and parameters: {'kernel': 'sigmoid', 'C': 657.3777111688577, 'max iter': 721371, 'gamma': 2.188089192654361, 'coef0': 0.08543686569317736}. Best is trial 182 with value: -0.8936.\n"
          ]
        },
        {
          "name": "stdout",
          "output_type": "stream",
          "text": [
            "kernel: rbf, C: 795.9971550684911, gamma: 1.2309887158850752, coef0: 0, degree: 3, tol: 290043\n"
          ]
        },
        {
          "name": "stderr",
          "output_type": "stream",
          "text": [
            "[I 2024-11-15 23:05:51,830] Trial 397 finished with value: -0.89 and parameters: {'kernel': 'rbf', 'C': 795.9971550684911, 'max iter': 290043, 'gamma': 1.2309887158850752}. Best is trial 182 with value: -0.8936.\n"
          ]
        },
        {
          "name": "stdout",
          "output_type": "stream",
          "text": [
            "kernel: rbf, C: 974.936623808012, gamma: 2.9354870056680604, coef0: 0, degree: 3, tol: 388130\n"
          ]
        },
        {
          "name": "stderr",
          "output_type": "stream",
          "text": [
            "[I 2024-11-15 23:05:55,257] Trial 398 finished with value: -0.8868 and parameters: {'kernel': 'rbf', 'C': 974.936623808012, 'max iter': 388130, 'gamma': 2.9354870056680604}. Best is trial 182 with value: -0.8936.\n"
          ]
        },
        {
          "name": "stdout",
          "output_type": "stream",
          "text": [
            "kernel: rbf, C: 334.11000144614917, gamma: 4.910035412352095, coef0: 0, degree: 3, tol: 549884\n"
          ]
        },
        {
          "name": "stderr",
          "output_type": "stream",
          "text": [
            "[I 2024-11-15 23:05:57,305] Trial 399 finished with value: -0.8827999999999999 and parameters: {'kernel': 'rbf', 'C': 334.11000144614917, 'max iter': 549884, 'gamma': 4.910035412352095}. Best is trial 182 with value: -0.8936.\n"
          ]
        },
        {
          "name": "stdout",
          "output_type": "stream",
          "text": [
            "kernel: rbf, C: 991.7838889730584, gamma: 1.9096921149999437, coef0: 0, degree: 3, tol: 813469\n"
          ]
        },
        {
          "name": "stderr",
          "output_type": "stream",
          "text": [
            "[I 2024-11-15 23:05:59,972] Trial 400 finished with value: -0.89 and parameters: {'kernel': 'rbf', 'C': 991.7838889730584, 'max iter': 813469, 'gamma': 1.9096921149999437}. Best is trial 182 with value: -0.8936.\n"
          ]
        },
        {
          "name": "stdout",
          "output_type": "stream",
          "text": [
            "kernel: rbf, C: 493.8439232244114, gamma: 0.8414747838615861, coef0: 0, degree: 3, tol: 661417\n"
          ]
        },
        {
          "name": "stderr",
          "output_type": "stream",
          "text": [
            "[I 2024-11-15 23:06:01,108] Trial 401 finished with value: -0.8852 and parameters: {'kernel': 'rbf', 'C': 493.8439232244114, 'max iter': 661417, 'gamma': 0.8414747838615861}. Best is trial 182 with value: -0.8936.\n"
          ]
        },
        {
          "name": "stdout",
          "output_type": "stream",
          "text": [
            "kernel: poly, C: 0.007704532789258735, gamma: 1.2130828626879824, coef0: 1.331114540468766, degree: 6, tol: 489869\n"
          ]
        },
        {
          "name": "stderr",
          "output_type": "stream",
          "text": [
            "[I 2024-11-15 23:06:02,216] Trial 402 finished with value: -0.8832000000000001 and parameters: {'kernel': 'poly', 'C': 0.007704532789258735, 'max iter': 489869, 'gamma': 1.2130828626879824, 'coef0': 1.331114540468766, 'degree': 6}. Best is trial 182 with value: -0.8936.\n"
          ]
        },
        {
          "name": "stdout",
          "output_type": "stream",
          "text": [
            "kernel: rbf, C: 218.6585592301228, gamma: 2.277981601128541, coef0: 0, degree: 3, tol: 392254\n"
          ]
        },
        {
          "name": "stderr",
          "output_type": "stream",
          "text": [
            "[I 2024-11-15 23:06:03,397] Trial 403 finished with value: -0.8876000000000002 and parameters: {'kernel': 'rbf', 'C': 218.6585592301228, 'max iter': 392254, 'gamma': 2.277981601128541}. Best is trial 182 with value: -0.8936.\n"
          ]
        },
        {
          "name": "stdout",
          "output_type": "stream",
          "text": [
            "kernel: rbf, C: 643.888917583071, gamma: 8.865345566227303, coef0: 0, degree: 3, tol: 989060\n"
          ]
        },
        {
          "name": "stderr",
          "output_type": "stream",
          "text": [
            "[I 2024-11-15 23:06:07,230] Trial 404 finished with value: -0.8735999999999999 and parameters: {'kernel': 'rbf', 'C': 643.888917583071, 'max iter': 989060, 'gamma': 8.865345566227303}. Best is trial 182 with value: -0.8936.\n"
          ]
        },
        {
          "name": "stdout",
          "output_type": "stream",
          "text": [
            "kernel: rbf, C: 472.85646444095744, gamma: 3.812029555307084, coef0: 0, degree: 3, tol: 657628\n"
          ]
        },
        {
          "name": "stderr",
          "output_type": "stream",
          "text": [
            "[I 2024-11-15 23:06:09,590] Trial 405 finished with value: -0.8855999999999999 and parameters: {'kernel': 'rbf', 'C': 472.85646444095744, 'max iter': 657628, 'gamma': 3.812029555307084}. Best is trial 182 with value: -0.8936.\n"
          ]
        },
        {
          "name": "stdout",
          "output_type": "stream",
          "text": [
            "kernel: rbf, C: 687.2950192267919, gamma: 1.5076993903134355, coef0: 0, degree: 3, tol: 543205\n"
          ]
        },
        {
          "name": "stderr",
          "output_type": "stream",
          "text": [
            "[I 2024-11-15 23:06:11,510] Trial 406 finished with value: -0.8888 and parameters: {'kernel': 'rbf', 'C': 687.2950192267919, 'max iter': 543205, 'gamma': 1.5076993903134355}. Best is trial 182 with value: -0.8936.\n"
          ]
        },
        {
          "name": "stdout",
          "output_type": "stream",
          "text": [
            "kernel: rbf, C: 335.6339768341138, gamma: 0.44314063969195255, coef0: 0, degree: 3, tol: 239006\n"
          ]
        },
        {
          "name": "stderr",
          "output_type": "stream",
          "text": [
            "[I 2024-11-15 23:06:12,356] Trial 407 finished with value: -0.8836 and parameters: {'kernel': 'rbf', 'C': 335.6339768341138, 'max iter': 239006, 'gamma': 0.44314063969195255}. Best is trial 182 with value: -0.8936.\n"
          ]
        },
        {
          "name": "stdout",
          "output_type": "stream",
          "text": [
            "kernel: rbf, C: 594.3342808292022, gamma: 2.6542375345106817, coef0: 0, degree: 3, tol: 791475\n"
          ]
        },
        {
          "name": "stderr",
          "output_type": "stream",
          "text": [
            "[I 2024-11-15 23:06:14,562] Trial 408 finished with value: -0.8880000000000001 and parameters: {'kernel': 'rbf', 'C': 594.3342808292022, 'max iter': 791475, 'gamma': 2.6542375345106817}. Best is trial 182 with value: -0.8936.\n"
          ]
        },
        {
          "name": "stdout",
          "output_type": "stream",
          "text": [
            "kernel: rbf, C: 779.8610896956152, gamma: 0.7446221816948729, coef0: 0, degree: 3, tol: 336081\n"
          ]
        },
        {
          "name": "stderr",
          "output_type": "stream",
          "text": [
            "[I 2024-11-15 23:06:15,993] Trial 409 finished with value: -0.8868 and parameters: {'kernel': 'rbf', 'C': 779.8610896956152, 'max iter': 336081, 'gamma': 0.7446221816948729}. Best is trial 182 with value: -0.8936.\n"
          ]
        },
        {
          "name": "stdout",
          "output_type": "stream",
          "text": [
            "kernel: rbf, C: 997.5738685282431, gamma: 1.1297493583039784, coef0: 0, degree: 3, tol: 473389\n"
          ]
        },
        {
          "name": "stderr",
          "output_type": "stream",
          "text": [
            "[I 2024-11-15 23:06:18,070] Trial 410 finished with value: -0.8896000000000001 and parameters: {'kernel': 'rbf', 'C': 997.5738685282431, 'max iter': 473389, 'gamma': 1.1297493583039784}. Best is trial 182 with value: -0.8936.\n"
          ]
        },
        {
          "name": "stdout",
          "output_type": "stream",
          "text": [
            "kernel: rbf, C: 413.52681008799703, gamma: 1.633584458886006, coef0: 0, degree: 3, tol: 79339\n"
          ]
        },
        {
          "name": "stderr",
          "output_type": "stream",
          "text": [
            "[I 2024-11-15 23:06:19,531] Trial 411 finished with value: -0.8888 and parameters: {'kernel': 'rbf', 'C': 413.52681008799703, 'max iter': 79339, 'gamma': 1.633584458886006}. Best is trial 182 with value: -0.8936.\n"
          ]
        },
        {
          "name": "stdout",
          "output_type": "stream",
          "text": [
            "kernel: rbf, C: 512.6509374688987, gamma: 3.392038971379721, coef0: 0, degree: 3, tol: 633253\n"
          ]
        },
        {
          "name": "stderr",
          "output_type": "stream",
          "text": [
            "[I 2024-11-15 23:06:21,765] Trial 412 finished with value: -0.8876 and parameters: {'kernel': 'rbf', 'C': 512.6509374688987, 'max iter': 633253, 'gamma': 3.392038971379721}. Best is trial 182 with value: -0.8936.\n"
          ]
        },
        {
          "name": "stdout",
          "output_type": "stream",
          "text": [
            "kernel: rbf, C: 764.2975542982397, gamma: 2.006490958732546, coef0: 0, degree: 3, tol: 787420\n"
          ]
        },
        {
          "name": "stderr",
          "output_type": "stream",
          "text": [
            "[I 2024-11-15 23:06:24,141] Trial 413 finished with value: -0.8907999999999999 and parameters: {'kernel': 'rbf', 'C': 764.2975542982397, 'max iter': 787420, 'gamma': 2.006490958732546}. Best is trial 182 with value: -0.8936.\n"
          ]
        },
        {
          "name": "stdout",
          "output_type": "stream",
          "text": [
            "kernel: rbf, C: 298.2040945150289, gamma: 5.288142562989129, coef0: 0, degree: 3, tol: 568108\n"
          ]
        },
        {
          "name": "stderr",
          "output_type": "stream",
          "text": [
            "[I 2024-11-15 23:06:26,056] Trial 414 finished with value: -0.8827999999999999 and parameters: {'kernel': 'rbf', 'C': 298.2040945150289, 'max iter': 568108, 'gamma': 5.288142562989129}. Best is trial 182 with value: -0.8936.\n"
          ]
        },
        {
          "name": "stdout",
          "output_type": "stream",
          "text": [
            "kernel: linear, C: 603.6816843592748, gamma: 1, coef0: 0, degree: 3, tol: 430215\n"
          ]
        },
        {
          "name": "stderr",
          "output_type": "stream",
          "text": [
            "[I 2024-11-15 23:06:27,165] Trial 415 finished with value: -0.884 and parameters: {'kernel': 'linear', 'C': 603.6816843592748, 'max iter': 430215}. Best is trial 182 with value: -0.8936.\n"
          ]
        },
        {
          "name": "stdout",
          "output_type": "stream",
          "text": [
            "kernel: rbf, C: 988.4572581066271, gamma: 1.0699149049660743, coef0: 0, degree: 3, tol: 975390\n"
          ]
        },
        {
          "name": "stderr",
          "output_type": "stream",
          "text": [
            "[I 2024-11-15 23:06:29,071] Trial 416 finished with value: -0.8888 and parameters: {'kernel': 'rbf', 'C': 988.4572581066271, 'max iter': 975390, 'gamma': 1.0699149049660743}. Best is trial 182 with value: -0.8936.\n"
          ]
        },
        {
          "name": "stdout",
          "output_type": "stream",
          "text": [
            "kernel: rbf, C: 421.89987687866807, gamma: 2.3073144155000453, coef0: 0, degree: 3, tol: 288681\n"
          ]
        },
        {
          "name": "stderr",
          "output_type": "stream",
          "text": [
            "[I 2024-11-15 23:06:30,826] Trial 417 finished with value: -0.8932 and parameters: {'kernel': 'rbf', 'C': 421.89987687866807, 'max iter': 288681, 'gamma': 2.3073144155000453}. Best is trial 182 with value: -0.8936.\n"
          ]
        },
        {
          "name": "stdout",
          "output_type": "stream",
          "text": [
            "kernel: rbf, C: 231.60255008916286, gamma: 3.0741888035249367, coef0: 0, degree: 3, tol: 695409\n"
          ]
        },
        {
          "name": "stderr",
          "output_type": "stream",
          "text": [
            "[I 2024-11-15 23:06:32,139] Trial 418 finished with value: -0.8884000000000001 and parameters: {'kernel': 'rbf', 'C': 231.60255008916286, 'max iter': 695409, 'gamma': 3.0741888035249367}. Best is trial 182 with value: -0.8936.\n"
          ]
        },
        {
          "name": "stdout",
          "output_type": "stream",
          "text": [
            "kernel: rbf, C: 362.3733422634249, gamma: 2.3312725295930634, coef0: 0, degree: 3, tol: 433816\n"
          ]
        },
        {
          "name": "stderr",
          "output_type": "stream",
          "text": [
            "[I 2024-11-15 23:06:33,660] Trial 419 finished with value: -0.8916000000000001 and parameters: {'kernel': 'rbf', 'C': 362.3733422634249, 'max iter': 433816, 'gamma': 2.3312725295930634}. Best is trial 182 with value: -0.8936.\n"
          ]
        },
        {
          "name": "stdout",
          "output_type": "stream",
          "text": [
            "kernel: rbf, C: 109.19095495723005, gamma: 4.5707241579488915, coef0: 0, degree: 3, tol: 8574\n"
          ]
        },
        {
          "name": "stderr",
          "output_type": "stream",
          "text": [
            "[I 2024-11-15 23:06:34,538] Trial 420 finished with value: -0.8876 and parameters: {'kernel': 'rbf', 'C': 109.19095495723005, 'max iter': 8574, 'gamma': 4.5707241579488915}. Best is trial 182 with value: -0.8936.\n"
          ]
        },
        {
          "name": "stdout",
          "output_type": "stream",
          "text": [
            "kernel: rbf, C: 404.0350877988006, gamma: 1.483710343206653, coef0: 0, degree: 3, tol: 592941\n"
          ]
        },
        {
          "name": "stderr",
          "output_type": "stream",
          "text": [
            "[I 2024-11-15 23:06:35,918] Trial 421 finished with value: -0.8896000000000001 and parameters: {'kernel': 'rbf', 'C': 404.0350877988006, 'max iter': 592941, 'gamma': 1.483710343206653}. Best is trial 182 with value: -0.8936.\n"
          ]
        },
        {
          "name": "stdout",
          "output_type": "stream",
          "text": [
            "kernel: sigmoid, C: 0.003275170737852805, gamma: 2.38683101559864, coef0: 0.001053560964965768, degree: 3, tol: 814099\n"
          ]
        },
        {
          "name": "stderr",
          "output_type": "stream",
          "text": [
            "[I 2024-11-15 23:06:37,489] Trial 422 finished with value: -0.52 and parameters: {'kernel': 'sigmoid', 'C': 0.003275170737852805, 'max iter': 814099, 'gamma': 2.38683101559864, 'coef0': 0.001053560964965768}. Best is trial 182 with value: -0.8936.\n"
          ]
        },
        {
          "name": "stdout",
          "output_type": "stream",
          "text": [
            "kernel: rbf, C: 254.76109816585478, gamma: 3.5062781570650197, coef0: 0, degree: 3, tol: 322899\n"
          ]
        },
        {
          "name": "stderr",
          "output_type": "stream",
          "text": [
            "[I 2024-11-15 23:06:39,029] Trial 423 finished with value: -0.8884000000000001 and parameters: {'kernel': 'rbf', 'C': 254.76109816585478, 'max iter': 322899, 'gamma': 3.5062781570650197}. Best is trial 182 with value: -0.8936.\n"
          ]
        },
        {
          "name": "stdout",
          "output_type": "stream",
          "text": [
            "kernel: rbf, C: 482.912527299937, gamma: 0.6506798737142097, coef0: 0, degree: 3, tol: 492982\n"
          ]
        },
        {
          "name": "stderr",
          "output_type": "stream",
          "text": [
            "[I 2024-11-15 23:06:40,069] Trial 424 finished with value: -0.8868 and parameters: {'kernel': 'rbf', 'C': 482.912527299937, 'max iter': 492982, 'gamma': 0.6506798737142097}. Best is trial 182 with value: -0.8936.\n"
          ]
        },
        {
          "name": "stdout",
          "output_type": "stream",
          "text": [
            "kernel: rbf, C: 508.57708883306475, gamma: 1.5819746228699856, coef0: 0, degree: 3, tol: 712989\n"
          ]
        },
        {
          "name": "stderr",
          "output_type": "stream",
          "text": [
            "[I 2024-11-15 23:06:41,698] Trial 425 finished with value: -0.8880000000000001 and parameters: {'kernel': 'rbf', 'C': 508.57708883306475, 'max iter': 712989, 'gamma': 1.5819746228699856}. Best is trial 182 with value: -0.8936.\n"
          ]
        },
        {
          "name": "stdout",
          "output_type": "stream",
          "text": [
            "kernel: poly, C: 347.56298384766694, gamma: 7.103619553032171, coef0: 0.3966026233137233, degree: 2, tol: 204587\n"
          ]
        },
        {
          "name": "stderr",
          "output_type": "stream",
          "text": [
            "[I 2024-11-15 23:06:57,721] Trial 426 finished with value: -0.47639999999999993 and parameters: {'kernel': 'poly', 'C': 347.56298384766694, 'max iter': 204587, 'gamma': 7.103619553032171, 'coef0': 0.3966026233137233, 'degree': 2}. Best is trial 182 with value: -0.8936.\n"
          ]
        },
        {
          "name": "stdout",
          "output_type": "stream",
          "text": [
            "kernel: rbf, C: 0.20332341105684817, gamma: 1.0408902677899028, coef0: 0, degree: 3, tol: 368822\n"
          ]
        },
        {
          "name": "stderr",
          "output_type": "stream",
          "text": [
            "[I 2024-11-15 23:06:58,307] Trial 427 finished with value: -0.8764 and parameters: {'kernel': 'rbf', 'C': 0.20332341105684817, 'max iter': 368822, 'gamma': 1.0408902677899028}. Best is trial 182 with value: -0.8936.\n"
          ]
        },
        {
          "name": "stdout",
          "output_type": "stream",
          "text": [
            "kernel: rbf, C: 18.23985419780118, gamma: 2.47057322434406, coef0: 0, degree: 3, tol: 578338\n"
          ]
        },
        {
          "name": "stderr",
          "output_type": "stream",
          "text": [
            "[I 2024-11-15 23:06:58,894] Trial 428 finished with value: -0.8880000000000001 and parameters: {'kernel': 'rbf', 'C': 18.23985419780118, 'max iter': 578338, 'gamma': 2.47057322434406}. Best is trial 182 with value: -0.8936.\n"
          ]
        },
        {
          "name": "stdout",
          "output_type": "stream",
          "text": [
            "kernel: rbf, C: 180.71654645490122, gamma: 1.6889842965027755, coef0: 0, degree: 3, tol: 969519\n"
          ]
        },
        {
          "name": "stderr",
          "output_type": "stream",
          "text": [
            "[I 2024-11-15 23:06:59,854] Trial 429 finished with value: -0.8880000000000001 and parameters: {'kernel': 'rbf', 'C': 180.71654645490122, 'max iter': 969519, 'gamma': 1.6889842965027755}. Best is trial 182 with value: -0.8936.\n"
          ]
        },
        {
          "name": "stdout",
          "output_type": "stream",
          "text": [
            "kernel: rbf, C: 631.6672485740895, gamma: 3.4889090404615466, coef0: 0, degree: 3, tol: 472630\n"
          ]
        },
        {
          "name": "stderr",
          "output_type": "stream",
          "text": [
            "[I 2024-11-15 23:07:02,503] Trial 430 finished with value: -0.8864000000000001 and parameters: {'kernel': 'rbf', 'C': 631.6672485740895, 'max iter': 472630, 'gamma': 3.4889090404615466}. Best is trial 182 with value: -0.8936.\n"
          ]
        },
        {
          "name": "stdout",
          "output_type": "stream",
          "text": [
            "kernel: rbf, C: 431.14698602570405, gamma: 1.2116854865010886, coef0: 0, degree: 3, tol: 702592\n"
          ]
        },
        {
          "name": "stderr",
          "output_type": "stream",
          "text": [
            "[I 2024-11-15 23:07:03,745] Trial 431 finished with value: -0.8884000000000001 and parameters: {'kernel': 'rbf', 'C': 431.14698602570405, 'max iter': 702592, 'gamma': 1.2116854865010886}. Best is trial 182 with value: -0.8936.\n"
          ]
        },
        {
          "name": "stdout",
          "output_type": "stream",
          "text": [
            "kernel: rbf, C: 623.4040280122148, gamma: 2.014615542104075, coef0: 0, degree: 3, tol: 26845\n"
          ]
        },
        {
          "name": "stderr",
          "output_type": "stream",
          "text": [
            "[I 2024-11-15 23:07:05,280] Trial 432 finished with value: -0.8928 and parameters: {'kernel': 'rbf', 'C': 623.4040280122148, 'max iter': 26845, 'gamma': 2.014615542104075}. Best is trial 182 with value: -0.8936.\n"
          ]
        },
        {
          "name": "stdout",
          "output_type": "stream",
          "text": [
            "kernel: rbf, C: 738.3713946956642, gamma: 2.2374394847515853, coef0: 0, degree: 3, tol: 24782\n"
          ]
        },
        {
          "name": "stderr",
          "output_type": "stream",
          "text": [
            "[I 2024-11-15 23:07:06,929] Trial 433 finished with value: -0.8904 and parameters: {'kernel': 'rbf', 'C': 738.3713946956642, 'max iter': 24782, 'gamma': 2.2374394847515853}. Best is trial 182 with value: -0.8936.\n"
          ]
        },
        {
          "name": "stdout",
          "output_type": "stream",
          "text": [
            "kernel: rbf, C: 631.1371612414556, gamma: 0.8383552717424567, coef0: 0, degree: 3, tol: 824584\n"
          ]
        },
        {
          "name": "stderr",
          "output_type": "stream",
          "text": [
            "[I 2024-11-15 23:07:08,230] Trial 434 finished with value: -0.8872 and parameters: {'kernel': 'rbf', 'C': 631.1371612414556, 'max iter': 824584, 'gamma': 0.8383552717424567}. Best is trial 182 with value: -0.8936.\n"
          ]
        },
        {
          "name": "stdout",
          "output_type": "stream",
          "text": [
            "kernel: rbf, C: 987.020074329452, gamma: 4.649873683150817, coef0: 0, degree: 3, tol: 595594\n"
          ]
        },
        {
          "name": "stderr",
          "output_type": "stream",
          "text": [
            "[I 2024-11-15 23:07:12,573] Trial 435 finished with value: -0.876 and parameters: {'kernel': 'rbf', 'C': 987.020074329452, 'max iter': 595594, 'gamma': 4.649873683150817}. Best is trial 182 with value: -0.8936.\n"
          ]
        },
        {
          "name": "stdout",
          "output_type": "stream",
          "text": [
            "kernel: rbf, C: 2.0602453676682675, gamma: 2.947571827192565, coef0: 0, degree: 3, tol: 58961\n"
          ]
        },
        {
          "name": "stderr",
          "output_type": "stream",
          "text": [
            "[I 2024-11-15 23:07:13,117] Trial 436 finished with value: -0.8852 and parameters: {'kernel': 'rbf', 'C': 2.0602453676682675, 'max iter': 58961, 'gamma': 2.947571827192565}. Best is trial 182 with value: -0.8936.\n"
          ]
        },
        {
          "name": "stdout",
          "output_type": "stream",
          "text": [
            "kernel: rbf, C: 617.2344366890921, gamma: 1.3883789703388645, coef0: 0, degree: 3, tol: 20198\n"
          ]
        },
        {
          "name": "stderr",
          "output_type": "stream",
          "text": [
            "[I 2024-11-15 23:07:14,444] Trial 437 finished with value: -0.8904 and parameters: {'kernel': 'rbf', 'C': 617.2344366890921, 'max iter': 20198, 'gamma': 1.3883789703388645}. Best is trial 182 with value: -0.8936.\n"
          ]
        },
        {
          "name": "stdout",
          "output_type": "stream",
          "text": [
            "kernel: rbf, C: 756.1341972770009, gamma: 0.31704434708904994, coef0: 0, degree: 3, tol: 993975\n"
          ]
        },
        {
          "name": "stderr",
          "output_type": "stream",
          "text": [
            "[I 2024-11-15 23:07:15,428] Trial 438 finished with value: -0.8852 and parameters: {'kernel': 'rbf', 'C': 756.1341972770009, 'max iter': 993975, 'gamma': 0.31704434708904994}. Best is trial 182 with value: -0.8936.\n"
          ]
        },
        {
          "name": "stdout",
          "output_type": "stream",
          "text": [
            "kernel: rbf, C: 530.5744280627746, gamma: 1.9553224881055506, coef0: 0, degree: 3, tol: 145362\n"
          ]
        },
        {
          "name": "stderr",
          "output_type": "stream",
          "text": [
            "[I 2024-11-15 23:07:17,251] Trial 439 finished with value: -0.8928 and parameters: {'kernel': 'rbf', 'C': 530.5744280627746, 'max iter': 145362, 'gamma': 1.9553224881055506}. Best is trial 182 with value: -0.8936.\n"
          ]
        },
        {
          "name": "stdout",
          "output_type": "stream",
          "text": [
            "kernel: rbf, C: 786.4284475431785, gamma: 1.7469220571400923, coef0: 0, degree: 3, tol: 39082\n"
          ]
        },
        {
          "name": "stderr",
          "output_type": "stream",
          "text": [
            "[I 2024-11-15 23:07:18,982] Trial 440 finished with value: -0.8912000000000001 and parameters: {'kernel': 'rbf', 'C': 786.4284475431785, 'max iter': 39082, 'gamma': 1.7469220571400923}. Best is trial 182 with value: -0.8936.\n"
          ]
        },
        {
          "name": "stdout",
          "output_type": "stream",
          "text": [
            "kernel: rbf, C: 518.5487051105672, gamma: 0.8903280989198034, coef0: 0, degree: 3, tol: 412779\n"
          ]
        },
        {
          "name": "stderr",
          "output_type": "stream",
          "text": [
            "[I 2024-11-15 23:07:20,195] Trial 441 finished with value: -0.8872 and parameters: {'kernel': 'rbf', 'C': 518.5487051105672, 'max iter': 412779, 'gamma': 0.8903280989198034}. Best is trial 182 with value: -0.8936.\n"
          ]
        },
        {
          "name": "stdout",
          "output_type": "stream",
          "text": [
            "kernel: rbf, C: 612.2939594140541, gamma: 2.9500247628658727, coef0: 0, degree: 3, tol: 517659\n"
          ]
        },
        {
          "name": "stderr",
          "output_type": "stream",
          "text": [
            "[I 2024-11-15 23:07:22,727] Trial 442 finished with value: -0.8892 and parameters: {'kernel': 'rbf', 'C': 612.2939594140541, 'max iter': 517659, 'gamma': 2.9500247628658727}. Best is trial 182 with value: -0.8936.\n"
          ]
        },
        {
          "name": "stdout",
          "output_type": "stream",
          "text": [
            "kernel: rbf, C: 991.4004037782887, gamma: 1.29500445497825, coef0: 0, degree: 3, tol: 259107\n"
          ]
        },
        {
          "name": "stderr",
          "output_type": "stream",
          "text": [
            "[I 2024-11-15 23:07:24,932] Trial 443 finished with value: -0.8880000000000001 and parameters: {'kernel': 'rbf', 'C': 991.4004037782887, 'max iter': 259107, 'gamma': 1.29500445497825}. Best is trial 182 with value: -0.8936.\n"
          ]
        },
        {
          "name": "stdout",
          "output_type": "stream",
          "text": [
            "kernel: rbf, C: 282.1229616651905, gamma: 0.5643384341477947, coef0: 0, degree: 3, tol: 47835\n"
          ]
        },
        {
          "name": "stderr",
          "output_type": "stream",
          "text": [
            "[I 2024-11-15 23:07:25,737] Trial 444 finished with value: -0.8847999999999999 and parameters: {'kernel': 'rbf', 'C': 282.1229616651905, 'max iter': 47835, 'gamma': 0.5643384341477947}. Best is trial 182 with value: -0.8936.\n"
          ]
        },
        {
          "name": "stdout",
          "output_type": "stream",
          "text": [
            "kernel: linear, C: 375.70670252855217, gamma: 1, coef0: 0, degree: 3, tol: 342135\n"
          ]
        },
        {
          "name": "stderr",
          "output_type": "stream",
          "text": [
            "[I 2024-11-15 23:07:26,652] Trial 445 finished with value: -0.8836 and parameters: {'kernel': 'linear', 'C': 375.70670252855217, 'max iter': 342135}. Best is trial 182 with value: -0.8936.\n"
          ]
        },
        {
          "name": "stdout",
          "output_type": "stream",
          "text": [
            "kernel: sigmoid, C: 777.5707537407437, gamma: 2.0660540025513856, coef0: 0.10835983764419824, degree: 3, tol: 17028\n"
          ]
        },
        {
          "name": "stderr",
          "output_type": "stream",
          "text": [
            "[I 2024-11-15 23:07:28,182] Trial 446 finished with value: -0.6456000000000001 and parameters: {'kernel': 'sigmoid', 'C': 777.5707537407437, 'max iter': 17028, 'gamma': 2.0660540025513856, 'coef0': 0.10835983764419824}. Best is trial 182 with value: -0.8936.\n"
          ]
        },
        {
          "name": "stdout",
          "output_type": "stream",
          "text": [
            "kernel: rbf, C: 520.1964550976382, gamma: 4.090612218142247, coef0: 0, degree: 3, tol: 698130\n"
          ]
        },
        {
          "name": "stderr",
          "output_type": "stream",
          "text": [
            "[I 2024-11-15 23:07:30,742] Trial 447 finished with value: -0.8836 and parameters: {'kernel': 'rbf', 'C': 520.1964550976382, 'max iter': 698130, 'gamma': 4.090612218142247}. Best is trial 182 with value: -0.8936.\n"
          ]
        },
        {
          "name": "stdout",
          "output_type": "stream",
          "text": [
            "kernel: rbf, C: 648.1758298617766, gamma: 1.2428354074230699, coef0: 0, degree: 3, tol: 520867\n"
          ]
        },
        {
          "name": "stderr",
          "output_type": "stream",
          "text": [
            "[I 2024-11-15 23:07:32,329] Trial 448 finished with value: -0.8896000000000001 and parameters: {'kernel': 'rbf', 'C': 648.1758298617766, 'max iter': 520867, 'gamma': 1.2428354074230699}. Best is trial 182 with value: -0.8936.\n"
          ]
        },
        {
          "name": "stdout",
          "output_type": "stream",
          "text": [
            "kernel: rbf, C: 27.087945394002762, gamma: 2.6174577993070116, coef0: 0, degree: 3, tol: 122356\n"
          ]
        },
        {
          "name": "stderr",
          "output_type": "stream",
          "text": [
            "[I 2024-11-15 23:07:32,958] Trial 449 finished with value: -0.8864000000000001 and parameters: {'kernel': 'rbf', 'C': 27.087945394002762, 'max iter': 122356, 'gamma': 2.6174577993070116}. Best is trial 182 with value: -0.8936.\n"
          ]
        },
        {
          "name": "stdout",
          "output_type": "stream",
          "text": [
            "kernel: rbf, C: 995.3687246554507, gamma: 1.7054690595033426, coef0: 0, degree: 3, tol: 127486\n"
          ]
        },
        {
          "name": "stderr",
          "output_type": "stream",
          "text": [
            "[I 2024-11-15 23:07:35,368] Trial 450 finished with value: -0.8928 and parameters: {'kernel': 'rbf', 'C': 995.3687246554507, 'max iter': 127486, 'gamma': 1.7054690595033426}. Best is trial 182 with value: -0.8936.\n"
          ]
        },
        {
          "name": "stdout",
          "output_type": "stream",
          "text": [
            "kernel: rbf, C: 808.715915359113, gamma: 0.8720164655000757, coef0: 0, degree: 3, tol: 106772\n"
          ]
        },
        {
          "name": "stderr",
          "output_type": "stream",
          "text": [
            "[I 2024-11-15 23:07:36,883] Trial 451 finished with value: -0.8880000000000001 and parameters: {'kernel': 'rbf', 'C': 808.715915359113, 'max iter': 106772, 'gamma': 0.8720164655000757}. Best is trial 182 with value: -0.8936.\n"
          ]
        },
        {
          "name": "stdout",
          "output_type": "stream",
          "text": [
            "kernel: rbf, C: 997.5710956777398, gamma: 1.6092193470017309, coef0: 0, degree: 3, tol: 179373\n"
          ]
        },
        {
          "name": "stderr",
          "output_type": "stream",
          "text": [
            "[I 2024-11-15 23:07:39,472] Trial 452 finished with value: -0.8907999999999999 and parameters: {'kernel': 'rbf', 'C': 997.5710956777398, 'max iter': 179373, 'gamma': 1.6092193470017309}. Best is trial 182 with value: -0.8936.\n"
          ]
        },
        {
          "name": "stdout",
          "output_type": "stream",
          "text": [
            "kernel: rbf, C: 984.3474632967269, gamma: 1.1768938646314355, coef0: 0, degree: 3, tol: 13727\n"
          ]
        },
        {
          "name": "stderr",
          "output_type": "stream",
          "text": [
            "[I 2024-11-15 23:07:40,921] Trial 453 finished with value: -0.8864000000000001 and parameters: {'kernel': 'rbf', 'C': 984.3474632967269, 'max iter': 13727, 'gamma': 1.1768938646314355}. Best is trial 182 with value: -0.8936.\n"
          ]
        },
        {
          "name": "stdout",
          "output_type": "stream",
          "text": [
            "kernel: rbf, C: 758.362271510173, gamma: 6.020607760595098, coef0: 0, degree: 3, tol: 156771\n"
          ]
        },
        {
          "name": "stderr",
          "output_type": "stream",
          "text": [
            "[I 2024-11-15 23:07:44,597] Trial 454 finished with value: -0.8744 and parameters: {'kernel': 'rbf', 'C': 758.362271510173, 'max iter': 156771, 'gamma': 6.020607760595098}. Best is trial 182 with value: -0.8936.\n"
          ]
        },
        {
          "name": "stdout",
          "output_type": "stream",
          "text": [
            "kernel: poly, C: 640.7710323533828, gamma: 1.8859480002291684, coef0: 13.201494726893392, degree: 5, tol: 218656\n"
          ]
        },
        {
          "name": "stderr",
          "output_type": "stream",
          "text": [
            "[I 2024-11-15 23:08:02,271] Trial 455 finished with value: -0.5708 and parameters: {'kernel': 'poly', 'C': 640.7710323533828, 'max iter': 218656, 'gamma': 1.8859480002291684, 'coef0': 13.201494726893392, 'degree': 5}. Best is trial 182 with value: -0.8936.\n"
          ]
        },
        {
          "name": "stdout",
          "output_type": "stream",
          "text": [
            "kernel: rbf, C: 780.2307081209711, gamma: 3.250898872958813, coef0: 0, degree: 3, tol: 32851\n"
          ]
        },
        {
          "name": "stderr",
          "output_type": "stream",
          "text": [
            "[I 2024-11-15 23:08:04,276] Trial 456 finished with value: -0.8852 and parameters: {'kernel': 'rbf', 'C': 780.2307081209711, 'max iter': 32851, 'gamma': 3.250898872958813}. Best is trial 182 with value: -0.8936.\n"
          ]
        },
        {
          "name": "stdout",
          "output_type": "stream",
          "text": [
            "kernel: rbf, C: 537.4654087035515, gamma: 0.7674032695527119, coef0: 0, degree: 3, tol: 67995\n"
          ]
        },
        {
          "name": "stderr",
          "output_type": "stream",
          "text": [
            "[I 2024-11-15 23:08:05,442] Trial 457 finished with value: -0.8852 and parameters: {'kernel': 'rbf', 'C': 537.4654087035515, 'max iter': 67995, 'gamma': 0.7674032695527119}. Best is trial 182 with value: -0.8936.\n"
          ]
        },
        {
          "name": "stdout",
          "output_type": "stream",
          "text": [
            "kernel: rbf, C: 793.9463530033948, gamma: 1.899725892643397, coef0: 0, degree: 3, tol: 174732\n"
          ]
        },
        {
          "name": "stderr",
          "output_type": "stream",
          "text": [
            "[I 2024-11-15 23:08:07,660] Trial 458 finished with value: -0.892 and parameters: {'kernel': 'rbf', 'C': 793.9463530033948, 'max iter': 174732, 'gamma': 1.899725892643397}. Best is trial 182 with value: -0.8936.\n"
          ]
        },
        {
          "name": "stdout",
          "output_type": "stream",
          "text": [
            "kernel: rbf, C: 596.5125002389153, gamma: 1.2925875201867856, coef0: 0, degree: 3, tol: 280323\n"
          ]
        },
        {
          "name": "stderr",
          "output_type": "stream",
          "text": [
            "[I 2024-11-15 23:08:09,225] Trial 459 finished with value: -0.89 and parameters: {'kernel': 'rbf', 'C': 596.5125002389153, 'max iter': 280323, 'gamma': 1.2925875201867856}. Best is trial 182 with value: -0.8936.\n"
          ]
        },
        {
          "name": "stdout",
          "output_type": "stream",
          "text": [
            "kernel: rbf, C: 980.6021729805933, gamma: 0.011835413812205804, coef0: 0, degree: 3, tol: 73308\n"
          ]
        },
        {
          "name": "stderr",
          "output_type": "stream",
          "text": [
            "[I 2024-11-15 23:08:09,809] Trial 460 finished with value: -0.8848 and parameters: {'kernel': 'rbf', 'C': 980.6021729805933, 'max iter': 73308, 'gamma': 0.011835413812205804}. Best is trial 182 with value: -0.8936.\n"
          ]
        },
        {
          "name": "stdout",
          "output_type": "stream",
          "text": [
            "kernel: rbf, C: 437.61364863147855, gamma: 2.6936293378712914, coef0: 0, degree: 3, tol: 98187\n"
          ]
        },
        {
          "name": "stderr",
          "output_type": "stream",
          "text": [
            "[I 2024-11-15 23:08:11,646] Trial 461 finished with value: -0.8892 and parameters: {'kernel': 'rbf', 'C': 437.61364863147855, 'max iter': 98187, 'gamma': 2.6936293378712914}. Best is trial 182 with value: -0.8936.\n"
          ]
        },
        {
          "name": "stdout",
          "output_type": "stream",
          "text": [
            "kernel: rbf, C: 651.4293079689538, gamma: 4.301639777940973, coef0: 0, degree: 3, tol: 132470\n"
          ]
        },
        {
          "name": "stderr",
          "output_type": "stream",
          "text": [
            "[I 2024-11-15 23:08:14,474] Trial 462 finished with value: -0.8812 and parameters: {'kernel': 'rbf', 'C': 651.4293079689538, 'max iter': 132470, 'gamma': 4.301639777940973}. Best is trial 182 with value: -0.8936.\n"
          ]
        },
        {
          "name": "stdout",
          "output_type": "stream",
          "text": [
            "kernel: rbf, C: 484.4954430532191, gamma: 0.490004053632511, coef0: 0, degree: 3, tol: 140005\n"
          ]
        },
        {
          "name": "stderr",
          "output_type": "stream",
          "text": [
            "[I 2024-11-15 23:08:15,445] Trial 463 finished with value: -0.8859999999999999 and parameters: {'kernel': 'rbf', 'C': 484.4954430532191, 'max iter': 140005, 'gamma': 0.490004053632511}. Best is trial 182 with value: -0.8936.\n"
          ]
        },
        {
          "name": "stdout",
          "output_type": "stream",
          "text": [
            "kernel: rbf, C: 41.084478884701134, gamma: 0.9987680627830252, coef0: 0, degree: 3, tol: 92725\n"
          ]
        },
        {
          "name": "stderr",
          "output_type": "stream",
          "text": [
            "[I 2024-11-15 23:08:16,034] Trial 464 finished with value: -0.8855999999999999 and parameters: {'kernel': 'rbf', 'C': 41.084478884701134, 'max iter': 92725, 'gamma': 0.9987680627830252}. Best is trial 182 with value: -0.8936.\n"
          ]
        },
        {
          "name": "stdout",
          "output_type": "stream",
          "text": [
            "kernel: rbf, C: 986.8257995142197, gamma: 619.0021876763738, coef0: 0, degree: 3, tol: 399418\n"
          ]
        },
        {
          "name": "stderr",
          "output_type": "stream",
          "text": [
            "[I 2024-11-15 23:08:17,831] Trial 465 finished with value: -0.7924000000000001 and parameters: {'kernel': 'rbf', 'C': 986.8257995142197, 'max iter': 399418, 'gamma': 619.0021876763738}. Best is trial 182 with value: -0.8936.\n"
          ]
        },
        {
          "name": "stdout",
          "output_type": "stream",
          "text": [
            "kernel: rbf, C: 748.9325574165191, gamma: 1.6921508490746298, coef0: 0, degree: 3, tol: 800136\n"
          ]
        },
        {
          "name": "stderr",
          "output_type": "stream",
          "text": [
            "[I 2024-11-15 23:08:20,025] Trial 466 finished with value: -0.8924 and parameters: {'kernel': 'rbf', 'C': 748.9325574165191, 'max iter': 800136, 'gamma': 1.6921508490746298}. Best is trial 182 with value: -0.8936.\n"
          ]
        },
        {
          "name": "stdout",
          "output_type": "stream",
          "text": [
            "kernel: rbf, C: 746.00504290941, gamma: 1.799646417410361, coef0: 0, degree: 3, tol: 871990\n"
          ]
        },
        {
          "name": "stderr",
          "output_type": "stream",
          "text": [
            "[I 2024-11-15 23:08:22,231] Trial 467 finished with value: -0.8911999999999999 and parameters: {'kernel': 'rbf', 'C': 746.00504290941, 'max iter': 871990, 'gamma': 1.799646417410361}. Best is trial 182 with value: -0.8936.\n",
            "[I 2024-11-15 23:08:22,290] Trial 468 finished with value: -0.6080000000000001 and parameters: {'kernel': 'rbf', 'C': 994.8257287758672, 'max iter': 12, 'gamma': 1.446388255209469}. Best is trial 182 with value: -0.8936.\n"
          ]
        },
        {
          "name": "stdout",
          "output_type": "stream",
          "text": [
            "kernel: rbf, C: 994.8257287758672, gamma: 1.446388255209469, coef0: 0, degree: 3, tol: 12\n",
            "kernel: linear, C: 767.6980900473231, gamma: 1, coef0: 0, degree: 3, tol: 809041\n"
          ]
        },
        {
          "name": "stderr",
          "output_type": "stream",
          "text": [
            "[I 2024-11-15 23:08:23,675] Trial 469 finished with value: -0.8852 and parameters: {'kernel': 'linear', 'C': 767.6980900473231, 'max iter': 809041}. Best is trial 182 with value: -0.8936.\n"
          ]
        },
        {
          "name": "stdout",
          "output_type": "stream",
          "text": [
            "kernel: rbf, C: 538.9332246732654, gamma: 2.570831850267191, coef0: 0, degree: 3, tol: 997605\n"
          ]
        },
        {
          "name": "stderr",
          "output_type": "stream",
          "text": [
            "[I 2024-11-15 23:08:25,690] Trial 470 finished with value: -0.8892000000000001 and parameters: {'kernel': 'rbf', 'C': 538.9332246732654, 'max iter': 997605, 'gamma': 2.570831850267191}. Best is trial 182 with value: -0.8936.\n"
          ]
        },
        {
          "name": "stdout",
          "output_type": "stream",
          "text": [
            "kernel: rbf, C: 641.9281933013889, gamma: 11.106857218812028, coef0: 0, degree: 3, tol: 666726\n"
          ]
        },
        {
          "name": "stderr",
          "output_type": "stream",
          "text": [
            "[I 2024-11-15 23:08:29,859] Trial 471 finished with value: -0.8667999999999999 and parameters: {'kernel': 'rbf', 'C': 641.9281933013889, 'max iter': 666726, 'gamma': 11.106857218812028}. Best is trial 182 with value: -0.8936.\n"
          ]
        },
        {
          "name": "stdout",
          "output_type": "stream",
          "text": [
            "kernel: sigmoid, C: 417.4099397861608, gamma: 0.6286193815228345, coef0: 0.01400055374217229, degree: 3, tol: 745108\n"
          ]
        },
        {
          "name": "stderr",
          "output_type": "stream",
          "text": [
            "[I 2024-11-15 23:08:30,492] Trial 472 finished with value: -0.6268 and parameters: {'kernel': 'sigmoid', 'C': 417.4099397861608, 'max iter': 745108, 'gamma': 0.6286193815228345, 'coef0': 0.01400055374217229}. Best is trial 182 with value: -0.8936.\n"
          ]
        },
        {
          "name": "stdout",
          "output_type": "stream",
          "text": [
            "kernel: rbf, C: 740.3070060437054, gamma: 1.0949844291055908, coef0: 0, degree: 3, tol: 250700\n"
          ]
        },
        {
          "name": "stderr",
          "output_type": "stream",
          "text": [
            "[I 2024-11-15 23:08:32,119] Trial 473 finished with value: -0.8884000000000001 and parameters: {'kernel': 'rbf', 'C': 740.3070060437054, 'max iter': 250700, 'gamma': 1.0949844291055908}. Best is trial 182 with value: -0.8936.\n"
          ]
        },
        {
          "name": "stdout",
          "output_type": "stream",
          "text": [
            "kernel: rbf, C: 11.494715487582923, gamma: 3.6601415468232665, coef0: 0, degree: 3, tol: 448667\n"
          ]
        },
        {
          "name": "stderr",
          "output_type": "stream",
          "text": [
            "[I 2024-11-15 23:08:32,703] Trial 474 finished with value: -0.8872 and parameters: {'kernel': 'rbf', 'C': 11.494715487582923, 'max iter': 448667, 'gamma': 3.6601415468232665}. Best is trial 182 with value: -0.8936.\n"
          ]
        },
        {
          "name": "stdout",
          "output_type": "stream",
          "text": [
            "kernel: rbf, C: 996.130631958769, gamma: 51.22441027771828, coef0: 0, degree: 3, tol: 567558\n"
          ]
        },
        {
          "name": "stderr",
          "output_type": "stream",
          "text": [
            "[I 2024-11-15 23:08:35,010] Trial 475 finished with value: -0.8208 and parameters: {'kernel': 'rbf', 'C': 996.130631958769, 'max iter': 567558, 'gamma': 51.22441027771828}. Best is trial 182 with value: -0.8936.\n"
          ]
        },
        {
          "name": "stdout",
          "output_type": "stream",
          "text": [
            "kernel: rbf, C: 532.4634160959581, gamma: 2.337729993382373, coef0: 0, degree: 3, tol: 333092\n"
          ]
        },
        {
          "name": "stderr",
          "output_type": "stream",
          "text": [
            "[I 2024-11-15 23:08:37,009] Trial 476 finished with value: -0.892 and parameters: {'kernel': 'rbf', 'C': 532.4634160959581, 'max iter': 333092, 'gamma': 2.337729993382373}. Best is trial 182 with value: -0.8936.\n"
          ]
        },
        {
          "name": "stdout",
          "output_type": "stream",
          "text": [
            "kernel: rbf, C: 352.9205012744723, gamma: 1.5657999346039653, coef0: 0, degree: 3, tol: 995239\n"
          ]
        },
        {
          "name": "stderr",
          "output_type": "stream",
          "text": [
            "[I 2024-11-15 23:08:38,268] Trial 477 finished with value: -0.8892 and parameters: {'kernel': 'rbf', 'C': 352.9205012744723, 'max iter': 995239, 'gamma': 1.5657999346039653}. Best is trial 182 with value: -0.8936.\n"
          ]
        },
        {
          "name": "stdout",
          "output_type": "stream",
          "text": [
            "kernel: poly, C: 774.9296997430398, gamma: 6.579479032977825, coef0: 0.002090772802697481, degree: 3, tol: 754266\n"
          ]
        },
        {
          "name": "stderr",
          "output_type": "stream",
          "text": [
            "[I 2024-11-15 23:09:33,672] Trial 478 finished with value: -0.5264 and parameters: {'kernel': 'poly', 'C': 774.9296997430398, 'max iter': 754266, 'gamma': 6.579479032977825, 'coef0': 0.002090772802697481, 'degree': 3}. Best is trial 182 with value: -0.8936.\n"
          ]
        },
        {
          "name": "stdout",
          "output_type": "stream",
          "text": [
            "kernel: rbf, C: 573.1129805686658, gamma: 0.8848396240937634, coef0: 0, degree: 3, tol: 473373\n"
          ]
        },
        {
          "name": "stderr",
          "output_type": "stream",
          "text": [
            "[I 2024-11-15 23:09:34,943] Trial 479 finished with value: -0.8872 and parameters: {'kernel': 'rbf', 'C': 573.1129805686658, 'max iter': 473373, 'gamma': 0.8848396240937634}. Best is trial 182 with value: -0.8936.\n"
          ]
        },
        {
          "name": "stdout",
          "output_type": "stream",
          "text": [
            "kernel: rbf, C: 464.04563930683963, gamma: 5.614297550681305e-05, coef0: 0, degree: 3, tol: 615240\n"
          ]
        },
        {
          "name": "stderr",
          "output_type": "stream",
          "text": [
            "[I 2024-11-15 23:09:35,740] Trial 480 finished with value: -0.86 and parameters: {'kernel': 'rbf', 'C': 464.04563930683963, 'max iter': 615240, 'gamma': 5.614297550681305e-05}. Best is trial 182 with value: -0.8936.\n"
          ]
        },
        {
          "name": "stdout",
          "output_type": "stream",
          "text": [
            "kernel: rbf, C: 768.1028909565675, gamma: 2.056447292311054, coef0: 0, degree: 3, tol: 382206\n"
          ]
        },
        {
          "name": "stderr",
          "output_type": "stream",
          "text": [
            "[I 2024-11-15 23:09:38,054] Trial 481 finished with value: -0.8916000000000001 and parameters: {'kernel': 'rbf', 'C': 768.1028909565675, 'max iter': 382206, 'gamma': 2.056447292311054}. Best is trial 182 with value: -0.8936.\n"
          ]
        },
        {
          "name": "stdout",
          "output_type": "stream",
          "text": [
            "kernel: rbf, C: 655.6420616954155, gamma: 3.270167857275924, coef0: 0, degree: 3, tol: 807108\n"
          ]
        },
        {
          "name": "stderr",
          "output_type": "stream",
          "text": [
            "[I 2024-11-15 23:09:40,734] Trial 482 finished with value: -0.8884000000000001 and parameters: {'kernel': 'rbf', 'C': 655.6420616954155, 'max iter': 807108, 'gamma': 3.270167857275924}. Best is trial 182 with value: -0.8936.\n"
          ]
        },
        {
          "name": "stdout",
          "output_type": "stream",
          "text": [
            "kernel: rbf, C: 368.7001624541439, gamma: 1.416040367188422, coef0: 0, degree: 3, tol: 526718\n"
          ]
        },
        {
          "name": "stderr",
          "output_type": "stream",
          "text": [
            "[I 2024-11-15 23:09:41,969] Trial 483 finished with value: -0.8884000000000001 and parameters: {'kernel': 'rbf', 'C': 368.7001624541439, 'max iter': 526718, 'gamma': 1.416040367188422}. Best is trial 182 with value: -0.8936.\n"
          ]
        },
        {
          "name": "stdout",
          "output_type": "stream",
          "text": [
            "kernel: rbf, C: 802.3322379159523, gamma: 4.678074631376767, coef0: 0, degree: 3, tol: 4266\n"
          ]
        },
        {
          "name": "stderr",
          "output_type": "stream",
          "text": [
            "[I 2024-11-15 23:09:43,014] Trial 484 finished with value: -0.7731999999999999 and parameters: {'kernel': 'rbf', 'C': 802.3322379159523, 'max iter': 4266, 'gamma': 4.678074631376767}. Best is trial 182 with value: -0.8936.\n"
          ]
        },
        {
          "name": "stdout",
          "output_type": "stream",
          "text": [
            "kernel: rbf, C: 0.0739323351078294, gamma: 2.2595158342947843, coef0: 0, degree: 3, tol: 692291\n"
          ]
        },
        {
          "name": "stderr",
          "output_type": "stream",
          "text": [
            "[I 2024-11-15 23:09:43,644] Trial 485 finished with value: -0.8744 and parameters: {'kernel': 'rbf', 'C': 0.0739323351078294, 'max iter': 692291, 'gamma': 2.2595158342947843}. Best is trial 182 with value: -0.8936.\n"
          ]
        },
        {
          "name": "stdout",
          "output_type": "stream",
          "text": [
            "kernel: rbf, C: 291.4457455501925, gamma: 1.0992835274177122, coef0: 0, degree: 3, tol: 210636\n"
          ]
        },
        {
          "name": "stderr",
          "output_type": "stream",
          "text": [
            "[I 2024-11-15 23:09:44,661] Trial 486 finished with value: -0.8864000000000001 and parameters: {'kernel': 'rbf', 'C': 291.4457455501925, 'max iter': 210636, 'gamma': 1.0992835274177122}. Best is trial 182 with value: -0.8936.\n"
          ]
        },
        {
          "name": "stdout",
          "output_type": "stream",
          "text": [
            "kernel: rbf, C: 994.4607719371942, gamma: 1.602039308839118, coef0: 0, degree: 3, tol: 436305\n"
          ]
        },
        {
          "name": "stderr",
          "output_type": "stream",
          "text": [
            "[I 2024-11-15 23:09:47,087] Trial 487 finished with value: -0.8911999999999999 and parameters: {'kernel': 'rbf', 'C': 994.4607719371942, 'max iter': 436305, 'gamma': 1.602039308839118}. Best is trial 182 with value: -0.8936.\n"
          ]
        },
        {
          "name": "stdout",
          "output_type": "stream",
          "text": [
            "kernel: rbf, C: 590.3307121650187, gamma: 3.1726033613442333, coef0: 0, degree: 3, tol: 323168\n"
          ]
        },
        {
          "name": "stderr",
          "output_type": "stream",
          "text": [
            "[I 2024-11-15 23:09:49,529] Trial 488 finished with value: -0.8879999999999999 and parameters: {'kernel': 'rbf', 'C': 590.3307121650187, 'max iter': 323168, 'gamma': 3.1726033613442333}. Best is trial 182 with value: -0.8936.\n"
          ]
        },
        {
          "name": "stdout",
          "output_type": "stream",
          "text": [
            "kernel: rbf, C: 3.489541032406437, gamma: 0.7653866875889709, coef0: 0, degree: 3, tol: 54982\n"
          ]
        },
        {
          "name": "stderr",
          "output_type": "stream",
          "text": [
            "[I 2024-11-15 23:09:50,057] Trial 489 finished with value: -0.8827999999999999 and parameters: {'kernel': 'rbf', 'C': 3.489541032406437, 'max iter': 54982, 'gamma': 0.7653866875889709}. Best is trial 182 with value: -0.8936.\n"
          ]
        },
        {
          "name": "stdout",
          "output_type": "stream",
          "text": [
            "kernel: rbf, C: 508.60946443152903, gamma: 1.9711133890484582, coef0: 0, degree: 3, tol: 11100\n"
          ]
        },
        {
          "name": "stderr",
          "output_type": "stream",
          "text": [
            "[I 2024-11-15 23:09:51,304] Trial 490 finished with value: -0.8896000000000001 and parameters: {'kernel': 'rbf', 'C': 508.60946443152903, 'max iter': 11100, 'gamma': 1.9711133890484582}. Best is trial 182 with value: -0.8936.\n"
          ]
        },
        {
          "name": "stdout",
          "output_type": "stream",
          "text": [
            "kernel: rbf, C: 756.4479419029271, gamma: 0.0008148446219910218, coef0: 0, degree: 3, tol: 998466\n"
          ]
        },
        {
          "name": "stderr",
          "output_type": "stream",
          "text": [
            "[I 2024-11-15 23:09:51,902] Trial 491 finished with value: -0.8720000000000001 and parameters: {'kernel': 'rbf', 'C': 756.4479419029271, 'max iter': 998466, 'gamma': 0.0008148446219910218}. Best is trial 182 with value: -0.8936.\n"
          ]
        },
        {
          "name": "stdout",
          "output_type": "stream",
          "text": [
            "kernel: linear, C: 464.09817658342865, gamma: 1, coef0: 0, degree: 3, tol: 591151\n"
          ]
        },
        {
          "name": "stderr",
          "output_type": "stream",
          "text": [
            "[I 2024-11-15 23:09:52,923] Trial 492 finished with value: -0.8836 and parameters: {'kernel': 'linear', 'C': 464.09817658342865, 'max iter': 591151}. Best is trial 182 with value: -0.8936.\n"
          ]
        },
        {
          "name": "stdout",
          "output_type": "stream",
          "text": [
            "kernel: rbf, C: 624.9438321447394, gamma: 1.376963077658074, coef0: 0, degree: 3, tol: 821640\n"
          ]
        },
        {
          "name": "stderr",
          "output_type": "stream",
          "text": [
            "[I 2024-11-15 23:09:54,541] Trial 493 finished with value: -0.8892000000000001 and parameters: {'kernel': 'rbf', 'C': 624.9438321447394, 'max iter': 821640, 'gamma': 1.376963077658074}. Best is trial 182 with value: -0.8936.\n"
          ]
        },
        {
          "name": "stdout",
          "output_type": "stream",
          "text": [
            "kernel: rbf, C: 391.12967401252394, gamma: 2.9708482418911877, coef0: 0, degree: 3, tol: 6434\n"
          ]
        },
        {
          "name": "stderr",
          "output_type": "stream",
          "text": [
            "[I 2024-11-15 23:09:55,638] Trial 494 finished with value: -0.884 and parameters: {'kernel': 'rbf', 'C': 391.12967401252394, 'max iter': 6434, 'gamma': 2.9708482418911877}. Best is trial 182 with value: -0.8936.\n"
          ]
        },
        {
          "name": "stdout",
          "output_type": "stream",
          "text": [
            "kernel: rbf, C: 805.4977766113581, gamma: 1.0992628897019523, coef0: 0, degree: 3, tol: 518298\n"
          ]
        },
        {
          "name": "stderr",
          "output_type": "stream",
          "text": [
            "[I 2024-11-15 23:09:57,321] Trial 495 finished with value: -0.8884000000000001 and parameters: {'kernel': 'rbf', 'C': 805.4977766113581, 'max iter': 518298, 'gamma': 1.0992628897019523}. Best is trial 182 with value: -0.8936.\n"
          ]
        },
        {
          "name": "stdout",
          "output_type": "stream",
          "text": [
            "kernel: sigmoid, C: 996.0158742555705, gamma: 2.1668389332782283, coef0: 186.69954801098496, degree: 3, tol: 661922\n"
          ]
        },
        {
          "name": "stderr",
          "output_type": "stream",
          "text": [
            "[I 2024-11-15 23:09:58,044] Trial 496 finished with value: -0.52 and parameters: {'kernel': 'sigmoid', 'C': 996.0158742555705, 'max iter': 661922, 'gamma': 2.1668389332782283, 'coef0': 186.69954801098496}. Best is trial 182 with value: -0.8936.\n"
          ]
        },
        {
          "name": "stdout",
          "output_type": "stream",
          "text": [
            "kernel: rbf, C: 630.308955554326, gamma: 4.701352901373092, coef0: 0, degree: 3, tol: 266296\n"
          ]
        },
        {
          "name": "stderr",
          "output_type": "stream",
          "text": [
            "[I 2024-11-15 23:10:01,197] Trial 497 finished with value: -0.8804000000000001 and parameters: {'kernel': 'rbf', 'C': 630.308955554326, 'max iter': 266296, 'gamma': 4.701352901373092}. Best is trial 182 with value: -0.8936.\n"
          ]
        },
        {
          "name": "stdout",
          "output_type": "stream",
          "text": [
            "kernel: rbf, C: 480.8921498593552, gamma: 0.5676329778592951, coef0: 0, degree: 3, tol: 442809\n"
          ]
        },
        {
          "name": "stderr",
          "output_type": "stream",
          "text": [
            "[I 2024-11-15 23:10:02,209] Trial 498 finished with value: -0.8872 and parameters: {'kernel': 'rbf', 'C': 480.8921498593552, 'max iter': 442809, 'gamma': 0.5676329778592951}. Best is trial 182 with value: -0.8936.\n"
          ]
        },
        {
          "name": "stdout",
          "output_type": "stream",
          "text": [
            "kernel: rbf, C: 999.5935680690653, gamma: 1.6125228020055173, coef0: 0, degree: 3, tol: 743023\n"
          ]
        },
        {
          "name": "stderr",
          "output_type": "stream",
          "text": [
            "[I 2024-11-15 23:10:04,637] Trial 499 finished with value: -0.8904 and parameters: {'kernel': 'rbf', 'C': 999.5935680690653, 'max iter': 743023, 'gamma': 1.6125228020055173}. Best is trial 182 with value: -0.8936.\n"
          ]
        },
        {
          "name": "stdout",
          "output_type": "stream",
          "text": [
            "kernel: rbf, C: 307.77598274147687, gamma: 2.8137510799186383, coef0: 0, degree: 3, tol: 358941\n"
          ]
        },
        {
          "name": "stderr",
          "output_type": "stream",
          "text": [
            "[I 2024-11-15 23:10:06,131] Trial 500 finished with value: -0.8896000000000001 and parameters: {'kernel': 'rbf', 'C': 307.77598274147687, 'max iter': 358941, 'gamma': 2.8137510799186383}. Best is trial 182 with value: -0.8936.\n"
          ]
        },
        {
          "name": "stdout",
          "output_type": "stream",
          "text": [
            "kernel: rbf, C: 621.6487696300718, gamma: 1.0827940955220925, coef0: 0, degree: 3, tol: 549811\n"
          ]
        },
        {
          "name": "stderr",
          "output_type": "stream",
          "text": [
            "[I 2024-11-15 23:10:07,606] Trial 501 finished with value: -0.8884000000000001 and parameters: {'kernel': 'rbf', 'C': 621.6487696300718, 'max iter': 549811, 'gamma': 1.0827940955220925}. Best is trial 182 with value: -0.8936.\n"
          ]
        },
        {
          "name": "stdout",
          "output_type": "stream",
          "text": [
            "kernel: rbf, C: 759.856645501732, gamma: 2.0653704493498064, coef0: 0, degree: 3, tol: 790321\n"
          ]
        },
        {
          "name": "stderr",
          "output_type": "stream",
          "text": [
            "[I 2024-11-15 23:10:09,847] Trial 502 finished with value: -0.8916000000000001 and parameters: {'kernel': 'rbf', 'C': 759.856645501732, 'max iter': 790321, 'gamma': 2.0653704493498064}. Best is trial 182 with value: -0.8936.\n"
          ]
        },
        {
          "name": "stdout",
          "output_type": "stream",
          "text": [
            "kernel: poly, C: 442.54862277914737, gamma: 3.797311291582214, coef0: 54.01155912662431, degree: 4, tol: 600552\n"
          ]
        },
        {
          "name": "stderr",
          "output_type": "stream",
          "text": [
            "[I 2024-11-15 23:10:44,261] Trial 503 finished with value: -0.46880000000000005 and parameters: {'kernel': 'poly', 'C': 442.54862277914737, 'max iter': 600552, 'gamma': 3.797311291582214, 'coef0': 54.01155912662431, 'degree': 4}. Best is trial 182 with value: -0.8936.\n"
          ]
        },
        {
          "name": "stdout",
          "output_type": "stream",
          "text": [
            "kernel: rbf, C: 558.925177512298, gamma: 0.7848938079740299, coef0: 0, degree: 3, tol: 430261\n"
          ]
        },
        {
          "name": "stderr",
          "output_type": "stream",
          "text": [
            "[I 2024-11-15 23:10:45,469] Trial 504 finished with value: -0.8859999999999999 and parameters: {'kernel': 'rbf', 'C': 558.925177512298, 'max iter': 430261, 'gamma': 0.7848938079740299}. Best is trial 182 with value: -0.8936.\n"
          ]
        },
        {
          "name": "stdout",
          "output_type": "stream",
          "text": [
            "kernel: rbf, C: 791.5574162389405, gamma: 7.8165026804742155, coef0: 0, degree: 3, tol: 993334\n"
          ]
        },
        {
          "name": "stderr",
          "output_type": "stream",
          "text": [
            "[I 2024-11-15 23:10:49,839] Trial 505 finished with value: -0.876 and parameters: {'kernel': 'rbf', 'C': 791.5574162389405, 'max iter': 993334, 'gamma': 7.8165026804742155}. Best is trial 182 with value: -0.8936.\n"
          ]
        },
        {
          "name": "stdout",
          "output_type": "stream",
          "text": [
            "kernel: rbf, C: 345.1550569621972, gamma: 1.7816582718836265, coef0: 0, degree: 3, tol: 665262\n"
          ]
        },
        {
          "name": "stderr",
          "output_type": "stream",
          "text": [
            "[I 2024-11-15 23:10:51,222] Trial 506 finished with value: -0.8888 and parameters: {'kernel': 'rbf', 'C': 345.1550569621972, 'max iter': 665262, 'gamma': 1.7816582718836265}. Best is trial 182 with value: -0.8936.\n"
          ]
        },
        {
          "name": "stdout",
          "output_type": "stream",
          "text": [
            "kernel: rbf, C: 593.3219839207761, gamma: 2.6146720527846448, coef0: 0, degree: 3, tol: 296961\n"
          ]
        },
        {
          "name": "stderr",
          "output_type": "stream",
          "text": [
            "[I 2024-11-15 23:10:53,420] Trial 507 finished with value: -0.8876000000000002 and parameters: {'kernel': 'rbf', 'C': 593.3219839207761, 'max iter': 296961, 'gamma': 2.6146720527846448}. Best is trial 182 with value: -0.8936.\n"
          ]
        },
        {
          "name": "stdout",
          "output_type": "stream",
          "text": [
            "kernel: rbf, C: 799.4274747734498, gamma: 1.4877437143031245, coef0: 0, degree: 3, tol: 812207\n"
          ]
        },
        {
          "name": "stderr",
          "output_type": "stream",
          "text": [
            "[I 2024-11-15 23:10:55,478] Trial 508 finished with value: -0.8896 and parameters: {'kernel': 'rbf', 'C': 799.4274747734498, 'max iter': 812207, 'gamma': 1.4877437143031245}. Best is trial 182 with value: -0.8936.\n"
          ]
        },
        {
          "name": "stdout",
          "output_type": "stream",
          "text": [
            "kernel: rbf, C: 449.8218229942502, gamma: 5.536525323691575, coef0: 0, degree: 3, tol: 496401\n"
          ]
        },
        {
          "name": "stderr",
          "output_type": "stream",
          "text": [
            "[I 2024-11-15 23:10:58,119] Trial 509 finished with value: -0.8788 and parameters: {'kernel': 'rbf', 'C': 449.8218229942502, 'max iter': 496401, 'gamma': 5.536525323691575}. Best is trial 182 with value: -0.8936.\n"
          ]
        },
        {
          "name": "stdout",
          "output_type": "stream",
          "text": [
            "kernel: rbf, C: 660.7319305138742, gamma: 0.9960451483261938, coef0: 0, degree: 3, tol: 151756\n"
          ]
        },
        {
          "name": "stderr",
          "output_type": "stream",
          "text": [
            "[I 2024-11-15 23:10:59,568] Trial 510 finished with value: -0.8896000000000001 and parameters: {'kernel': 'rbf', 'C': 660.7319305138742, 'max iter': 151756, 'gamma': 0.9960451483261938}. Best is trial 182 with value: -0.8936.\n"
          ]
        },
        {
          "name": "stdout",
          "output_type": "stream",
          "text": [
            "kernel: rbf, C: 987.9326813038974, gamma: 2.5653250717993465, coef0: 0, degree: 3, tol: 373712\n"
          ]
        },
        {
          "name": "stderr",
          "output_type": "stream",
          "text": [
            "[I 2024-11-15 23:11:02,790] Trial 511 finished with value: -0.8868 and parameters: {'kernel': 'rbf', 'C': 987.9326813038974, 'max iter': 373712, 'gamma': 2.5653250717993465}. Best is trial 182 with value: -0.8936.\n"
          ]
        },
        {
          "name": "stdout",
          "output_type": "stream",
          "text": [
            "kernel: rbf, C: 263.3440566372267, gamma: 1.3877613443346657, coef0: 0, degree: 3, tol: 28783\n"
          ]
        },
        {
          "name": "stderr",
          "output_type": "stream",
          "text": [
            "[I 2024-11-15 23:11:03,838] Trial 512 finished with value: -0.8880000000000001 and parameters: {'kernel': 'rbf', 'C': 263.3440566372267, 'max iter': 28783, 'gamma': 1.3877613443346657}. Best is trial 182 with value: -0.8936.\n"
          ]
        },
        {
          "name": "stdout",
          "output_type": "stream",
          "text": [
            "kernel: rbf, C: 502.6973789642687, gamma: 0.24788194538596883, coef0: 0, degree: 3, tol: 592286\n"
          ]
        },
        {
          "name": "stderr",
          "output_type": "stream",
          "text": [
            "[I 2024-11-15 23:11:04,666] Trial 513 finished with value: -0.8836 and parameters: {'kernel': 'rbf', 'C': 502.6973789642687, 'max iter': 592286, 'gamma': 0.24788194538596883}. Best is trial 182 with value: -0.8936.\n"
          ]
        },
        {
          "name": "stdout",
          "output_type": "stream",
          "text": [
            "kernel: rbf, C: 999.8847332856164, gamma: 3.877325196925967, coef0: 0, degree: 3, tol: 842820\n"
          ]
        },
        {
          "name": "stderr",
          "output_type": "stream",
          "text": [
            "[I 2024-11-15 23:11:08,696] Trial 514 finished with value: -0.8812 and parameters: {'kernel': 'rbf', 'C': 999.8847332856164, 'max iter': 842820, 'gamma': 3.877325196925967}. Best is trial 182 with value: -0.8936.\n"
          ]
        },
        {
          "name": "stdout",
          "output_type": "stream",
          "text": [
            "kernel: linear, C: 385.5413428818051, gamma: 1, coef0: 0, degree: 3, tol: 242239\n"
          ]
        },
        {
          "name": "stderr",
          "output_type": "stream",
          "text": [
            "[I 2024-11-15 23:11:09,595] Trial 515 finished with value: -0.8836 and parameters: {'kernel': 'linear', 'C': 385.5413428818051, 'max iter': 242239}. Best is trial 182 with value: -0.8936.\n"
          ]
        },
        {
          "name": "stdout",
          "output_type": "stream",
          "text": [
            "kernel: rbf, C: 677.3290040585181, gamma: 1.9954582856016114, coef0: 0, degree: 3, tol: 475983\n"
          ]
        },
        {
          "name": "stderr",
          "output_type": "stream",
          "text": [
            "[I 2024-11-15 23:11:11,777] Trial 516 finished with value: -0.892 and parameters: {'kernel': 'rbf', 'C': 677.3290040585181, 'max iter': 475983, 'gamma': 1.9954582856016114}. Best is trial 182 with value: -0.8936.\n"
          ]
        },
        {
          "name": "stdout",
          "output_type": "stream",
          "text": [
            "kernel: rbf, C: 763.7449905859831, gamma: 1.277711069056822, coef0: 0, degree: 3, tol: 688569\n"
          ]
        },
        {
          "name": "stderr",
          "output_type": "stream",
          "text": [
            "[I 2024-11-15 23:11:13,629] Trial 517 finished with value: -0.89 and parameters: {'kernel': 'rbf', 'C': 763.7449905859831, 'max iter': 688569, 'gamma': 1.277711069056822}. Best is trial 182 with value: -0.8936.\n"
          ]
        },
        {
          "name": "stdout",
          "output_type": "stream",
          "text": [
            "kernel: rbf, C: 541.2261770882137, gamma: 3.077708958949081, coef0: 0, degree: 3, tol: 404154\n"
          ]
        },
        {
          "name": "stderr",
          "output_type": "stream",
          "text": [
            "[I 2024-11-15 23:11:15,907] Trial 518 finished with value: -0.8884000000000001 and parameters: {'kernel': 'rbf', 'C': 541.2261770882137, 'max iter': 404154, 'gamma': 3.077708958949081}. Best is trial 182 with value: -0.8936.\n"
          ]
        },
        {
          "name": "stdout",
          "output_type": "stream",
          "text": [
            "kernel: rbf, C: 771.1482123738888, gamma: 0.7559822395088563, coef0: 0, degree: 3, tol: 617\n"
          ]
        },
        {
          "name": "stderr",
          "output_type": "stream",
          "text": [
            "[I 2024-11-15 23:11:16,335] Trial 519 finished with value: -0.5968 and parameters: {'kernel': 'rbf', 'C': 771.1482123738888, 'max iter': 617, 'gamma': 0.7559822395088563}. Best is trial 182 with value: -0.8936.\n"
          ]
        },
        {
          "name": "stdout",
          "output_type": "stream",
          "text": [
            "kernel: sigmoid, C: 406.28861567709333, gamma: 2.0159450935699246, coef0: 0.01997878759317475, degree: 3, tol: 598416\n"
          ]
        },
        {
          "name": "stderr",
          "output_type": "stream",
          "text": [
            "[I 2024-11-15 23:11:17,986] Trial 520 finished with value: -0.6296 and parameters: {'kernel': 'sigmoid', 'C': 406.28861567709333, 'max iter': 598416, 'gamma': 2.0159450935699246, 'coef0': 0.01997878759317475}. Best is trial 182 with value: -0.8936.\n"
          ]
        },
        {
          "name": "stdout",
          "output_type": "stream",
          "text": [
            "kernel: rbf, C: 581.617188233202, gamma: 0.4385955585402783, coef0: 0, degree: 3, tol: 815790\n"
          ]
        },
        {
          "name": "stderr",
          "output_type": "stream",
          "text": [
            "[I 2024-11-15 23:11:18,994] Trial 521 finished with value: -0.8848 and parameters: {'kernel': 'rbf', 'C': 581.617188233202, 'max iter': 815790, 'gamma': 0.4385955585402783}. Best is trial 182 with value: -0.8936.\n"
          ]
        },
        {
          "name": "stdout",
          "output_type": "stream",
          "text": [
            "kernel: rbf, C: 994.0578048365808, gamma: 1.5327031935442021, coef0: 0, degree: 3, tol: 87877\n"
          ]
        },
        {
          "name": "stderr",
          "output_type": "stream",
          "text": [
            "[I 2024-11-15 23:11:21,066] Trial 522 finished with value: -0.8924 and parameters: {'kernel': 'rbf', 'C': 994.0578048365808, 'max iter': 87877, 'gamma': 1.5327031935442021}. Best is trial 182 with value: -0.8936.\n"
          ]
        },
        {
          "name": "stdout",
          "output_type": "stream",
          "text": [
            "kernel: rbf, C: 187.80656890284294, gamma: 0.9418363207763155, coef0: 0, degree: 3, tol: 106960\n"
          ]
        },
        {
          "name": "stderr",
          "output_type": "stream",
          "text": [
            "[I 2024-11-15 23:11:21,892] Trial 523 finished with value: -0.8884000000000001 and parameters: {'kernel': 'rbf', 'C': 187.80656890284294, 'max iter': 106960, 'gamma': 0.9418363207763155}. Best is trial 182 with value: -0.8936.\n"
          ]
        },
        {
          "name": "stdout",
          "output_type": "stream",
          "text": [
            "kernel: rbf, C: 982.8181837719384, gamma: 3.5434060705174972, coef0: 0, degree: 3, tol: 237354\n"
          ]
        },
        {
          "name": "stderr",
          "output_type": "stream",
          "text": [
            "[I 2024-11-15 23:11:25,569] Trial 524 finished with value: -0.882 and parameters: {'kernel': 'rbf', 'C': 982.8181837719384, 'max iter': 237354, 'gamma': 3.5434060705174972}. Best is trial 182 with value: -0.8936.\n"
          ]
        },
        {
          "name": "stdout",
          "output_type": "stream",
          "text": [
            "kernel: rbf, C: 753.4487142654679, gamma: 1.492088370491331, coef0: 0, degree: 3, tol: 80653\n"
          ]
        },
        {
          "name": "stderr",
          "output_type": "stream",
          "text": [
            "[I 2024-11-15 23:11:27,401] Trial 525 finished with value: -0.8892 and parameters: {'kernel': 'rbf', 'C': 753.4487142654679, 'max iter': 80653, 'gamma': 1.492088370491331}. Best is trial 182 with value: -0.8936.\n"
          ]
        },
        {
          "name": "stdout",
          "output_type": "stream",
          "text": [
            "kernel: rbf, C: 303.0104834985726, gamma: 0.0438027105186154, coef0: 0, degree: 3, tol: 125066\n"
          ]
        },
        {
          "name": "stderr",
          "output_type": "stream",
          "text": [
            "[I 2024-11-15 23:11:27,973] Trial 526 finished with value: -0.8824 and parameters: {'kernel': 'rbf', 'C': 303.0104834985726, 'max iter': 125066, 'gamma': 0.0438027105186154}. Best is trial 182 with value: -0.8936.\n"
          ]
        },
        {
          "name": "stdout",
          "output_type": "stream",
          "text": [
            "kernel: poly, C: 999.5990869656835, gamma: 2.5046752231107545, coef0: 2.033168950484438, degree: 2, tol: 151157\n"
          ]
        },
        {
          "name": "stderr",
          "output_type": "stream",
          "text": [
            "[I 2024-11-15 23:11:39,873] Trial 527 finished with value: -0.77 and parameters: {'kernel': 'poly', 'C': 999.5990869656835, 'max iter': 151157, 'gamma': 2.5046752231107545, 'coef0': 2.033168950484438, 'degree': 2}. Best is trial 182 with value: -0.8936.\n"
          ]
        },
        {
          "name": "stdout",
          "output_type": "stream",
          "text": [
            "kernel: rbf, C: 511.6348780712771, gamma: 4.8133336559825155, coef0: 0, degree: 3, tol: 173989\n"
          ]
        },
        {
          "name": "stderr",
          "output_type": "stream",
          "text": [
            "[I 2024-11-15 23:11:42,603] Trial 528 finished with value: -0.8816 and parameters: {'kernel': 'rbf', 'C': 511.6348780712771, 'max iter': 173989, 'gamma': 4.8133336559825155}. Best is trial 182 with value: -0.8936.\n"
          ]
        },
        {
          "name": "stdout",
          "output_type": "stream",
          "text": [
            "kernel: rbf, C: 643.6925878904947, gamma: 1.200272120993838, coef0: 0, degree: 3, tol: 149934\n"
          ]
        },
        {
          "name": "stderr",
          "output_type": "stream",
          "text": [
            "[I 2024-11-15 23:11:44,127] Trial 529 finished with value: -0.8892 and parameters: {'kernel': 'rbf', 'C': 643.6925878904947, 'max iter': 149934, 'gamma': 1.200272120993838}. Best is trial 182 with value: -0.8936.\n"
          ]
        },
        {
          "name": "stdout",
          "output_type": "stream",
          "text": [
            "kernel: rbf, C: 785.4786344258795, gamma: 2.2120129726636035, coef0: 0, degree: 3, tol: 199353\n"
          ]
        },
        {
          "name": "stderr",
          "output_type": "stream",
          "text": [
            "[I 2024-11-15 23:11:46,683] Trial 530 finished with value: -0.8892 and parameters: {'kernel': 'rbf', 'C': 785.4786344258795, 'max iter': 199353, 'gamma': 2.2120129726636035}. Best is trial 182 with value: -0.8936.\n"
          ]
        },
        {
          "name": "stdout",
          "output_type": "stream",
          "text": [
            "kernel: rbf, C: 437.83449662354775, gamma: 0.6414816523097405, coef0: 0, degree: 3, tol: 123349\n"
          ]
        },
        {
          "name": "stderr",
          "output_type": "stream",
          "text": [
            "[I 2024-11-15 23:11:47,690] Trial 531 finished with value: -0.8880000000000001 and parameters: {'kernel': 'rbf', 'C': 437.83449662354775, 'max iter': 123349, 'gamma': 0.6414816523097405}. Best is trial 182 with value: -0.8936.\n"
          ]
        },
        {
          "name": "stdout",
          "output_type": "stream",
          "text": [
            "kernel: rbf, C: 996.4198995360504, gamma: 1.566947578244121, coef0: 0, degree: 3, tol: 67861\n"
          ]
        },
        {
          "name": "stderr",
          "output_type": "stream",
          "text": [
            "[I 2024-11-15 23:11:49,751] Trial 532 finished with value: -0.8907999999999999 and parameters: {'kernel': 'rbf', 'C': 996.4198995360504, 'max iter': 67861, 'gamma': 1.566947578244121}. Best is trial 182 with value: -0.8936.\n"
          ]
        },
        {
          "name": "stdout",
          "output_type": "stream",
          "text": [
            "kernel: rbf, C: 616.232388116054, gamma: 3.124891650900768, coef0: 0, degree: 3, tol: 314410\n"
          ]
        },
        {
          "name": "stderr",
          "output_type": "stream",
          "text": [
            "[I 2024-11-15 23:11:52,377] Trial 533 finished with value: -0.8884000000000001 and parameters: {'kernel': 'rbf', 'C': 616.232388116054, 'max iter': 314410, 'gamma': 3.124891650900768}. Best is trial 182 with value: -0.8936.\n"
          ]
        },
        {
          "name": "stdout",
          "output_type": "stream",
          "text": [
            "kernel: rbf, C: 343.2484731032817, gamma: 0.9964895645859606, coef0: 0, degree: 3, tol: 119876\n"
          ]
        },
        {
          "name": "stderr",
          "output_type": "stream",
          "text": [
            "[I 2024-11-15 23:11:53,410] Trial 534 finished with value: -0.8860000000000001 and parameters: {'kernel': 'rbf', 'C': 343.2484731032817, 'max iter': 119876, 'gamma': 0.9964895645859606}. Best is trial 182 with value: -0.8936.\n"
          ]
        },
        {
          "name": "stdout",
          "output_type": "stream",
          "text": [
            "kernel: rbf, C: 509.48723053522673, gamma: 1.923905604846822, coef0: 0, degree: 3, tol: 85214\n"
          ]
        },
        {
          "name": "stderr",
          "output_type": "stream",
          "text": [
            "[I 2024-11-15 23:11:55,114] Trial 535 finished with value: -0.8924000000000001 and parameters: {'kernel': 'rbf', 'C': 509.48723053522673, 'max iter': 85214, 'gamma': 1.923905604846822}. Best is trial 182 with value: -0.8936.\n"
          ]
        },
        {
          "name": "stdout",
          "output_type": "stream",
          "text": [
            "kernel: rbf, C: 774.0822118620662, gamma: 1.73121678004949, coef0: 0, degree: 3, tol: 94203\n"
          ]
        },
        {
          "name": "stderr",
          "output_type": "stream",
          "text": [
            "[I 2024-11-15 23:11:57,130] Trial 536 finished with value: -0.892 and parameters: {'kernel': 'rbf', 'C': 774.0822118620662, 'max iter': 94203, 'gamma': 1.73121678004949}. Best is trial 182 with value: -0.8936.\n"
          ]
        },
        {
          "name": "stdout",
          "output_type": "stream",
          "text": [
            "kernel: rbf, C: 590.3946960795812, gamma: 1.075975191683728, coef0: 0, degree: 3, tol: 107157\n"
          ]
        },
        {
          "name": "stderr",
          "output_type": "stream",
          "text": [
            "[I 2024-11-15 23:11:58,545] Trial 537 finished with value: -0.8884000000000001 and parameters: {'kernel': 'rbf', 'C': 590.3946960795812, 'max iter': 107157, 'gamma': 1.075975191683728}. Best is trial 182 with value: -0.8936.\n"
          ]
        },
        {
          "name": "stdout",
          "output_type": "stream",
          "text": [
            "kernel: rbf, C: 496.56517506938684, gamma: 2.0526332153495495, coef0: 0, degree: 3, tol: 101795\n"
          ]
        },
        {
          "name": "stderr",
          "output_type": "stream",
          "text": [
            "[I 2024-11-15 23:12:00,346] Trial 538 finished with value: -0.892 and parameters: {'kernel': 'rbf', 'C': 496.56517506938684, 'max iter': 101795, 'gamma': 2.0526332153495495}. Best is trial 182 with value: -0.8936.\n"
          ]
        },
        {
          "name": "stdout",
          "output_type": "stream",
          "text": [
            "kernel: rbf, C: 773.6387755539046, gamma: 3.025658382334845, coef0: 0, degree: 3, tol: 48054\n"
          ]
        },
        {
          "name": "stderr",
          "output_type": "stream",
          "text": [
            "[I 2024-11-15 23:12:02,434] Trial 539 finished with value: -0.8876 and parameters: {'kernel': 'rbf', 'C': 773.6387755539046, 'max iter': 48054, 'gamma': 3.025658382334845}. Best is trial 182 with value: -0.8936.\n"
          ]
        },
        {
          "name": "stdout",
          "output_type": "stream",
          "text": [
            "kernel: linear, C: 636.5872507807716, gamma: 1, coef0: 0, degree: 3, tol: 73307\n"
          ]
        },
        {
          "name": "stderr",
          "output_type": "stream",
          "text": [
            "[I 2024-11-15 23:12:03,629] Trial 540 finished with value: -0.8848 and parameters: {'kernel': 'linear', 'C': 636.5872507807716, 'max iter': 73307}. Best is trial 182 with value: -0.8936.\n"
          ]
        },
        {
          "name": "stdout",
          "output_type": "stream",
          "text": [
            "kernel: rbf, C: 500.52946105574256, gamma: 1.3459615623731807, coef0: 0, degree: 3, tol: 61243\n"
          ]
        },
        {
          "name": "stderr",
          "output_type": "stream",
          "text": [
            "[I 2024-11-15 23:12:05,030] Trial 541 finished with value: -0.89 and parameters: {'kernel': 'rbf', 'C': 500.52946105574256, 'max iter': 61243, 'gamma': 1.3459615623731807}. Best is trial 182 with value: -0.8936.\n"
          ]
        },
        {
          "name": "stdout",
          "output_type": "stream",
          "text": [
            "kernel: rbf, C: 988.9736739702828, gamma: 0.7360924694175304, coef0: 0, degree: 3, tol: 91195\n"
          ]
        },
        {
          "name": "stderr",
          "output_type": "stream",
          "text": [
            "[I 2024-11-15 23:12:06,545] Trial 542 finished with value: -0.8868 and parameters: {'kernel': 'rbf', 'C': 988.9736739702828, 'max iter': 91195, 'gamma': 0.7360924694175304}. Best is trial 182 with value: -0.8936.\n"
          ]
        },
        {
          "name": "stdout",
          "output_type": "stream",
          "text": [
            "kernel: rbf, C: 767.0439743003932, gamma: 6.023668631791759, coef0: 0, degree: 3, tol: 116495\n"
          ]
        },
        {
          "name": "stderr",
          "output_type": "stream",
          "text": [
            "[I 2024-11-15 23:12:09,739] Trial 543 finished with value: -0.8756 and parameters: {'kernel': 'rbf', 'C': 767.0439743003932, 'max iter': 116495, 'gamma': 6.023668631791759}. Best is trial 182 with value: -0.8936.\n"
          ]
        },
        {
          "name": "stdout",
          "output_type": "stream",
          "text": [
            "kernel: rbf, C: 77.32070261306252, gamma: 1.7857635104688783, coef0: 0, degree: 3, tol: 83039\n"
          ]
        },
        {
          "name": "stderr",
          "output_type": "stream",
          "text": [
            "[I 2024-11-15 23:12:10,471] Trial 544 finished with value: -0.8864000000000001 and parameters: {'kernel': 'rbf', 'C': 77.32070261306252, 'max iter': 83039, 'gamma': 1.7857635104688783}. Best is trial 182 with value: -0.8936.\n"
          ]
        },
        {
          "name": "stdout",
          "output_type": "stream",
          "text": [
            "kernel: sigmoid, C: 387.4487799577606, gamma: 4.198628303402064, coef0: 589.5112705963141, degree: 3, tol: 194930\n"
          ]
        },
        {
          "name": "stderr",
          "output_type": "stream",
          "text": [
            "[I 2024-11-15 23:12:11,191] Trial 545 finished with value: -0.52 and parameters: {'kernel': 'sigmoid', 'C': 387.4487799577606, 'max iter': 194930, 'gamma': 4.198628303402064, 'coef0': 589.5112705963141}. Best is trial 182 with value: -0.8936.\n"
          ]
        },
        {
          "name": "stdout",
          "output_type": "stream",
          "text": [
            "kernel: rbf, C: 593.5485321182229, gamma: 2.544121430285337, coef0: 0, degree: 3, tol: 55254\n"
          ]
        },
        {
          "name": "stderr",
          "output_type": "stream",
          "text": [
            "[I 2024-11-15 23:12:12,968] Trial 546 finished with value: -0.8884000000000001 and parameters: {'kernel': 'rbf', 'C': 593.5485321182229, 'max iter': 55254, 'gamma': 2.544121430285337}. Best is trial 182 with value: -0.8936.\n"
          ]
        },
        {
          "name": "stdout",
          "output_type": "stream",
          "text": [
            "kernel: rbf, C: 784.2681381724545, gamma: 1.387242027064926, coef0: 0, degree: 3, tol: 82147\n"
          ]
        },
        {
          "name": "stderr",
          "output_type": "stream",
          "text": [
            "[I 2024-11-15 23:12:14,810] Trial 547 finished with value: -0.8880000000000001 and parameters: {'kernel': 'rbf', 'C': 784.2681381724545, 'max iter': 82147, 'gamma': 1.387242027064926}. Best is trial 182 with value: -0.8936.\n"
          ]
        },
        {
          "name": "stdout",
          "output_type": "stream",
          "text": [
            "kernel: rbf, C: 994.9195065997874, gamma: 0.9556594223774423, coef0: 0, degree: 3, tol: 362138\n"
          ]
        },
        {
          "name": "stderr",
          "output_type": "stream",
          "text": [
            "[I 2024-11-15 23:12:16,619] Trial 548 finished with value: -0.8888 and parameters: {'kernel': 'rbf', 'C': 994.9195065997874, 'max iter': 362138, 'gamma': 0.9556594223774423}. Best is trial 182 with value: -0.8936.\n"
          ]
        },
        {
          "name": "stdout",
          "output_type": "stream",
          "text": [
            "kernel: rbf, C: 478.4085253978267, gamma: 13.905134872440927, coef0: 0, degree: 3, tol: 162792\n"
          ]
        },
        {
          "name": "stderr",
          "output_type": "stream",
          "text": [
            "[I 2024-11-15 23:12:20,134] Trial 549 finished with value: -0.8635999999999999 and parameters: {'kernel': 'rbf', 'C': 478.4085253978267, 'max iter': 162792, 'gamma': 13.905134872440927}. Best is trial 182 with value: -0.8936.\n",
            "[I 2024-11-15 23:12:20,223] Trial 550 finished with value: -0.5608 and parameters: {'kernel': 'rbf', 'C': 275.4172718573781, 'max iter': 36, 'gamma': 2.3499260597198552}. Best is trial 182 with value: -0.8936.\n"
          ]
        },
        {
          "name": "stdout",
          "output_type": "stream",
          "text": [
            "kernel: rbf, C: 275.4172718573781, gamma: 2.3499260597198552, coef0: 0, degree: 3, tol: 36\n",
            "kernel: rbf, C: 638.0204076370491, gamma: 3.7115614993469075, coef0: 0, degree: 3, tol: 475193\n"
          ]
        },
        {
          "name": "stderr",
          "output_type": "stream",
          "text": [
            "[I 2024-11-15 23:12:23,098] Trial 551 finished with value: -0.8844 and parameters: {'kernel': 'rbf', 'C': 638.0204076370491, 'max iter': 475193, 'gamma': 3.7115614993469075}. Best is trial 182 with value: -0.8936.\n"
          ]
        },
        {
          "name": "stdout",
          "output_type": "stream",
          "text": [
            "kernel: rbf, C: 755.4561908009669, gamma: 1.6496672538003212, coef0: 0, degree: 3, tol: 35079\n"
          ]
        },
        {
          "name": "stderr",
          "output_type": "stream",
          "text": [
            "[I 2024-11-15 23:12:24,713] Trial 552 finished with value: -0.8912000000000001 and parameters: {'kernel': 'rbf', 'C': 755.4561908009669, 'max iter': 35079, 'gamma': 1.6496672538003212}. Best is trial 182 with value: -0.8936.\n"
          ]
        },
        {
          "name": "stdout",
          "output_type": "stream",
          "text": [
            "kernel: rbf, C: 422.4303406574475, gamma: 0.5136113892092609, coef0: 0, degree: 3, tol: 266001\n"
          ]
        },
        {
          "name": "stderr",
          "output_type": "stream",
          "text": [
            "[I 2024-11-15 23:12:25,656] Trial 553 finished with value: -0.8852 and parameters: {'kernel': 'rbf', 'C': 422.4303406574475, 'max iter': 266001, 'gamma': 0.5136113892092609}. Best is trial 182 with value: -0.8936.\n"
          ]
        },
        {
          "name": "stdout",
          "output_type": "stream",
          "text": [
            "kernel: poly, C: 551.0220445486781, gamma: 1.29471508155547, coef0: 0.04252010577453729, degree: 6, tol: 640198\n"
          ]
        },
        {
          "name": "stderr",
          "output_type": "stream",
          "text": [
            "[I 2024-11-15 23:13:10,808] Trial 554 finished with value: -0.582 and parameters: {'kernel': 'poly', 'C': 551.0220445486781, 'max iter': 640198, 'gamma': 1.29471508155547, 'coef0': 0.04252010577453729, 'degree': 6}. Best is trial 182 with value: -0.8936.\n"
          ]
        },
        {
          "name": "stdout",
          "output_type": "stream",
          "text": [
            "kernel: rbf, C: 743.2559624019045, gamma: 0.004470051848998736, coef0: 0, degree: 3, tol: 811079\n"
          ]
        },
        {
          "name": "stderr",
          "output_type": "stream",
          "text": [
            "[I 2024-11-15 23:13:11,411] Trial 555 finished with value: -0.8772 and parameters: {'kernel': 'rbf', 'C': 743.2559624019045, 'max iter': 811079, 'gamma': 0.004470051848998736}. Best is trial 182 with value: -0.8936.\n"
          ]
        },
        {
          "name": "stdout",
          "output_type": "stream",
          "text": [
            "kernel: rbf, C: 997.6004807244119, gamma: 0.0806324182304467, coef0: 0, degree: 3, tol: 139240\n"
          ]
        },
        {
          "name": "stderr",
          "output_type": "stream",
          "text": [
            "[I 2024-11-15 23:13:12,148] Trial 556 finished with value: -0.884 and parameters: {'kernel': 'rbf', 'C': 997.6004807244119, 'max iter': 139240, 'gamma': 0.0806324182304467}. Best is trial 182 with value: -0.8936.\n"
          ]
        },
        {
          "name": "stdout",
          "output_type": "stream",
          "text": [
            "kernel: rbf, C: 339.8311534465098, gamma: 2.5163207742110467, coef0: 0, degree: 3, tol: 43907\n"
          ]
        },
        {
          "name": "stderr",
          "output_type": "stream",
          "text": [
            "[I 2024-11-15 23:13:13,564] Trial 557 finished with value: -0.892 and parameters: {'kernel': 'rbf', 'C': 339.8311534465098, 'max iter': 43907, 'gamma': 2.5163207742110467}. Best is trial 182 with value: -0.8936.\n"
          ]
        },
        {
          "name": "stdout",
          "output_type": "stream",
          "text": [
            "kernel: rbf, C: 617.6252494845784, gamma: 1.878610304913236, coef0: 0, degree: 3, tol: 534895\n"
          ]
        },
        {
          "name": "stderr",
          "output_type": "stream",
          "text": [
            "[I 2024-11-15 23:13:15,540] Trial 558 finished with value: -0.892 and parameters: {'kernel': 'rbf', 'C': 617.6252494845784, 'max iter': 534895, 'gamma': 1.878610304913236}. Best is trial 182 with value: -0.8936.\n"
          ]
        },
        {
          "name": "stdout",
          "output_type": "stream",
          "text": [
            "kernel: rbf, C: 449.7569294305066, gamma: 0.9725036174610603, coef0: 0, degree: 3, tol: 684024\n"
          ]
        },
        {
          "name": "stderr",
          "output_type": "stream",
          "text": [
            "[I 2024-11-15 23:13:16,710] Trial 559 finished with value: -0.8872 and parameters: {'kernel': 'rbf', 'C': 449.7569294305066, 'max iter': 684024, 'gamma': 0.9725036174610603}. Best is trial 182 with value: -0.8936.\n"
          ]
        },
        {
          "name": "stdout",
          "output_type": "stream",
          "text": [
            "kernel: rbf, C: 232.73407356967562, gamma: 3.0557789968424753, coef0: 0, degree: 3, tol: 2416\n"
          ]
        },
        {
          "name": "stderr",
          "output_type": "stream",
          "text": [
            "[I 2024-11-15 23:13:17,459] Trial 560 finished with value: -0.8732000000000001 and parameters: {'kernel': 'rbf', 'C': 232.73407356967562, 'max iter': 2416, 'gamma': 3.0557789968424753}. Best is trial 182 with value: -0.8936.\n"
          ]
        },
        {
          "name": "stdout",
          "output_type": "stream",
          "text": [
            "kernel: rbf, C: 790.2420713156903, gamma: 5.4125452175145545, coef0: 0, degree: 3, tol: 986454\n"
          ]
        },
        {
          "name": "stderr",
          "output_type": "stream",
          "text": [
            "[I 2024-11-15 23:13:21,439] Trial 561 finished with value: -0.8764 and parameters: {'kernel': 'rbf', 'C': 790.2420713156903, 'max iter': 986454, 'gamma': 5.4125452175145545}. Best is trial 182 with value: -0.8936.\n"
          ]
        },
        {
          "name": "stdout",
          "output_type": "stream",
          "text": [
            "kernel: rbf, C: 557.0992614270666, gamma: 1.5296812980071304, coef0: 0, degree: 3, tol: 381395\n"
          ]
        },
        {
          "name": "stderr",
          "output_type": "stream",
          "text": [
            "[I 2024-11-15 23:13:23,038] Trial 562 finished with value: -0.8880000000000001 and parameters: {'kernel': 'rbf', 'C': 557.0992614270666, 'max iter': 381395, 'gamma': 1.5296812980071304}. Best is trial 182 with value: -0.8936.\n"
          ]
        },
        {
          "name": "stdout",
          "output_type": "stream",
          "text": [
            "kernel: rbf, C: 999.3025062295058, gamma: 0.6936815527624792, coef0: 0, degree: 3, tol: 523609\n"
          ]
        },
        {
          "name": "stderr",
          "output_type": "stream",
          "text": [
            "[I 2024-11-15 23:13:24,520] Trial 563 finished with value: -0.8868 and parameters: {'kernel': 'rbf', 'C': 999.3025062295058, 'max iter': 523609, 'gamma': 0.6936815527624792}. Best is trial 182 with value: -0.8936.\n"
          ]
        },
        {
          "name": "stdout",
          "output_type": "stream",
          "text": [
            "kernel: rbf, C: 640.9771337623562, gamma: 2.2980947812560713, coef0: 0, degree: 3, tol: 305525\n"
          ]
        },
        {
          "name": "stderr",
          "output_type": "stream",
          "text": [
            "[I 2024-11-15 23:13:26,646] Trial 564 finished with value: -0.8904 and parameters: {'kernel': 'rbf', 'C': 640.9771337623562, 'max iter': 305525, 'gamma': 2.2980947812560713}. Best is trial 182 with value: -0.8936.\n"
          ]
        },
        {
          "name": "stdout",
          "output_type": "stream",
          "text": [
            "kernel: linear, C: 373.49487446657207, gamma: 1, coef0: 0, degree: 3, tol: 809826\n"
          ]
        },
        {
          "name": "stderr",
          "output_type": "stream",
          "text": [
            "[I 2024-11-15 23:13:27,569] Trial 565 finished with value: -0.8836 and parameters: {'kernel': 'linear', 'C': 373.49487446657207, 'max iter': 809826}. Best is trial 182 with value: -0.8936.\n"
          ]
        },
        {
          "name": "stdout",
          "output_type": "stream",
          "text": [
            "kernel: rbf, C: 800.6770728794307, gamma: 3.942861109630766, coef0: 0, degree: 3, tol: 201649\n"
          ]
        },
        {
          "name": "stderr",
          "output_type": "stream",
          "text": [
            "[I 2024-11-15 23:13:30,907] Trial 566 finished with value: -0.8816 and parameters: {'kernel': 'rbf', 'C': 800.6770728794307, 'max iter': 201649, 'gamma': 3.942861109630766}. Best is trial 182 with value: -0.8936.\n"
          ]
        },
        {
          "name": "stdout",
          "output_type": "stream",
          "text": [
            "kernel: rbf, C: 547.1722248016077, gamma: 1.2043224799966126, coef0: 0, degree: 3, tol: 667862\n"
          ]
        },
        {
          "name": "stderr",
          "output_type": "stream",
          "text": [
            "[I 2024-11-15 23:13:32,300] Trial 567 finished with value: -0.8888 and parameters: {'kernel': 'rbf', 'C': 547.1722248016077, 'max iter': 667862, 'gamma': 1.2043224799966126}. Best is trial 182 with value: -0.8936.\n"
          ]
        },
        {
          "name": "stdout",
          "output_type": "stream",
          "text": [
            "kernel: rbf, C: 460.6984058427182, gamma: 1.9650764968859982, coef0: 0, degree: 3, tol: 452771\n"
          ]
        },
        {
          "name": "stderr",
          "output_type": "stream",
          "text": [
            "[I 2024-11-15 23:13:33,902] Trial 568 finished with value: -0.892 and parameters: {'kernel': 'rbf', 'C': 460.6984058427182, 'max iter': 452771, 'gamma': 1.9650764968859982}. Best is trial 182 with value: -0.8936.\n"
          ]
        },
        {
          "name": "stdout",
          "output_type": "stream",
          "text": [
            "kernel: rbf, C: 771.612950061833, gamma: 3.304290765353744, coef0: 0, degree: 3, tol: 996908\n"
          ]
        },
        {
          "name": "stderr",
          "output_type": "stream",
          "text": [
            "[I 2024-11-15 23:13:37,045] Trial 569 finished with value: -0.8872 and parameters: {'kernel': 'rbf', 'C': 771.612950061833, 'max iter': 996908, 'gamma': 3.304290765353744}. Best is trial 182 with value: -0.8936.\n"
          ]
        },
        {
          "name": "stdout",
          "output_type": "stream",
          "text": [
            "kernel: sigmoid, C: 647.1259969582062, gamma: 160.72564961248352, coef0: 0.0032837188339847416, degree: 3, tol: 552691\n"
          ]
        },
        {
          "name": "stderr",
          "output_type": "stream",
          "text": [
            "[I 2024-11-15 23:13:37,773] Trial 570 finished with value: -0.52 and parameters: {'kernel': 'sigmoid', 'C': 647.1259969582062, 'max iter': 552691, 'gamma': 160.72564961248352, 'coef0': 0.0032837188339847416}. Best is trial 182 with value: -0.8936.\n"
          ]
        },
        {
          "name": "stdout",
          "output_type": "stream",
          "text": [
            "kernel: rbf, C: 316.52061039876304, gamma: 0.9498437369253038, coef0: 0, degree: 3, tol: 385859\n"
          ]
        },
        {
          "name": "stderr",
          "output_type": "stream",
          "text": [
            "[I 2024-11-15 23:13:38,754] Trial 571 finished with value: -0.8848 and parameters: {'kernel': 'rbf', 'C': 316.52061039876304, 'max iter': 385859, 'gamma': 0.9498437369253038}. Best is trial 182 with value: -0.8936.\n"
          ]
        },
        {
          "name": "stdout",
          "output_type": "stream",
          "text": [
            "kernel: rbf, C: 486.28332579978735, gamma: 1.615614288141451, coef0: 0, degree: 3, tol: 87028\n"
          ]
        },
        {
          "name": "stderr",
          "output_type": "stream",
          "text": [
            "[I 2024-11-15 23:13:40,269] Trial 572 finished with value: -0.8888 and parameters: {'kernel': 'rbf', 'C': 486.28332579978735, 'max iter': 87028, 'gamma': 1.615614288141451}. Best is trial 182 with value: -0.8936.\n"
          ]
        },
        {
          "name": "stdout",
          "output_type": "stream",
          "text": [
            "kernel: rbf, C: 707.591630476933, gamma: 0.379122947063864, coef0: 0, degree: 3, tol: 737816\n"
          ]
        },
        {
          "name": "stderr",
          "output_type": "stream",
          "text": [
            "[I 2024-11-15 23:13:41,300] Trial 573 finished with value: -0.8855999999999999 and parameters: {'kernel': 'rbf', 'C': 707.591630476933, 'max iter': 737816, 'gamma': 0.379122947063864}. Best is trial 182 with value: -0.8936.\n"
          ]
        },
        {
          "name": "stdout",
          "output_type": "stream",
          "text": [
            "kernel: rbf, C: 807.4433561015271, gamma: 2.675174572618738, coef0: 0, degree: 3, tol: 68671\n"
          ]
        },
        {
          "name": "stderr",
          "output_type": "stream",
          "text": [
            "[I 2024-11-15 23:13:43,504] Trial 574 finished with value: -0.8872 and parameters: {'kernel': 'rbf', 'C': 807.4433561015271, 'max iter': 68671, 'gamma': 2.675174572618738}. Best is trial 182 with value: -0.8936.\n"
          ]
        },
        {
          "name": "stdout",
          "output_type": "stream",
          "text": [
            "kernel: rbf, C: 404.1540019550661, gamma: 9.699890373782019, coef0: 0, degree: 3, tol: 564033\n"
          ]
        },
        {
          "name": "stderr",
          "output_type": "stream",
          "text": [
            "[I 2024-11-15 23:13:46,375] Trial 575 finished with value: -0.8764 and parameters: {'kernel': 'rbf', 'C': 404.1540019550661, 'max iter': 564033, 'gamma': 9.699890373782019}. Best is trial 182 with value: -0.8936.\n"
          ]
        },
        {
          "name": "stdout",
          "output_type": "stream",
          "text": [
            "kernel: rbf, C: 998.8164575774837, gamma: 1.3237914603899616, coef0: 0, degree: 3, tol: 304319\n"
          ]
        },
        {
          "name": "stderr",
          "output_type": "stream",
          "text": [
            "[I 2024-11-15 23:13:48,659] Trial 576 finished with value: -0.8888 and parameters: {'kernel': 'rbf', 'C': 998.8164575774837, 'max iter': 304319, 'gamma': 1.3237914603899616}. Best is trial 182 with value: -0.8936.\n"
          ]
        },
        {
          "name": "stdout",
          "output_type": "stream",
          "text": [
            "kernel: rbf, C: 592.7026888155577, gamma: 2.0249854624171553, coef0: 0, degree: 3, tol: 451400\n"
          ]
        },
        {
          "name": "stderr",
          "output_type": "stream",
          "text": [
            "[I 2024-11-15 23:13:50,655] Trial 577 finished with value: -0.892 and parameters: {'kernel': 'rbf', 'C': 592.7026888155577, 'max iter': 451400, 'gamma': 2.0249854624171553}. Best is trial 182 with value: -0.8936.\n"
          ]
        },
        {
          "name": "stdout",
          "output_type": "stream",
          "text": [
            "kernel: poly, C: 510.73577208501894, gamma: 3.9652951294920498, coef0: 5.047869753882776, degree: 3, tol: 777226\n"
          ]
        },
        {
          "name": "stderr",
          "output_type": "stream",
          "text": [
            "[I 2024-11-15 23:14:45,864] Trial 578 finished with value: -0.5012000000000001 and parameters: {'kernel': 'poly', 'C': 510.73577208501894, 'max iter': 777226, 'gamma': 3.9652951294920498, 'coef0': 5.047869753882776, 'degree': 3}. Best is trial 182 with value: -0.8936.\n"
          ]
        },
        {
          "name": "stdout",
          "output_type": "stream",
          "text": [
            "kernel: rbf, C: 993.7578661461014, gamma: 0.8334882019591064, coef0: 0, degree: 3, tol: 998352\n"
          ]
        },
        {
          "name": "stderr",
          "output_type": "stream",
          "text": [
            "[I 2024-11-15 23:14:47,529] Trial 579 finished with value: -0.8868 and parameters: {'kernel': 'rbf', 'C': 993.7578661461014, 'max iter': 998352, 'gamma': 0.8334882019591064}. Best is trial 182 with value: -0.8936.\n"
          ]
        },
        {
          "name": "stdout",
          "output_type": "stream",
          "text": [
            "kernel: rbf, C: 682.7080042489703, gamma: 2.2278780263137965, coef0: 0, degree: 3, tol: 656048\n"
          ]
        },
        {
          "name": "stderr",
          "output_type": "stream",
          "text": [
            "[I 2024-11-15 23:14:49,840] Trial 580 finished with value: -0.89 and parameters: {'kernel': 'rbf', 'C': 682.7080042489703, 'max iter': 656048, 'gamma': 2.2278780263137965}. Best is trial 182 with value: -0.8936.\n"
          ]
        },
        {
          "name": "stdout",
          "output_type": "stream",
          "text": [
            "kernel: rbf, C: 367.86713010379464, gamma: 6.486290080152105, coef0: 0, degree: 3, tol: 125197\n"
          ]
        },
        {
          "name": "stderr",
          "output_type": "stream",
          "text": [
            "[I 2024-11-15 23:14:52,267] Trial 581 finished with value: -0.8795999999999999 and parameters: {'kernel': 'rbf', 'C': 367.86713010379464, 'max iter': 125197, 'gamma': 6.486290080152105}. Best is trial 182 with value: -0.8936.\n"
          ]
        },
        {
          "name": "stdout",
          "output_type": "stream",
          "text": [
            "kernel: rbf, C: 217.94463575414744, gamma: 1.1901172251527015, coef0: 0, degree: 3, tol: 246462\n"
          ]
        },
        {
          "name": "stderr",
          "output_type": "stream",
          "text": [
            "[I 2024-11-15 23:14:53,180] Trial 582 finished with value: -0.8860000000000001 and parameters: {'kernel': 'rbf', 'C': 217.94463575414744, 'max iter': 246462, 'gamma': 1.1901172251527015}. Best is trial 182 with value: -0.8936.\n"
          ]
        },
        {
          "name": "stdout",
          "output_type": "stream",
          "text": [
            "kernel: rbf, C: 787.7434596735609, gamma: 2.800584262626845, coef0: 0, degree: 3, tol: 398740\n"
          ]
        },
        {
          "name": "stderr",
          "output_type": "stream",
          "text": [
            "[I 2024-11-15 23:14:55,933] Trial 583 finished with value: -0.8879999999999999 and parameters: {'kernel': 'rbf', 'C': 787.7434596735609, 'max iter': 398740, 'gamma': 2.800584262626845}. Best is trial 182 with value: -0.8936.\n"
          ]
        },
        {
          "name": "stdout",
          "output_type": "stream",
          "text": [
            "kernel: rbf, C: 524.8085372537772, gamma: 1.636979552545563, coef0: 0, degree: 3, tol: 604004\n"
          ]
        },
        {
          "name": "stderr",
          "output_type": "stream",
          "text": [
            "[I 2024-11-15 23:14:57,565] Trial 584 finished with value: -0.8892000000000001 and parameters: {'kernel': 'rbf', 'C': 524.8085372537772, 'max iter': 604004, 'gamma': 1.636979552545563}. Best is trial 182 with value: -0.8936.\n"
          ]
        },
        {
          "name": "stdout",
          "output_type": "stream",
          "text": [
            "kernel: rbf, C: 618.793973523584, gamma: 0.5825379022260431, coef0: 0, degree: 3, tol: 475675\n"
          ]
        },
        {
          "name": "stderr",
          "output_type": "stream",
          "text": [
            "[I 2024-11-15 23:14:58,703] Trial 585 finished with value: -0.8872 and parameters: {'kernel': 'rbf', 'C': 618.793973523584, 'max iter': 475675, 'gamma': 0.5825379022260431}. Best is trial 182 with value: -0.8936.\n"
          ]
        },
        {
          "name": "stdout",
          "output_type": "stream",
          "text": [
            "kernel: rbf, C: 315.4883288175317, gamma: 4.354604877466766, coef0: 0, degree: 3, tol: 817336\n"
          ]
        },
        {
          "name": "stderr",
          "output_type": "stream",
          "text": [
            "[I 2024-11-15 23:15:00,620] Trial 586 finished with value: -0.8844000000000001 and parameters: {'kernel': 'rbf', 'C': 315.4883288175317, 'max iter': 817336, 'gamma': 4.354604877466766}. Best is trial 182 with value: -0.8936.\n"
          ]
        },
        {
          "name": "stdout",
          "output_type": "stream",
          "text": [
            "kernel: rbf, C: 815.1729191524742, gamma: 1.6692451302212366, coef0: 0, degree: 3, tol: 166153\n"
          ]
        },
        {
          "name": "stderr",
          "output_type": "stream",
          "text": [
            "[I 2024-11-15 23:15:02,797] Trial 587 finished with value: -0.8916000000000001 and parameters: {'kernel': 'rbf', 'C': 815.1729191524742, 'max iter': 166153, 'gamma': 1.6692451302212366}. Best is trial 182 with value: -0.8936.\n"
          ]
        },
        {
          "name": "stdout",
          "output_type": "stream",
          "text": [
            "kernel: rbf, C: 461.28695854288446, gamma: 1.0699881416506292, coef0: 0, degree: 3, tol: 647164\n"
          ]
        },
        {
          "name": "stderr",
          "output_type": "stream",
          "text": [
            "[I 2024-11-15 23:15:04,036] Trial 588 finished with value: -0.8884000000000001 and parameters: {'kernel': 'rbf', 'C': 461.28695854288446, 'max iter': 647164, 'gamma': 1.0699881416506292}. Best is trial 182 with value: -0.8936.\n"
          ]
        },
        {
          "name": "stdout",
          "output_type": "stream",
          "text": [
            "kernel: linear, C: 662.87325346867, gamma: 1, coef0: 0, degree: 3, tol: 337202\n"
          ]
        },
        {
          "name": "stderr",
          "output_type": "stream",
          "text": [
            "[I 2024-11-15 23:15:05,220] Trial 589 finished with value: -0.8852 and parameters: {'kernel': 'linear', 'C': 662.87325346867, 'max iter': 337202}. Best is trial 182 with value: -0.8936.\n"
          ]
        },
        {
          "name": "stdout",
          "output_type": "stream",
          "text": [
            "kernel: rbf, C: 793.4919884404712, gamma: 2.8073305326017652, coef0: 0, degree: 3, tol: 522080\n"
          ]
        },
        {
          "name": "stderr",
          "output_type": "stream",
          "text": [
            "[I 2024-11-15 23:15:08,157] Trial 590 finished with value: -0.8879999999999999 and parameters: {'kernel': 'rbf', 'C': 793.4919884404712, 'max iter': 522080, 'gamma': 2.8073305326017652}. Best is trial 182 with value: -0.8936.\n"
          ]
        },
        {
          "name": "stdout",
          "output_type": "stream",
          "text": [
            "kernel: rbf, C: 455.5633015543479, gamma: 2.2151558207479507, coef0: 0, degree: 3, tol: 820021\n"
          ]
        },
        {
          "name": "stderr",
          "output_type": "stream",
          "text": [
            "[I 2024-11-15 23:15:09,985] Trial 591 finished with value: -0.8928 and parameters: {'kernel': 'rbf', 'C': 455.5633015543479, 'max iter': 820021, 'gamma': 2.2151558207479507}. Best is trial 182 with value: -0.8936.\n"
          ]
        },
        {
          "name": "stdout",
          "output_type": "stream",
          "text": [
            "kernel: rbf, C: 292.1376495749932, gamma: 3.6454103079307045, coef0: 0, degree: 3, tol: 866023\n"
          ]
        },
        {
          "name": "stderr",
          "output_type": "stream",
          "text": [
            "[I 2024-11-15 23:15:11,663] Trial 592 finished with value: -0.8876 and parameters: {'kernel': 'rbf', 'C': 292.1376495749932, 'max iter': 866023, 'gamma': 3.6454103079307045}. Best is trial 182 with value: -0.8936.\n"
          ]
        },
        {
          "name": "stdout",
          "output_type": "stream",
          "text": [
            "kernel: rbf, C: 0.909933933265322, gamma: 5.306645706703426, coef0: 0, degree: 3, tol: 811500\n"
          ]
        },
        {
          "name": "stderr",
          "output_type": "stream",
          "text": [
            "[I 2024-11-15 23:15:12,209] Trial 593 finished with value: -0.8859999999999999 and parameters: {'kernel': 'rbf', 'C': 0.909933933265322, 'max iter': 811500, 'gamma': 5.306645706703426}. Best is trial 182 with value: -0.8936.\n"
          ]
        },
        {
          "name": "stdout",
          "output_type": "stream",
          "text": [
            "kernel: rbf, C: 336.67214976277546, gamma: 2.3254705322034015, coef0: 0, degree: 3, tol: 672133\n"
          ]
        },
        {
          "name": "stderr",
          "output_type": "stream",
          "text": [
            "[I 2024-11-15 23:15:13,685] Trial 594 finished with value: -0.8912000000000001 and parameters: {'kernel': 'rbf', 'C': 336.67214976277546, 'max iter': 672133, 'gamma': 2.3254705322034015}. Best is trial 182 with value: -0.8936.\n"
          ]
        },
        {
          "name": "stdout",
          "output_type": "stream",
          "text": [
            "kernel: rbf, C: 230.7715698120003, gamma: 2.120281876059992, coef0: 0, degree: 3, tol: 832860\n"
          ]
        },
        {
          "name": "stderr",
          "output_type": "stream",
          "text": [
            "[I 2024-11-15 23:15:14,872] Trial 595 finished with value: -0.8864000000000001 and parameters: {'kernel': 'rbf', 'C': 230.7715698120003, 'max iter': 832860, 'gamma': 2.120281876059992}. Best is trial 182 with value: -0.8936.\n"
          ]
        },
        {
          "name": "stdout",
          "output_type": "stream",
          "text": [
            "kernel: rbf, C: 388.51880387618905, gamma: 3.480019562048169, coef0: 0, degree: 3, tol: 992967\n"
          ]
        },
        {
          "name": "stderr",
          "output_type": "stream",
          "text": [
            "[I 2024-11-15 23:15:16,872] Trial 596 finished with value: -0.8876 and parameters: {'kernel': 'rbf', 'C': 388.51880387618905, 'max iter': 992967, 'gamma': 3.480019562048169}. Best is trial 182 with value: -0.8936.\n"
          ]
        },
        {
          "name": "stdout",
          "output_type": "stream",
          "text": [
            "kernel: rbf, C: 501.6387290945576, gamma: 1.176734861249134, coef0: 0, degree: 3, tol: 670722\n"
          ]
        },
        {
          "name": "stderr",
          "output_type": "stream",
          "text": [
            "[I 2024-11-15 23:15:18,190] Trial 597 finished with value: -0.8884000000000001 and parameters: {'kernel': 'rbf', 'C': 501.6387290945576, 'max iter': 670722, 'gamma': 1.176734861249134}. Best is trial 182 with value: -0.8936.\n"
          ]
        },
        {
          "name": "stdout",
          "output_type": "stream",
          "text": [
            "kernel: rbf, C: 462.7075823617885, gamma: 2.5855496194535723, coef0: 0, degree: 3, tol: 540207\n"
          ]
        },
        {
          "name": "stderr",
          "output_type": "stream",
          "text": [
            "[I 2024-11-15 23:15:20,068] Trial 598 finished with value: -0.89 and parameters: {'kernel': 'rbf', 'C': 462.7075823617885, 'max iter': 540207, 'gamma': 2.5855496194535723}. Best is trial 182 with value: -0.8936.\n"
          ]
        },
        {
          "name": "stdout",
          "output_type": "stream",
          "text": [
            "kernel: sigmoid, C: 396.13915948792766, gamma: 0.7849868859245336, coef0: 0.13160534966062964, degree: 3, tol: 423899\n"
          ]
        },
        {
          "name": "stderr",
          "output_type": "stream",
          "text": [
            "[I 2024-11-15 23:15:20,624] Trial 599 finished with value: -0.7047999999999999 and parameters: {'kernel': 'sigmoid', 'C': 396.13915948792766, 'max iter': 423899, 'gamma': 0.7849868859245336, 'coef0': 0.13160534966062964}. Best is trial 182 with value: -0.8936.\n"
          ]
        },
        {
          "name": "stdout",
          "output_type": "stream",
          "text": [
            "kernel: poly, C: 267.9863814048564, gamma: 1.795903887073765, coef0: 13.151555114031854, degree: 6, tol: 656251\n"
          ]
        },
        {
          "name": "stderr",
          "output_type": "stream",
          "text": [
            "[I 2024-11-15 23:16:05,932] Trial 600 finished with value: -0.52 and parameters: {'kernel': 'poly', 'C': 267.9863814048564, 'max iter': 656251, 'gamma': 1.795903887073765, 'coef0': 13.151555114031854, 'degree': 6}. Best is trial 182 with value: -0.8936.\n"
          ]
        },
        {
          "name": "stdout",
          "output_type": "stream",
          "text": [
            "kernel: rbf, C: 548.5432876179219, gamma: 1.3759528482049384, coef0: 0, degree: 3, tol: 800555\n"
          ]
        },
        {
          "name": "stderr",
          "output_type": "stream",
          "text": [
            "[I 2024-11-15 23:16:07,482] Trial 601 finished with value: -0.8896000000000001 and parameters: {'kernel': 'rbf', 'C': 548.5432876179219, 'max iter': 800555, 'gamma': 1.3759528482049384}. Best is trial 182 with value: -0.8936.\n"
          ]
        },
        {
          "name": "stdout",
          "output_type": "stream",
          "text": [
            "kernel: rbf, C: 398.42476139943625, gamma: 6.888948201383545, coef0: 0, degree: 3, tol: 522231\n"
          ]
        },
        {
          "name": "stderr",
          "output_type": "stream",
          "text": [
            "[I 2024-11-15 23:16:10,211] Trial 602 finished with value: -0.8764 and parameters: {'kernel': 'rbf', 'C': 398.42476139943625, 'max iter': 522231, 'gamma': 6.888948201383545}. Best is trial 182 with value: -0.8936.\n"
          ]
        },
        {
          "name": "stdout",
          "output_type": "stream",
          "text": [
            "kernel: rbf, C: 628.5999672255859, gamma: 3.053571888370628, coef0: 0, degree: 3, tol: 988308\n"
          ]
        },
        {
          "name": "stderr",
          "output_type": "stream",
          "text": [
            "[I 2024-11-15 23:16:12,872] Trial 603 finished with value: -0.8880000000000001 and parameters: {'kernel': 'rbf', 'C': 628.5999672255859, 'max iter': 988308, 'gamma': 3.053571888370628}. Best is trial 182 with value: -0.8936.\n"
          ]
        },
        {
          "name": "stdout",
          "output_type": "stream",
          "text": [
            "kernel: rbf, C: 496.1609853795468, gamma: 1.9654126322568952, coef0: 0, degree: 3, tol: 339420\n"
          ]
        },
        {
          "name": "stderr",
          "output_type": "stream",
          "text": [
            "[I 2024-11-15 23:16:14,585] Trial 604 finished with value: -0.892 and parameters: {'kernel': 'rbf', 'C': 496.1609853795468, 'max iter': 339420, 'gamma': 1.9654126322568952}. Best is trial 182 with value: -0.8936.\n"
          ]
        },
        {
          "name": "stdout",
          "output_type": "stream",
          "text": [
            "kernel: rbf, C: 633.6855135164311, gamma: 3.9017770298716594, coef0: 0, degree: 3, tol: 696320\n"
          ]
        },
        {
          "name": "stderr",
          "output_type": "stream",
          "text": [
            "[I 2024-11-15 23:16:17,532] Trial 605 finished with value: -0.8832000000000001 and parameters: {'kernel': 'rbf', 'C': 633.6855135164311, 'max iter': 696320, 'gamma': 3.9017770298716594}. Best is trial 182 with value: -0.8936.\n"
          ]
        },
        {
          "name": "stdout",
          "output_type": "stream",
          "text": [
            "kernel: rbf, C: 307.79752321832603, gamma: 1.0125346644344997, coef0: 0, degree: 3, tol: 456640\n"
          ]
        },
        {
          "name": "stderr",
          "output_type": "stream",
          "text": [
            "[I 2024-11-15 23:16:18,531] Trial 606 finished with value: -0.8855999999999999 and parameters: {'kernel': 'rbf', 'C': 307.79752321832603, 'max iter': 456640, 'gamma': 1.0125346644344997}. Best is trial 182 with value: -0.8936.\n"
          ]
        },
        {
          "name": "stdout",
          "output_type": "stream",
          "text": [
            "kernel: rbf, C: 5.370353170130158, gamma: 2.2906963676111523, coef0: 0, degree: 3, tol: 536384\n"
          ]
        },
        {
          "name": "stderr",
          "output_type": "stream",
          "text": [
            "[I 2024-11-15 23:16:19,072] Trial 607 finished with value: -0.8855999999999999 and parameters: {'kernel': 'rbf', 'C': 5.370353170130158, 'max iter': 536384, 'gamma': 2.2906963676111523}. Best is trial 182 with value: -0.8936.\n"
          ]
        },
        {
          "name": "stdout",
          "output_type": "stream",
          "text": [
            "kernel: rbf, C: 0.03340682310524424, gamma: 1.490578782659443, coef0: 0, degree: 3, tol: 233614\n"
          ]
        },
        {
          "name": "stderr",
          "output_type": "stream",
          "text": [
            "[I 2024-11-15 23:16:19,829] Trial 608 finished with value: -0.8699999999999999 and parameters: {'kernel': 'rbf', 'C': 0.03340682310524424, 'max iter': 233614, 'gamma': 1.490578782659443}. Best is trial 182 with value: -0.8936.\n"
          ]
        },
        {
          "name": "stdout",
          "output_type": "stream",
          "text": [
            "kernel: rbf, C: 648.5213245580726, gamma: 4.9171328186248395, coef0: 0, degree: 3, tol: 733248\n"
          ]
        },
        {
          "name": "stderr",
          "output_type": "stream",
          "text": [
            "[I 2024-11-15 23:16:22,957] Trial 609 finished with value: -0.8804000000000001 and parameters: {'kernel': 'rbf', 'C': 648.5213245580726, 'max iter': 733248, 'gamma': 4.9171328186248395}. Best is trial 182 with value: -0.8936.\n"
          ]
        },
        {
          "name": "stdout",
          "output_type": "stream",
          "text": [
            "kernel: rbf, C: 148.89755504522302, gamma: 0.6855893710470129, coef0: 0, degree: 3, tol: 400343\n"
          ]
        },
        {
          "name": "stderr",
          "output_type": "stream",
          "text": [
            "[I 2024-11-15 23:16:23,657] Trial 610 finished with value: -0.884 and parameters: {'kernel': 'rbf', 'C': 148.89755504522302, 'max iter': 400343, 'gamma': 0.6855893710470129}. Best is trial 182 with value: -0.8936.\n"
          ]
        },
        {
          "name": "stdout",
          "output_type": "stream",
          "text": [
            "kernel: rbf, C: 0.1736594112816377, gamma: 2.9705843306281436, coef0: 0, degree: 3, tol: 641411\n"
          ]
        },
        {
          "name": "stderr",
          "output_type": "stream",
          "text": [
            "[I 2024-11-15 23:16:24,228] Trial 611 finished with value: -0.8788 and parameters: {'kernel': 'rbf', 'C': 0.1736594112816377, 'max iter': 641411, 'gamma': 2.9705843306281436}. Best is trial 182 with value: -0.8936.\n"
          ]
        },
        {
          "name": "stdout",
          "output_type": "stream",
          "text": [
            "kernel: rbf, C: 431.00695371001933, gamma: 1.761042662174061, coef0: 0, degree: 3, tol: 280233\n"
          ]
        },
        {
          "name": "stderr",
          "output_type": "stream",
          "text": [
            "[I 2024-11-15 23:16:25,740] Trial 612 finished with value: -0.8888 and parameters: {'kernel': 'rbf', 'C': 431.00695371001933, 'max iter': 280233, 'gamma': 1.761042662174061}. Best is trial 182 with value: -0.8936.\n"
          ]
        },
        {
          "name": "stdout",
          "output_type": "stream",
          "text": [
            "kernel: linear, C: 779.2880366691305, gamma: 1, coef0: 0, degree: 3, tol: 829235\n"
          ]
        },
        {
          "name": "stderr",
          "output_type": "stream",
          "text": [
            "[I 2024-11-15 23:16:27,057] Trial 613 finished with value: -0.8852 and parameters: {'kernel': 'linear', 'C': 779.2880366691305, 'max iter': 829235}. Best is trial 182 with value: -0.8936.\n"
          ]
        },
        {
          "name": "stdout",
          "output_type": "stream",
          "text": [
            "kernel: rbf, C: 504.64838662713964, gamma: 1.1127980917749505, coef0: 0, degree: 3, tol: 990922\n"
          ]
        },
        {
          "name": "stderr",
          "output_type": "stream",
          "text": [
            "[I 2024-11-15 23:16:28,372] Trial 614 finished with value: -0.8892000000000001 and parameters: {'kernel': 'rbf', 'C': 504.64838662713964, 'max iter': 990922, 'gamma': 1.1127980917749505}. Best is trial 182 with value: -0.8936.\n"
          ]
        },
        {
          "name": "stdout",
          "output_type": "stream",
          "text": [
            "kernel: rbf, C: 0.0047122738851913155, gamma: 2.317883161650428, coef0: 0, degree: 3, tol: 573283\n"
          ]
        },
        {
          "name": "stderr",
          "output_type": "stream",
          "text": [
            "[I 2024-11-15 23:16:29,599] Trial 615 finished with value: -0.8583999999999999 and parameters: {'kernel': 'rbf', 'C': 0.0047122738851913155, 'max iter': 573283, 'gamma': 2.317883161650428}. Best is trial 182 with value: -0.8936.\n"
          ]
        },
        {
          "name": "stdout",
          "output_type": "stream",
          "text": [
            "kernel: rbf, C: 790.0161158899027, gamma: 1.397492824575932, coef0: 0, degree: 3, tol: 450955\n"
          ]
        },
        {
          "name": "stderr",
          "output_type": "stream",
          "text": [
            "[I 2024-11-15 23:16:31,501] Trial 616 finished with value: -0.8880000000000001 and parameters: {'kernel': 'rbf', 'C': 790.0161158899027, 'max iter': 450955, 'gamma': 1.397492824575932}. Best is trial 182 with value: -0.8936.\n"
          ]
        },
        {
          "name": "stdout",
          "output_type": "stream",
          "text": [
            "kernel: rbf, C: 998.1948656589266, gamma: 2.8597891410015968, coef0: 0, degree: 3, tol: 580559\n"
          ]
        },
        {
          "name": "stderr",
          "output_type": "stream",
          "text": [
            "[I 2024-11-15 23:16:35,002] Trial 617 finished with value: -0.8876 and parameters: {'kernel': 'rbf', 'C': 998.1948656589266, 'max iter': 580559, 'gamma': 2.8597891410015968}. Best is trial 182 with value: -0.8936.\n"
          ]
        },
        {
          "name": "stdout",
          "output_type": "stream",
          "text": [
            "kernel: sigmoid, C: 579.2671208085446, gamma: 0.9334402819957816, coef0: 0.31239271706711286, degree: 3, tol: 359909\n"
          ]
        },
        {
          "name": "stderr",
          "output_type": "stream",
          "text": [
            "[I 2024-11-15 23:16:35,594] Trial 618 finished with value: -0.6864 and parameters: {'kernel': 'sigmoid', 'C': 579.2671208085446, 'max iter': 359909, 'gamma': 0.9334402819957816, 'coef0': 0.31239271706711286}. Best is trial 182 with value: -0.8936.\n"
          ]
        },
        {
          "name": "stdout",
          "output_type": "stream",
          "text": [
            "kernel: rbf, C: 384.3198549394076, gamma: 1.9409240236990726, coef0: 0, degree: 3, tol: 314\n"
          ]
        },
        {
          "name": "stderr",
          "output_type": "stream",
          "text": [
            "[I 2024-11-15 23:16:35,895] Trial 619 finished with value: -0.41200000000000003 and parameters: {'kernel': 'rbf', 'C': 384.3198549394076, 'max iter': 314, 'gamma': 1.9409240236990726}. Best is trial 182 with value: -0.8936.\n"
          ]
        },
        {
          "name": "stdout",
          "output_type": "stream",
          "text": [
            "kernel: rbf, C: 593.39078617513, gamma: 3.584202709788921, coef0: 0, degree: 3, tol: 795138\n"
          ]
        },
        {
          "name": "stderr",
          "output_type": "stream",
          "text": [
            "[I 2024-11-15 23:16:38,459] Trial 620 finished with value: -0.8863999999999999 and parameters: {'kernel': 'rbf', 'C': 593.39078617513, 'max iter': 795138, 'gamma': 3.584202709788921}. Best is trial 182 with value: -0.8936.\n"
          ]
        },
        {
          "name": "stdout",
          "output_type": "stream",
          "text": [
            "kernel: rbf, C: 260.9460008225795, gamma: 1.45851018144428, coef0: 0, degree: 3, tol: 703582\n"
          ]
        },
        {
          "name": "stderr",
          "output_type": "stream",
          "text": [
            "[I 2024-11-15 23:16:39,520] Trial 621 finished with value: -0.8884000000000001 and parameters: {'kernel': 'rbf', 'C': 260.9460008225795, 'max iter': 703582, 'gamma': 1.45851018144428}. Best is trial 182 with value: -0.8936.\n"
          ]
        },
        {
          "name": "stdout",
          "output_type": "stream",
          "text": [
            "kernel: rbf, C: 787.8667232625265, gamma: 0.00025544016253470613, coef0: 0, degree: 3, tol: 477656\n"
          ]
        },
        {
          "name": "stderr",
          "output_type": "stream",
          "text": [
            "[I 2024-11-15 23:16:40,142] Trial 622 finished with value: -0.8695999999999999 and parameters: {'kernel': 'rbf', 'C': 787.8667232625265, 'max iter': 477656, 'gamma': 0.00025544016253470613}. Best is trial 182 with value: -0.8936.\n"
          ]
        },
        {
          "name": "stdout",
          "output_type": "stream",
          "text": [
            "kernel: rbf, C: 384.8503799839137, gamma: 5.221527290980054, coef0: 0, degree: 3, tol: 577785\n"
          ]
        },
        {
          "name": "stderr",
          "output_type": "stream",
          "text": [
            "[I 2024-11-15 23:16:42,382] Trial 623 finished with value: -0.884 and parameters: {'kernel': 'rbf', 'C': 384.8503799839137, 'max iter': 577785, 'gamma': 5.221527290980054}. Best is trial 182 with value: -0.8936.\n"
          ]
        },
        {
          "name": "stdout",
          "output_type": "stream",
          "text": [
            "kernel: rbf, C: 524.4548631260024, gamma: 0.6402783742126715, coef0: 0, degree: 3, tol: 196068\n"
          ]
        },
        {
          "name": "stderr",
          "output_type": "stream",
          "text": [
            "[I 2024-11-15 23:16:43,436] Trial 624 finished with value: -0.8855999999999999 and parameters: {'kernel': 'rbf', 'C': 524.4548631260024, 'max iter': 196068, 'gamma': 0.6402783742126715}. Best is trial 182 with value: -0.8936.\n"
          ]
        },
        {
          "name": "stdout",
          "output_type": "stream",
          "text": [
            "kernel: rbf, C: 691.7965455854368, gamma: 2.1063854332866008, coef0: 0, degree: 3, tol: 314544\n"
          ]
        },
        {
          "name": "stderr",
          "output_type": "stream",
          "text": [
            "[I 2024-11-15 23:16:45,649] Trial 625 finished with value: -0.892 and parameters: {'kernel': 'rbf', 'C': 691.7965455854368, 'max iter': 314544, 'gamma': 2.1063854332866008}. Best is trial 182 with value: -0.8936.\n"
          ]
        },
        {
          "name": "stdout",
          "output_type": "stream",
          "text": [
            "kernel: rbf, C: 990.7202876911269, gamma: 1.1135799185738953, coef0: 0, degree: 3, tol: 828342\n"
          ]
        },
        {
          "name": "stderr",
          "output_type": "stream",
          "text": [
            "[I 2024-11-15 23:16:47,667] Trial 626 finished with value: -0.8892 and parameters: {'kernel': 'rbf', 'C': 990.7202876911269, 'max iter': 828342, 'gamma': 1.1135799185738953}. Best is trial 182 with value: -0.8936.\n"
          ]
        },
        {
          "name": "stdout",
          "output_type": "stream",
          "text": [
            "kernel: rbf, C: 467.2066058268381, gamma: 2.884164883341337, coef0: 0, degree: 3, tol: 438008\n"
          ]
        },
        {
          "name": "stderr",
          "output_type": "stream",
          "text": [
            "[I 2024-11-15 23:16:49,614] Trial 627 finished with value: -0.8863999999999999 and parameters: {'kernel': 'rbf', 'C': 467.2066058268381, 'max iter': 438008, 'gamma': 2.884164883341337}. Best is trial 182 with value: -0.8936.\n"
          ]
        },
        {
          "name": "stdout",
          "output_type": "stream",
          "text": [
            "kernel: poly, C: 0.4584485204333219, gamma: 1.6503755825519402, coef0: 0.0503628685653476, degree: 5, tol: 657433\n"
          ]
        },
        {
          "name": "stderr",
          "output_type": "stream",
          "text": [
            "[I 2024-11-15 23:16:56,272] Trial 628 finished with value: -0.8844 and parameters: {'kernel': 'poly', 'C': 0.4584485204333219, 'max iter': 657433, 'gamma': 1.6503755825519402, 'coef0': 0.0503628685653476, 'degree': 5}. Best is trial 182 with value: -0.8936.\n"
          ]
        },
        {
          "name": "stdout",
          "output_type": "stream",
          "text": [
            "kernel: rbf, C: 2.473984200756687, gamma: 4.3066800327918235, coef0: 0, degree: 3, tol: 24814\n"
          ]
        },
        {
          "name": "stderr",
          "output_type": "stream",
          "text": [
            "[I 2024-11-15 23:16:56,824] Trial 629 finished with value: -0.8855999999999999 and parameters: {'kernel': 'rbf', 'C': 2.473984200756687, 'max iter': 24814, 'gamma': 4.3066800327918235}. Best is trial 182 with value: -0.8936.\n"
          ]
        },
        {
          "name": "stdout",
          "output_type": "stream",
          "text": [
            "kernel: rbf, C: 679.639452242314, gamma: 2.112224682269197, coef0: 0, degree: 3, tol: 362659\n"
          ]
        },
        {
          "name": "stderr",
          "output_type": "stream",
          "text": [
            "[I 2024-11-15 23:16:58,969] Trial 630 finished with value: -0.892 and parameters: {'kernel': 'rbf', 'C': 679.639452242314, 'max iter': 362659, 'gamma': 2.112224682269197}. Best is trial 182 with value: -0.8936.\n"
          ]
        },
        {
          "name": "stdout",
          "output_type": "stream",
          "text": [
            "kernel: rbf, C: 0.001484455058418528, gamma: 0.4356872937833553, coef0: 0, degree: 3, tol: 10027\n"
          ]
        },
        {
          "name": "stderr",
          "output_type": "stream",
          "text": [
            "[I 2024-11-15 23:17:00,363] Trial 631 finished with value: -0.52 and parameters: {'kernel': 'rbf', 'C': 0.001484455058418528, 'max iter': 10027, 'gamma': 0.4356872937833553}. Best is trial 182 with value: -0.8936.\n"
          ]
        },
        {
          "name": "stdout",
          "output_type": "stream",
          "text": [
            "kernel: rbf, C: 317.1902510100644, gamma: 9.140513910468739, coef0: 0, degree: 3, tol: 17105\n"
          ]
        },
        {
          "name": "stderr",
          "output_type": "stream",
          "text": [
            "[I 2024-11-15 23:17:01,835] Trial 632 finished with value: -0.8779999999999999 and parameters: {'kernel': 'rbf', 'C': 317.1902510100644, 'max iter': 17105, 'gamma': 9.140513910468739}. Best is trial 182 with value: -0.8936.\n"
          ]
        },
        {
          "name": "stdout",
          "output_type": "stream",
          "text": [
            "kernel: rbf, C: 790.5914652548071, gamma: 23.853211473277153, coef0: 0, degree: 3, tol: 549933\n"
          ]
        },
        {
          "name": "stderr",
          "output_type": "stream",
          "text": [
            "[I 2024-11-15 23:17:06,031] Trial 633 finished with value: -0.8336 and parameters: {'kernel': 'rbf', 'C': 790.5914652548071, 'max iter': 549933, 'gamma': 23.853211473277153}. Best is trial 182 with value: -0.8936.\n"
          ]
        },
        {
          "name": "stdout",
          "output_type": "stream",
          "text": [
            "kernel: rbf, C: 542.3869919531064, gamma: 0.902741678147514, coef0: 0, degree: 3, tol: 831963\n"
          ]
        },
        {
          "name": "stderr",
          "output_type": "stream",
          "text": [
            "[I 2024-11-15 23:17:07,309] Trial 634 finished with value: -0.8872 and parameters: {'kernel': 'rbf', 'C': 542.3869919531064, 'max iter': 831963, 'gamma': 0.902741678147514}. Best is trial 182 with value: -0.8936.\n"
          ]
        },
        {
          "name": "stdout",
          "output_type": "stream",
          "text": [
            "kernel: rbf, C: 205.74989037453054, gamma: 1.3066665490101168, coef0: 0, degree: 3, tol: 697121\n"
          ]
        },
        {
          "name": "stderr",
          "output_type": "stream",
          "text": [
            "[I 2024-11-15 23:17:08,250] Trial 635 finished with value: -0.8855999999999999 and parameters: {'kernel': 'rbf', 'C': 205.74989037453054, 'max iter': 697121, 'gamma': 1.3066665490101168}. Best is trial 182 with value: -0.8936.\n"
          ]
        },
        {
          "name": "stdout",
          "output_type": "stream",
          "text": [
            "kernel: rbf, C: 992.4082329177834, gamma: 2.7061698318753087, coef0: 0, degree: 3, tol: 985137\n"
          ]
        },
        {
          "name": "stderr",
          "output_type": "stream",
          "text": [
            "[I 2024-11-15 23:17:11,897] Trial 636 finished with value: -0.8884000000000001 and parameters: {'kernel': 'rbf', 'C': 992.4082329177834, 'max iter': 985137, 'gamma': 2.7061698318753087}. Best is trial 182 with value: -0.8936.\n"
          ]
        },
        {
          "name": "stdout",
          "output_type": "stream",
          "text": [
            "kernel: linear, C: 423.66479247830335, gamma: 1, coef0: 0, degree: 3, tol: 491151\n"
          ]
        },
        {
          "name": "stderr",
          "output_type": "stream",
          "text": [
            "[I 2024-11-15 23:17:12,878] Trial 637 finished with value: -0.8836 and parameters: {'kernel': 'linear', 'C': 423.66479247830335, 'max iter': 491151}. Best is trial 182 with value: -0.8936.\n"
          ]
        },
        {
          "name": "stdout",
          "output_type": "stream",
          "text": [
            "kernel: rbf, C: 634.1840046525635, gamma: 1.7529548959749246, coef0: 0, degree: 3, tol: 257304\n"
          ]
        },
        {
          "name": "stderr",
          "output_type": "stream",
          "text": [
            "[I 2024-11-15 23:17:14,832] Trial 638 finished with value: -0.892 and parameters: {'kernel': 'rbf', 'C': 634.1840046525635, 'max iter': 257304, 'gamma': 1.7529548959749246}. Best is trial 182 with value: -0.8936.\n"
          ]
        },
        {
          "name": "stdout",
          "output_type": "stream",
          "text": [
            "kernel: rbf, C: 703.6171348676147, gamma: 3.69806429032216, coef0: 0, degree: 3, tol: 415393\n"
          ]
        },
        {
          "name": "stderr",
          "output_type": "stream",
          "text": [
            "[I 2024-11-15 23:17:17,848] Trial 639 finished with value: -0.884 and parameters: {'kernel': 'rbf', 'C': 703.6171348676147, 'max iter': 415393, 'gamma': 3.69806429032216}. Best is trial 182 with value: -0.8936.\n"
          ]
        },
        {
          "name": "stdout",
          "output_type": "stream",
          "text": [
            "kernel: rbf, C: 493.13929430991243, gamma: 0.7983129769059608, coef0: 0, degree: 3, tol: 598917\n"
          ]
        },
        {
          "name": "stderr",
          "output_type": "stream",
          "text": [
            "[I 2024-11-15 23:17:19,006] Trial 640 finished with value: -0.8852 and parameters: {'kernel': 'rbf', 'C': 493.13929430991243, 'max iter': 598917, 'gamma': 0.7983129769059608}. Best is trial 182 with value: -0.8936.\n"
          ]
        },
        {
          "name": "stdout",
          "output_type": "stream",
          "text": [
            "kernel: rbf, C: 328.78668144665187, gamma: 1.3431821476061667, coef0: 0, degree: 3, tol: 5159\n"
          ]
        },
        {
          "name": "stderr",
          "output_type": "stream",
          "text": [
            "[I 2024-11-15 23:17:19,932] Trial 641 finished with value: -0.8836 and parameters: {'kernel': 'rbf', 'C': 328.78668144665187, 'max iter': 5159, 'gamma': 1.3431821476061667}. Best is trial 182 with value: -0.8936.\n"
          ]
        },
        {
          "name": "stdout",
          "output_type": "stream",
          "text": [
            "kernel: rbf, C: 804.2639071284361, gamma: 2.4559181071619816, coef0: 0, degree: 3, tol: 755816\n"
          ]
        },
        {
          "name": "stderr",
          "output_type": "stream",
          "text": [
            "[I 2024-11-15 23:17:22,626] Trial 642 finished with value: -0.8864000000000001 and parameters: {'kernel': 'rbf', 'C': 804.2639071284361, 'max iter': 755816, 'gamma': 2.4559181071619816}. Best is trial 182 with value: -0.8936.\n"
          ]
        },
        {
          "name": "stdout",
          "output_type": "stream",
          "text": [
            "kernel: sigmoid, C: 581.0143406747482, gamma: 5.998780534414537, coef0: 0.7590894529139784, degree: 3, tol: 324462\n"
          ]
        },
        {
          "name": "stderr",
          "output_type": "stream",
          "text": [
            "[I 2024-11-15 23:17:23,581] Trial 643 finished with value: -0.52 and parameters: {'kernel': 'sigmoid', 'C': 581.0143406747482, 'max iter': 324462, 'gamma': 5.998780534414537, 'coef0': 0.7590894529139784}. Best is trial 182 with value: -0.8936.\n"
          ]
        },
        {
          "name": "stdout",
          "output_type": "stream",
          "text": [
            "kernel: rbf, C: 1.4908081847415648, gamma: 1.8336107893522982, coef0: 0, degree: 3, tol: 977723\n"
          ]
        },
        {
          "name": "stderr",
          "output_type": "stream",
          "text": [
            "[I 2024-11-15 23:17:24,110] Trial 644 finished with value: -0.8832000000000001 and parameters: {'kernel': 'rbf', 'C': 1.4908081847415648, 'max iter': 977723, 'gamma': 1.8336107893522982}. Best is trial 182 with value: -0.8936.\n"
          ]
        },
        {
          "name": "stdout",
          "output_type": "stream",
          "text": [
            "kernel: rbf, C: 801.4441555967209, gamma: 1.2182457966928502, coef0: 0, degree: 3, tol: 566229\n"
          ]
        },
        {
          "name": "stderr",
          "output_type": "stream",
          "text": [
            "[I 2024-11-15 23:17:25,949] Trial 645 finished with value: -0.89 and parameters: {'kernel': 'rbf', 'C': 801.4441555967209, 'max iter': 566229, 'gamma': 1.2182457966928502}. Best is trial 182 with value: -0.8936.\n"
          ]
        },
        {
          "name": "stdout",
          "output_type": "stream",
          "text": [
            "kernel: rbf, C: 430.330057565023, gamma: 2.534225263293909, coef0: 0, degree: 3, tol: 737879\n"
          ]
        },
        {
          "name": "stderr",
          "output_type": "stream",
          "text": [
            "[I 2024-11-15 23:17:27,785] Trial 646 finished with value: -0.8916000000000001 and parameters: {'kernel': 'rbf', 'C': 430.330057565023, 'max iter': 737879, 'gamma': 2.534225263293909}. Best is trial 182 with value: -0.8936.\n"
          ]
        },
        {
          "name": "stdout",
          "output_type": "stream",
          "text": [
            "kernel: rbf, C: 33.51085866046193, gamma: 3.7044031057666036, coef0: 0, degree: 3, tol: 414196\n"
          ]
        },
        {
          "name": "stderr",
          "output_type": "stream",
          "text": [
            "[I 2024-11-15 23:17:28,491] Trial 647 finished with value: -0.8888 and parameters: {'kernel': 'rbf', 'C': 33.51085866046193, 'max iter': 414196, 'gamma': 3.7044031057666036}. Best is trial 182 with value: -0.8936.\n"
          ]
        },
        {
          "name": "stdout",
          "output_type": "stream",
          "text": [
            "kernel: rbf, C: 623.9574512053655, gamma: 1.7364091080514792, coef0: 0, degree: 3, tol: 492634\n"
          ]
        },
        {
          "name": "stderr",
          "output_type": "stream",
          "text": [
            "[I 2024-11-15 23:17:30,417] Trial 648 finished with value: -0.8916000000000001 and parameters: {'kernel': 'rbf', 'C': 623.9574512053655, 'max iter': 492634, 'gamma': 1.7364091080514792}. Best is trial 182 with value: -0.8936.\n"
          ]
        },
        {
          "name": "stdout",
          "output_type": "stream",
          "text": [
            "kernel: poly, C: 503.7200465389981, gamma: 1.048961586516797, coef0: 8.133150130176986, degree: 4, tol: 3393\n"
          ]
        },
        {
          "name": "stderr",
          "output_type": "stream",
          "text": [
            "[I 2024-11-15 23:17:30,949] Trial 649 finished with value: -0.558 and parameters: {'kernel': 'poly', 'C': 503.7200465389981, 'max iter': 3393, 'gamma': 1.048961586516797, 'coef0': 8.133150130176986, 'degree': 4}. Best is trial 182 with value: -0.8936.\n"
          ]
        },
        {
          "name": "stdout",
          "output_type": "stream",
          "text": [
            "kernel: rbf, C: 806.5314461935372, gamma: 0.13842109062328453, coef0: 0, degree: 3, tol: 643575\n"
          ]
        },
        {
          "name": "stderr",
          "output_type": "stream",
          "text": [
            "[I 2024-11-15 23:17:31,763] Trial 650 finished with value: -0.8824 and parameters: {'kernel': 'rbf', 'C': 806.5314461935372, 'max iter': 643575, 'gamma': 0.13842109062328453}. Best is trial 182 with value: -0.8936.\n"
          ]
        },
        {
          "name": "stdout",
          "output_type": "stream",
          "text": [
            "kernel: rbf, C: 354.843413465095, gamma: 0.5736083541904402, coef0: 0, degree: 3, tol: 206058\n"
          ]
        },
        {
          "name": "stderr",
          "output_type": "stream",
          "text": [
            "[I 2024-11-15 23:17:32,657] Trial 651 finished with value: -0.8868 and parameters: {'kernel': 'rbf', 'C': 354.843413465095, 'max iter': 206058, 'gamma': 0.5736083541904402}. Best is trial 182 with value: -0.8936.\n"
          ]
        },
        {
          "name": "stdout",
          "output_type": "stream",
          "text": [
            "kernel: rbf, C: 793.399341753002, gamma: 3.2626361590923554, coef0: 0, degree: 3, tol: 828065\n"
          ]
        },
        {
          "name": "stderr",
          "output_type": "stream",
          "text": [
            "[I 2024-11-15 23:17:35,983] Trial 652 finished with value: -0.8868 and parameters: {'kernel': 'rbf', 'C': 793.399341753002, 'max iter': 828065, 'gamma': 3.2626361590923554}. Best is trial 182 with value: -0.8936.\n"
          ]
        },
        {
          "name": "stdout",
          "output_type": "stream",
          "text": [
            "kernel: rbf, C: 261.3646870688066, gamma: 2.195878426124176, coef0: 0, degree: 3, tol: 997165\n"
          ]
        },
        {
          "name": "stderr",
          "output_type": "stream",
          "text": [
            "[I 2024-11-15 23:17:37,249] Trial 653 finished with value: -0.8888 and parameters: {'kernel': 'rbf', 'C': 261.3646870688066, 'max iter': 997165, 'gamma': 2.195878426124176}. Best is trial 182 with value: -0.8936.\n"
          ]
        },
        {
          "name": "stdout",
          "output_type": "stream",
          "text": [
            "kernel: rbf, C: 609.1394127138199, gamma: 1.4294615332992657, coef0: 0, degree: 3, tol: 287420\n"
          ]
        },
        {
          "name": "stderr",
          "output_type": "stream",
          "text": [
            "[I 2024-11-15 23:17:38,972] Trial 654 finished with value: -0.8892000000000001 and parameters: {'kernel': 'rbf', 'C': 609.1394127138199, 'max iter': 287420, 'gamma': 1.4294615332992657}. Best is trial 182 with value: -0.8936.\n"
          ]
        },
        {
          "name": "stdout",
          "output_type": "stream",
          "text": [
            "kernel: rbf, C: 420.6886075362693, gamma: 4.736202010552748, coef0: 0, degree: 3, tol: 553241\n"
          ]
        },
        {
          "name": "stderr",
          "output_type": "stream",
          "text": [
            "[I 2024-11-15 23:17:41,408] Trial 655 finished with value: -0.8827999999999999 and parameters: {'kernel': 'rbf', 'C': 420.6886075362693, 'max iter': 553241, 'gamma': 4.736202010552748}. Best is trial 182 with value: -0.8936.\n",
            "[I 2024-11-15 23:17:41,478] Trial 656 finished with value: -0.514 and parameters: {'kernel': 'rbf', 'C': 972.8370478450522, 'max iter': 18, 'gamma': 0.8183451775274857}. Best is trial 182 with value: -0.8936.\n"
          ]
        },
        {
          "name": "stdout",
          "output_type": "stream",
          "text": [
            "kernel: rbf, C: 972.8370478450522, gamma: 0.8183451775274857, coef0: 0, degree: 3, tol: 18\n",
            "kernel: rbf, C: 635.6909864614973, gamma: 2.4367611956537725, coef0: 0, degree: 3, tol: 386538\n"
          ]
        },
        {
          "name": "stderr",
          "output_type": "stream",
          "text": [
            "[I 2024-11-15 23:17:43,693] Trial 657 finished with value: -0.8880000000000001 and parameters: {'kernel': 'rbf', 'C': 635.6909864614973, 'max iter': 386538, 'gamma': 2.4367611956537725}. Best is trial 182 with value: -0.8936.\n"
          ]
        },
        {
          "name": "stdout",
          "output_type": "stream",
          "text": [
            "kernel: rbf, C: 511.683338439737, gamma: 1.5163495169295882, coef0: 0, degree: 3, tol: 675439\n"
          ]
        },
        {
          "name": "stderr",
          "output_type": "stream",
          "text": [
            "[I 2024-11-15 23:17:45,247] Trial 658 finished with value: -0.8892000000000001 and parameters: {'kernel': 'rbf', 'C': 511.683338439737, 'max iter': 675439, 'gamma': 1.5163495169295882}. Best is trial 182 with value: -0.8936.\n"
          ]
        },
        {
          "name": "stdout",
          "output_type": "stream",
          "text": [
            "kernel: rbf, C: 770.3405406207914, gamma: 3.143663667633835, coef0: 0, degree: 3, tol: 459132\n"
          ]
        },
        {
          "name": "stderr",
          "output_type": "stream",
          "text": [
            "[I 2024-11-15 23:17:48,308] Trial 659 finished with value: -0.8880000000000001 and parameters: {'kernel': 'rbf', 'C': 770.3405406207914, 'max iter': 459132, 'gamma': 3.143663667633835}. Best is trial 182 with value: -0.8936.\n"
          ]
        },
        {
          "name": "stdout",
          "output_type": "stream",
          "text": [
            "kernel: rbf, C: 358.86523529434464, gamma: 346.47851394999645, coef0: 0, degree: 3, tol: 807728\n"
          ]
        },
        {
          "name": "stderr",
          "output_type": "stream",
          "text": [
            "[I 2024-11-15 23:17:50,002] Trial 660 finished with value: -0.8187999999999999 and parameters: {'kernel': 'rbf', 'C': 358.86523529434464, 'max iter': 807728, 'gamma': 346.47851394999645}. Best is trial 182 with value: -0.8936.\n"
          ]
        },
        {
          "name": "stdout",
          "output_type": "stream",
          "text": [
            "kernel: rbf, C: 986.2200650316744, gamma: 7.24475268593002, coef0: 0, degree: 3, tol: 623814\n"
          ]
        },
        {
          "name": "stderr",
          "output_type": "stream",
          "text": [
            "[I 2024-11-15 23:17:54,938] Trial 661 finished with value: -0.8747999999999999 and parameters: {'kernel': 'rbf', 'C': 986.2200650316744, 'max iter': 623814, 'gamma': 7.24475268593002}. Best is trial 182 with value: -0.8936.\n"
          ]
        },
        {
          "name": "stdout",
          "output_type": "stream",
          "text": [
            "kernel: linear, C: 610.2842687296641, gamma: 1, coef0: 0, degree: 3, tol: 350139\n"
          ]
        },
        {
          "name": "stderr",
          "output_type": "stream",
          "text": [
            "[I 2024-11-15 23:17:56,123] Trial 662 finished with value: -0.8848 and parameters: {'kernel': 'linear', 'C': 610.2842687296641, 'max iter': 350139}. Best is trial 182 with value: -0.8936.\n"
          ]
        },
        {
          "name": "stdout",
          "output_type": "stream",
          "text": [
            "kernel: rbf, C: 459.20433859692554, gamma: 0.3027298055952596, coef0: 0, degree: 3, tol: 496026\n"
          ]
        },
        {
          "name": "stderr",
          "output_type": "stream",
          "text": [
            "[I 2024-11-15 23:17:56,941] Trial 663 finished with value: -0.8844 and parameters: {'kernel': 'rbf', 'C': 459.20433859692554, 'max iter': 496026, 'gamma': 0.3027298055952596}. Best is trial 182 with value: -0.8936.\n"
          ]
        },
        {
          "name": "stdout",
          "output_type": "stream",
          "text": [
            "kernel: rbf, C: 991.6868423231348, gamma: 1.8263716961608554, coef0: 0, degree: 3, tol: 159649\n"
          ]
        },
        {
          "name": "stderr",
          "output_type": "stream",
          "text": [
            "[I 2024-11-15 23:17:59,494] Trial 664 finished with value: -0.892 and parameters: {'kernel': 'rbf', 'C': 991.6868423231348, 'max iter': 159649, 'gamma': 1.8263716961608554}. Best is trial 182 with value: -0.8936.\n"
          ]
        },
        {
          "name": "stdout",
          "output_type": "stream",
          "text": [
            "kernel: rbf, C: 180.90954483628957, gamma: 1.023502479949382, coef0: 0, degree: 3, tol: 797495\n"
          ]
        },
        {
          "name": "stderr",
          "output_type": "stream",
          "text": [
            "[I 2024-11-15 23:18:00,321] Trial 665 finished with value: -0.8852 and parameters: {'kernel': 'rbf', 'C': 180.90954483628957, 'max iter': 797495, 'gamma': 1.023502479949382}. Best is trial 182 with value: -0.8936.\n"
          ]
        },
        {
          "name": "stdout",
          "output_type": "stream",
          "text": [
            "kernel: rbf, C: 9.423524185145352, gamma: 2.1721901168847695, coef0: 0, degree: 3, tol: 257612\n"
          ]
        },
        {
          "name": "stderr",
          "output_type": "stream",
          "text": [
            "[I 2024-11-15 23:18:00,865] Trial 666 finished with value: -0.8855999999999999 and parameters: {'kernel': 'rbf', 'C': 9.423524185145352, 'max iter': 257612, 'gamma': 2.1721901168847695}. Best is trial 182 with value: -0.8936.\n"
          ]
        },
        {
          "name": "stdout",
          "output_type": "stream",
          "text": [
            "kernel: sigmoid, C: 635.7656288967573, gamma: 1.2218866177507193, coef0: 204.13050652528406, degree: 3, tol: 627249\n"
          ]
        },
        {
          "name": "stderr",
          "output_type": "stream",
          "text": [
            "[I 2024-11-15 23:18:01,580] Trial 667 finished with value: -0.52 and parameters: {'kernel': 'sigmoid', 'C': 635.7656288967573, 'max iter': 627249, 'gamma': 1.2218866177507193, 'coef0': 204.13050652528406}. Best is trial 182 with value: -0.8936.\n"
          ]
        },
        {
          "name": "stdout",
          "output_type": "stream",
          "text": [
            "kernel: rbf, C: 762.670927039403, gamma: 4.267754489989859, coef0: 0, degree: 3, tol: 488437\n"
          ]
        },
        {
          "name": "stderr",
          "output_type": "stream",
          "text": [
            "[I 2024-11-15 23:18:04,854] Trial 668 finished with value: -0.8824 and parameters: {'kernel': 'rbf', 'C': 762.670927039403, 'max iter': 488437, 'gamma': 4.267754489989859}. Best is trial 182 with value: -0.8936.\n"
          ]
        },
        {
          "name": "stdout",
          "output_type": "stream",
          "text": [
            "kernel: rbf, C: 293.09301633726426, gamma: 2.879815831068484, coef0: 0, degree: 3, tol: 722355\n"
          ]
        },
        {
          "name": "stderr",
          "output_type": "stream",
          "text": [
            "[I 2024-11-15 23:18:06,343] Trial 669 finished with value: -0.8892 and parameters: {'kernel': 'rbf', 'C': 293.09301633726426, 'max iter': 722355, 'gamma': 2.879815831068484}. Best is trial 182 with value: -0.8936.\n"
          ]
        },
        {
          "name": "stdout",
          "output_type": "stream",
          "text": [
            "kernel: rbf, C: 474.32879658676654, gamma: 0.7600482041787311, coef0: 0, degree: 3, tol: 979034\n"
          ]
        },
        {
          "name": "stderr",
          "output_type": "stream",
          "text": [
            "[I 2024-11-15 23:18:07,415] Trial 670 finished with value: -0.8852 and parameters: {'kernel': 'rbf', 'C': 474.32879658676654, 'max iter': 979034, 'gamma': 0.7600482041787311}. Best is trial 182 with value: -0.8936.\n"
          ]
        },
        {
          "name": "stdout",
          "output_type": "stream",
          "text": [
            "kernel: rbf, C: 777.649480861664, gamma: 1.770601183734979, coef0: 0, degree: 3, tol: 370198\n"
          ]
        },
        {
          "name": "stderr",
          "output_type": "stream",
          "text": [
            "[I 2024-11-15 23:18:09,633] Trial 671 finished with value: -0.892 and parameters: {'kernel': 'rbf', 'C': 777.649480861664, 'max iter': 370198, 'gamma': 1.770601183734979}. Best is trial 182 with value: -0.8936.\n"
          ]
        },
        {
          "name": "stdout",
          "output_type": "stream",
          "text": [
            "kernel: rbf, C: 567.0590705942867, gamma: 0.014734581588014682, coef0: 0, degree: 3, tol: 582697\n"
          ]
        },
        {
          "name": "stderr",
          "output_type": "stream",
          "text": [
            "[I 2024-11-15 23:18:10,202] Trial 672 finished with value: -0.8847999999999999 and parameters: {'kernel': 'rbf', 'C': 567.0590705942867, 'max iter': 582697, 'gamma': 0.014734581588014682}. Best is trial 182 with value: -0.8936.\n"
          ]
        },
        {
          "name": "stdout",
          "output_type": "stream",
          "text": [
            "kernel: poly, C: 354.53963852583456, gamma: 1.5100105330628966, coef0: 0.008746420222246067, degree: 3, tol: 8129\n"
          ]
        },
        {
          "name": "stderr",
          "output_type": "stream",
          "text": [
            "[I 2024-11-15 23:18:11,215] Trial 673 finished with value: -0.5912000000000001 and parameters: {'kernel': 'poly', 'C': 354.53963852583456, 'max iter': 8129, 'gamma': 1.5100105330628966, 'coef0': 0.008746420222246067, 'degree': 3}. Best is trial 182 with value: -0.8936.\n"
          ]
        },
        {
          "name": "stdout",
          "output_type": "stream",
          "text": [
            "kernel: rbf, C: 997.4712082539595, gamma: 2.624632635473674, coef0: 0, degree: 3, tol: 817612\n"
          ]
        },
        {
          "name": "stderr",
          "output_type": "stream",
          "text": [
            "[I 2024-11-15 23:18:14,476] Trial 674 finished with value: -0.8876 and parameters: {'kernel': 'rbf', 'C': 997.4712082539595, 'max iter': 817612, 'gamma': 2.624632635473674}. Best is trial 182 with value: -0.8936.\n"
          ]
        },
        {
          "name": "stdout",
          "output_type": "stream",
          "text": [
            "kernel: rbf, C: 660.0444812040072, gamma: 86.53995022537553, coef0: 0, degree: 3, tol: 302102\n"
          ]
        },
        {
          "name": "stderr",
          "output_type": "stream",
          "text": [
            "[I 2024-11-15 23:18:15,899] Trial 675 finished with value: -0.8240000000000001 and parameters: {'kernel': 'rbf', 'C': 660.0444812040072, 'max iter': 302102, 'gamma': 86.53995022537553}. Best is trial 182 with value: -0.8936.\n"
          ]
        },
        {
          "name": "stdout",
          "output_type": "stream",
          "text": [
            "kernel: rbf, C: 474.85994672665083, gamma: 1.1145092572089508, coef0: 0, degree: 3, tol: 460606\n"
          ]
        },
        {
          "name": "stderr",
          "output_type": "stream",
          "text": [
            "[I 2024-11-15 23:18:17,105] Trial 676 finished with value: -0.8896000000000001 and parameters: {'kernel': 'rbf', 'C': 474.85994672665083, 'max iter': 460606, 'gamma': 1.1145092572089508}. Best is trial 182 with value: -0.8936.\n"
          ]
        },
        {
          "name": "stdout",
          "output_type": "stream",
          "text": [
            "kernel: rbf, C: 772.278643341295, gamma: 4.606490259309479, coef0: 0, degree: 3, tol: 221775\n"
          ]
        },
        {
          "name": "stderr",
          "output_type": "stream",
          "text": [
            "[I 2024-11-15 23:18:20,598] Trial 677 finished with value: -0.8808 and parameters: {'kernel': 'rbf', 'C': 772.278643341295, 'max iter': 221775, 'gamma': 4.606490259309479}. Best is trial 182 with value: -0.8936.\n"
          ]
        },
        {
          "name": "stdout",
          "output_type": "stream",
          "text": [
            "kernel: rbf, C: 396.0436001397702, gamma: 1.3161747186428023e-05, coef0: 0, degree: 3, tol: 656801\n"
          ]
        },
        {
          "name": "stderr",
          "output_type": "stream",
          "text": [
            "[I 2024-11-15 23:18:21,700] Trial 678 finished with value: -0.8492000000000001 and parameters: {'kernel': 'rbf', 'C': 396.0436001397702, 'max iter': 656801, 'gamma': 1.3161747186428023e-05}. Best is trial 182 with value: -0.8936.\n"
          ]
        },
        {
          "name": "stdout",
          "output_type": "stream",
          "text": [
            "kernel: rbf, C: 575.1169974175355, gamma: 1.9860977309402146, coef0: 0, degree: 3, tol: 541829\n"
          ]
        },
        {
          "name": "stderr",
          "output_type": "stream",
          "text": [
            "[I 2024-11-15 23:18:23,619] Trial 679 finished with value: -0.892 and parameters: {'kernel': 'rbf', 'C': 575.1169974175355, 'max iter': 541829, 'gamma': 1.9860977309402146}. Best is trial 182 with value: -0.8936.\n"
          ]
        },
        {
          "name": "stdout",
          "output_type": "stream",
          "text": [
            "kernel: rbf, C: 253.32649800296892, gamma: 3.0514846125632835, coef0: 0, degree: 3, tol: 396707\n"
          ]
        },
        {
          "name": "stderr",
          "output_type": "stream",
          "text": [
            "[I 2024-11-15 23:18:25,006] Trial 680 finished with value: -0.8884000000000001 and parameters: {'kernel': 'rbf', 'C': 253.32649800296892, 'max iter': 396707, 'gamma': 3.0514846125632835}. Best is trial 182 with value: -0.8936.\n"
          ]
        },
        {
          "name": "stdout",
          "output_type": "stream",
          "text": [
            "kernel: rbf, C: 821.7855475604807, gamma: 0.4946777507671669, coef0: 0, degree: 3, tol: 983674\n"
          ]
        },
        {
          "name": "stderr",
          "output_type": "stream",
          "text": [
            "[I 2024-11-15 23:18:26,192] Trial 681 finished with value: -0.8868 and parameters: {'kernel': 'rbf', 'C': 821.7855475604807, 'max iter': 983674, 'gamma': 0.4946777507671669}. Best is trial 182 with value: -0.8936.\n"
          ]
        },
        {
          "name": "stdout",
          "output_type": "stream",
          "text": [
            "kernel: rbf, C: 542.3780139672468, gamma: 1.3373992576211131, coef0: 0, degree: 3, tol: 723690\n"
          ]
        },
        {
          "name": "stderr",
          "output_type": "stream",
          "text": [
            "[I 2024-11-15 23:18:27,668] Trial 682 finished with value: -0.8896000000000001 and parameters: {'kernel': 'rbf', 'C': 542.3780139672468, 'max iter': 723690, 'gamma': 1.3373992576211131}. Best is trial 182 with value: -0.8936.\n"
          ]
        },
        {
          "name": "stdout",
          "output_type": "stream",
          "text": [
            "kernel: rbf, C: 714.2419216980171, gamma: 0.025625783067169318, coef0: 0, degree: 3, tol: 553040\n"
          ]
        },
        {
          "name": "stderr",
          "output_type": "stream",
          "text": [
            "[I 2024-11-15 23:18:28,248] Trial 683 finished with value: -0.8832000000000001 and parameters: {'kernel': 'rbf', 'C': 714.2419216980171, 'max iter': 553040, 'gamma': 0.025625783067169318}. Best is trial 182 with value: -0.8936.\n"
          ]
        },
        {
          "name": "stdout",
          "output_type": "stream",
          "text": [
            "kernel: rbf, C: 985.879465554621, gamma: 0.832498922074033, coef0: 0, degree: 3, tol: 137269\n"
          ]
        },
        {
          "name": "stderr",
          "output_type": "stream",
          "text": [
            "[I 2024-11-15 23:18:29,862] Trial 684 finished with value: -0.8872 and parameters: {'kernel': 'rbf', 'C': 985.879465554621, 'max iter': 137269, 'gamma': 0.832498922074033}. Best is trial 182 with value: -0.8936.\n"
          ]
        },
        {
          "name": "stdout",
          "output_type": "stream",
          "text": [
            "kernel: rbf, C: 414.473178702697, gamma: 3.853880290787559e-05, coef0: 0, degree: 3, tol: 789228\n"
          ]
        },
        {
          "name": "stderr",
          "output_type": "stream",
          "text": [
            "[I 2024-11-15 23:18:30,728] Trial 685 finished with value: -0.8608 and parameters: {'kernel': 'rbf', 'C': 414.473178702697, 'max iter': 789228, 'gamma': 3.853880290787559e-05}. Best is trial 182 with value: -0.8936.\n"
          ]
        },
        {
          "name": "stdout",
          "output_type": "stream",
          "text": [
            "kernel: rbf, C: 613.5856557874425, gamma: 2.181722905663811, coef0: 0, degree: 3, tol: 995704\n"
          ]
        },
        {
          "name": "stderr",
          "output_type": "stream",
          "text": [
            "[I 2024-11-15 23:18:32,761] Trial 686 finished with value: -0.892 and parameters: {'kernel': 'rbf', 'C': 613.5856557874425, 'max iter': 995704, 'gamma': 2.181722905663811}. Best is trial 182 with value: -0.8936.\n"
          ]
        },
        {
          "name": "stdout",
          "output_type": "stream",
          "text": [
            "kernel: rbf, C: 303.8290051007233, gamma: 3.5258868512300476, coef0: 0, degree: 3, tol: 426049\n"
          ]
        },
        {
          "name": "stderr",
          "output_type": "stream",
          "text": [
            "[I 2024-11-15 23:18:34,423] Trial 687 finished with value: -0.8876 and parameters: {'kernel': 'rbf', 'C': 303.8290051007233, 'max iter': 426049, 'gamma': 3.5258868512300476}. Best is trial 182 with value: -0.8936.\n"
          ]
        },
        {
          "name": "stdout",
          "output_type": "stream",
          "text": [
            "kernel: rbf, C: 991.1057545437659, gamma: 1.6836966055893448, coef0: 0, degree: 3, tol: 299283\n"
          ]
        },
        {
          "name": "stderr",
          "output_type": "stream",
          "text": [
            "[I 2024-11-15 23:18:36,874] Trial 688 finished with value: -0.8924000000000001 and parameters: {'kernel': 'rbf', 'C': 991.1057545437659, 'max iter': 299283, 'gamma': 1.6836966055893448}. Best is trial 182 with value: -0.8936.\n"
          ]
        },
        {
          "name": "stdout",
          "output_type": "stream",
          "text": [
            "kernel: linear, C: 795.6725381796334, gamma: 1, coef0: 0, degree: 3, tol: 171516\n"
          ]
        },
        {
          "name": "stderr",
          "output_type": "stream",
          "text": [
            "[I 2024-11-15 23:18:38,180] Trial 689 finished with value: -0.8852 and parameters: {'kernel': 'linear', 'C': 795.6725381796334, 'max iter': 171516}. Best is trial 182 with value: -0.8936.\n"
          ]
        },
        {
          "name": "stdout",
          "output_type": "stream",
          "text": [
            "kernel: rbf, C: 48.861289853706204, gamma: 1.1736099871077361, coef0: 0, degree: 3, tol: 201497\n"
          ]
        },
        {
          "name": "stderr",
          "output_type": "stream",
          "text": [
            "[I 2024-11-15 23:18:38,784] Trial 690 finished with value: -0.8852 and parameters: {'kernel': 'rbf', 'C': 48.861289853706204, 'max iter': 201497, 'gamma': 1.1736099871077361}. Best is trial 182 with value: -0.8936.\n"
          ]
        },
        {
          "name": "stdout",
          "output_type": "stream",
          "text": [
            "kernel: sigmoid, C: 990.3214594528248, gamma: 5.744342378042266, coef0: 34.427258926318466, degree: 3, tol: 246987\n"
          ]
        },
        {
          "name": "stderr",
          "output_type": "stream",
          "text": [
            "[I 2024-11-15 23:18:39,512] Trial 691 finished with value: -0.52 and parameters: {'kernel': 'sigmoid', 'C': 990.3214594528248, 'max iter': 246987, 'gamma': 5.744342378042266, 'coef0': 34.427258926318466}. Best is trial 182 with value: -0.8936.\n"
          ]
        },
        {
          "name": "stdout",
          "output_type": "stream",
          "text": [
            "kernel: rbf, C: 115.73765365577668, gamma: 2.374404135658888, coef0: 0, degree: 3, tol: 350952\n"
          ]
        },
        {
          "name": "stderr",
          "output_type": "stream",
          "text": [
            "[I 2024-11-15 23:18:40,405] Trial 692 finished with value: -0.8860000000000001 and parameters: {'kernel': 'rbf', 'C': 115.73765365577668, 'max iter': 350952, 'gamma': 2.374404135658888}. Best is trial 182 with value: -0.8936.\n"
          ]
        },
        {
          "name": "stdout",
          "output_type": "stream",
          "text": [
            "kernel: rbf, C: 0.333579557076306, gamma: 1.6241631015931415, coef0: 0, degree: 3, tol: 298801\n"
          ]
        },
        {
          "name": "stderr",
          "output_type": "stream",
          "text": [
            "[I 2024-11-15 23:18:40,949] Trial 693 finished with value: -0.8788 and parameters: {'kernel': 'rbf', 'C': 0.333579557076306, 'max iter': 298801, 'gamma': 1.6241631015931415}. Best is trial 182 with value: -0.8936.\n"
          ]
        },
        {
          "name": "stdout",
          "output_type": "stream",
          "text": [
            "kernel: rbf, C: 519.4468213578831, gamma: 0.6681083896931785, coef0: 0, degree: 3, tol: 278466\n"
          ]
        },
        {
          "name": "stderr",
          "output_type": "stream",
          "text": [
            "[I 2024-11-15 23:18:42,082] Trial 694 finished with value: -0.8859999999999999 and parameters: {'kernel': 'rbf', 'C': 519.4468213578831, 'max iter': 278466, 'gamma': 0.6681083896931785}. Best is trial 182 with value: -0.8936.\n"
          ]
        },
        {
          "name": "stdout",
          "output_type": "stream",
          "text": [
            "kernel: rbf, C: 760.5979920277778, gamma: 2.7178678845213162, coef0: 0, degree: 3, tol: 221331\n"
          ]
        },
        {
          "name": "stderr",
          "output_type": "stream",
          "text": [
            "[I 2024-11-15 23:18:44,781] Trial 695 finished with value: -0.8880000000000001 and parameters: {'kernel': 'rbf', 'C': 760.5979920277778, 'max iter': 221331, 'gamma': 2.7178678845213162}. Best is trial 182 with value: -0.8936.\n"
          ]
        },
        {
          "name": "stdout",
          "output_type": "stream",
          "text": [
            "kernel: rbf, C: 983.2798171769847, gamma: 1.0589601969628066, coef0: 0, degree: 3, tol: 1355\n"
          ]
        },
        {
          "name": "stderr",
          "output_type": "stream",
          "text": [
            "[I 2024-11-15 23:18:45,393] Trial 696 finished with value: -0.5368 and parameters: {'kernel': 'rbf', 'C': 983.2798171769847, 'max iter': 1355, 'gamma': 1.0589601969628066}. Best is trial 182 with value: -0.8936.\n"
          ]
        },
        {
          "name": "stdout",
          "output_type": "stream",
          "text": [
            "kernel: rbf, C: 638.300069781858, gamma: 1.5853669224920734, coef0: 0, degree: 3, tol: 304320\n"
          ]
        },
        {
          "name": "stderr",
          "output_type": "stream",
          "text": [
            "[I 2024-11-15 23:18:47,184] Trial 697 finished with value: -0.8892 and parameters: {'kernel': 'rbf', 'C': 638.300069781858, 'max iter': 304320, 'gamma': 1.5853669224920734}. Best is trial 182 with value: -0.8936.\n"
          ]
        },
        {
          "name": "stdout",
          "output_type": "stream",
          "text": [
            "kernel: poly, C: 425.03361079540366, gamma: 3.9985268031413503, coef0: 0.004226121776742926, degree: 6, tol: 368747\n"
          ]
        },
        {
          "name": "stderr",
          "output_type": "stream",
          "text": [
            "[I 2024-11-15 23:19:14,099] Trial 698 finished with value: -0.5216 and parameters: {'kernel': 'poly', 'C': 425.03361079540366, 'max iter': 368747, 'gamma': 3.9985268031413503, 'coef0': 0.004226121776742926, 'degree': 6}. Best is trial 182 with value: -0.8936.\n"
          ]
        },
        {
          "name": "stdout",
          "output_type": "stream",
          "text": [
            "kernel: rbf, C: 0.01967356287049916, gamma: 1.9694789476904038, coef0: 0, degree: 3, tol: 384855\n"
          ]
        },
        {
          "name": "stderr",
          "output_type": "stream",
          "text": [
            "[I 2024-11-15 23:19:14,905] Trial 699 finished with value: -0.8676 and parameters: {'kernel': 'rbf', 'C': 0.01967356287049916, 'max iter': 384855, 'gamma': 1.9694789476904038}. Best is trial 182 with value: -0.8936.\n"
          ]
        },
        {
          "name": "stdout",
          "output_type": "stream",
          "text": [
            "kernel: rbf, C: 992.6956268092734, gamma: 3.123052064796246, coef0: 0, degree: 3, tol: 295880\n"
          ]
        },
        {
          "name": "stderr",
          "output_type": "stream",
          "text": [
            "[I 2024-11-15 23:19:18,301] Trial 700 finished with value: -0.8852 and parameters: {'kernel': 'rbf', 'C': 992.6956268092734, 'max iter': 295880, 'gamma': 3.123052064796246}. Best is trial 182 with value: -0.8936.\n",
            "[I 2024-11-15 23:19:18,421] Trial 701 finished with value: -0.5392 and parameters: {'kernel': 'rbf', 'C': 625.0214156622873, 'max iter': 72, 'gamma': 8.04719915249717}. Best is trial 182 with value: -0.8936.\n"
          ]
        },
        {
          "name": "stdout",
          "output_type": "stream",
          "text": [
            "kernel: rbf, C: 625.0214156622873, gamma: 8.04719915249717, coef0: 0, degree: 3, tol: 72\n",
            "kernel: rbf, C: 522.9527811101932, gamma: 1.036629211874073, coef0: 0, degree: 3, tol: 496591\n"
          ]
        },
        {
          "name": "stderr",
          "output_type": "stream",
          "text": [
            "[I 2024-11-15 23:19:19,647] Trial 702 finished with value: -0.8888 and parameters: {'kernel': 'rbf', 'C': 522.9527811101932, 'max iter': 496591, 'gamma': 1.036629211874073}. Best is trial 182 with value: -0.8936.\n"
          ]
        },
        {
          "name": "stdout",
          "output_type": "stream",
          "text": [
            "kernel: rbf, C: 990.3029912587025, gamma: 2.107883240741883, coef0: 0, degree: 3, tol: 236138\n"
          ]
        },
        {
          "name": "stderr",
          "output_type": "stream",
          "text": [
            "[I 2024-11-15 23:19:22,180] Trial 703 finished with value: -0.8872 and parameters: {'kernel': 'rbf', 'C': 990.3029912587025, 'max iter': 236138, 'gamma': 2.107883240741883}. Best is trial 182 with value: -0.8936.\n"
          ]
        },
        {
          "name": "stdout",
          "output_type": "stream",
          "text": [
            "kernel: rbf, C: 764.7043510723076, gamma: 1.47349892194226, coef0: 0, degree: 3, tol: 168351\n"
          ]
        },
        {
          "name": "stderr",
          "output_type": "stream",
          "text": [
            "[I 2024-11-15 23:19:24,071] Trial 704 finished with value: -0.8884000000000001 and parameters: {'kernel': 'rbf', 'C': 764.7043510723076, 'max iter': 168351, 'gamma': 1.47349892194226}. Best is trial 182 with value: -0.8936.\n"
          ]
        },
        {
          "name": "stdout",
          "output_type": "stream",
          "text": [
            "kernel: rbf, C: 336.59187184581083, gamma: 4.581448178963757, coef0: 0, degree: 3, tol: 452174\n"
          ]
        },
        {
          "name": "stderr",
          "output_type": "stream",
          "text": [
            "[I 2024-11-15 23:19:26,049] Trial 705 finished with value: -0.884 and parameters: {'kernel': 'rbf', 'C': 336.59187184581083, 'max iter': 452174, 'gamma': 4.581448178963757}. Best is trial 182 with value: -0.8936.\n"
          ]
        },
        {
          "name": "stdout",
          "output_type": "stream",
          "text": [
            "kernel: rbf, C: 477.38125935211815, gamma: 0.8762607886838137, coef0: 0, degree: 3, tol: 113910\n"
          ]
        },
        {
          "name": "stderr",
          "output_type": "stream",
          "text": [
            "[I 2024-11-15 23:19:27,133] Trial 706 finished with value: -0.8852 and parameters: {'kernel': 'rbf', 'C': 477.38125935211815, 'max iter': 113910, 'gamma': 0.8762607886838137}. Best is trial 182 with value: -0.8936.\n"
          ]
        },
        {
          "name": "stdout",
          "output_type": "stream",
          "text": [
            "kernel: rbf, C: 656.9694986127131, gamma: 2.8831282499127413, coef0: 0, degree: 3, tol: 349614\n"
          ]
        },
        {
          "name": "stderr",
          "output_type": "stream",
          "text": [
            "[I 2024-11-15 23:19:29,446] Trial 707 finished with value: -0.8884000000000001 and parameters: {'kernel': 'rbf', 'C': 656.9694986127131, 'max iter': 349614, 'gamma': 2.8831282499127413}. Best is trial 182 with value: -0.8936.\n"
          ]
        },
        {
          "name": "stdout",
          "output_type": "stream",
          "text": [
            "kernel: rbf, C: 768.4665200414787, gamma: 2.038055031928406, coef0: 0, degree: 3, tol: 579292\n"
          ]
        },
        {
          "name": "stderr",
          "output_type": "stream",
          "text": [
            "[I 2024-11-15 23:19:31,511] Trial 708 finished with value: -0.892 and parameters: {'kernel': 'rbf', 'C': 768.4665200414787, 'max iter': 579292, 'gamma': 2.038055031928406}. Best is trial 182 with value: -0.8936.\n"
          ]
        },
        {
          "name": "stdout",
          "output_type": "stream",
          "text": [
            "kernel: rbf, C: 0.0916508137364223, gamma: 1.319427052479359, coef0: 0, degree: 3, tol: 424898\n"
          ]
        },
        {
          "name": "stderr",
          "output_type": "stream",
          "text": [
            "[I 2024-11-15 23:19:32,127] Trial 709 finished with value: -0.8744 and parameters: {'kernel': 'rbf', 'C': 0.0916508137364223, 'max iter': 424898, 'gamma': 1.319427052479359}. Best is trial 182 with value: -0.8936.\n"
          ]
        },
        {
          "name": "stdout",
          "output_type": "stream",
          "text": [
            "kernel: linear, C: 418.64390578068543, gamma: 1, coef0: 0, degree: 3, tol: 13653\n"
          ]
        },
        {
          "name": "stderr",
          "output_type": "stream",
          "text": [
            "[I 2024-11-15 23:19:32,886] Trial 710 finished with value: -0.8844 and parameters: {'kernel': 'linear', 'C': 418.64390578068543, 'max iter': 13653}. Best is trial 182 with value: -0.8936.\n"
          ]
        },
        {
          "name": "stdout",
          "output_type": "stream",
          "text": [
            "kernel: rbf, C: 224.8526375186732, gamma: 2.907347869472035, coef0: 0, degree: 3, tol: 624333\n"
          ]
        },
        {
          "name": "stderr",
          "output_type": "stream",
          "text": [
            "[I 2024-11-15 23:19:34,131] Trial 711 finished with value: -0.89 and parameters: {'kernel': 'rbf', 'C': 224.8526375186732, 'max iter': 624333, 'gamma': 2.907347869472035}. Best is trial 182 with value: -0.8936.\n"
          ]
        },
        {
          "name": "stdout",
          "output_type": "stream",
          "text": [
            "kernel: rbf, C: 587.6367819596131, gamma: 1.501686394795005, coef0: 0, degree: 3, tol: 493526\n"
          ]
        },
        {
          "name": "stderr",
          "output_type": "stream",
          "text": [
            "[I 2024-11-15 23:19:35,719] Trial 712 finished with value: -0.8880000000000001 and parameters: {'kernel': 'rbf', 'C': 587.6367819596131, 'max iter': 493526, 'gamma': 1.501686394795005}. Best is trial 182 with value: -0.8936.\n"
          ]
        },
        {
          "name": "stdout",
          "output_type": "stream",
          "text": [
            "kernel: rbf, C: 806.4206053589646, gamma: 0.7476092433616706, coef0: 0, degree: 3, tol: 333800\n"
          ]
        },
        {
          "name": "stderr",
          "output_type": "stream",
          "text": [
            "[I 2024-11-15 23:19:37,106] Trial 713 finished with value: -0.8864000000000001 and parameters: {'kernel': 'rbf', 'C': 806.4206053589646, 'max iter': 333800, 'gamma': 0.7476092433616706}. Best is trial 182 with value: -0.8936.\n"
          ]
        },
        {
          "name": "stdout",
          "output_type": "stream",
          "text": [
            "kernel: rbf, C: 356.3260139699632, gamma: 2.1893459908289343, coef0: 0, degree: 3, tol: 252256\n"
          ]
        },
        {
          "name": "stderr",
          "output_type": "stream",
          "text": [
            "[I 2024-11-15 23:19:38,485] Trial 714 finished with value: -0.8916000000000001 and parameters: {'kernel': 'rbf', 'C': 356.3260139699632, 'max iter': 252256, 'gamma': 2.1893459908289343}. Best is trial 182 with value: -0.8936.\n"
          ]
        },
        {
          "name": "stdout",
          "output_type": "stream",
          "text": [
            "kernel: sigmoid, C: 563.3130169161252, gamma: 3.7955591021838098, coef0: 0.16461684979441552, degree: 3, tol: 655722\n"
          ]
        },
        {
          "name": "stderr",
          "output_type": "stream",
          "text": [
            "[I 2024-11-15 23:19:39,994] Trial 715 finished with value: -0.5204 and parameters: {'kernel': 'sigmoid', 'C': 563.3130169161252, 'max iter': 655722, 'gamma': 3.7955591021838098, 'coef0': 0.16461684979441552}. Best is trial 182 with value: -0.8936.\n"
          ]
        },
        {
          "name": "stdout",
          "output_type": "stream",
          "text": [
            "kernel: rbf, C: 759.1624548188759, gamma: 1.1865656776338438, coef0: 0, degree: 3, tol: 477754\n"
          ]
        },
        {
          "name": "stderr",
          "output_type": "stream",
          "text": [
            "[I 2024-11-15 23:19:41,658] Trial 716 finished with value: -0.8892000000000001 and parameters: {'kernel': 'rbf', 'C': 759.1624548188759, 'max iter': 477754, 'gamma': 1.1865656776338438}. Best is trial 182 with value: -0.8936.\n"
          ]
        },
        {
          "name": "stdout",
          "output_type": "stream",
          "text": [
            "kernel: rbf, C: 995.7947539638513, gamma: 5.92372210122033, coef0: 0, degree: 3, tol: 701790\n"
          ]
        },
        {
          "name": "stderr",
          "output_type": "stream",
          "text": [
            "[I 2024-11-15 23:19:46,189] Trial 717 finished with value: -0.8756 and parameters: {'kernel': 'rbf', 'C': 995.7947539638513, 'max iter': 701790, 'gamma': 5.92372210122033}. Best is trial 182 with value: -0.8936.\n"
          ]
        },
        {
          "name": "stdout",
          "output_type": "stream",
          "text": [
            "kernel: rbf, C: 15.682404747034134, gamma: 0.5406164358550183, coef0: 0, degree: 3, tol: 189266\n"
          ]
        },
        {
          "name": "stderr",
          "output_type": "stream",
          "text": [
            "[I 2024-11-15 23:19:46,723] Trial 718 finished with value: -0.884 and parameters: {'kernel': 'rbf', 'C': 15.682404747034134, 'max iter': 189266, 'gamma': 0.5406164358550183}. Best is trial 182 with value: -0.8936.\n"
          ]
        },
        {
          "name": "stdout",
          "output_type": "stream",
          "text": [
            "kernel: rbf, C: 469.8582816582715, gamma: 0.0010778111961134275, coef0: 0, degree: 3, tol: 571765\n"
          ]
        },
        {
          "name": "stderr",
          "output_type": "stream",
          "text": [
            "[I 2024-11-15 23:19:47,311] Trial 719 finished with value: -0.8712 and parameters: {'kernel': 'rbf', 'C': 469.8582816582715, 'max iter': 571765, 'gamma': 0.0010778111961134275}. Best is trial 182 with value: -0.8936.\n"
          ]
        },
        {
          "name": "stdout",
          "output_type": "stream",
          "text": [
            "kernel: rbf, C: 646.4850360497912, gamma: 1.8355466678693373, coef0: 0, degree: 3, tol: 404811\n"
          ]
        },
        {
          "name": "stderr",
          "output_type": "stream",
          "text": [
            "[I 2024-11-15 23:19:49,140] Trial 720 finished with value: -0.8924 and parameters: {'kernel': 'rbf', 'C': 646.4850360497912, 'max iter': 404811, 'gamma': 1.8355466678693373}. Best is trial 182 with value: -0.8936.\n"
          ]
        },
        {
          "name": "stdout",
          "output_type": "stream",
          "text": [
            "kernel: rbf, C: 285.76705481012107, gamma: 2.656477219514138, coef0: 0, degree: 3, tol: 173\n"
          ]
        },
        {
          "name": "stderr",
          "output_type": "stream",
          "text": [
            "[I 2024-11-15 23:19:49,352] Trial 721 finished with value: -0.4908 and parameters: {'kernel': 'rbf', 'C': 285.76705481012107, 'max iter': 173, 'gamma': 2.656477219514138}. Best is trial 182 with value: -0.8936.\n"
          ]
        },
        {
          "name": "stdout",
          "output_type": "stream",
          "text": [
            "kernel: poly, C: 476.50695972442185, gamma: 0.9691167089822618, coef0: 78.39250067962234, degree: 2, tol: 819678\n"
          ]
        },
        {
          "name": "stderr",
          "output_type": "stream",
          "text": [
            "[I 2024-11-15 23:20:00,017] Trial 722 finished with value: -0.8516 and parameters: {'kernel': 'poly', 'C': 476.50695972442185, 'max iter': 819678, 'gamma': 0.9691167089822618, 'coef0': 78.39250067962234, 'degree': 2}. Best is trial 182 with value: -0.8936.\n"
          ]
        },
        {
          "name": "stdout",
          "output_type": "stream",
          "text": [
            "kernel: rbf, C: 803.3570730039487, gamma: 1.4336740855084928, coef0: 0, degree: 3, tol: 133306\n"
          ]
        },
        {
          "name": "stderr",
          "output_type": "stream",
          "text": [
            "[I 2024-11-15 23:20:01,884] Trial 723 finished with value: -0.8884000000000001 and parameters: {'kernel': 'rbf', 'C': 803.3570730039487, 'max iter': 133306, 'gamma': 1.4336740855084928}. Best is trial 182 with value: -0.8936.\n"
          ]
        },
        {
          "name": "stdout",
          "output_type": "stream",
          "text": [
            "kernel: rbf, C: 642.8269764722006, gamma: 4.133858178859193, coef0: 0, degree: 3, tol: 284811\n"
          ]
        },
        {
          "name": "stderr",
          "output_type": "stream",
          "text": [
            "[I 2024-11-15 23:20:04,440] Trial 724 finished with value: -0.8812 and parameters: {'kernel': 'rbf', 'C': 642.8269764722006, 'max iter': 284811, 'gamma': 4.133858178859193}. Best is trial 182 with value: -0.8936.\n"
          ]
        },
        {
          "name": "stdout",
          "output_type": "stream",
          "text": [
            "kernel: rbf, C: 995.0674900678836, gamma: 2.0428665397961354, coef0: 0, degree: 3, tol: 569259\n"
          ]
        },
        {
          "name": "stderr",
          "output_type": "stream",
          "text": [
            "[I 2024-11-15 23:20:07,038] Trial 725 finished with value: -0.8880000000000001 and parameters: {'kernel': 'rbf', 'C': 995.0674900678836, 'max iter': 569259, 'gamma': 2.0428665397961354}. Best is trial 182 with value: -0.8936.\n"
          ]
        },
        {
          "name": "stdout",
          "output_type": "stream",
          "text": [
            "kernel: rbf, C: 396.50216647938413, gamma: 3.054216190220755, coef0: 0, degree: 3, tol: 383041\n"
          ]
        },
        {
          "name": "stderr",
          "output_type": "stream",
          "text": [
            "[I 2024-11-15 23:20:08,743] Trial 726 finished with value: -0.8868 and parameters: {'kernel': 'rbf', 'C': 396.50216647938413, 'max iter': 383041, 'gamma': 3.054216190220755}. Best is trial 182 with value: -0.8936.\n"
          ]
        },
        {
          "name": "stdout",
          "output_type": "stream",
          "text": [
            "kernel: rbf, C: 551.7533462749425, gamma: 1.4383061518836395, coef0: 0, degree: 3, tol: 677624\n"
          ]
        },
        {
          "name": "stderr",
          "output_type": "stream",
          "text": [
            "[I 2024-11-15 23:20:10,206] Trial 727 finished with value: -0.8892000000000001 and parameters: {'kernel': 'rbf', 'C': 551.7533462749425, 'max iter': 677624, 'gamma': 1.4383061518836395}. Best is trial 182 with value: -0.8936.\n"
          ]
        },
        {
          "name": "stdout",
          "output_type": "stream",
          "text": [
            "kernel: rbf, C: 745.1495316111308, gamma: 0.8905388009861495, coef0: 0, degree: 3, tol: 487376\n"
          ]
        },
        {
          "name": "stderr",
          "output_type": "stream",
          "text": [
            "[I 2024-11-15 23:20:11,537] Trial 728 finished with value: -0.8884000000000001 and parameters: {'kernel': 'rbf', 'C': 745.1495316111308, 'max iter': 487376, 'gamma': 0.8905388009861495}. Best is trial 182 with value: -0.8936.\n"
          ]
        },
        {
          "name": "stdout",
          "output_type": "stream",
          "text": [
            "kernel: rbf, C: 359.3211278677361, gamma: 2.0496269754734118, coef0: 0, degree: 3, tol: 823196\n"
          ]
        },
        {
          "name": "stderr",
          "output_type": "stream",
          "text": [
            "[I 2024-11-15 23:20:12,878] Trial 729 finished with value: -0.8896000000000001 and parameters: {'kernel': 'rbf', 'C': 359.3211278677361, 'max iter': 823196, 'gamma': 2.0496269754734118}. Best is trial 182 with value: -0.8936.\n"
          ]
        },
        {
          "name": "stdout",
          "output_type": "stream",
          "text": [
            "kernel: rbf, C: 524.982909100821, gamma: 3.2542031330570387, coef0: 0, degree: 3, tol: 338982\n"
          ]
        },
        {
          "name": "stderr",
          "output_type": "stream",
          "text": [
            "[I 2024-11-15 23:20:14,953] Trial 730 finished with value: -0.8876 and parameters: {'kernel': 'rbf', 'C': 524.982909100821, 'max iter': 338982, 'gamma': 3.2542031330570387}. Best is trial 182 with value: -0.8936.\n"
          ]
        },
        {
          "name": "stdout",
          "output_type": "stream",
          "text": [
            "kernel: rbf, C: 715.8648546890336, gamma: 1.2463939333316172, coef0: 0, degree: 3, tol: 545617\n"
          ]
        },
        {
          "name": "stderr",
          "output_type": "stream",
          "text": [
            "[I 2024-11-15 23:20:16,523] Trial 731 finished with value: -0.89 and parameters: {'kernel': 'rbf', 'C': 715.8648546890336, 'max iter': 545617, 'gamma': 1.2463939333316172}. Best is trial 182 with value: -0.8936.\n",
            "[I 2024-11-15 23:20:16,617] Trial 732 finished with value: -0.55 and parameters: {'kernel': 'rbf', 'C': 984.6899827035893, 'max iter': 44, 'gamma': 4.848252879368859}. Best is trial 182 with value: -0.8936.\n"
          ]
        },
        {
          "name": "stdout",
          "output_type": "stream",
          "text": [
            "kernel: rbf, C: 984.6899827035893, gamma: 4.848252879368859, coef0: 0, degree: 3, tol: 44\n",
            "kernel: rbf, C: 624.3146597719407, gamma: 12.732145175152175, coef0: 0, degree: 3, tol: 779945\n"
          ]
        },
        {
          "name": "stderr",
          "output_type": "stream",
          "text": [
            "[I 2024-11-15 23:20:20,336] Trial 733 finished with value: -0.8628 and parameters: {'kernel': 'rbf', 'C': 624.3146597719407, 'max iter': 779945, 'gamma': 12.732145175152175}. Best is trial 182 with value: -0.8936.\n"
          ]
        },
        {
          "name": "stdout",
          "output_type": "stream",
          "text": [
            "kernel: rbf, C: 447.1893130598877, gamma: 2.418193598567992, coef0: 0, degree: 3, tol: 203552\n"
          ]
        },
        {
          "name": "stderr",
          "output_type": "stream",
          "text": [
            "[I 2024-11-15 23:20:21,984] Trial 734 finished with value: -0.8911999999999999 and parameters: {'kernel': 'rbf', 'C': 447.1893130598877, 'max iter': 203552, 'gamma': 2.418193598567992}. Best is trial 182 with value: -0.8936.\n"
          ]
        },
        {
          "name": "stdout",
          "output_type": "stream",
          "text": [
            "kernel: rbf, C: 784.2022271583498, gamma: 0.6140694284934233, coef0: 0, degree: 3, tol: 43016\n"
          ]
        },
        {
          "name": "stderr",
          "output_type": "stream",
          "text": [
            "[I 2024-11-15 23:20:23,185] Trial 735 finished with value: -0.8855999999999999 and parameters: {'kernel': 'rbf', 'C': 784.2022271583498, 'max iter': 43016, 'gamma': 0.6140694284934233}. Best is trial 182 with value: -0.8936.\n"
          ]
        },
        {
          "name": "stdout",
          "output_type": "stream",
          "text": [
            "kernel: linear, C: 285.2275411314127, gamma: 1, coef0: 0, degree: 3, tol: 459068\n"
          ]
        },
        {
          "name": "stderr",
          "output_type": "stream",
          "text": [
            "[I 2024-11-15 23:20:23,946] Trial 736 finished with value: -0.8824 and parameters: {'kernel': 'linear', 'C': 285.2275411314127, 'max iter': 459068}. Best is trial 182 with value: -0.8936.\n"
          ]
        },
        {
          "name": "stdout",
          "output_type": "stream",
          "text": [
            "kernel: rbf, C: 997.5699596894317, gamma: 1.5134523622051979, coef0: 0, degree: 3, tol: 684575\n"
          ]
        },
        {
          "name": "stderr",
          "output_type": "stream",
          "text": [
            "[I 2024-11-15 23:20:26,067] Trial 737 finished with value: -0.892 and parameters: {'kernel': 'rbf', 'C': 997.5699596894317, 'max iter': 684575, 'gamma': 1.5134523622051979}. Best is trial 182 with value: -0.8936.\n"
          ]
        },
        {
          "name": "stdout",
          "output_type": "stream",
          "text": [
            "kernel: rbf, C: 548.4544888392574, gamma: 0.3672951334602483, coef0: 0, degree: 3, tol: 412626\n"
          ]
        },
        {
          "name": "stderr",
          "output_type": "stream",
          "text": [
            "[I 2024-11-15 23:20:26,968] Trial 738 finished with value: -0.884 and parameters: {'kernel': 'rbf', 'C': 548.4544888392574, 'max iter': 412626, 'gamma': 0.3672951334602483}. Best is trial 182 with value: -0.8936.\n"
          ]
        },
        {
          "name": "stdout",
          "output_type": "stream",
          "text": [
            "kernel: rbf, C: 405.28686741939623, gamma: 1.705407791231422, coef0: 0, degree: 3, tol: 602883\n"
          ]
        },
        {
          "name": "stderr",
          "output_type": "stream",
          "text": [
            "[I 2024-11-15 23:20:28,390] Trial 739 finished with value: -0.8888 and parameters: {'kernel': 'rbf', 'C': 405.28686741939623, 'max iter': 602883, 'gamma': 1.705407791231422}. Best is trial 182 with value: -0.8936.\n"
          ]
        },
        {
          "name": "stdout",
          "output_type": "stream",
          "text": [
            "kernel: sigmoid, C: 760.7598769484437, gamma: 0.9289968966275876, coef0: 3.18926751230761, degree: 3, tol: 273412\n"
          ]
        },
        {
          "name": "stderr",
          "output_type": "stream",
          "text": [
            "[I 2024-11-15 23:20:29,779] Trial 740 finished with value: -0.7247999999999999 and parameters: {'kernel': 'sigmoid', 'C': 760.7598769484437, 'max iter': 273412, 'gamma': 0.9289968966275876, 'coef0': 3.18926751230761}. Best is trial 182 with value: -0.8936.\n"
          ]
        },
        {
          "name": "stdout",
          "output_type": "stream",
          "text": [
            "kernel: rbf, C: 624.1550398040922, gamma: 2.5903354819509867, coef0: 0, degree: 3, tol: 972885\n"
          ]
        },
        {
          "name": "stderr",
          "output_type": "stream",
          "text": [
            "[I 2024-11-15 23:20:31,796] Trial 741 finished with value: -0.8876000000000002 and parameters: {'kernel': 'rbf', 'C': 624.1550398040922, 'max iter': 972885, 'gamma': 2.5903354819509867}. Best is trial 182 with value: -0.8936.\n"
          ]
        },
        {
          "name": "stdout",
          "output_type": "stream",
          "text": [
            "kernel: rbf, C: 990.3838926257567, gamma: 4.002997089595069, coef0: 0, degree: 3, tol: 698235\n"
          ]
        },
        {
          "name": "stderr",
          "output_type": "stream",
          "text": [
            "[I 2024-11-15 23:20:35,266] Trial 742 finished with value: -0.8795999999999999 and parameters: {'kernel': 'rbf', 'C': 990.3838926257567, 'max iter': 698235, 'gamma': 4.002997089595069}. Best is trial 182 with value: -0.8936.\n"
          ]
        },
        {
          "name": "stdout",
          "output_type": "stream",
          "text": [
            "kernel: rbf, C: 163.52888056500007, gamma: 2.0066229217768696, coef0: 0, degree: 3, tol: 533850\n"
          ]
        },
        {
          "name": "stderr",
          "output_type": "stream",
          "text": [
            "[I 2024-11-15 23:20:36,224] Trial 743 finished with value: -0.8876 and parameters: {'kernel': 'rbf', 'C': 163.52888056500007, 'max iter': 533850, 'gamma': 2.0066229217768696}. Best is trial 182 with value: -0.8936.\n"
          ]
        },
        {
          "name": "stdout",
          "output_type": "stream",
          "text": [
            "kernel: rbf, C: 489.07455480628505, gamma: 1.1812511633404625, coef0: 0, degree: 3, tol: 108463\n"
          ]
        },
        {
          "name": "stderr",
          "output_type": "stream",
          "text": [
            "[I 2024-11-15 23:20:37,506] Trial 744 finished with value: -0.8880000000000001 and parameters: {'kernel': 'rbf', 'C': 489.07455480628505, 'max iter': 108463, 'gamma': 1.1812511633404625}. Best is trial 182 with value: -0.8936.\n"
          ]
        },
        {
          "name": "stdout",
          "output_type": "stream",
          "text": [
            "kernel: rbf, C: 755.7647568384347, gamma: 3.036588259072814, coef0: 0, degree: 3, tol: 150207\n"
          ]
        },
        {
          "name": "stderr",
          "output_type": "stream",
          "text": [
            "[I 2024-11-15 23:20:40,077] Trial 745 finished with value: -0.8884000000000001 and parameters: {'kernel': 'rbf', 'C': 755.7647568384347, 'max iter': 150207, 'gamma': 3.036588259072814}. Best is trial 182 with value: -0.8936.\n"
          ]
        },
        {
          "name": "stdout",
          "output_type": "stream",
          "text": [
            "kernel: poly, C: 345.0613985529002, gamma: 33.08146004960468, coef0: 19.98319987148773, degree: 5, tol: 337212\n"
          ]
        },
        {
          "name": "stderr",
          "output_type": "stream",
          "text": [
            "[I 2024-11-15 23:21:04,146] Trial 746 finished with value: -0.47800000000000004 and parameters: {'kernel': 'poly', 'C': 345.0613985529002, 'max iter': 337212, 'gamma': 33.08146004960468, 'coef0': 19.98319987148773, 'degree': 5}. Best is trial 182 with value: -0.8936.\n"
          ]
        },
        {
          "name": "stdout",
          "output_type": "stream",
          "text": [
            "kernel: rbf, C: 612.9268234905295, gamma: 6.259663903590035, coef0: 0, degree: 3, tol: 804008\n"
          ]
        },
        {
          "name": "stderr",
          "output_type": "stream",
          "text": [
            "[I 2024-11-15 23:21:07,528] Trial 747 finished with value: -0.8772 and parameters: {'kernel': 'rbf', 'C': 612.9268234905295, 'max iter': 804008, 'gamma': 6.259663903590035}. Best is trial 182 with value: -0.8936.\n"
          ]
        },
        {
          "name": "stdout",
          "output_type": "stream",
          "text": [
            "kernel: rbf, C: 998.7044744528291, gamma: 0.18919339640943236, coef0: 0, degree: 3, tol: 442342\n"
          ]
        },
        {
          "name": "stderr",
          "output_type": "stream",
          "text": [
            "[I 2024-11-15 23:21:08,452] Trial 748 finished with value: -0.8844 and parameters: {'kernel': 'rbf', 'C': 998.7044744528291, 'max iter': 442342, 'gamma': 0.18919339640943236}. Best is trial 182 with value: -0.8936.\n"
          ]
        },
        {
          "name": "stdout",
          "output_type": "stream",
          "text": [
            "kernel: rbf, C: 237.68912413077084, gamma: 1.6997993355700693, coef0: 0, degree: 3, tol: 21247\n"
          ]
        },
        {
          "name": "stderr",
          "output_type": "stream",
          "text": [
            "[I 2024-11-15 23:21:09,426] Trial 749 finished with value: -0.8880000000000001 and parameters: {'kernel': 'rbf', 'C': 237.68912413077084, 'max iter': 21247, 'gamma': 1.6997993355700693}. Best is trial 182 with value: -0.8936.\n"
          ]
        },
        {
          "name": "stdout",
          "output_type": "stream",
          "text": [
            "kernel: rbf, C: 473.1454246227869, gamma: 0.7027484673539894, coef0: 0, degree: 3, tol: 601256\n"
          ]
        },
        {
          "name": "stderr",
          "output_type": "stream",
          "text": [
            "[I 2024-11-15 23:21:10,440] Trial 750 finished with value: -0.8859999999999999 and parameters: {'kernel': 'rbf', 'C': 473.1454246227869, 'max iter': 601256, 'gamma': 0.7027484673539894}. Best is trial 182 with value: -0.8936.\n"
          ]
        },
        {
          "name": "stdout",
          "output_type": "stream",
          "text": [
            "kernel: rbf, C: 659.846984749578, gamma: 2.4047739776788535, coef0: 0, degree: 3, tol: 239601\n"
          ]
        },
        {
          "name": "stderr",
          "output_type": "stream",
          "text": [
            "[I 2024-11-15 23:21:12,597] Trial 751 finished with value: -0.8880000000000001 and parameters: {'kernel': 'rbf', 'C': 659.846984749578, 'max iter': 239601, 'gamma': 2.4047739776788535}. Best is trial 182 with value: -0.8936.\n"
          ]
        },
        {
          "name": "stdout",
          "output_type": "stream",
          "text": [
            "kernel: rbf, C: 745.0920527467101, gamma: 1.0477978104268992, coef0: 0, degree: 3, tol: 795460\n"
          ]
        },
        {
          "name": "stderr",
          "output_type": "stream",
          "text": [
            "[I 2024-11-15 23:21:14,041] Trial 752 finished with value: -0.8884000000000001 and parameters: {'kernel': 'rbf', 'C': 745.0920527467101, 'max iter': 795460, 'gamma': 1.0477978104268992}. Best is trial 182 with value: -0.8936.\n"
          ]
        },
        {
          "name": "stdout",
          "output_type": "stream",
          "text": [
            "kernel: rbf, C: 391.61828965085016, gamma: 3.7470426084395676, coef0: 0, degree: 3, tol: 990061\n"
          ]
        },
        {
          "name": "stderr",
          "output_type": "stream",
          "text": [
            "[I 2024-11-15 23:21:16,037] Trial 753 finished with value: -0.8888 and parameters: {'kernel': 'rbf', 'C': 391.61828965085016, 'max iter': 990061, 'gamma': 3.7470426084395676}. Best is trial 182 with value: -0.8936.\n"
          ]
        },
        {
          "name": "stdout",
          "output_type": "stream",
          "text": [
            "kernel: rbf, C: 605.3698221898334, gamma: 1.6672999850907306, coef0: 0, degree: 3, tol: 514827\n"
          ]
        },
        {
          "name": "stderr",
          "output_type": "stream",
          "text": [
            "[I 2024-11-15 23:21:17,663] Trial 754 finished with value: -0.8896000000000001 and parameters: {'kernel': 'rbf', 'C': 605.3698221898334, 'max iter': 514827, 'gamma': 1.6672999850907306}. Best is trial 182 with value: -0.8936.\n"
          ]
        },
        {
          "name": "stdout",
          "output_type": "stream",
          "text": [
            "kernel: rbf, C: 800.1748957787808, gamma: 2.3364312297844214, coef0: 0, degree: 3, tol: 387563\n"
          ]
        },
        {
          "name": "stderr",
          "output_type": "stream",
          "text": [
            "[I 2024-11-15 23:21:20,043] Trial 755 finished with value: -0.8872 and parameters: {'kernel': 'rbf', 'C': 800.1748957787808, 'max iter': 387563, 'gamma': 2.3364312297844214}. Best is trial 182 with value: -0.8936.\n"
          ]
        },
        {
          "name": "stdout",
          "output_type": "stream",
          "text": [
            "kernel: rbf, C: 472.38598828698053, gamma: 1.2825847222053715, coef0: 0, degree: 3, tol: 668302\n"
          ]
        },
        {
          "name": "stderr",
          "output_type": "stream",
          "text": [
            "[I 2024-11-15 23:21:21,332] Trial 756 finished with value: -0.8880000000000001 and parameters: {'kernel': 'rbf', 'C': 472.38598828698053, 'max iter': 668302, 'gamma': 1.2825847222053715}. Best is trial 182 with value: -0.8936.\n"
          ]
        },
        {
          "name": "stdout",
          "output_type": "stream",
          "text": [
            "kernel: rbf, C: 332.72943769095343, gamma: 1.8010124290417404, coef0: 0, degree: 3, tol: 453085\n"
          ]
        },
        {
          "name": "stderr",
          "output_type": "stream",
          "text": [
            "[I 2024-11-15 23:21:22,557] Trial 757 finished with value: -0.8888 and parameters: {'kernel': 'rbf', 'C': 332.72943769095343, 'max iter': 453085, 'gamma': 1.8010124290417404}. Best is trial 182 with value: -0.8936.\n"
          ]
        },
        {
          "name": "stdout",
          "output_type": "stream",
          "text": [
            "kernel: rbf, C: 522.2351893047244, gamma: 3.4624024343333115, coef0: 0, degree: 3, tol: 303674\n"
          ]
        },
        {
          "name": "stderr",
          "output_type": "stream",
          "text": [
            "[I 2024-11-15 23:21:24,768] Trial 758 finished with value: -0.8880000000000001 and parameters: {'kernel': 'rbf', 'C': 522.2351893047244, 'max iter': 303674, 'gamma': 3.4624024343333115}. Best is trial 182 with value: -0.8936.\n"
          ]
        },
        {
          "name": "stdout",
          "output_type": "stream",
          "text": [
            "kernel: rbf, C: 763.7562222269069, gamma: 0.007688335855739075, coef0: 0, degree: 3, tol: 653498\n"
          ]
        },
        {
          "name": "stderr",
          "output_type": "stream",
          "text": [
            "[I 2024-11-15 23:21:25,338] Trial 759 finished with value: -0.8808 and parameters: {'kernel': 'rbf', 'C': 763.7562222269069, 'max iter': 653498, 'gamma': 0.007688335855739075}. Best is trial 182 with value: -0.8936.\n"
          ]
        },
        {
          "name": "stdout",
          "output_type": "stream",
          "text": [
            "kernel: linear, C: 609.8280800502837, gamma: 1, coef0: 0, degree: 3, tol: 797196\n"
          ]
        },
        {
          "name": "stderr",
          "output_type": "stream",
          "text": [
            "[I 2024-11-15 23:21:26,448] Trial 760 finished with value: -0.8848 and parameters: {'kernel': 'linear', 'C': 609.8280800502837, 'max iter': 797196}. Best is trial 182 with value: -0.8936.\n"
          ]
        },
        {
          "name": "stdout",
          "output_type": "stream",
          "text": [
            "kernel: rbf, C: 986.8035995176263, gamma: 0.8681160271349517, coef0: 0, degree: 3, tol: 990859\n"
          ]
        },
        {
          "name": "stderr",
          "output_type": "stream",
          "text": [
            "[I 2024-11-15 23:21:28,029] Trial 761 finished with value: -0.8888 and parameters: {'kernel': 'rbf', 'C': 986.8035995176263, 'max iter': 990859, 'gamma': 0.8681160271349517}. Best is trial 182 with value: -0.8936.\n"
          ]
        },
        {
          "name": "stdout",
          "output_type": "stream",
          "text": [
            "kernel: rbf, C: 427.64875491174246, gamma: 7.909102847794171, coef0: 0, degree: 3, tol: 542955\n"
          ]
        },
        {
          "name": "stderr",
          "output_type": "stream",
          "text": [
            "[I 2024-11-15 23:21:30,690] Trial 762 finished with value: -0.8772 and parameters: {'kernel': 'rbf', 'C': 427.64875491174246, 'max iter': 542955, 'gamma': 7.909102847794171}. Best is trial 182 with value: -0.8936.\n"
          ]
        },
        {
          "name": "stdout",
          "output_type": "stream",
          "text": [
            "kernel: rbf, C: 804.1291554949818, gamma: 2.452645275353966, coef0: 0, degree: 3, tol: 351972\n"
          ]
        },
        {
          "name": "stderr",
          "output_type": "stream",
          "text": [
            "[I 2024-11-15 23:21:33,097] Trial 763 finished with value: -0.8868 and parameters: {'kernel': 'rbf', 'C': 804.1291554949818, 'max iter': 351972, 'gamma': 2.452645275353966}. Best is trial 182 with value: -0.8936.\n"
          ]
        },
        {
          "name": "stdout",
          "output_type": "stream",
          "text": [
            "kernel: sigmoid, C: 561.2568798835183, gamma: 5.386484227207025, coef0: 0.0017441292257405151, degree: 3, tol: 54740\n"
          ]
        },
        {
          "name": "stderr",
          "output_type": "stream",
          "text": [
            "[I 2024-11-15 23:21:34,369] Trial 764 finished with value: -0.52 and parameters: {'kernel': 'sigmoid', 'C': 561.2568798835183, 'max iter': 54740, 'gamma': 5.386484227207025, 'coef0': 0.0017441292257405151}. Best is trial 182 with value: -0.8936.\n"
          ]
        },
        {
          "name": "stdout",
          "output_type": "stream",
          "text": [
            "kernel: rbf, C: 280.86092330045415, gamma: 1.2280748163097648, coef0: 0, degree: 3, tol: 182676\n"
          ]
        },
        {
          "name": "stderr",
          "output_type": "stream",
          "text": [
            "[I 2024-11-15 23:21:35,334] Trial 765 finished with value: -0.8872 and parameters: {'kernel': 'rbf', 'C': 280.86092330045415, 'max iter': 182676, 'gamma': 1.2280748163097648}. Best is trial 182 with value: -0.8936.\n"
          ]
        },
        {
          "name": "stdout",
          "output_type": "stream",
          "text": [
            "kernel: rbf, C: 787.0609883236223, gamma: 1.7115180570874755, coef0: 0, degree: 3, tol: 534755\n"
          ]
        },
        {
          "name": "stderr",
          "output_type": "stream",
          "text": [
            "[I 2024-11-15 23:21:37,400] Trial 766 finished with value: -0.8912000000000001 and parameters: {'kernel': 'rbf', 'C': 787.0609883236223, 'max iter': 534755, 'gamma': 1.7115180570874755}. Best is trial 182 with value: -0.8936.\n"
          ]
        },
        {
          "name": "stdout",
          "output_type": "stream",
          "text": [
            "kernel: rbf, C: 511.0060419773973, gamma: 2.733044013052253, coef0: 0, degree: 3, tol: 253111\n"
          ]
        },
        {
          "name": "stderr",
          "output_type": "stream",
          "text": [
            "[I 2024-11-15 23:21:39,252] Trial 767 finished with value: -0.8876 and parameters: {'kernel': 'rbf', 'C': 511.0060419773973, 'max iter': 253111, 'gamma': 2.733044013052253}. Best is trial 182 with value: -0.8936.\n"
          ]
        },
        {
          "name": "stdout",
          "output_type": "stream",
          "text": [
            "kernel: rbf, C: 640.1563610151325, gamma: 0.6070236656286667, coef0: 0, degree: 3, tol: 791115\n"
          ]
        },
        {
          "name": "stderr",
          "output_type": "stream",
          "text": [
            "[I 2024-11-15 23:21:40,345] Trial 768 finished with value: -0.8855999999999999 and parameters: {'kernel': 'rbf', 'C': 640.1563610151325, 'max iter': 791115, 'gamma': 0.6070236656286667}. Best is trial 182 with value: -0.8936.\n"
          ]
        },
        {
          "name": "stdout",
          "output_type": "stream",
          "text": [
            "kernel: rbf, C: 393.9822035349749, gamma: 1.2801843821286565, coef0: 0, degree: 3, tol: 434526\n"
          ]
        },
        {
          "name": "stderr",
          "output_type": "stream",
          "text": [
            "[I 2024-11-15 23:21:41,485] Trial 769 finished with value: -0.8888 and parameters: {'kernel': 'rbf', 'C': 393.9822035349749, 'max iter': 434526, 'gamma': 1.2801843821286565}. Best is trial 182 with value: -0.8936.\n"
          ]
        },
        {
          "name": "stdout",
          "output_type": "stream",
          "text": [
            "kernel: rbf, C: 195.73001912642587, gamma: 4.101076486387641, coef0: 0, degree: 3, tol: 687952\n"
          ]
        },
        {
          "name": "stderr",
          "output_type": "stream",
          "text": [
            "[I 2024-11-15 23:21:42,781] Trial 770 finished with value: -0.8872 and parameters: {'kernel': 'rbf', 'C': 195.73001912642587, 'max iter': 687952, 'gamma': 4.101076486387641}. Best is trial 182 with value: -0.8936.\n"
          ]
        },
        {
          "name": "stdout",
          "output_type": "stream",
          "text": [
            "kernel: poly, C: 792.4466432767, gamma: 2.071793970388289, coef0: 0.9893182040693903, degree: 3, tol: 29193\n"
          ]
        },
        {
          "name": "stderr",
          "output_type": "stream",
          "text": [
            "[I 2024-11-15 23:21:45,552] Trial 771 finished with value: -0.526 and parameters: {'kernel': 'poly', 'C': 792.4466432767, 'max iter': 29193, 'gamma': 2.071793970388289, 'coef0': 0.9893182040693903, 'degree': 3}. Best is trial 182 with value: -0.8936.\n"
          ]
        },
        {
          "name": "stdout",
          "output_type": "stream",
          "text": [
            "kernel: rbf, C: 634.1939168867633, gamma: 1.0383898479388662, coef0: 0, degree: 3, tol: 869\n"
          ]
        },
        {
          "name": "stderr",
          "output_type": "stream",
          "text": [
            "[I 2024-11-15 23:21:46,044] Trial 772 finished with value: -0.5908 and parameters: {'kernel': 'rbf', 'C': 634.1939168867633, 'max iter': 869, 'gamma': 1.0383898479388662}. Best is trial 182 with value: -0.8936.\n"
          ]
        },
        {
          "name": "stdout",
          "output_type": "stream",
          "text": [
            "kernel: rbf, C: 327.6211754647364, gamma: 3.1973820490125155, coef0: 0, degree: 3, tol: 568060\n"
          ]
        },
        {
          "name": "stderr",
          "output_type": "stream",
          "text": [
            "[I 2024-11-15 23:21:47,537] Trial 773 finished with value: -0.8880000000000001 and parameters: {'kernel': 'rbf', 'C': 327.6211754647364, 'max iter': 568060, 'gamma': 3.1973820490125155}. Best is trial 182 with value: -0.8936.\n"
          ]
        },
        {
          "name": "stdout",
          "output_type": "stream",
          "text": [
            "kernel: rbf, C: 23.60124574211814, gamma: 1.566170721130031, coef0: 0, degree: 3, tol: 306143\n"
          ]
        },
        {
          "name": "stderr",
          "output_type": "stream",
          "text": [
            "[I 2024-11-15 23:21:48,094] Trial 774 finished with value: -0.8863999999999999 and parameters: {'kernel': 'rbf', 'C': 23.60124574211814, 'max iter': 306143, 'gamma': 1.566170721130031}. Best is trial 182 with value: -0.8936.\n"
          ]
        },
        {
          "name": "stdout",
          "output_type": "stream",
          "text": [
            "kernel: rbf, C: 482.63730188143245, gamma: 2.093748024927787, coef0: 0, degree: 3, tol: 426940\n"
          ]
        },
        {
          "name": "stderr",
          "output_type": "stream",
          "text": [
            "[I 2024-11-15 23:21:49,759] Trial 775 finished with value: -0.892 and parameters: {'kernel': 'rbf', 'C': 482.63730188143245, 'max iter': 426940, 'gamma': 2.093748024927787}. Best is trial 182 with value: -0.8936.\n"
          ]
        },
        {
          "name": "stdout",
          "output_type": "stream",
          "text": [
            "kernel: rbf, C: 997.2064521788069, gamma: 0.8060078237523043, coef0: 0, degree: 3, tol: 846954\n"
          ]
        },
        {
          "name": "stderr",
          "output_type": "stream",
          "text": [
            "[I 2024-11-15 23:21:51,287] Trial 776 finished with value: -0.8872 and parameters: {'kernel': 'rbf', 'C': 997.2064521788069, 'max iter': 846954, 'gamma': 0.8060078237523043}. Best is trial 182 with value: -0.8936.\n"
          ]
        },
        {
          "name": "stdout",
          "output_type": "stream",
          "text": [
            "kernel: rbf, C: 766.8953943179936, gamma: 2.903615047698012, coef0: 0, degree: 3, tol: 642881\n"
          ]
        },
        {
          "name": "stderr",
          "output_type": "stream",
          "text": [
            "[I 2024-11-15 23:21:53,935] Trial 777 finished with value: -0.8872 and parameters: {'kernel': 'rbf', 'C': 766.8953943179936, 'max iter': 642881, 'gamma': 2.903615047698012}. Best is trial 182 with value: -0.8936.\n"
          ]
        },
        {
          "name": "stdout",
          "output_type": "stream",
          "text": [
            "kernel: rbf, C: 591.7577178057478, gamma: 1.3322070514396176, coef0: 0, degree: 3, tol: 984127\n"
          ]
        },
        {
          "name": "stderr",
          "output_type": "stream",
          "text": [
            "[I 2024-11-15 23:21:55,419] Trial 778 finished with value: -0.8896000000000001 and parameters: {'kernel': 'rbf', 'C': 591.7577178057478, 'max iter': 984127, 'gamma': 1.3322070514396176}. Best is trial 182 with value: -0.8936.\n"
          ]
        },
        {
          "name": "stdout",
          "output_type": "stream",
          "text": [
            "kernel: rbf, C: 389.6432367700427, gamma: 4.783133953015845, coef0: 0, degree: 3, tol: 221275\n"
          ]
        },
        {
          "name": "stderr",
          "output_type": "stream",
          "text": [
            "[I 2024-11-15 23:21:57,626] Trial 779 finished with value: -0.8827999999999999 and parameters: {'kernel': 'rbf', 'C': 389.6432367700427, 'max iter': 221275, 'gamma': 4.783133953015845}. Best is trial 182 with value: -0.8936.\n"
          ]
        },
        {
          "name": "stdout",
          "output_type": "stream",
          "text": [
            "kernel: rbf, C: 787.3704653294828, gamma: 1.9163950542066892, coef0: 0, degree: 3, tol: 358324\n"
          ]
        },
        {
          "name": "stderr",
          "output_type": "stream",
          "text": [
            "[I 2024-11-15 23:21:59,706] Trial 780 finished with value: -0.8924 and parameters: {'kernel': 'rbf', 'C': 787.3704653294828, 'max iter': 358324, 'gamma': 1.9163950542066892}. Best is trial 182 with value: -0.8936.\n"
          ]
        },
        {
          "name": "stdout",
          "output_type": "stream",
          "text": [
            "kernel: rbf, C: 985.8482562081788, gamma: 0.4622791976839612, coef0: 0, degree: 3, tol: 518160\n"
          ]
        },
        {
          "name": "stderr",
          "output_type": "stream",
          "text": [
            "[I 2024-11-15 23:22:00,873] Trial 781 finished with value: -0.8864000000000001 and parameters: {'kernel': 'rbf', 'C': 985.8482562081788, 'max iter': 518160, 'gamma': 0.4622791976839612}. Best is trial 182 with value: -0.8936.\n"
          ]
        },
        {
          "name": "stdout",
          "output_type": "stream",
          "text": [
            "kernel: rbf, C: 504.976097181797, gamma: 2.638496223551233, coef0: 0, degree: 3, tol: 682177\n"
          ]
        },
        {
          "name": "stderr",
          "output_type": "stream",
          "text": [
            "[I 2024-11-15 23:22:02,675] Trial 782 finished with value: -0.8888 and parameters: {'kernel': 'rbf', 'C': 504.976097181797, 'max iter': 682177, 'gamma': 2.638496223551233}. Best is trial 182 with value: -0.8936.\n"
          ]
        },
        {
          "name": "stdout",
          "output_type": "stream",
          "text": [
            "kernel: rbf, C: 640.4245008076762, gamma: 0.9280867871063105, coef0: 0, degree: 3, tol: 100284\n"
          ]
        },
        {
          "name": "stderr",
          "output_type": "stream",
          "text": [
            "[I 2024-11-15 23:22:03,951] Trial 783 finished with value: -0.8884000000000001 and parameters: {'kernel': 'rbf', 'C': 640.4245008076762, 'max iter': 100284, 'gamma': 0.9280867871063105}. Best is trial 182 with value: -0.8936.\n"
          ]
        },
        {
          "name": "stdout",
          "output_type": "stream",
          "text": [
            "kernel: linear, C: 0.050350374111066826, gamma: 1, coef0: 0, degree: 3, tol: 146779\n"
          ]
        },
        {
          "name": "stderr",
          "output_type": "stream",
          "text": [
            "[I 2024-11-15 23:22:04,336] Trial 784 finished with value: -0.8596 and parameters: {'kernel': 'linear', 'C': 0.050350374111066826, 'max iter': 146779}. Best is trial 182 with value: -0.8936.\n"
          ]
        },
        {
          "name": "stdout",
          "output_type": "stream",
          "text": [
            "kernel: rbf, C: 242.71893291541406, gamma: 1.5104581557935923, coef0: 0, degree: 3, tol: 436216\n"
          ]
        },
        {
          "name": "stderr",
          "output_type": "stream",
          "text": [
            "[I 2024-11-15 23:22:05,312] Trial 785 finished with value: -0.8888 and parameters: {'kernel': 'rbf', 'C': 242.71893291541406, 'max iter': 436216, 'gamma': 1.5104581557935923}. Best is trial 182 with value: -0.8936.\n"
          ]
        },
        {
          "name": "stdout",
          "output_type": "stream",
          "text": [
            "kernel: rbf, C: 0.5640606678893971, gamma: 3.733845173195006, coef0: 0, degree: 3, tol: 784356\n"
          ]
        },
        {
          "name": "stderr",
          "output_type": "stream",
          "text": [
            "[I 2024-11-15 23:22:05,825] Trial 786 finished with value: -0.8831999999999999 and parameters: {'kernel': 'rbf', 'C': 0.5640606678893971, 'max iter': 784356, 'gamma': 3.733845173195006}. Best is trial 182 with value: -0.8936.\n"
          ]
        },
        {
          "name": "stdout",
          "output_type": "stream",
          "text": [
            "kernel: rbf, C: 410.7000260182751, gamma: 2.136135887551066, coef0: 0, degree: 3, tol: 568201\n"
          ]
        },
        {
          "name": "stderr",
          "output_type": "stream",
          "text": [
            "[I 2024-11-15 23:22:07,336] Trial 787 finished with value: -0.892 and parameters: {'kernel': 'rbf', 'C': 410.7000260182751, 'max iter': 568201, 'gamma': 2.136135887551066}. Best is trial 182 with value: -0.8936.\n"
          ]
        },
        {
          "name": "stdout",
          "output_type": "stream",
          "text": [
            "kernel: rbf, C: 766.7512711408427, gamma: 0.044258952428600166, coef0: 0, degree: 3, tol: 993491\n"
          ]
        },
        {
          "name": "stderr",
          "output_type": "stream",
          "text": [
            "[I 2024-11-15 23:22:07,957] Trial 788 finished with value: -0.884 and parameters: {'kernel': 'rbf', 'C': 766.7512711408427, 'max iter': 993491, 'gamma': 0.044258952428600166}. Best is trial 182 with value: -0.8936.\n"
          ]
        },
        {
          "name": "stdout",
          "output_type": "stream",
          "text": [
            "kernel: sigmoid, C: 66.4930657045136, gamma: 1.1278291138237304, coef0: 122.70330438035754, degree: 3, tol: 68736\n"
          ]
        },
        {
          "name": "stderr",
          "output_type": "stream",
          "text": [
            "[I 2024-11-15 23:22:08,666] Trial 789 finished with value: -0.52 and parameters: {'kernel': 'sigmoid', 'C': 66.4930657045136, 'max iter': 68736, 'gamma': 1.1278291138237304, 'coef0': 122.70330438035754}. Best is trial 182 with value: -0.8936.\n"
          ]
        },
        {
          "name": "stdout",
          "output_type": "stream",
          "text": [
            "kernel: rbf, C: 534.916776984986, gamma: 1.56058819454904, coef0: 0, degree: 3, tol: 367413\n"
          ]
        },
        {
          "name": "stderr",
          "output_type": "stream",
          "text": [
            "[I 2024-11-15 23:22:10,192] Trial 790 finished with value: -0.8884000000000001 and parameters: {'kernel': 'rbf', 'C': 534.916776984986, 'max iter': 367413, 'gamma': 1.56058819454904}. Best is trial 182 with value: -0.8936.\n"
          ]
        },
        {
          "name": "stdout",
          "output_type": "stream",
          "text": [
            "kernel: rbf, C: 296.92542590741976, gamma: 5.728196170314531, coef0: 0, degree: 3, tol: 283841\n"
          ]
        },
        {
          "name": "stderr",
          "output_type": "stream",
          "text": [
            "[I 2024-11-15 23:22:12,181] Trial 791 finished with value: -0.8836 and parameters: {'kernel': 'rbf', 'C': 296.92542590741976, 'max iter': 283841, 'gamma': 5.728196170314531}. Best is trial 182 with value: -0.8936.\n"
          ]
        },
        {
          "name": "stdout",
          "output_type": "stream",
          "text": [
            "kernel: rbf, C: 649.7949290340448, gamma: 2.843412891374049, coef0: 0, degree: 3, tol: 710933\n"
          ]
        },
        {
          "name": "stderr",
          "output_type": "stream",
          "text": [
            "[I 2024-11-15 23:22:14,517] Trial 792 finished with value: -0.8880000000000001 and parameters: {'kernel': 'rbf', 'C': 649.7949290340448, 'max iter': 710933, 'gamma': 2.843412891374049}. Best is trial 182 with value: -0.8936.\n"
          ]
        },
        {
          "name": "stdout",
          "output_type": "stream",
          "text": [
            "kernel: rbf, C: 786.2476649247438, gamma: 0.7530976527192266, coef0: 0, degree: 3, tol: 493741\n"
          ]
        },
        {
          "name": "stderr",
          "output_type": "stream",
          "text": [
            "[I 2024-11-15 23:22:15,817] Trial 793 finished with value: -0.8864000000000001 and parameters: {'kernel': 'rbf', 'C': 786.2476649247438, 'max iter': 493741, 'gamma': 0.7530976527192266}. Best is trial 182 with value: -0.8936.\n"
          ]
        },
        {
          "name": "stdout",
          "output_type": "stream",
          "text": [
            "kernel: poly, C: 994.3975341922622, gamma: 1.9457269517696898, coef0: 0.008766388923130915, degree: 4, tol: 619347\n"
          ]
        },
        {
          "name": "stderr",
          "output_type": "stream",
          "text": [
            "[I 2024-11-15 23:22:57,772] Trial 794 finished with value: -0.502 and parameters: {'kernel': 'poly', 'C': 994.3975341922622, 'max iter': 619347, 'gamma': 1.9457269517696898, 'coef0': 0.008766388923130915, 'degree': 4}. Best is trial 182 with value: -0.8936.\n"
          ]
        },
        {
          "name": "stdout",
          "output_type": "stream",
          "text": [
            "kernel: rbf, C: 455.11468819397663, gamma: 0.0001141221447949298, coef0: 0, degree: 3, tol: 188425\n"
          ]
        },
        {
          "name": "stderr",
          "output_type": "stream",
          "text": [
            "[I 2024-11-15 23:22:58,464] Trial 795 finished with value: -0.8632 and parameters: {'kernel': 'rbf', 'C': 455.11468819397663, 'max iter': 188425, 'gamma': 0.0001141221447949298}. Best is trial 182 with value: -0.8936.\n"
          ]
        },
        {
          "name": "stdout",
          "output_type": "stream",
          "text": [
            "kernel: rbf, C: 645.0635002131237, gamma: 3.6705841946945688, coef0: 0, degree: 3, tol: 806795\n"
          ]
        },
        {
          "name": "stderr",
          "output_type": "stream",
          "text": [
            "[I 2024-11-15 23:23:01,153] Trial 796 finished with value: -0.8844 and parameters: {'kernel': 'rbf', 'C': 645.0635002131237, 'max iter': 806795, 'gamma': 3.6705841946945688}. Best is trial 182 with value: -0.8936.\n"
          ]
        },
        {
          "name": "stdout",
          "output_type": "stream",
          "text": [
            "kernel: rbf, C: 999.6967124214434, gamma: 1.2206278233323837, coef0: 0, degree: 3, tol: 461115\n"
          ]
        },
        {
          "name": "stderr",
          "output_type": "stream",
          "text": [
            "[I 2024-11-15 23:23:03,149] Trial 797 finished with value: -0.8896000000000001 and parameters: {'kernel': 'rbf', 'C': 999.6967124214434, 'max iter': 461115, 'gamma': 1.2206278233323837}. Best is trial 182 with value: -0.8936.\n"
          ]
        },
        {
          "name": "stdout",
          "output_type": "stream",
          "text": [
            "kernel: rbf, C: 347.5213618099741, gamma: 2.345632583545809, coef0: 0, degree: 3, tol: 478\n"
          ]
        },
        {
          "name": "stderr",
          "output_type": "stream",
          "text": [
            "[I 2024-11-15 23:23:03,519] Trial 798 finished with value: -0.5484 and parameters: {'kernel': 'rbf', 'C': 347.5213618099741, 'max iter': 478, 'gamma': 2.345632583545809}. Best is trial 182 with value: -0.8936.\n"
          ]
        },
        {
          "name": "stdout",
          "output_type": "stream",
          "text": [
            "kernel: rbf, C: 492.4901652998665, gamma: 1.6618657589368928, coef0: 0, degree: 3, tol: 609854\n"
          ]
        },
        {
          "name": "stderr",
          "output_type": "stream",
          "text": [
            "[I 2024-11-15 23:23:05,048] Trial 799 finished with value: -0.8892000000000001 and parameters: {'kernel': 'rbf', 'C': 492.4901652998665, 'max iter': 609854, 'gamma': 1.6618657589368928}. Best is trial 182 with value: -0.8936.\n"
          ]
        },
        {
          "name": "stdout",
          "output_type": "stream",
          "text": [
            "kernel: rbf, C: 621.6336777903344, gamma: 0.9602854931276861, coef0: 0, degree: 3, tol: 364633\n"
          ]
        },
        {
          "name": "stderr",
          "output_type": "stream",
          "text": [
            "[I 2024-11-15 23:23:06,359] Trial 800 finished with value: -0.8888 and parameters: {'kernel': 'rbf', 'C': 621.6336777903344, 'max iter': 364633, 'gamma': 0.9602854931276861}. Best is trial 182 with value: -0.8936.\n"
          ]
        },
        {
          "name": "stdout",
          "output_type": "stream",
          "text": [
            "kernel: rbf, C: 776.3765862519195, gamma: 2.6703397168195333, coef0: 0, degree: 3, tol: 130972\n"
          ]
        },
        {
          "name": "stderr",
          "output_type": "stream",
          "text": [
            "[I 2024-11-15 23:23:08,779] Trial 801 finished with value: -0.8876 and parameters: {'kernel': 'rbf', 'C': 776.3765862519195, 'max iter': 130972, 'gamma': 2.6703397168195333}. Best is trial 182 with value: -0.8936.\n",
            "[I 2024-11-15 23:23:08,837] Trial 802 finished with value: -0.4944 and parameters: {'kernel': 'rbf', 'C': 419.1117661907409, 'max iter': 10, 'gamma': 16.934492417138603}. Best is trial 182 with value: -0.8936.\n"
          ]
        },
        {
          "name": "stdout",
          "output_type": "stream",
          "text": [
            "kernel: rbf, C: 419.1117661907409, gamma: 16.934492417138603, coef0: 0, degree: 3, tol: 10\n",
            "kernel: rbf, C: 997.0389408476974, gamma: 8.766162934641129, coef0: 0, degree: 3, tol: 815584\n"
          ]
        },
        {
          "name": "stderr",
          "output_type": "stream",
          "text": [
            "[I 2024-11-15 23:23:13,782] Trial 803 finished with value: -0.868 and parameters: {'kernel': 'rbf', 'C': 997.0389408476974, 'max iter': 815584, 'gamma': 8.766162934641129}. Best is trial 182 with value: -0.8936.\n"
          ]
        },
        {
          "name": "stdout",
          "output_type": "stream",
          "text": [
            "kernel: rbf, C: 545.9287130378513, gamma: 4.104768904789781, coef0: 0, degree: 3, tol: 254829\n"
          ]
        },
        {
          "name": "stderr",
          "output_type": "stream",
          "text": [
            "[I 2024-11-15 23:23:16,178] Trial 804 finished with value: -0.8828000000000001 and parameters: {'kernel': 'rbf', 'C': 545.9287130378513, 'max iter': 254829, 'gamma': 4.104768904789781}. Best is trial 182 with value: -0.8936.\n"
          ]
        },
        {
          "name": "stdout",
          "output_type": "stream",
          "text": [
            "kernel: rbf, C: 728.1891968177235, gamma: 1.4333440859892523, coef0: 0, degree: 3, tol: 505075\n"
          ]
        },
        {
          "name": "stderr",
          "output_type": "stream",
          "text": [
            "[I 2024-11-15 23:23:17,891] Trial 805 finished with value: -0.8884000000000001 and parameters: {'kernel': 'rbf', 'C': 728.1891968177235, 'max iter': 505075, 'gamma': 1.4333440859892523}. Best is trial 182 with value: -0.8936.\n"
          ]
        },
        {
          "name": "stdout",
          "output_type": "stream",
          "text": [
            "kernel: rbf, C: 316.8594469163475, gamma: 0.6166039787933639, coef0: 0, degree: 3, tol: 661012\n"
          ]
        },
        {
          "name": "stderr",
          "output_type": "stream",
          "text": [
            "[I 2024-11-15 23:23:18,733] Trial 806 finished with value: -0.8859999999999999 and parameters: {'kernel': 'rbf', 'C': 316.8594469163475, 'max iter': 661012, 'gamma': 0.6166039787933639}. Best is trial 182 with value: -0.8936.\n"
          ]
        },
        {
          "name": "stdout",
          "output_type": "stream",
          "text": [
            "kernel: linear, C: 4.208584168403904, gamma: 1, coef0: 0, degree: 3, tol: 402825\n"
          ]
        },
        {
          "name": "stderr",
          "output_type": "stream",
          "text": [
            "[I 2024-11-15 23:23:19,055] Trial 807 finished with value: -0.8744 and parameters: {'kernel': 'linear', 'C': 4.208584168403904, 'max iter': 402825}. Best is trial 182 with value: -0.8936.\n"
          ]
        },
        {
          "name": "stdout",
          "output_type": "stream",
          "text": [
            "kernel: rbf, C: 548.7384626570122, gamma: 2.124574496718643, coef0: 0, degree: 3, tol: 319703\n"
          ]
        },
        {
          "name": "stderr",
          "output_type": "stream",
          "text": [
            "[I 2024-11-15 23:23:20,897] Trial 808 finished with value: -0.8932 and parameters: {'kernel': 'rbf', 'C': 548.7384626570122, 'max iter': 319703, 'gamma': 2.124574496718643}. Best is trial 182 with value: -0.8936.\n"
          ]
        },
        {
          "name": "stdout",
          "output_type": "stream",
          "text": [
            "kernel: rbf, C: 214.48847653980857, gamma: 3.1531779613446482, coef0: 0, degree: 3, tol: 189191\n"
          ]
        },
        {
          "name": "stderr",
          "output_type": "stream",
          "text": [
            "[I 2024-11-15 23:23:22,135] Trial 809 finished with value: -0.8876 and parameters: {'kernel': 'rbf', 'C': 214.48847653980857, 'max iter': 189191, 'gamma': 3.1531779613446482}. Best is trial 182 with value: -0.8936.\n"
          ]
        },
        {
          "name": "stdout",
          "output_type": "stream",
          "text": [
            "kernel: rbf, C: 385.6144032994328, gamma: 6.073006244270924, coef0: 0, degree: 3, tol: 232441\n"
          ]
        },
        {
          "name": "stderr",
          "output_type": "stream",
          "text": [
            "[I 2024-11-15 23:23:24,267] Trial 810 finished with value: -0.8772 and parameters: {'kernel': 'rbf', 'C': 385.6144032994328, 'max iter': 232441, 'gamma': 6.073006244270924}. Best is trial 182 with value: -0.8936.\n"
          ]
        },
        {
          "name": "stdout",
          "output_type": "stream",
          "text": [
            "kernel: rbf, C: 315.3193768965827, gamma: 2.1379228178648875, coef0: 0, degree: 3, tol: 296257\n"
          ]
        },
        {
          "name": "stderr",
          "output_type": "stream",
          "text": [
            "[I 2024-11-15 23:23:25,516] Trial 811 finished with value: -0.89 and parameters: {'kernel': 'rbf', 'C': 315.3193768965827, 'max iter': 296257, 'gamma': 2.1379228178648875}. Best is trial 182 with value: -0.8936.\n"
          ]
        },
        {
          "name": "stdout",
          "output_type": "stream",
          "text": [
            "kernel: rbf, C: 468.35660346598246, gamma: 4.358449262312459, coef0: 0, degree: 3, tol: 826817\n"
          ]
        },
        {
          "name": "stderr",
          "output_type": "stream",
          "text": [
            "[I 2024-11-15 23:23:27,754] Trial 812 finished with value: -0.8812 and parameters: {'kernel': 'rbf', 'C': 468.35660346598246, 'max iter': 826817, 'gamma': 4.358449262312459}. Best is trial 182 with value: -0.8936.\n"
          ]
        },
        {
          "name": "stdout",
          "output_type": "stream",
          "text": [
            "kernel: sigmoid, C: 269.0515479887352, gamma: 2.545331631906614, coef0: 0.06657815477762083, degree: 3, tol: 312448\n"
          ]
        },
        {
          "name": "stderr",
          "output_type": "stream",
          "text": [
            "[I 2024-11-15 23:23:29,358] Trial 813 finished with value: -0.5208 and parameters: {'kernel': 'sigmoid', 'C': 269.0515479887352, 'max iter': 312448, 'gamma': 2.545331631906614, 'coef0': 0.06657815477762083}. Best is trial 182 with value: -0.8936.\n"
          ]
        },
        {
          "name": "stdout",
          "output_type": "stream",
          "text": [
            "kernel: rbf, C: 507.6431107434172, gamma: 1.241192601297279, coef0: 0, degree: 3, tol: 167834\n"
          ]
        },
        {
          "name": "stderr",
          "output_type": "stream",
          "text": [
            "[I 2024-11-15 23:23:30,665] Trial 814 finished with value: -0.8884000000000001 and parameters: {'kernel': 'rbf', 'C': 507.6431107434172, 'max iter': 167834, 'gamma': 1.241192601297279}. Best is trial 182 with value: -0.8936.\n"
          ]
        },
        {
          "name": "stdout",
          "output_type": "stream",
          "text": [
            "kernel: rbf, C: 0.0010412385556998983, gamma: 1.8157270180348972, coef0: 0, degree: 3, tol: 94293\n"
          ]
        },
        {
          "name": "stderr",
          "output_type": "stream",
          "text": [
            "[I 2024-11-15 23:23:32,004] Trial 815 finished with value: -0.52 and parameters: {'kernel': 'rbf', 'C': 0.0010412385556998983, 'max iter': 94293, 'gamma': 1.8157270180348972}. Best is trial 182 with value: -0.8936.\n"
          ]
        },
        {
          "name": "stdout",
          "output_type": "stream",
          "text": [
            "kernel: rbf, C: 388.4634007511431, gamma: 2.91729688316806, coef0: 0, degree: 3, tol: 597640\n"
          ]
        },
        {
          "name": "stderr",
          "output_type": "stream",
          "text": [
            "[I 2024-11-15 23:23:33,597] Trial 816 finished with value: -0.8868 and parameters: {'kernel': 'rbf', 'C': 388.4634007511431, 'max iter': 597640, 'gamma': 2.91729688316806}. Best is trial 182 with value: -0.8936.\n"
          ]
        },
        {
          "name": "stdout",
          "output_type": "stream",
          "text": [
            "kernel: rbf, C: 556.9925731759422, gamma: 1.0202768750703985, coef0: 0, degree: 3, tol: 803891\n"
          ]
        },
        {
          "name": "stderr",
          "output_type": "stream",
          "text": [
            "[I 2024-11-15 23:23:34,853] Trial 817 finished with value: -0.8892 and parameters: {'kernel': 'rbf', 'C': 556.9925731759422, 'max iter': 803891, 'gamma': 1.0202768750703985}. Best is trial 182 with value: -0.8936.\n"
          ]
        },
        {
          "name": "stdout",
          "output_type": "stream",
          "text": [
            "kernel: rbf, C: 425.14721927369294, gamma: 1.866129102861001, coef0: 0, degree: 3, tol: 38352\n"
          ]
        },
        {
          "name": "stderr",
          "output_type": "stream",
          "text": [
            "[I 2024-11-15 23:23:36,127] Trial 818 finished with value: -0.8892 and parameters: {'kernel': 'rbf', 'C': 425.14721927369294, 'max iter': 38352, 'gamma': 1.866129102861001}. Best is trial 182 with value: -0.8936.\n"
          ]
        },
        {
          "name": "stdout",
          "output_type": "stream",
          "text": [
            "kernel: rbf, C: 625.4245041662195, gamma: 3.591862716089031, coef0: 0, degree: 3, tol: 217661\n"
          ]
        },
        {
          "name": "stderr",
          "output_type": "stream",
          "text": [
            "[I 2024-11-15 23:23:38,533] Trial 819 finished with value: -0.8859999999999999 and parameters: {'kernel': 'rbf', 'C': 625.4245041662195, 'max iter': 217661, 'gamma': 3.591862716089031}. Best is trial 182 with value: -0.8936.\n"
          ]
        },
        {
          "name": "stdout",
          "output_type": "stream",
          "text": [
            "kernel: rbf, C: 510.4376817051998, gamma: 1.5143377429761093, coef0: 0, degree: 3, tol: 529842\n"
          ]
        },
        {
          "name": "stderr",
          "output_type": "stream",
          "text": [
            "[I 2024-11-15 23:23:40,003] Trial 820 finished with value: -0.8892000000000001 and parameters: {'kernel': 'rbf', 'C': 510.4376817051998, 'max iter': 529842, 'gamma': 1.5143377429761093}. Best is trial 182 with value: -0.8936.\n"
          ]
        },
        {
          "name": "stdout",
          "output_type": "stream",
          "text": [
            "kernel: rbf, C: 338.4351810418323, gamma: 5.108028689529573, coef0: 0, degree: 3, tol: 329525\n"
          ]
        },
        {
          "name": "stderr",
          "output_type": "stream",
          "text": [
            "[I 2024-11-15 23:23:41,942] Trial 821 finished with value: -0.8832000000000001 and parameters: {'kernel': 'rbf', 'C': 338.4351810418323, 'max iter': 329525, 'gamma': 5.108028689529573}. Best is trial 182 with value: -0.8936.\n",
            "[I 2024-11-15 23:23:42,115] Trial 822 finished with value: -0.6319999999999999 and parameters: {'kernel': 'rbf', 'C': 134.23155490063027, 'max iter': 114, 'gamma': 2.4314998094805413}. Best is trial 182 with value: -0.8936.\n"
          ]
        },
        {
          "name": "stdout",
          "output_type": "stream",
          "text": [
            "kernel: rbf, C: 134.23155490063027, gamma: 2.4314998094805413, coef0: 0, degree: 3, tol: 114\n",
            "kernel: poly, C: 643.946460567548, gamma: 0.7337400557136853, coef0: 0.02315077808169561, degree: 2, tol: 709574\n"
          ]
        },
        {
          "name": "stderr",
          "output_type": "stream",
          "text": [
            "[I 2024-11-15 23:23:45,016] Trial 823 finished with value: -0.8844 and parameters: {'kernel': 'poly', 'C': 643.946460567548, 'max iter': 709574, 'gamma': 0.7337400557136853, 'coef0': 0.02315077808169561, 'degree': 2}. Best is trial 182 with value: -0.8936.\n"
          ]
        },
        {
          "name": "stdout",
          "output_type": "stream",
          "text": [
            "kernel: rbf, C: 738.5186753695958, gamma: 1.3561580108159097, coef0: 0, degree: 3, tol: 987488\n"
          ]
        },
        {
          "name": "stderr",
          "output_type": "stream",
          "text": [
            "[I 2024-11-15 23:23:46,700] Trial 824 finished with value: -0.8892000000000001 and parameters: {'kernel': 'rbf', 'C': 738.5186753695958, 'max iter': 987488, 'gamma': 1.3561580108159097}. Best is trial 182 with value: -0.8936.\n"
          ]
        },
        {
          "name": "stdout",
          "output_type": "stream",
          "text": [
            "kernel: rbf, C: 431.3941811936102, gamma: 2.181525665643809, coef0: 0, degree: 3, tol: 438057\n"
          ]
        },
        {
          "name": "stderr",
          "output_type": "stream",
          "text": [
            "[I 2024-11-15 23:23:48,225] Trial 825 finished with value: -0.892 and parameters: {'kernel': 'rbf', 'C': 431.3941811936102, 'max iter': 438057, 'gamma': 2.181525665643809}. Best is trial 182 with value: -0.8936.\n"
          ]
        },
        {
          "name": "stdout",
          "output_type": "stream",
          "text": [
            "kernel: rbf, C: 250.29349121646737, gamma: 1.028907411005922, coef0: 0, degree: 3, tol: 128296\n"
          ]
        },
        {
          "name": "stderr",
          "output_type": "stream",
          "text": [
            "[I 2024-11-15 23:23:49,098] Trial 826 finished with value: -0.8848 and parameters: {'kernel': 'rbf', 'C': 250.29349121646737, 'max iter': 128296, 'gamma': 1.028907411005922}. Best is trial 182 with value: -0.8936.\n"
          ]
        },
        {
          "name": "stdout",
          "output_type": "stream",
          "text": [
            "kernel: rbf, C: 0.01261762971379178, gamma: 3.8685786534810207, coef0: 0, degree: 3, tol: 273291\n"
          ]
        },
        {
          "name": "stderr",
          "output_type": "stream",
          "text": [
            "[I 2024-11-15 23:23:50,004] Trial 827 finished with value: -0.868 and parameters: {'kernel': 'rbf', 'C': 0.01261762971379178, 'max iter': 273291, 'gamma': 3.8685786534810207}. Best is trial 182 with value: -0.8936.\n"
          ]
        },
        {
          "name": "stdout",
          "output_type": "stream",
          "text": [
            "kernel: rbf, C: 564.5680202788378, gamma: 1.760954125646244, coef0: 0, degree: 3, tol: 675634\n"
          ]
        },
        {
          "name": "stderr",
          "output_type": "stream",
          "text": [
            "[I 2024-11-15 23:23:51,639] Trial 828 finished with value: -0.8904 and parameters: {'kernel': 'rbf', 'C': 564.5680202788378, 'max iter': 675634, 'gamma': 1.760954125646244}. Best is trial 182 with value: -0.8936.\n"
          ]
        },
        {
          "name": "stdout",
          "output_type": "stream",
          "text": [
            "kernel: rbf, C: 793.1299431672768, gamma: 2.8131484907741173, coef0: 0, degree: 3, tol: 523840\n"
          ]
        },
        {
          "name": "stderr",
          "output_type": "stream",
          "text": [
            "[I 2024-11-15 23:23:54,213] Trial 829 finished with value: -0.8884000000000001 and parameters: {'kernel': 'rbf', 'C': 793.1299431672768, 'max iter': 523840, 'gamma': 2.8131484907741173}. Best is trial 182 with value: -0.8936.\n"
          ]
        },
        {
          "name": "stdout",
          "output_type": "stream",
          "text": [
            "kernel: rbf, C: 378.78391338879294, gamma: 0.4475398678857444, coef0: 0, degree: 3, tol: 372570\n"
          ]
        },
        {
          "name": "stderr",
          "output_type": "stream",
          "text": [
            "[I 2024-11-15 23:23:55,055] Trial 830 finished with value: -0.884 and parameters: {'kernel': 'rbf', 'C': 378.78391338879294, 'max iter': 372570, 'gamma': 0.4475398678857444}. Best is trial 182 with value: -0.8936.\n"
          ]
        },
        {
          "name": "stdout",
          "output_type": "stream",
          "text": [
            "kernel: rbf, C: 603.3660025192663, gamma: 1.1861108796490045, coef0: 0, degree: 3, tol: 863204\n"
          ]
        },
        {
          "name": "stderr",
          "output_type": "stream",
          "text": [
            "[I 2024-11-15 23:23:56,428] Trial 831 finished with value: -0.8888 and parameters: {'kernel': 'rbf', 'C': 603.3660025192663, 'max iter': 863204, 'gamma': 1.1861108796490045}. Best is trial 182 with value: -0.8936.\n"
          ]
        },
        {
          "name": "stdout",
          "output_type": "stream",
          "text": [
            "kernel: linear, C: 772.6322377041564, gamma: 1, coef0: 0, degree: 3, tol: 584364\n"
          ]
        },
        {
          "name": "stderr",
          "output_type": "stream",
          "text": [
            "[I 2024-11-15 23:23:57,726] Trial 832 finished with value: -0.8852 and parameters: {'kernel': 'linear', 'C': 772.6322377041564, 'max iter': 584364}. Best is trial 182 with value: -0.8936.\n"
          ]
        },
        {
          "name": "stdout",
          "output_type": "stream",
          "text": [
            "kernel: rbf, C: 498.4427021050055, gamma: 1.938638141916639, coef0: 0, degree: 3, tol: 446540\n"
          ]
        },
        {
          "name": "stderr",
          "output_type": "stream",
          "text": [
            "[I 2024-11-15 23:23:59,281] Trial 833 finished with value: -0.8924000000000001 and parameters: {'kernel': 'rbf', 'C': 498.4427021050055, 'max iter': 446540, 'gamma': 1.938638141916639}. Best is trial 182 with value: -0.8936.\n"
          ]
        },
        {
          "name": "stdout",
          "output_type": "stream",
          "text": [
            "kernel: rbf, C: 308.64784092795117, gamma: 8.193249093278316, coef0: 0, degree: 3, tol: 711629\n"
          ]
        },
        {
          "name": "stderr",
          "output_type": "stream",
          "text": [
            "[I 2024-11-15 23:24:01,526] Trial 834 finished with value: -0.8796000000000002 and parameters: {'kernel': 'rbf', 'C': 308.64784092795117, 'max iter': 711629, 'gamma': 8.193249093278316}. Best is trial 182 with value: -0.8936.\n"
          ]
        },
        {
          "name": "stdout",
          "output_type": "stream",
          "text": [
            "kernel: rbf, C: 212.24090677841886, gamma: 59.25529033975372, coef0: 0, degree: 3, tol: 478721\n"
          ]
        },
        {
          "name": "stderr",
          "output_type": "stream",
          "text": [
            "[I 2024-11-15 23:24:03,073] Trial 835 finished with value: -0.8240000000000001 and parameters: {'kernel': 'rbf', 'C': 212.24090677841886, 'max iter': 478721, 'gamma': 59.25529033975372}. Best is trial 182 with value: -0.8936.\n"
          ]
        },
        {
          "name": "stdout",
          "output_type": "stream",
          "text": [
            "kernel: rbf, C: 369.8558434419284, gamma: 3.3829412330026205, coef0: 0, degree: 3, tol: 659657\n"
          ]
        },
        {
          "name": "stderr",
          "output_type": "stream",
          "text": [
            "[I 2024-11-15 23:24:04,779] Trial 836 finished with value: -0.8884000000000001 and parameters: {'kernel': 'rbf', 'C': 369.8558434419284, 'max iter': 659657, 'gamma': 3.3829412330026205}. Best is trial 182 with value: -0.8936.\n"
          ]
        },
        {
          "name": "stdout",
          "output_type": "stream",
          "text": [
            "kernel: rbf, C: 277.70677351573596, gamma: 2.2942149849497104, coef0: 0, degree: 3, tol: 843207\n"
          ]
        },
        {
          "name": "stderr",
          "output_type": "stream",
          "text": [
            "[I 2024-11-15 23:24:05,951] Trial 837 finished with value: -0.89 and parameters: {'kernel': 'rbf', 'C': 277.70677351573596, 'max iter': 843207, 'gamma': 2.2942149849497104}. Best is trial 182 with value: -0.8936.\n"
          ]
        },
        {
          "name": "stdout",
          "output_type": "stream",
          "text": [
            "kernel: sigmoid, C: 459.66064186081735, gamma: 4.684889320501544, coef0: 942.8186668496375, degree: 3, tol: 387063\n"
          ]
        },
        {
          "name": "stderr",
          "output_type": "stream",
          "text": [
            "[I 2024-11-15 23:24:06,660] Trial 838 finished with value: -0.52 and parameters: {'kernel': 'sigmoid', 'C': 459.66064186081735, 'max iter': 387063, 'gamma': 4.684889320501544, 'coef0': 942.8186668496375}. Best is trial 182 with value: -0.8936.\n"
          ]
        },
        {
          "name": "stdout",
          "output_type": "stream",
          "text": [
            "kernel: rbf, C: 443.5516209168374, gamma: 1.795916608029393, coef0: 0, degree: 3, tol: 970136\n"
          ]
        },
        {
          "name": "stderr",
          "output_type": "stream",
          "text": [
            "[I 2024-11-15 23:24:08,041] Trial 839 finished with value: -0.8892 and parameters: {'kernel': 'rbf', 'C': 443.5516209168374, 'max iter': 970136, 'gamma': 1.795916608029393}. Best is trial 182 with value: -0.8936.\n"
          ]
        },
        {
          "name": "stdout",
          "output_type": "stream",
          "text": [
            "kernel: rbf, C: 330.4300717920318, gamma: 2.88824292758066, coef0: 0, degree: 3, tol: 544865\n"
          ]
        },
        {
          "name": "stderr",
          "output_type": "stream",
          "text": [
            "[I 2024-11-15 23:24:09,492] Trial 840 finished with value: -0.8892 and parameters: {'kernel': 'rbf', 'C': 330.4300717920318, 'max iter': 544865, 'gamma': 2.88824292758066}. Best is trial 182 with value: -0.8936.\n"
          ]
        },
        {
          "name": "stdout",
          "output_type": "stream",
          "text": [
            "kernel: rbf, C: 452.8103190506389, gamma: 983.1579476439657, coef0: 0, degree: 3, tol: 997313\n"
          ]
        },
        {
          "name": "stderr",
          "output_type": "stream",
          "text": [
            "[I 2024-11-15 23:24:11,406] Trial 841 finished with value: -0.7816000000000001 and parameters: {'kernel': 'rbf', 'C': 452.8103190506389, 'max iter': 997313, 'gamma': 983.1579476439657}. Best is trial 182 with value: -0.8936.\n"
          ]
        },
        {
          "name": "stdout",
          "output_type": "stream",
          "text": [
            "kernel: rbf, C: 552.4940329519177, gamma: 0.7743648603707713, coef0: 0, degree: 3, tol: 250509\n"
          ]
        },
        {
          "name": "stderr",
          "output_type": "stream",
          "text": [
            "[I 2024-11-15 23:24:12,501] Trial 842 finished with value: -0.8852 and parameters: {'kernel': 'rbf', 'C': 552.4940329519177, 'max iter': 250509, 'gamma': 0.7743648603707713}. Best is trial 182 with value: -0.8936.\n"
          ]
        },
        {
          "name": "stdout",
          "output_type": "stream",
          "text": [
            "kernel: rbf, C: 7.788499770211317, gamma: 1.4537610272975696, coef0: 0, degree: 3, tol: 328454\n"
          ]
        },
        {
          "name": "stderr",
          "output_type": "stream",
          "text": [
            "[I 2024-11-15 23:24:13,031] Trial 843 finished with value: -0.8848 and parameters: {'kernel': 'rbf', 'C': 7.788499770211317, 'max iter': 328454, 'gamma': 1.4537610272975696}. Best is trial 182 with value: -0.8936.\n"
          ]
        },
        {
          "name": "stdout",
          "output_type": "stream",
          "text": [
            "kernel: rbf, C: 529.7329460417129, gamma: 2.183262718948076, coef0: 0, degree: 3, tol: 448273\n"
          ]
        },
        {
          "name": "stderr",
          "output_type": "stream",
          "text": [
            "[I 2024-11-15 23:24:14,754] Trial 844 finished with value: -0.8936 and parameters: {'kernel': 'rbf', 'C': 529.7329460417129, 'max iter': 448273, 'gamma': 2.183262718948076}. Best is trial 182 with value: -0.8936.\n"
          ]
        },
        {
          "name": "stdout",
          "output_type": "stream",
          "text": [
            "kernel: poly, C: 384.5011890097172, gamma: 0.003826174015337581, coef0: 507.8907468518443, degree: 3, tol: 304693\n"
          ]
        },
        {
          "name": "stderr",
          "output_type": "stream",
          "text": [
            "[I 2024-11-15 23:24:15,165] Trial 845 finished with value: -0.8756 and parameters: {'kernel': 'poly', 'C': 384.5011890097172, 'max iter': 304693, 'gamma': 0.003826174015337581, 'coef0': 507.8907468518443, 'degree': 3}. Best is trial 182 with value: -0.8936.\n"
          ]
        },
        {
          "name": "stdout",
          "output_type": "stream",
          "text": [
            "kernel: rbf, C: 511.8996730635377, gamma: 6.261652985863353, coef0: 0, degree: 3, tol: 195754\n"
          ]
        },
        {
          "name": "stderr",
          "output_type": "stream",
          "text": [
            "[I 2024-11-15 23:24:18,074] Trial 846 finished with value: -0.8764 and parameters: {'kernel': 'rbf', 'C': 511.8996730635377, 'max iter': 195754, 'gamma': 6.261652985863353}. Best is trial 182 with value: -0.8936.\n"
          ]
        },
        {
          "name": "stdout",
          "output_type": "stream",
          "text": [
            "kernel: rbf, C: 188.60487468066094, gamma: 3.7094769081343797, coef0: 0, degree: 3, tol: 417415\n"
          ]
        },
        {
          "name": "stderr",
          "output_type": "stream",
          "text": [
            "[I 2024-11-15 23:24:19,296] Trial 847 finished with value: -0.8892 and parameters: {'kernel': 'rbf', 'C': 188.60487468066094, 'max iter': 417415, 'gamma': 3.7094769081343797}. Best is trial 182 with value: -0.8936.\n"
          ]
        },
        {
          "name": "stdout",
          "output_type": "stream",
          "text": [
            "kernel: rbf, C: 261.03890778621394, gamma: 2.514621888159557, coef0: 0, degree: 3, tol: 351523\n"
          ]
        },
        {
          "name": "stderr",
          "output_type": "stream",
          "text": [
            "[I 2024-11-15 23:24:20,516] Trial 848 finished with value: -0.8904 and parameters: {'kernel': 'rbf', 'C': 261.03890778621394, 'max iter': 351523, 'gamma': 2.514621888159557}. Best is trial 182 with value: -0.8936.\n"
          ]
        },
        {
          "name": "stdout",
          "output_type": "stream",
          "text": [
            "kernel: rbf, C: 618.2662101929781, gamma: 2.282210891628641, coef0: 0, degree: 3, tol: 259100\n"
          ]
        },
        {
          "name": "stderr",
          "output_type": "stream",
          "text": [
            "[I 2024-11-15 23:24:22,557] Trial 849 finished with value: -0.8916000000000001 and parameters: {'kernel': 'rbf', 'C': 618.2662101929781, 'max iter': 259100, 'gamma': 2.282210891628641}. Best is trial 182 with value: -0.8936.\n"
          ]
        },
        {
          "name": "stdout",
          "output_type": "stream",
          "text": [
            "kernel: rbf, C: 361.08520657358554, gamma: 5.169997715762373, coef0: 0, degree: 3, tol: 1939\n"
          ]
        },
        {
          "name": "stderr",
          "output_type": "stream",
          "text": [
            "[I 2024-11-15 23:24:23,296] Trial 850 finished with value: -0.748 and parameters: {'kernel': 'rbf', 'C': 361.08520657358554, 'max iter': 1939, 'gamma': 5.169997715762373}. Best is trial 182 with value: -0.8936.\n"
          ]
        },
        {
          "name": "stdout",
          "output_type": "stream",
          "text": [
            "kernel: rbf, C: 531.4530110217746, gamma: 1.3050785186718223, coef0: 0, degree: 3, tol: 462116\n"
          ]
        },
        {
          "name": "stderr",
          "output_type": "stream",
          "text": [
            "[I 2024-11-15 23:24:24,630] Trial 851 finished with value: -0.8896000000000001 and parameters: {'kernel': 'rbf', 'C': 531.4530110217746, 'max iter': 462116, 'gamma': 1.3050785186718223}. Best is trial 182 with value: -0.8936.\n"
          ]
        },
        {
          "name": "stdout",
          "output_type": "stream",
          "text": [
            "kernel: rbf, C: 653.5859709314491, gamma: 3.3622905010280397, coef0: 0, degree: 3, tol: 84475\n"
          ]
        },
        {
          "name": "stderr",
          "output_type": "stream",
          "text": [
            "[I 2024-11-15 23:24:26,722] Trial 852 finished with value: -0.8868 and parameters: {'kernel': 'rbf', 'C': 653.5859709314491, 'max iter': 84475, 'gamma': 3.3622905010280397}. Best is trial 182 with value: -0.8936.\n"
          ]
        },
        {
          "name": "stdout",
          "output_type": "stream",
          "text": [
            "kernel: rbf, C: 456.7388420114195, gamma: 1.813316517845592, coef0: 0, degree: 3, tol: 6479\n"
          ]
        },
        {
          "name": "stderr",
          "output_type": "stream",
          "text": [
            "[I 2024-11-15 23:24:27,745] Trial 853 finished with value: -0.8872 and parameters: {'kernel': 'rbf', 'C': 456.7388420114195, 'max iter': 6479, 'gamma': 1.813316517845592}. Best is trial 182 with value: -0.8936.\n"
          ]
        },
        {
          "name": "stdout",
          "output_type": "stream",
          "text": [
            "kernel: rbf, C: 304.3756199622004, gamma: 0.9951545331229983, coef0: 0, degree: 3, tol: 156718\n"
          ]
        },
        {
          "name": "stderr",
          "output_type": "stream",
          "text": [
            "[I 2024-11-15 23:24:28,697] Trial 854 finished with value: -0.8844000000000001 and parameters: {'kernel': 'rbf', 'C': 304.3756199622004, 'max iter': 156718, 'gamma': 0.9951545331229983}. Best is trial 182 with value: -0.8936.\n"
          ]
        },
        {
          "name": "stdout",
          "output_type": "stream",
          "text": [
            "kernel: rbf, C: 671.6320745128714, gamma: 2.1994797452781243, coef0: 0, degree: 3, tol: 440020\n"
          ]
        },
        {
          "name": "stderr",
          "output_type": "stream",
          "text": [
            "[I 2024-11-15 23:24:30,830] Trial 855 finished with value: -0.8907999999999999 and parameters: {'kernel': 'rbf', 'C': 671.6320745128714, 'max iter': 440020, 'gamma': 2.1994797452781243}. Best is trial 182 with value: -0.8936.\n"
          ]
        },
        {
          "name": "stdout",
          "output_type": "stream",
          "text": [
            "kernel: rbf, C: 485.1330637362959, gamma: 3.3428263958663327, coef0: 0, degree: 3, tol: 16114\n"
          ]
        },
        {
          "name": "stderr",
          "output_type": "stream",
          "text": [
            "[I 2024-11-15 23:24:32,233] Trial 856 finished with value: -0.8864000000000001 and parameters: {'kernel': 'rbf', 'C': 485.1330637362959, 'max iter': 16114, 'gamma': 3.3428263958663327}. Best is trial 182 with value: -0.8936.\n"
          ]
        },
        {
          "name": "stdout",
          "output_type": "stream",
          "text": [
            "kernel: linear, C: 770.4432152309839, gamma: 1, coef0: 0, degree: 3, tol: 221944\n"
          ]
        },
        {
          "name": "stderr",
          "output_type": "stream",
          "text": [
            "[I 2024-11-15 23:24:33,511] Trial 857 finished with value: -0.8852 and parameters: {'kernel': 'linear', 'C': 770.4432152309839, 'max iter': 221944}. Best is trial 182 with value: -0.8936.\n"
          ]
        },
        {
          "name": "stdout",
          "output_type": "stream",
          "text": [
            "kernel: rbf, C: 376.8449514276017, gamma: 1.412860339021957, coef0: 0, degree: 3, tol: 599584\n"
          ]
        },
        {
          "name": "stderr",
          "output_type": "stream",
          "text": [
            "[I 2024-11-15 23:24:34,710] Trial 858 finished with value: -0.8880000000000001 and parameters: {'kernel': 'rbf', 'C': 376.8449514276017, 'max iter': 599584, 'gamma': 1.412860339021957}. Best is trial 182 with value: -0.8936.\n"
          ]
        },
        {
          "name": "stdout",
          "output_type": "stream",
          "text": [
            "kernel: rbf, C: 616.4263020916835, gamma: 2.0583565596099684, coef0: 0, degree: 3, tol: 111253\n"
          ]
        },
        {
          "name": "stderr",
          "output_type": "stream",
          "text": [
            "[I 2024-11-15 23:24:36,594] Trial 859 finished with value: -0.8932 and parameters: {'kernel': 'rbf', 'C': 616.4263020916835, 'max iter': 111253, 'gamma': 2.0583565596099684}. Best is trial 182 with value: -0.8936.\n"
          ]
        },
        {
          "name": "stdout",
          "output_type": "stream",
          "text": [
            "kernel: rbf, C: 261.69719315108193, gamma: 5.279204052034653, coef0: 0, degree: 3, tol: 106610\n"
          ]
        },
        {
          "name": "stderr",
          "output_type": "stream",
          "text": [
            "[I 2024-11-15 23:24:38,278] Trial 860 finished with value: -0.882 and parameters: {'kernel': 'rbf', 'C': 261.69719315108193, 'max iter': 106610, 'gamma': 5.279204052034653}. Best is trial 182 with value: -0.8936.\n"
          ]
        },
        {
          "name": "stdout",
          "output_type": "stream",
          "text": [
            "kernel: rbf, C: 512.7634377999477, gamma: 2.4500513729785, coef0: 0, degree: 3, tol: 69227\n"
          ]
        },
        {
          "name": "stderr",
          "output_type": "stream",
          "text": [
            "[I 2024-11-15 23:24:39,962] Trial 861 finished with value: -0.8916000000000001 and parameters: {'kernel': 'rbf', 'C': 512.7634377999477, 'max iter': 69227, 'gamma': 2.4500513729785}. Best is trial 182 with value: -0.8936.\n"
          ]
        },
        {
          "name": "stdout",
          "output_type": "stream",
          "text": [
            "kernel: rbf, C: 391.4986994654313, gamma: 3.6852452651269476, coef0: 0, degree: 3, tol: 96054\n"
          ]
        },
        {
          "name": "stderr",
          "output_type": "stream",
          "text": [
            "[I 2024-11-15 23:24:41,800] Trial 862 finished with value: -0.8884000000000001 and parameters: {'kernel': 'rbf', 'C': 391.4986994654313, 'max iter': 96054, 'gamma': 3.6852452651269476}. Best is trial 182 with value: -0.8936.\n"
          ]
        },
        {
          "name": "stdout",
          "output_type": "stream",
          "text": [
            "kernel: rbf, C: 609.5017933165868, gamma: 9.99475737100768, coef0: 0, degree: 3, tol: 120438\n"
          ]
        },
        {
          "name": "stderr",
          "output_type": "stream",
          "text": [
            "[I 2024-11-15 23:24:44,849] Trial 863 finished with value: -0.8695999999999999 and parameters: {'kernel': 'rbf', 'C': 609.5017933165868, 'max iter': 120438, 'gamma': 9.99475737100768}. Best is trial 182 with value: -0.8936.\n"
          ]
        },
        {
          "name": "stdout",
          "output_type": "stream",
          "text": [
            "kernel: rbf, C: 323.3774340303887, gamma: 1.8175192536692342, coef0: 0, degree: 3, tol: 82598\n"
          ]
        },
        {
          "name": "stderr",
          "output_type": "stream",
          "text": [
            "[I 2024-11-15 23:24:46,069] Trial 864 finished with value: -0.8892 and parameters: {'kernel': 'rbf', 'C': 323.3774340303887, 'max iter': 82598, 'gamma': 1.8175192536692342}. Best is trial 182 with value: -0.8936.\n"
          ]
        },
        {
          "name": "stdout",
          "output_type": "stream",
          "text": [
            "kernel: rbf, C: 467.0674994817568, gamma: 2.7266473277643555, coef0: 0, degree: 3, tol: 127469\n"
          ]
        },
        {
          "name": "stderr",
          "output_type": "stream",
          "text": [
            "[I 2024-11-15 23:24:47,856] Trial 865 finished with value: -0.8888 and parameters: {'kernel': 'rbf', 'C': 467.0674994817568, 'max iter': 127469, 'gamma': 2.7266473277643555}. Best is trial 182 with value: -0.8936.\n"
          ]
        },
        {
          "name": "stdout",
          "output_type": "stream",
          "text": [
            "kernel: sigmoid, C: 661.5995093086938, gamma: 1.1733245294174777, coef0: 0.4242986491706219, degree: 3, tol: 56895\n"
          ]
        },
        {
          "name": "stderr",
          "output_type": "stream",
          "text": [
            "[I 2024-11-15 23:24:48,475] Trial 866 finished with value: -0.6672 and parameters: {'kernel': 'sigmoid', 'C': 661.5995093086938, 'max iter': 56895, 'gamma': 1.1733245294174777, 'coef0': 0.4242986491706219}. Best is trial 182 with value: -0.8936.\n"
          ]
        },
        {
          "name": "stdout",
          "output_type": "stream",
          "text": [
            "kernel: rbf, C: 781.1085166519285, gamma: 4.318844675885766, coef0: 0, degree: 3, tol: 66654\n"
          ]
        },
        {
          "name": "stderr",
          "output_type": "stream",
          "text": [
            "[I 2024-11-15 23:24:50,730] Trial 867 finished with value: -0.8795999999999999 and parameters: {'kernel': 'rbf', 'C': 781.1085166519285, 'max iter': 66654, 'gamma': 4.318844675885766}. Best is trial 182 with value: -0.8936.\n"
          ]
        },
        {
          "name": "stdout",
          "output_type": "stream",
          "text": [
            "kernel: rbf, C: 534.3441750534356, gamma: 1.8681082118668164, coef0: 0, degree: 3, tol: 160992\n"
          ]
        },
        {
          "name": "stderr",
          "output_type": "stream",
          "text": [
            "[I 2024-11-15 23:24:52,315] Trial 868 finished with value: -0.892 and parameters: {'kernel': 'rbf', 'C': 534.3441750534356, 'max iter': 160992, 'gamma': 1.8681082118668164}. Best is trial 182 with value: -0.8936.\n"
          ]
        },
        {
          "name": "stdout",
          "output_type": "stream",
          "text": [
            "kernel: rbf, C: 96.12668490824343, gamma: 0.8793761583231102, coef0: 0, degree: 3, tol: 100202\n"
          ]
        },
        {
          "name": "stderr",
          "output_type": "stream",
          "text": [
            "[I 2024-11-15 23:24:52,981] Trial 869 finished with value: -0.8844 and parameters: {'kernel': 'rbf', 'C': 96.12668490824343, 'max iter': 100202, 'gamma': 0.8793761583231102}. Best is trial 182 with value: -0.8936.\n"
          ]
        },
        {
          "name": "stdout",
          "output_type": "stream",
          "text": [
            "kernel: poly, C: 381.86892605916984, gamma: 2.468583506544822, coef0: 265.71472158529923, degree: 5, tol: 133593\n"
          ]
        },
        {
          "name": "stderr",
          "output_type": "stream",
          "text": [
            "[I 2024-11-15 23:25:01,289] Trial 870 finished with value: -0.5456000000000001 and parameters: {'kernel': 'poly', 'C': 381.86892605916984, 'max iter': 133593, 'gamma': 2.468583506544822, 'coef0': 265.71472158529923, 'degree': 5}. Best is trial 182 with value: -0.8936.\n"
          ]
        },
        {
          "name": "stdout",
          "output_type": "stream",
          "text": [
            "kernel: rbf, C: 764.9745741741933, gamma: 1.5707569842890958, coef0: 0, degree: 3, tol: 119739\n"
          ]
        },
        {
          "name": "stderr",
          "output_type": "stream",
          "text": [
            "[I 2024-11-15 23:25:03,123] Trial 871 finished with value: -0.8904 and parameters: {'kernel': 'rbf', 'C': 764.9745741741933, 'max iter': 119739, 'gamma': 1.5707569842890958}. Best is trial 182 with value: -0.8936.\n"
          ]
        },
        {
          "name": "stdout",
          "output_type": "stream",
          "text": [
            "kernel: rbf, C: 559.4188726879412, gamma: 0.25817282658470925, coef0: 0, degree: 3, tol: 194851\n"
          ]
        },
        {
          "name": "stderr",
          "output_type": "stream",
          "text": [
            "[I 2024-11-15 23:25:03,957] Trial 872 finished with value: -0.884 and parameters: {'kernel': 'rbf', 'C': 559.4188726879412, 'max iter': 194851, 'gamma': 0.25817282658470925}. Best is trial 182 with value: -0.8936.\n"
          ]
        },
        {
          "name": "stdout",
          "output_type": "stream",
          "text": [
            "kernel: rbf, C: 421.99601193207906, gamma: 3.156678281206017, coef0: 0, degree: 3, tol: 162128\n"
          ]
        },
        {
          "name": "stderr",
          "output_type": "stream",
          "text": [
            "[I 2024-11-15 23:25:05,733] Trial 873 finished with value: -0.8888 and parameters: {'kernel': 'rbf', 'C': 421.99601193207906, 'max iter': 162128, 'gamma': 3.156678281206017}. Best is trial 182 with value: -0.8936.\n"
          ]
        },
        {
          "name": "stdout",
          "output_type": "stream",
          "text": [
            "kernel: rbf, C: 232.01830950707512, gamma: 0.6204447463772687, coef0: 0, degree: 3, tol: 47567\n"
          ]
        },
        {
          "name": "stderr",
          "output_type": "stream",
          "text": [
            "[I 2024-11-15 23:25:06,516] Trial 874 finished with value: -0.8848 and parameters: {'kernel': 'rbf', 'C': 232.01830950707512, 'max iter': 47567, 'gamma': 0.6204447463772687}. Best is trial 182 with value: -0.8936.\n"
          ]
        },
        {
          "name": "stdout",
          "output_type": "stream",
          "text": [
            "kernel: rbf, C: 797.065411905003, gamma: 6.787054567790737, coef0: 0, degree: 3, tol: 271876\n"
          ]
        },
        {
          "name": "stderr",
          "output_type": "stream",
          "text": [
            "[I 2024-11-15 23:25:10,356] Trial 875 finished with value: -0.8775999999999999 and parameters: {'kernel': 'rbf', 'C': 797.065411905003, 'max iter': 271876, 'gamma': 6.787054567790737}. Best is trial 182 with value: -0.8936.\n"
          ]
        },
        {
          "name": "stdout",
          "output_type": "stream",
          "text": [
            "kernel: rbf, C: 993.1840218646779, gamma: 1.2621879711869024, coef0: 0, degree: 3, tol: 315256\n"
          ]
        },
        {
          "name": "stderr",
          "output_type": "stream",
          "text": [
            "[I 2024-11-15 23:25:12,361] Trial 876 finished with value: -0.8892000000000001 and parameters: {'kernel': 'rbf', 'C': 993.1840218646779, 'max iter': 315256, 'gamma': 1.2621879711869024}. Best is trial 182 with value: -0.8936.\n"
          ]
        },
        {
          "name": "stdout",
          "output_type": "stream",
          "text": [
            "kernel: rbf, C: 624.6180566470453, gamma: 1.979749922486197, coef0: 0, degree: 3, tol: 87138\n"
          ]
        },
        {
          "name": "stderr",
          "output_type": "stream",
          "text": [
            "[I 2024-11-15 23:25:14,084] Trial 877 finished with value: -0.8916000000000001 and parameters: {'kernel': 'rbf', 'C': 624.6180566470453, 'max iter': 87138, 'gamma': 1.979749922486197}. Best is trial 182 with value: -0.8936.\n"
          ]
        },
        {
          "name": "stdout",
          "output_type": "stream",
          "text": [
            "kernel: rbf, C: 336.572233258299, gamma: 4.093738135242721, coef0: 0, degree: 3, tol: 216854\n"
          ]
        },
        {
          "name": "stderr",
          "output_type": "stream",
          "text": [
            "[I 2024-11-15 23:25:15,836] Trial 878 finished with value: -0.8848 and parameters: {'kernel': 'rbf', 'C': 336.572233258299, 'max iter': 216854, 'gamma': 4.093738135242721}. Best is trial 182 with value: -0.8936.\n"
          ]
        },
        {
          "name": "stdout",
          "output_type": "stream",
          "text": [
            "kernel: rbf, C: 475.61183174251653, gamma: 0.10000120154123475, coef0: 0, degree: 3, tol: 80431\n"
          ]
        },
        {
          "name": "stderr",
          "output_type": "stream",
          "text": [
            "[I 2024-11-15 23:25:16,472] Trial 879 finished with value: -0.8831999999999999 and parameters: {'kernel': 'rbf', 'C': 475.61183174251653, 'max iter': 80431, 'gamma': 0.10000120154123475}. Best is trial 182 with value: -0.8936.\n"
          ]
        },
        {
          "name": "stdout",
          "output_type": "stream",
          "text": [
            "kernel: rbf, C: 635.7807961587491, gamma: 0.9521636938473487, coef0: 0, degree: 3, tol: 109999\n"
          ]
        },
        {
          "name": "stderr",
          "output_type": "stream",
          "text": [
            "[I 2024-11-15 23:25:17,742] Trial 880 finished with value: -0.8888 and parameters: {'kernel': 'rbf', 'C': 635.7807961587491, 'max iter': 109999, 'gamma': 0.9521636938473487}. Best is trial 182 with value: -0.8936.\n"
          ]
        },
        {
          "name": "stdout",
          "output_type": "stream",
          "text": [
            "kernel: rbf, C: 811.3213813600102, gamma: 2.3630413585908134, coef0: 0, degree: 3, tol: 142593\n"
          ]
        },
        {
          "name": "stderr",
          "output_type": "stream",
          "text": [
            "[I 2024-11-15 23:25:19,980] Trial 881 finished with value: -0.8868 and parameters: {'kernel': 'rbf', 'C': 811.3213813600102, 'max iter': 142593, 'gamma': 2.3630413585908134}. Best is trial 182 with value: -0.8936.\n"
          ]
        },
        {
          "name": "stdout",
          "output_type": "stream",
          "text": [
            "kernel: rbf, C: 510.7996630562217, gamma: 1.439257825510166, coef0: 0, degree: 3, tol: 357719\n"
          ]
        },
        {
          "name": "stderr",
          "output_type": "stream",
          "text": [
            "[I 2024-11-15 23:25:21,379] Trial 882 finished with value: -0.8896 and parameters: {'kernel': 'rbf', 'C': 510.7996630562217, 'max iter': 357719, 'gamma': 1.439257825510166}. Best is trial 182 with value: -0.8936.\n"
          ]
        },
        {
          "name": "stdout",
          "output_type": "stream",
          "text": [
            "kernel: rbf, C: 289.95929994766163, gamma: 3.01174243757929, coef0: 0, degree: 3, tol: 166910\n"
          ]
        },
        {
          "name": "stderr",
          "output_type": "stream",
          "text": [
            "[I 2024-11-15 23:25:22,719] Trial 883 finished with value: -0.8896000000000001 and parameters: {'kernel': 'rbf', 'C': 289.95929994766163, 'max iter': 166910, 'gamma': 3.01174243757929}. Best is trial 182 with value: -0.8936.\n"
          ]
        },
        {
          "name": "stdout",
          "output_type": "stream",
          "text": [
            "kernel: rbf, C: 173.51575940576294, gamma: 1.867556356958114, coef0: 0, degree: 3, tol: 260757\n"
          ]
        },
        {
          "name": "stderr",
          "output_type": "stream",
          "text": [
            "[I 2024-11-15 23:25:23,668] Trial 884 finished with value: -0.8876 and parameters: {'kernel': 'rbf', 'C': 173.51575940576294, 'max iter': 260757, 'gamma': 1.867556356958114}. Best is trial 182 with value: -0.8936.\n"
          ]
        },
        {
          "name": "stdout",
          "output_type": "stream",
          "text": [
            "kernel: linear, C: 660.128334396095, gamma: 1, coef0: 0, degree: 3, tol: 475620\n"
          ]
        },
        {
          "name": "stderr",
          "output_type": "stream",
          "text": [
            "[I 2024-11-15 23:25:24,812] Trial 885 finished with value: -0.8852 and parameters: {'kernel': 'linear', 'C': 660.128334396095, 'max iter': 475620}. Best is trial 182 with value: -0.8936.\n"
          ]
        },
        {
          "name": "stdout",
          "output_type": "stream",
          "text": [
            "kernel: rbf, C: 445.0707249783792, gamma: 4.7390072989885335, coef0: 0, degree: 3, tol: 369549\n"
          ]
        },
        {
          "name": "stderr",
          "output_type": "stream",
          "text": [
            "[I 2024-11-15 23:25:27,075] Trial 886 finished with value: -0.8824 and parameters: {'kernel': 'rbf', 'C': 445.0707249783792, 'max iter': 369549, 'gamma': 4.7390072989885335}. Best is trial 182 with value: -0.8936.\n"
          ]
        },
        {
          "name": "stdout",
          "output_type": "stream",
          "text": [
            "kernel: rbf, C: 997.396386273325, gamma: 0.8085394691238499, coef0: 0, degree: 3, tol: 722028\n"
          ]
        },
        {
          "name": "stderr",
          "output_type": "stream",
          "text": [
            "[I 2024-11-15 23:25:28,656] Trial 887 finished with value: -0.8868 and parameters: {'kernel': 'rbf', 'C': 997.396386273325, 'max iter': 722028, 'gamma': 0.8085394691238499}. Best is trial 182 with value: -0.8936.\n"
          ]
        },
        {
          "name": "stdout",
          "output_type": "stream",
          "text": [
            "kernel: rbf, C: 606.3051082902214, gamma: 1.4610610462799607, coef0: 0, degree: 3, tol: 532110\n"
          ]
        },
        {
          "name": "stderr",
          "output_type": "stream",
          "text": [
            "[I 2024-11-15 23:25:30,145] Trial 888 finished with value: -0.8892000000000001 and parameters: {'kernel': 'rbf', 'C': 606.3051082902214, 'max iter': 532110, 'gamma': 1.4610610462799607}. Best is trial 182 with value: -0.8936.\n"
          ]
        },
        {
          "name": "stdout",
          "output_type": "stream",
          "text": [
            "kernel: sigmoid, C: 789.1655280826132, gamma: 2.7337876813626, coef0: 1.7460507330161867, degree: 3, tol: 411421\n"
          ]
        },
        {
          "name": "stderr",
          "output_type": "stream",
          "text": [
            "[I 2024-11-15 23:25:31,765] Trial 889 finished with value: -0.5204 and parameters: {'kernel': 'sigmoid', 'C': 789.1655280826132, 'max iter': 411421, 'gamma': 2.7337876813626, 'coef0': 1.7460507330161867}. Best is trial 182 with value: -0.8936.\n"
          ]
        },
        {
          "name": "stdout",
          "output_type": "stream",
          "text": [
            "kernel: rbf, C: 0.26983617538634613, gamma: 1.1222467837348848, coef0: 0, degree: 3, tol: 291372\n"
          ]
        },
        {
          "name": "stderr",
          "output_type": "stream",
          "text": [
            "[I 2024-11-15 23:25:32,323] Trial 890 finished with value: -0.8768 and parameters: {'kernel': 'rbf', 'C': 0.26983617538634613, 'max iter': 291372, 'gamma': 1.1222467837348848}. Best is trial 182 with value: -0.8936.\n"
          ]
        },
        {
          "name": "stdout",
          "output_type": "stream",
          "text": [
            "kernel: rbf, C: 374.57057970966537, gamma: 2.1958402763887097, coef0: 0, degree: 3, tol: 687980\n"
          ]
        },
        {
          "name": "stderr",
          "output_type": "stream",
          "text": [
            "[I 2024-11-15 23:25:33,796] Trial 891 finished with value: -0.892 and parameters: {'kernel': 'rbf', 'C': 374.57057970966537, 'max iter': 687980, 'gamma': 2.1958402763887097}. Best is trial 182 with value: -0.8936.\n"
          ]
        },
        {
          "name": "stdout",
          "output_type": "stream",
          "text": [
            "kernel: rbf, C: 995.3082689954427, gamma: 3.36594542706125, coef0: 0, degree: 3, tol: 507199\n"
          ]
        },
        {
          "name": "stderr",
          "output_type": "stream",
          "text": [
            "[I 2024-11-15 23:25:37,062] Trial 892 finished with value: -0.8827999999999999 and parameters: {'kernel': 'rbf', 'C': 995.3082689954427, 'max iter': 507199, 'gamma': 3.36594542706125}. Best is trial 182 with value: -0.8936.\n"
          ]
        },
        {
          "name": "stdout",
          "output_type": "stream",
          "text": [
            "kernel: rbf, C: 528.9405849549846, gamma: 1.8743613507258488, coef0: 0, degree: 3, tol: 211054\n"
          ]
        },
        {
          "name": "stderr",
          "output_type": "stream",
          "text": [
            "[I 2024-11-15 23:25:38,711] Trial 893 finished with value: -0.892 and parameters: {'kernel': 'rbf', 'C': 528.9405849549846, 'max iter': 211054, 'gamma': 1.8743613507258488}. Best is trial 182 with value: -0.8936.\n"
          ]
        },
        {
          "name": "stdout",
          "output_type": "stream",
          "text": [
            "kernel: poly, C: 775.3799359241035, gamma: 1.3551067613122758, coef0: 0.2519334154293976, degree: 6, tol: 815284\n"
          ]
        },
        {
          "name": "stderr",
          "output_type": "stream",
          "text": [
            "[I 2024-11-15 23:26:29,872] Trial 894 finished with value: -0.4636 and parameters: {'kernel': 'poly', 'C': 775.3799359241035, 'max iter': 815284, 'gamma': 1.3551067613122758, 'coef0': 0.2519334154293976, 'degree': 6}. Best is trial 182 with value: -0.8936.\n"
          ]
        },
        {
          "name": "stdout",
          "output_type": "stream",
          "text": [
            "kernel: rbf, C: 439.9891954276529, gamma: 6.134803720176897, coef0: 0, degree: 3, tol: 601439\n"
          ]
        },
        {
          "name": "stderr",
          "output_type": "stream",
          "text": [
            "[I 2024-11-15 23:26:32,330] Trial 895 finished with value: -0.8775999999999999 and parameters: {'kernel': 'rbf', 'C': 439.9891954276529, 'max iter': 601439, 'gamma': 6.134803720176897}. Best is trial 182 with value: -0.8936.\n"
          ]
        },
        {
          "name": "stdout",
          "output_type": "stream",
          "text": [
            "kernel: rbf, C: 634.1947034591908, gamma: 0.5036050901463893, coef0: 0, degree: 3, tol: 369846\n"
          ]
        },
        {
          "name": "stderr",
          "output_type": "stream",
          "text": [
            "[I 2024-11-15 23:26:33,342] Trial 896 finished with value: -0.8868 and parameters: {'kernel': 'rbf', 'C': 634.1947034591908, 'max iter': 369846, 'gamma': 0.5036050901463893}. Best is trial 182 with value: -0.8936.\n"
          ]
        },
        {
          "name": "stdout",
          "output_type": "stream",
          "text": [
            "kernel: rbf, C: 313.8282096108798, gamma: 2.577758268707441, coef0: 0, degree: 3, tol: 476450\n"
          ]
        },
        {
          "name": "stderr",
          "output_type": "stream",
          "text": [
            "[I 2024-11-15 23:26:34,762] Trial 897 finished with value: -0.892 and parameters: {'kernel': 'rbf', 'C': 313.8282096108798, 'max iter': 476450, 'gamma': 2.577758268707441}. Best is trial 182 with value: -0.8936.\n"
          ]
        },
        {
          "name": "stdout",
          "output_type": "stream",
          "text": [
            "kernel: rbf, C: 0.003639629577380479, gamma: 0.9525695212565192, coef0: 0, degree: 3, tol: 109121\n"
          ]
        },
        {
          "name": "stderr",
          "output_type": "stream",
          "text": [
            "[I 2024-11-15 23:26:36,101] Trial 898 finished with value: -0.834 and parameters: {'kernel': 'rbf', 'C': 0.003639629577380479, 'max iter': 109121, 'gamma': 0.9525695212565192}. Best is trial 182 with value: -0.8936.\n"
          ]
        },
        {
          "name": "stdout",
          "output_type": "stream",
          "text": [
            "kernel: rbf, C: 538.57659258419, gamma: 4.386139566046653, coef0: 0, degree: 3, tol: 31296\n"
          ]
        },
        {
          "name": "stderr",
          "output_type": "stream",
          "text": [
            "[I 2024-11-15 23:26:37,750] Trial 899 finished with value: -0.8808 and parameters: {'kernel': 'rbf', 'C': 538.57659258419, 'max iter': 31296, 'gamma': 4.386139566046653}. Best is trial 182 with value: -0.8936.\n"
          ]
        },
        {
          "name": "stdout",
          "output_type": "stream",
          "text": [
            "kernel: rbf, C: 765.1977070962764, gamma: 1.6990662379346664, coef0: 0, degree: 3, tol: 826405\n"
          ]
        },
        {
          "name": "stderr",
          "output_type": "stream",
          "text": [
            "[I 2024-11-15 23:26:39,655] Trial 900 finished with value: -0.8916000000000001 and parameters: {'kernel': 'rbf', 'C': 765.1977070962764, 'max iter': 826405, 'gamma': 1.6990662379346664}. Best is trial 182 with value: -0.8936.\n"
          ]
        },
        {
          "name": "stdout",
          "output_type": "stream",
          "text": [
            "kernel: rbf, C: 427.6329037324043, gamma: 3.1858047022195017, coef0: 0, degree: 3, tol: 11842\n"
          ]
        },
        {
          "name": "stderr",
          "output_type": "stream",
          "text": [
            "[I 2024-11-15 23:26:40,903] Trial 901 finished with value: -0.8855999999999999 and parameters: {'kernel': 'rbf', 'C': 427.6329037324043, 'max iter': 11842, 'gamma': 3.1858047022195017}. Best is trial 182 with value: -0.8936.\n"
          ]
        },
        {
          "name": "stdout",
          "output_type": "stream",
          "text": [
            "kernel: rbf, C: 650.7993652450215, gamma: 1.2244674184329645, coef0: 0, degree: 3, tol: 142184\n"
          ]
        },
        {
          "name": "stderr",
          "output_type": "stream",
          "text": [
            "[I 2024-11-15 23:26:42,696] Trial 902 finished with value: -0.8892 and parameters: {'kernel': 'rbf', 'C': 650.7993652450215, 'max iter': 142184, 'gamma': 1.2244674184329645}. Best is trial 182 with value: -0.8936.\n"
          ]
        },
        {
          "name": "stdout",
          "output_type": "stream",
          "text": [
            "kernel: rbf, C: 266.6478553455972, gamma: 2.0895104821733264, coef0: 0, degree: 3, tol: 597784\n"
          ]
        },
        {
          "name": "stderr",
          "output_type": "stream",
          "text": [
            "[I 2024-11-15 23:26:44,192] Trial 903 finished with value: -0.8868 and parameters: {'kernel': 'rbf', 'C': 266.6478553455972, 'max iter': 597784, 'gamma': 2.0895104821733264}. Best is trial 182 with value: -0.8936.\n"
          ]
        },
        {
          "name": "stdout",
          "output_type": "stream",
          "text": [
            "kernel: rbf, C: 755.1465555152485, gamma: 1.4258626200058513, coef0: 0, degree: 3, tol: 313970\n"
          ]
        },
        {
          "name": "stderr",
          "output_type": "stream",
          "text": [
            "[I 2024-11-15 23:26:45,959] Trial 904 finished with value: -0.8884000000000001 and parameters: {'kernel': 'rbf', 'C': 755.1465555152485, 'max iter': 313970, 'gamma': 1.4258626200058513}. Best is trial 182 with value: -0.8936.\n"
          ]
        },
        {
          "name": "stdout",
          "output_type": "stream",
          "text": [
            "kernel: rbf, C: 0.00906243819946727, gamma: 0.000384610974764908, coef0: 0, degree: 3, tol: 241972\n"
          ]
        },
        {
          "name": "stderr",
          "output_type": "stream",
          "text": [
            "[I 2024-11-15 23:26:47,323] Trial 905 finished with value: -0.52 and parameters: {'kernel': 'rbf', 'C': 0.00906243819946727, 'max iter': 241972, 'gamma': 0.000384610974764908}. Best is trial 182 with value: -0.8936.\n"
          ]
        },
        {
          "name": "stdout",
          "output_type": "stream",
          "text": [
            "kernel: rbf, C: 514.1458239797688, gamma: 0.8543878995506953, coef0: 0, degree: 3, tol: 758620\n"
          ]
        },
        {
          "name": "stderr",
          "output_type": "stream",
          "text": [
            "[I 2024-11-15 23:26:48,420] Trial 906 finished with value: -0.8859999999999999 and parameters: {'kernel': 'rbf', 'C': 514.1458239797688, 'max iter': 758620, 'gamma': 0.8543878995506953}. Best is trial 182 with value: -0.8936.\n"
          ]
        },
        {
          "name": "stdout",
          "output_type": "stream",
          "text": [
            "kernel: rbf, C: 990.1659445325753, gamma: 2.3982100321943887, coef0: 0, degree: 3, tol: 450672\n"
          ]
        },
        {
          "name": "stderr",
          "output_type": "stream",
          "text": [
            "[I 2024-11-15 23:26:51,276] Trial 907 finished with value: -0.8859999999999999 and parameters: {'kernel': 'rbf', 'C': 990.1659445325753, 'max iter': 450672, 'gamma': 2.3982100321943887}. Best is trial 182 with value: -0.8936.\n"
          ]
        },
        {
          "name": "stdout",
          "output_type": "stream",
          "text": [
            "kernel: rbf, C: 359.96331862621105, gamma: 3.793017036145354, coef0: 0, degree: 3, tol: 72772\n"
          ]
        },
        {
          "name": "stderr",
          "output_type": "stream",
          "text": [
            "[I 2024-11-15 23:26:52,990] Trial 908 finished with value: -0.8884000000000001 and parameters: {'kernel': 'rbf', 'C': 359.96331862621105, 'max iter': 72772, 'gamma': 3.793017036145354}. Best is trial 182 with value: -0.8936.\n"
          ]
        },
        {
          "name": "stdout",
          "output_type": "stream",
          "text": [
            "kernel: linear, C: 641.3494016350303, gamma: 1, coef0: 0, degree: 3, tol: 579760\n"
          ]
        },
        {
          "name": "stderr",
          "output_type": "stream",
          "text": [
            "[I 2024-11-15 23:26:54,017] Trial 909 finished with value: -0.8848 and parameters: {'kernel': 'linear', 'C': 641.3494016350303, 'max iter': 579760}. Best is trial 182 with value: -0.8936.\n"
          ]
        },
        {
          "name": "stdout",
          "output_type": "stream",
          "text": [
            "kernel: rbf, C: 440.7418725683002, gamma: 0.6486728135385849, coef0: 0, degree: 3, tol: 389186\n"
          ]
        },
        {
          "name": "stderr",
          "output_type": "stream",
          "text": [
            "[I 2024-11-15 23:26:54,995] Trial 910 finished with value: -0.8884000000000001 and parameters: {'kernel': 'rbf', 'C': 440.7418725683002, 'max iter': 389186, 'gamma': 0.6486728135385849}. Best is trial 182 with value: -0.8936.\n"
          ]
        },
        {
          "name": "stdout",
          "output_type": "stream",
          "text": [
            "kernel: rbf, C: 784.967800076975, gamma: 1.777887030457336, coef0: 0, degree: 3, tol: 987924\n"
          ]
        },
        {
          "name": "stderr",
          "output_type": "stream",
          "text": [
            "[I 2024-11-15 23:26:57,078] Trial 911 finished with value: -0.8916000000000001 and parameters: {'kernel': 'rbf', 'C': 784.967800076975, 'max iter': 987924, 'gamma': 1.777887030457336}. Best is trial 182 with value: -0.8936.\n"
          ]
        },
        {
          "name": "stdout",
          "output_type": "stream",
          "text": [
            "kernel: sigmoid, C: 535.581358232685, gamma: 2.8974674219383303, coef0: 9.199671906556189, degree: 3, tol: 707151\n"
          ]
        },
        {
          "name": "stderr",
          "output_type": "stream",
          "text": [
            "[I 2024-11-15 23:26:58,353] Trial 912 finished with value: -0.52 and parameters: {'kernel': 'sigmoid', 'C': 535.581358232685, 'max iter': 707151, 'gamma': 2.8974674219383303, 'coef0': 9.199671906556189}. Best is trial 182 with value: -0.8936.\n"
          ]
        },
        {
          "name": "stdout",
          "output_type": "stream",
          "text": [
            "kernel: rbf, C: 330.7961480528205, gamma: 1.1552163500869101, coef0: 0, degree: 3, tol: 987244\n"
          ]
        },
        {
          "name": "stderr",
          "output_type": "stream",
          "text": [
            "[I 2024-11-15 23:26:59,375] Trial 913 finished with value: -0.8868 and parameters: {'kernel': 'rbf', 'C': 330.7961480528205, 'max iter': 987244, 'gamma': 1.1552163500869101}. Best is trial 182 with value: -0.8936.\n"
          ]
        },
        {
          "name": "stdout",
          "output_type": "stream",
          "text": [
            "kernel: rbf, C: 212.65963246240366, gamma: 4.845435110359427, coef0: 0, degree: 3, tol: 177118\n"
          ]
        },
        {
          "name": "stderr",
          "output_type": "stream",
          "text": [
            "[I 2024-11-15 23:27:00,842] Trial 914 finished with value: -0.8864000000000001 and parameters: {'kernel': 'rbf', 'C': 212.65963246240366, 'max iter': 177118, 'gamma': 4.845435110359427}. Best is trial 182 with value: -0.8936.\n"
          ]
        },
        {
          "name": "stdout",
          "output_type": "stream",
          "text": [
            "kernel: rbf, C: 788.7770139527333, gamma: 1.8715711064160665, coef0: 0, degree: 3, tol: 308173\n"
          ]
        },
        {
          "name": "stderr",
          "output_type": "stream",
          "text": [
            "[I 2024-11-15 23:27:02,956] Trial 915 finished with value: -0.892 and parameters: {'kernel': 'rbf', 'C': 788.7770139527333, 'max iter': 308173, 'gamma': 1.8715711064160665}. Best is trial 182 with value: -0.8936.\n"
          ]
        },
        {
          "name": "stdout",
          "output_type": "stream",
          "text": [
            "kernel: rbf, C: 0.027642837124887642, gamma: 2.4747976110948655, coef0: 0, degree: 3, tol: 520264\n"
          ]
        },
        {
          "name": "stderr",
          "output_type": "stream",
          "text": [
            "[I 2024-11-15 23:27:03,694] Trial 916 finished with value: -0.8704000000000001 and parameters: {'kernel': 'rbf', 'C': 0.027642837124887642, 'max iter': 520264, 'gamma': 2.4747976110948655}. Best is trial 182 with value: -0.8936.\n"
          ]
        },
        {
          "name": "stdout",
          "output_type": "stream",
          "text": [
            "kernel: rbf, C: 996.4389248144184, gamma: 7.557593050582018, coef0: 0, degree: 3, tol: 728716\n"
          ]
        },
        {
          "name": "stderr",
          "output_type": "stream",
          "text": [
            "[I 2024-11-15 23:27:08,133] Trial 917 finished with value: -0.8744 and parameters: {'kernel': 'rbf', 'C': 996.4389248144184, 'max iter': 728716, 'gamma': 7.557593050582018}. Best is trial 182 with value: -0.8936.\n"
          ]
        },
        {
          "name": "stdout",
          "output_type": "stream",
          "text": [
            "kernel: poly, C: 594.4672554195869, gamma: 1.480998478907401, coef0: 0.015542332838567142, degree: 4, tol: 56746\n"
          ]
        },
        {
          "name": "stderr",
          "output_type": "stream",
          "text": [
            "[I 2024-11-15 23:27:13,159] Trial 918 finished with value: -0.364 and parameters: {'kernel': 'poly', 'C': 594.4672554195869, 'max iter': 56746, 'gamma': 1.480998478907401, 'coef0': 0.015542332838567142, 'degree': 4}. Best is trial 182 with value: -0.8936.\n"
          ]
        },
        {
          "name": "stdout",
          "output_type": "stream",
          "text": [
            "kernel: rbf, C: 438.6649804603327, gamma: 3.2720006562991233, coef0: 0, degree: 3, tol: 411460\n"
          ]
        },
        {
          "name": "stderr",
          "output_type": "stream",
          "text": [
            "[I 2024-11-15 23:27:14,989] Trial 919 finished with value: -0.8880000000000001 and parameters: {'kernel': 'rbf', 'C': 438.6649804603327, 'max iter': 411460, 'gamma': 3.2720006562991233}. Best is trial 182 with value: -0.8936.\n"
          ]
        },
        {
          "name": "stdout",
          "output_type": "stream",
          "text": [
            "kernel: rbf, C: 999.1101015686935, gamma: 1.10362506049535, coef0: 0, degree: 3, tol: 596730\n"
          ]
        },
        {
          "name": "stderr",
          "output_type": "stream",
          "text": [
            "[I 2024-11-15 23:27:16,959] Trial 920 finished with value: -0.8888 and parameters: {'kernel': 'rbf', 'C': 999.1101015686935, 'max iter': 596730, 'gamma': 1.10362506049535}. Best is trial 182 with value: -0.8936.\n"
          ]
        },
        {
          "name": "stdout",
          "output_type": "stream",
          "text": [
            "kernel: rbf, C: 648.3482826604346, gamma: 2.0549863629569685, coef0: 0, degree: 3, tol: 230872\n"
          ]
        },
        {
          "name": "stderr",
          "output_type": "stream",
          "text": [
            "[I 2024-11-15 23:27:18,892] Trial 921 finished with value: -0.8936 and parameters: {'kernel': 'rbf', 'C': 648.3482826604346, 'max iter': 230872, 'gamma': 2.0549863629569685}. Best is trial 182 with value: -0.8936.\n"
          ]
        },
        {
          "name": "stdout",
          "output_type": "stream",
          "text": [
            "kernel: rbf, C: 361.72766448817055, gamma: 1.897375184206989, coef0: 0, degree: 3, tol: 182391\n"
          ]
        },
        {
          "name": "stderr",
          "output_type": "stream",
          "text": [
            "[I 2024-11-15 23:27:20,246] Trial 922 finished with value: -0.8888 and parameters: {'kernel': 'rbf', 'C': 361.72766448817055, 'max iter': 182391, 'gamma': 1.897375184206989}. Best is trial 182 with value: -0.8936.\n"
          ]
        },
        {
          "name": "stdout",
          "output_type": "stream",
          "text": [
            "kernel: rbf, C: 262.78564688433613, gamma: 0.7880525078378551, coef0: 0, degree: 3, tol: 238513\n"
          ]
        },
        {
          "name": "stderr",
          "output_type": "stream",
          "text": [
            "[I 2024-11-15 23:27:21,070] Trial 923 finished with value: -0.8888 and parameters: {'kernel': 'rbf', 'C': 262.78564688433613, 'max iter': 238513, 'gamma': 0.7880525078378551}. Best is trial 182 with value: -0.8936.\n"
          ]
        },
        {
          "name": "stdout",
          "output_type": "stream",
          "text": [
            "kernel: rbf, C: 541.4657928084652, gamma: 4.04255064627756, coef0: 0, degree: 3, tol: 241805\n"
          ]
        },
        {
          "name": "stderr",
          "output_type": "stream",
          "text": [
            "[I 2024-11-15 23:27:23,464] Trial 924 finished with value: -0.884 and parameters: {'kernel': 'rbf', 'C': 541.4657928084652, 'max iter': 241805, 'gamma': 4.04255064627756}. Best is trial 182 with value: -0.8936.\n"
          ]
        },
        {
          "name": "stdout",
          "output_type": "stream",
          "text": [
            "kernel: rbf, C: 420.27052868470724, gamma: 459.4038443947135, coef0: 0, degree: 3, tol: 197586\n"
          ]
        },
        {
          "name": "stderr",
          "output_type": "stream",
          "text": [
            "[I 2024-11-15 23:27:25,136] Trial 925 finished with value: -0.8044 and parameters: {'kernel': 'rbf', 'C': 420.27052868470724, 'max iter': 197586, 'gamma': 459.4038443947135}. Best is trial 182 with value: -0.8936.\n"
          ]
        },
        {
          "name": "stdout",
          "output_type": "stream",
          "text": [
            "kernel: rbf, C: 612.6911278684065, gamma: 2.4205704621877575, coef0: 0, degree: 3, tol: 144227\n"
          ]
        },
        {
          "name": "stderr",
          "output_type": "stream",
          "text": [
            "[I 2024-11-15 23:27:27,138] Trial 926 finished with value: -0.8888 and parameters: {'kernel': 'rbf', 'C': 612.6911278684065, 'max iter': 144227, 'gamma': 2.4205704621877575}. Best is trial 182 with value: -0.8936.\n"
          ]
        },
        {
          "name": "stdout",
          "output_type": "stream",
          "text": [
            "kernel: rbf, C: 12.22896853860962, gamma: 1.441613432809398, coef0: 0, degree: 3, tol: 198888\n"
          ]
        },
        {
          "name": "stderr",
          "output_type": "stream",
          "text": [
            "[I 2024-11-15 23:27:27,672] Trial 927 finished with value: -0.8863999999999999 and parameters: {'kernel': 'rbf', 'C': 12.22896853860962, 'max iter': 198888, 'gamma': 1.441613432809398}. Best is trial 182 with value: -0.8936.\n"
          ]
        },
        {
          "name": "stdout",
          "output_type": "stream",
          "text": [
            "kernel: rbf, C: 644.9527573470751, gamma: 2.979471646971347, coef0: 0, degree: 3, tol: 256095\n"
          ]
        },
        {
          "name": "stderr",
          "output_type": "stream",
          "text": [
            "[I 2024-11-15 23:27:30,055] Trial 928 finished with value: -0.8880000000000001 and parameters: {'kernel': 'rbf', 'C': 644.9527573470751, 'max iter': 256095, 'gamma': 2.979471646971347}. Best is trial 182 with value: -0.8936.\n"
          ]
        },
        {
          "name": "stdout",
          "output_type": "stream",
          "text": [
            "kernel: rbf, C: 483.4510689743027, gamma: 1.736971031816154, coef0: 0, degree: 3, tol: 131784\n"
          ]
        },
        {
          "name": "stderr",
          "output_type": "stream",
          "text": [
            "[I 2024-11-15 23:27:31,511] Trial 929 finished with value: -0.8896000000000001 and parameters: {'kernel': 'rbf', 'C': 483.4510689743027, 'max iter': 131784, 'gamma': 1.736971031816154}. Best is trial 182 with value: -0.8936.\n"
          ]
        },
        {
          "name": "stdout",
          "output_type": "stream",
          "text": [
            "kernel: rbf, C: 320.392001257335, gamma: 1.031217508113402, coef0: 0, degree: 3, tol: 306474\n"
          ]
        },
        {
          "name": "stderr",
          "output_type": "stream",
          "text": [
            "[I 2024-11-15 23:27:32,503] Trial 930 finished with value: -0.8860000000000001 and parameters: {'kernel': 'rbf', 'C': 320.392001257335, 'max iter': 306474, 'gamma': 1.031217508113402}. Best is trial 182 with value: -0.8936.\n"
          ]
        },
        {
          "name": "stdout",
          "output_type": "stream",
          "text": [
            "kernel: linear, C: 774.6709432345465, gamma: 1, coef0: 0, degree: 3, tol: 206262\n"
          ]
        },
        {
          "name": "stderr",
          "output_type": "stream",
          "text": [
            "[I 2024-11-15 23:27:33,771] Trial 931 finished with value: -0.8852 and parameters: {'kernel': 'linear', 'C': 774.6709432345465, 'max iter': 206262}. Best is trial 182 with value: -0.8936.\n"
          ]
        },
        {
          "name": "stdout",
          "output_type": "stream",
          "text": [
            "kernel: rbf, C: 417.17220561614766, gamma: 0.34472621742803844, coef0: 0, degree: 3, tol: 271675\n"
          ]
        },
        {
          "name": "stderr",
          "output_type": "stream",
          "text": [
            "[I 2024-11-15 23:27:34,611] Trial 932 finished with value: -0.8848 and parameters: {'kernel': 'rbf', 'C': 417.17220561614766, 'max iter': 271675, 'gamma': 0.34472621742803844}. Best is trial 182 with value: -0.8936.\n"
          ]
        },
        {
          "name": "stdout",
          "output_type": "stream",
          "text": [
            "kernel: rbf, C: 612.6905174389623, gamma: 5.582094887991833, coef0: 0, degree: 3, tol: 102844\n"
          ]
        },
        {
          "name": "stderr",
          "output_type": "stream",
          "text": [
            "[I 2024-11-15 23:27:37,265] Trial 933 finished with value: -0.8764 and parameters: {'kernel': 'rbf', 'C': 612.6905174389623, 'max iter': 102844, 'gamma': 5.582094887991833}. Best is trial 182 with value: -0.8936.\n"
          ]
        },
        {
          "name": "stdout",
          "output_type": "stream",
          "text": [
            "kernel: rbf, C: 1.8993004978909769, gamma: 2.2062939026131074, coef0: 0, degree: 3, tol: 160657\n"
          ]
        },
        {
          "name": "stderr",
          "output_type": "stream",
          "text": [
            "[I 2024-11-15 23:27:37,789] Trial 934 finished with value: -0.8852 and parameters: {'kernel': 'rbf', 'C': 1.8993004978909769, 'max iter': 160657, 'gamma': 2.2062939026131074}. Best is trial 182 with value: -0.8936.\n"
          ]
        },
        {
          "name": "stdout",
          "output_type": "stream",
          "text": [
            "kernel: rbf, C: 742.7901369951053, gamma: 1.4222638854874698, coef0: 0, degree: 3, tol: 312834\n"
          ]
        },
        {
          "name": "stderr",
          "output_type": "stream",
          "text": [
            "[I 2024-11-15 23:27:39,581] Trial 935 finished with value: -0.8880000000000001 and parameters: {'kernel': 'rbf', 'C': 742.7901369951053, 'max iter': 312834, 'gamma': 1.4222638854874698}. Best is trial 182 with value: -0.8936.\n"
          ]
        },
        {
          "name": "stdout",
          "output_type": "stream",
          "text": [
            "kernel: sigmoid, C: 499.185357163478, gamma: 3.681011504326727, coef0: 45.99847321684282, degree: 3, tol: 212404\n"
          ]
        },
        {
          "name": "stderr",
          "output_type": "stream",
          "text": [
            "[I 2024-11-15 23:27:40,298] Trial 936 finished with value: -0.52 and parameters: {'kernel': 'sigmoid', 'C': 499.185357163478, 'max iter': 212404, 'gamma': 3.681011504326727, 'coef0': 45.99847321684282}. Best is trial 182 with value: -0.8936.\n"
          ]
        },
        {
          "name": "stdout",
          "output_type": "stream",
          "text": [
            "kernel: rbf, C: 299.0150886711261, gamma: 0.5477177123553488, coef0: 0, degree: 3, tol: 337120\n"
          ]
        },
        {
          "name": "stderr",
          "output_type": "stream",
          "text": [
            "[I 2024-11-15 23:27:41,108] Trial 937 finished with value: -0.8855999999999999 and parameters: {'kernel': 'rbf', 'C': 299.0150886711261, 'max iter': 337120, 'gamma': 0.5477177123553488}. Best is trial 182 with value: -0.8936.\n"
          ]
        },
        {
          "name": "stdout",
          "output_type": "stream",
          "text": [
            "kernel: rbf, C: 0.16375814788592447, gamma: 2.4247782975357257, coef0: 0, degree: 3, tol: 170918\n"
          ]
        },
        {
          "name": "stderr",
          "output_type": "stream",
          "text": [
            "[I 2024-11-15 23:27:41,667] Trial 938 finished with value: -0.8772 and parameters: {'kernel': 'rbf', 'C': 0.16375814788592447, 'max iter': 170918, 'gamma': 2.4247782975357257}. Best is trial 182 with value: -0.8936.\n"
          ]
        },
        {
          "name": "stdout",
          "output_type": "stream",
          "text": [
            "kernel: rbf, C: 739.4993988152316, gamma: 0.9167057678394019, coef0: 0, degree: 3, tol: 250395\n"
          ]
        },
        {
          "name": "stderr",
          "output_type": "stream",
          "text": [
            "[I 2024-11-15 23:27:43,020] Trial 939 finished with value: -0.8884000000000001 and parameters: {'kernel': 'rbf', 'C': 739.4993988152316, 'max iter': 250395, 'gamma': 0.9167057678394019}. Best is trial 182 with value: -0.8936.\n"
          ]
        },
        {
          "name": "stdout",
          "output_type": "stream",
          "text": [
            "kernel: rbf, C: 382.0959434384629, gamma: 1.5364616438748553, coef0: 0, degree: 3, tol: 356465\n"
          ]
        },
        {
          "name": "stderr",
          "output_type": "stream",
          "text": [
            "[I 2024-11-15 23:27:44,318] Trial 940 finished with value: -0.8896000000000001 and parameters: {'kernel': 'rbf', 'C': 382.0959434384629, 'max iter': 356465, 'gamma': 1.5364616438748553}. Best is trial 182 with value: -0.8936.\n"
          ]
        },
        {
          "name": "stdout",
          "output_type": "stream",
          "text": [
            "kernel: rbf, C: 999.4565609500532, gamma: 3.12399022503255, coef0: 0, degree: 3, tol: 116346\n"
          ]
        },
        {
          "name": "stderr",
          "output_type": "stream",
          "text": [
            "[I 2024-11-15 23:27:46,845] Trial 941 finished with value: -0.8852 and parameters: {'kernel': 'rbf', 'C': 999.4565609500532, 'max iter': 116346, 'gamma': 3.12399022503255}. Best is trial 182 with value: -0.8936.\n"
          ]
        },
        {
          "name": "stdout",
          "output_type": "stream",
          "text": [
            "kernel: rbf, C: 586.4561302548167, gamma: 11.03708110427129, coef0: 0, degree: 3, tol: 321680\n"
          ]
        },
        {
          "name": "stderr",
          "output_type": "stream",
          "text": [
            "[I 2024-11-15 23:27:50,298] Trial 942 finished with value: -0.8667999999999999 and parameters: {'kernel': 'rbf', 'C': 586.4561302548167, 'max iter': 321680, 'gamma': 11.03708110427129}. Best is trial 182 with value: -0.8936.\n"
          ]
        },
        {
          "name": "stdout",
          "output_type": "stream",
          "text": [
            "kernel: rbf, C: 519.9431856969718, gamma: 2.097217483065278, coef0: 0, degree: 3, tol: 1095\n"
          ]
        },
        {
          "name": "stderr",
          "output_type": "stream",
          "text": [
            "[I 2024-11-15 23:27:50,861] Trial 943 finished with value: -0.56 and parameters: {'kernel': 'rbf', 'C': 519.9431856969718, 'max iter': 1095, 'gamma': 2.097217483065278}. Best is trial 182 with value: -0.8936.\n"
          ]
        },
        {
          "name": "stdout",
          "output_type": "stream",
          "text": [
            "kernel: rbf, C: 806.1271804718317, gamma: 1.080572684375786, coef0: 0, degree: 3, tol: 1655\n"
          ]
        },
        {
          "name": "stderr",
          "output_type": "stream",
          "text": [
            "[I 2024-11-15 23:27:51,516] Trial 944 finished with value: -0.6144000000000001 and parameters: {'kernel': 'rbf', 'C': 806.1271804718317, 'max iter': 1655, 'gamma': 1.080572684375786}. Best is trial 182 with value: -0.8936.\n"
          ]
        },
        {
          "name": "stdout",
          "output_type": "stream",
          "text": [
            "kernel: poly, C: 250.1130254967231, gamma: 4.945792869756832, coef0: 0.03251376250406616, degree: 2, tol: 144175\n"
          ]
        },
        {
          "name": "stderr",
          "output_type": "stream",
          "text": [
            "[I 2024-11-15 23:28:01,196] Trial 945 finished with value: -0.8300000000000001 and parameters: {'kernel': 'poly', 'C': 250.1130254967231, 'max iter': 144175, 'gamma': 4.945792869756832, 'coef0': 0.03251376250406616, 'degree': 2}. Best is trial 182 with value: -0.8936.\n"
          ]
        },
        {
          "name": "stdout",
          "output_type": "stream",
          "text": [
            "kernel: rbf, C: 414.2786501054294, gamma: 1.5738488223867142, coef0: 0, degree: 3, tol: 265336\n"
          ]
        },
        {
          "name": "stderr",
          "output_type": "stream",
          "text": [
            "[I 2024-11-15 23:28:02,514] Trial 946 finished with value: -0.8892 and parameters: {'kernel': 'rbf', 'C': 414.2786501054294, 'max iter': 265336, 'gamma': 1.5738488223867142}. Best is trial 182 with value: -0.8936.\n"
          ]
        },
        {
          "name": "stdout",
          "output_type": "stream",
          "text": [
            "kernel: rbf, C: 609.9048198435727, gamma: 2.894638060176654, coef0: 0, degree: 3, tol: 375100\n"
          ]
        },
        {
          "name": "stderr",
          "output_type": "stream",
          "text": [
            "[I 2024-11-15 23:28:04,646] Trial 947 finished with value: -0.8888 and parameters: {'kernel': 'rbf', 'C': 609.9048198435727, 'max iter': 375100, 'gamma': 2.894638060176654}. Best is trial 182 with value: -0.8936.\n"
          ]
        },
        {
          "name": "stdout",
          "output_type": "stream",
          "text": [
            "kernel: rbf, C: 818.5258020541721, gamma: 2.003270550534939, coef0: 0, degree: 3, tol: 186019\n"
          ]
        },
        {
          "name": "stderr",
          "output_type": "stream",
          "text": [
            "[I 2024-11-15 23:28:06,811] Trial 948 finished with value: -0.8911999999999999 and parameters: {'kernel': 'rbf', 'C': 818.5258020541721, 'max iter': 186019, 'gamma': 2.003270550534939}. Best is trial 182 with value: -0.8936.\n"
          ]
        },
        {
          "name": "stdout",
          "output_type": "stream",
          "text": [
            "kernel: rbf, C: 496.7150132652754, gamma: 0.7032999753779945, coef0: 0, degree: 3, tol: 435274\n"
          ]
        },
        {
          "name": "stderr",
          "output_type": "stream",
          "text": [
            "[I 2024-11-15 23:28:07,806] Trial 949 finished with value: -0.8855999999999999 and parameters: {'kernel': 'rbf', 'C': 496.7150132652754, 'max iter': 435274, 'gamma': 0.7032999753779945}. Best is trial 182 with value: -0.8936.\n"
          ]
        },
        {
          "name": "stdout",
          "output_type": "stream",
          "text": [
            "kernel: rbf, C: 355.0768998493529, gamma: 1.211897291866135, coef0: 0, degree: 3, tol: 228545\n"
          ]
        },
        {
          "name": "stderr",
          "output_type": "stream",
          "text": [
            "[I 2024-11-15 23:28:08,901] Trial 950 finished with value: -0.8880000000000001 and parameters: {'kernel': 'rbf', 'C': 355.0768998493529, 'max iter': 228545, 'gamma': 1.211897291866135}. Best is trial 182 with value: -0.8936.\n"
          ]
        },
        {
          "name": "stdout",
          "output_type": "stream",
          "text": [
            "kernel: rbf, C: 139.40259434465304, gamma: 4.002675330948552, coef0: 0, degree: 3, tol: 294146\n"
          ]
        },
        {
          "name": "stderr",
          "output_type": "stream",
          "text": [
            "[I 2024-11-15 23:28:09,997] Trial 951 finished with value: -0.8879999999999999 and parameters: {'kernel': 'rbf', 'C': 139.40259434465304, 'max iter': 294146, 'gamma': 4.002675330948552}. Best is trial 182 with value: -0.8936.\n"
          ]
        },
        {
          "name": "stdout",
          "output_type": "stream",
          "text": [
            "kernel: rbf, C: 639.2576787589011, gamma: 2.4690577295522758, coef0: 0, degree: 3, tol: 443296\n"
          ]
        },
        {
          "name": "stderr",
          "output_type": "stream",
          "text": [
            "[I 2024-11-15 23:28:12,072] Trial 952 finished with value: -0.8876000000000002 and parameters: {'kernel': 'rbf', 'C': 639.2576787589011, 'max iter': 443296, 'gamma': 2.4690577295522758}. Best is trial 182 with value: -0.8936.\n"
          ]
        },
        {
          "name": "stdout",
          "output_type": "stream",
          "text": [
            "kernel: rbf, C: 999.5106115424772, gamma: 1.5746036112941073, coef0: 0, degree: 3, tol: 89172\n"
          ]
        },
        {
          "name": "stderr",
          "output_type": "stream",
          "text": [
            "[I 2024-11-15 23:28:13,986] Trial 953 finished with value: -0.8916000000000001 and parameters: {'kernel': 'rbf', 'C': 999.5106115424772, 'max iter': 89172, 'gamma': 1.5746036112941073}. Best is trial 182 with value: -0.8936.\n"
          ]
        },
        {
          "name": "stdout",
          "output_type": "stream",
          "text": [
            "kernel: rbf, C: 754.3434945567664, gamma: 6.178423507427139, coef0: 0, degree: 3, tol: 146034\n"
          ]
        },
        {
          "name": "stderr",
          "output_type": "stream",
          "text": [
            "[I 2024-11-15 23:28:17,222] Trial 954 finished with value: -0.8751999999999999 and parameters: {'kernel': 'rbf', 'C': 754.3434945567664, 'max iter': 146034, 'gamma': 6.178423507427139}. Best is trial 182 with value: -0.8936.\n"
          ]
        },
        {
          "name": "stdout",
          "output_type": "stream",
          "text": [
            "kernel: rbf, C: 1.0235873103620572, gamma: 1.0738578344589873, coef0: 0, degree: 3, tol: 398148\n"
          ]
        },
        {
          "name": "stderr",
          "output_type": "stream",
          "text": [
            "[I 2024-11-15 23:28:17,733] Trial 955 finished with value: -0.8812 and parameters: {'kernel': 'rbf', 'C': 1.0235873103620572, 'max iter': 398148, 'gamma': 1.0738578344589873}. Best is trial 182 with value: -0.8936.\n"
          ]
        },
        {
          "name": "stdout",
          "output_type": "stream",
          "text": [
            "kernel: linear, C: 507.9672059860872, gamma: 1, coef0: 0, degree: 3, tol: 502707\n"
          ]
        },
        {
          "name": "stderr",
          "output_type": "stream",
          "text": [
            "[I 2024-11-15 23:28:18,666] Trial 956 finished with value: -0.884 and parameters: {'kernel': 'linear', 'C': 507.9672059860872, 'max iter': 502707}. Best is trial 182 with value: -0.8936.\n"
          ]
        },
        {
          "name": "stdout",
          "output_type": "stream",
          "text": [
            "kernel: rbf, C: 210.2648178050543, gamma: 3.091214280230797, coef0: 0, degree: 3, tol: 283979\n"
          ]
        },
        {
          "name": "stderr",
          "output_type": "stream",
          "text": [
            "[I 2024-11-15 23:28:19,928] Trial 957 finished with value: -0.8888 and parameters: {'kernel': 'rbf', 'C': 210.2648178050543, 'max iter': 283979, 'gamma': 3.091214280230797}. Best is trial 182 with value: -0.8936.\n"
          ]
        },
        {
          "name": "stdout",
          "output_type": "stream",
          "text": [
            "kernel: rbf, C: 406.1471511623633, gamma: 1.9873733554202089, coef0: 0, degree: 3, tol: 370935\n"
          ]
        },
        {
          "name": "stderr",
          "output_type": "stream",
          "text": [
            "[I 2024-11-15 23:28:21,326] Trial 958 finished with value: -0.8904 and parameters: {'kernel': 'rbf', 'C': 406.1471511623633, 'max iter': 370935, 'gamma': 1.9873733554202089}. Best is trial 182 with value: -0.8936.\n"
          ]
        },
        {
          "name": "stdout",
          "output_type": "stream",
          "text": [
            "kernel: rbf, C: 2.737013646284884, gamma: 0.6920410671049623, coef0: 0, degree: 3, tol: 228201\n"
          ]
        },
        {
          "name": "stderr",
          "output_type": "stream",
          "text": [
            "[I 2024-11-15 23:28:21,838] Trial 959 finished with value: -0.882 and parameters: {'kernel': 'rbf', 'C': 2.737013646284884, 'max iter': 228201, 'gamma': 0.6920410671049623}. Best is trial 182 with value: -0.8936.\n"
          ]
        },
        {
          "name": "stdout",
          "output_type": "stream",
          "text": [
            "kernel: rbf, C: 635.9267764549151, gamma: 1.363548088527829, coef0: 0, degree: 3, tol: 298\n"
          ]
        },
        {
          "name": "stderr",
          "output_type": "stream",
          "text": [
            "[I 2024-11-15 23:28:22,130] Trial 960 finished with value: -0.5456 and parameters: {'kernel': 'rbf', 'C': 635.9267764549151, 'max iter': 298, 'gamma': 1.363548088527829}. Best is trial 182 with value: -0.8936.\n"
          ]
        },
        {
          "name": "stdout",
          "output_type": "stream",
          "text": [
            "kernel: sigmoid, C: 780.9630919659263, gamma: 3.863237083206066, coef0: 21.419853075536878, degree: 3, tol: 509667\n"
          ]
        },
        {
          "name": "stderr",
          "output_type": "stream",
          "text": [
            "[I 2024-11-15 23:28:22,841] Trial 961 finished with value: -0.52 and parameters: {'kernel': 'sigmoid', 'C': 780.9630919659263, 'max iter': 509667, 'gamma': 3.863237083206066, 'coef0': 21.419853075536878}. Best is trial 182 with value: -0.8936.\n"
          ]
        },
        {
          "name": "stdout",
          "output_type": "stream",
          "text": [
            "kernel: rbf, C: 329.30367808677386, gamma: 2.271838692293074, coef0: 0, degree: 3, tol: 111943\n"
          ]
        },
        {
          "name": "stderr",
          "output_type": "stream",
          "text": [
            "[I 2024-11-15 23:28:24,190] Trial 962 finished with value: -0.8908000000000001 and parameters: {'kernel': 'rbf', 'C': 329.30367808677386, 'max iter': 111943, 'gamma': 2.271838692293074}. Best is trial 182 with value: -0.8936.\n"
          ]
        },
        {
          "name": "stdout",
          "output_type": "stream",
          "text": [
            "kernel: rbf, C: 530.2421036567151, gamma: 1.6165293765235922, coef0: 0, degree: 3, tol: 171128\n"
          ]
        },
        {
          "name": "stderr",
          "output_type": "stream",
          "text": [
            "[I 2024-11-15 23:28:25,660] Trial 963 finished with value: -0.8892000000000001 and parameters: {'kernel': 'rbf', 'C': 530.2421036567151, 'max iter': 171128, 'gamma': 1.6165293765235922}. Best is trial 182 with value: -0.8936.\n"
          ]
        },
        {
          "name": "stdout",
          "output_type": "stream",
          "text": [
            "kernel: rbf, C: 650.3742857671881, gamma: 1.017367992056399, coef0: 0, degree: 3, tol: 327184\n"
          ]
        },
        {
          "name": "stderr",
          "output_type": "stream",
          "text": [
            "[I 2024-11-15 23:28:27,001] Trial 964 finished with value: -0.8888 and parameters: {'kernel': 'rbf', 'C': 650.3742857671881, 'max iter': 327184, 'gamma': 1.017367992056399}. Best is trial 182 with value: -0.8936.\n"
          ]
        },
        {
          "name": "stdout",
          "output_type": "stream",
          "text": [
            "kernel: rbf, C: 449.2624460185016, gamma: 2.9458115071619537, coef0: 0, degree: 3, tol: 572858\n"
          ]
        },
        {
          "name": "stderr",
          "output_type": "stream",
          "text": [
            "[I 2024-11-15 23:28:28,704] Trial 965 finished with value: -0.8868 and parameters: {'kernel': 'rbf', 'C': 449.2624460185016, 'max iter': 572858, 'gamma': 2.9458115071619537}. Best is trial 182 with value: -0.8936.\n"
          ]
        },
        {
          "name": "stdout",
          "output_type": "stream",
          "text": [
            "kernel: rbf, C: 993.204140642396, gamma: 2.0079139442281253, coef0: 0, degree: 3, tol: 2936\n"
          ]
        },
        {
          "name": "stderr",
          "output_type": "stream",
          "text": [
            "[I 2024-11-15 23:28:29,559] Trial 966 finished with value: -0.5471999999999999 and parameters: {'kernel': 'rbf', 'C': 993.204140642396, 'max iter': 2936, 'gamma': 2.0079139442281253}. Best is trial 182 with value: -0.8936.\n"
          ]
        },
        {
          "name": "stdout",
          "output_type": "stream",
          "text": [
            "kernel: poly, C: 295.1958918362628, gamma: 3.9120833609129444, coef0: 0.0012738654537997932, degree: 5, tol: 4590\n"
          ]
        },
        {
          "name": "stderr",
          "output_type": "stream",
          "text": [
            "[I 2024-11-15 23:28:30,238] Trial 967 finished with value: -0.4800000000000001 and parameters: {'kernel': 'poly', 'C': 295.1958918362628, 'max iter': 4590, 'gamma': 3.9120833609129444, 'coef0': 0.0012738654537997932, 'degree': 5}. Best is trial 182 with value: -0.8936.\n"
          ]
        },
        {
          "name": "stdout",
          "output_type": "stream",
          "text": [
            "kernel: rbf, C: 774.2101475665237, gamma: 1.252023129525458, coef0: 0, degree: 3, tol: 492027\n"
          ]
        },
        {
          "name": "stderr",
          "output_type": "stream",
          "text": [
            "[I 2024-11-15 23:28:31,899] Trial 968 finished with value: -0.8907999999999999 and parameters: {'kernel': 'rbf', 'C': 774.2101475665237, 'max iter': 492027, 'gamma': 1.252023129525458}. Best is trial 182 with value: -0.8936.\n"
          ]
        },
        {
          "name": "stdout",
          "output_type": "stream",
          "text": [
            "kernel: rbf, C: 531.1301863878556, gamma: 0.05941249351084581, coef0: 0, degree: 3, tol: 8110\n"
          ]
        },
        {
          "name": "stderr",
          "output_type": "stream",
          "text": [
            "[I 2024-11-15 23:28:32,500] Trial 969 finished with value: -0.8844 and parameters: {'kernel': 'rbf', 'C': 531.1301863878556, 'max iter': 8110, 'gamma': 0.05941249351084581}. Best is trial 182 with value: -0.8936.\n"
          ]
        },
        {
          "name": "stdout",
          "output_type": "stream",
          "text": [
            "kernel: rbf, C: 776.2267272117901, gamma: 6.692349847123498, coef0: 0, degree: 3, tol: 424772\n"
          ]
        },
        {
          "name": "stderr",
          "output_type": "stream",
          "text": [
            "[I 2024-11-15 23:28:36,261] Trial 970 finished with value: -0.8775999999999999 and parameters: {'kernel': 'rbf', 'C': 776.2267272117901, 'max iter': 424772, 'gamma': 6.692349847123498}. Best is trial 182 with value: -0.8936.\n"
          ]
        },
        {
          "name": "stdout",
          "output_type": "stream",
          "text": [
            "kernel: rbf, C: 396.07485007586064, gamma: 2.50720404793505, coef0: 0, degree: 3, tol: 638482\n"
          ]
        },
        {
          "name": "stderr",
          "output_type": "stream",
          "text": [
            "[I 2024-11-15 23:28:37,847] Trial 971 finished with value: -0.8907999999999999 and parameters: {'kernel': 'rbf', 'C': 396.07485007586064, 'max iter': 638482, 'gamma': 2.50720404793505}. Best is trial 182 with value: -0.8936.\n"
          ]
        },
        {
          "name": "stdout",
          "output_type": "stream",
          "text": [
            "kernel: rbf, C: 624.0275216390788, gamma: 0.8029273684725987, coef0: 0, degree: 3, tol: 219290\n"
          ]
        },
        {
          "name": "stderr",
          "output_type": "stream",
          "text": [
            "[I 2024-11-15 23:28:39,003] Trial 972 finished with value: -0.8855999999999999 and parameters: {'kernel': 'rbf', 'C': 624.0275216390788, 'max iter': 219290, 'gamma': 0.8029273684725987}. Best is trial 182 with value: -0.8936.\n"
          ]
        },
        {
          "name": "stdout",
          "output_type": "stream",
          "text": [
            "kernel: rbf, C: 499.9925234395853, gamma: 1.6849763360780186, coef0: 0, degree: 3, tol: 353277\n"
          ]
        },
        {
          "name": "stderr",
          "output_type": "stream",
          "text": [
            "[I 2024-11-15 23:28:40,562] Trial 973 finished with value: -0.8896000000000001 and parameters: {'kernel': 'rbf', 'C': 499.9925234395853, 'max iter': 353277, 'gamma': 1.6849763360780186}. Best is trial 182 with value: -0.8936.\n"
          ]
        },
        {
          "name": "stdout",
          "output_type": "stream",
          "text": [
            "kernel: rbf, C: 0.006633860305341036, gamma: 2.0902241823904835e-05, coef0: 0, degree: 3, tol: 750497\n"
          ]
        },
        {
          "name": "stderr",
          "output_type": "stream",
          "text": [
            "[I 2024-11-15 23:28:41,926] Trial 974 finished with value: -0.52 and parameters: {'kernel': 'rbf', 'C': 0.006633860305341036, 'max iter': 750497, 'gamma': 2.0902241823904835e-05}. Best is trial 182 with value: -0.8936.\n"
          ]
        },
        {
          "name": "stdout",
          "output_type": "stream",
          "text": [
            "kernel: rbf, C: 799.5314359929121, gamma: 3.1267134202952174, coef0: 0, degree: 3, tol: 274211\n"
          ]
        },
        {
          "name": "stderr",
          "output_type": "stream",
          "text": [
            "[I 2024-11-15 23:28:44,646] Trial 975 finished with value: -0.8876 and parameters: {'kernel': 'rbf', 'C': 799.5314359929121, 'max iter': 274211, 'gamma': 3.1267134202952174}. Best is trial 182 with value: -0.8936.\n"
          ]
        },
        {
          "name": "stdout",
          "output_type": "stream",
          "text": [
            "kernel: rbf, C: 363.6234755325232, gamma: 0.5051662679165072, coef0: 0, degree: 3, tol: 473687\n"
          ]
        },
        {
          "name": "stderr",
          "output_type": "stream",
          "text": [
            "[I 2024-11-15 23:28:45,495] Trial 976 finished with value: -0.8852 and parameters: {'kernel': 'rbf', 'C': 363.6234755325232, 'max iter': 473687, 'gamma': 0.5051662679165072}. Best is trial 182 with value: -0.8936.\n"
          ]
        },
        {
          "name": "stdout",
          "output_type": "stream",
          "text": [
            "kernel: rbf, C: 631.9978297203587, gamma: 4.845342047218853, coef0: 0, degree: 3, tol: 575674\n"
          ]
        },
        {
          "name": "stderr",
          "output_type": "stream",
          "text": [
            "[I 2024-11-15 23:28:48,224] Trial 977 finished with value: -0.8795999999999999 and parameters: {'kernel': 'rbf', 'C': 631.9978297203587, 'max iter': 575674, 'gamma': 4.845342047218853}. Best is trial 182 with value: -0.8936.\n"
          ]
        },
        {
          "name": "stdout",
          "output_type": "stream",
          "text": [
            "kernel: rbf, C: 466.24890176112416, gamma: 1.2598044695471708, coef0: 0, degree: 3, tol: 131010\n"
          ]
        },
        {
          "name": "stderr",
          "output_type": "stream",
          "text": [
            "[I 2024-11-15 23:28:49,511] Trial 978 finished with value: -0.8880000000000001 and parameters: {'kernel': 'rbf', 'C': 466.24890176112416, 'max iter': 131010, 'gamma': 1.2598044695471708}. Best is trial 182 with value: -0.8936.\n"
          ]
        },
        {
          "name": "stdout",
          "output_type": "stream",
          "text": [
            "kernel: rbf, C: 0.7510451635733826, gamma: 2.0759651853666496, coef0: 0, degree: 3, tol: 682549\n"
          ]
        },
        {
          "name": "stderr",
          "output_type": "stream",
          "text": [
            "[I 2024-11-15 23:28:50,026] Trial 979 finished with value: -0.8828000000000001 and parameters: {'kernel': 'rbf', 'C': 0.7510451635733826, 'max iter': 682549, 'gamma': 2.0759651853666496}. Best is trial 182 with value: -0.8936.\n"
          ]
        },
        {
          "name": "stdout",
          "output_type": "stream",
          "text": [
            "kernel: rbf, C: 811.9500260839033, gamma: 1.7153414434962844, coef0: 0, degree: 3, tol: 994962\n"
          ]
        },
        {
          "name": "stderr",
          "output_type": "stream",
          "text": [
            "[I 2024-11-15 23:28:52,125] Trial 980 finished with value: -0.892 and parameters: {'kernel': 'rbf', 'C': 811.9500260839033, 'max iter': 994962, 'gamma': 1.7153414434962844}. Best is trial 182 with value: -0.8936.\n"
          ]
        },
        {
          "name": "stdout",
          "output_type": "stream",
          "text": [
            "kernel: rbf, C: 221.78749758271167, gamma: 2.675313483471459, coef0: 0, degree: 3, tol: 390782\n"
          ]
        },
        {
          "name": "stderr",
          "output_type": "stream",
          "text": [
            "[I 2024-11-15 23:28:53,297] Trial 981 finished with value: -0.89 and parameters: {'kernel': 'rbf', 'C': 221.78749758271167, 'max iter': 390782, 'gamma': 2.675313483471459}. Best is trial 182 with value: -0.8936.\n"
          ]
        },
        {
          "name": "stdout",
          "output_type": "stream",
          "text": [
            "kernel: rbf, C: 990.4614280858248, gamma: 0.901059632924794, coef0: 0, degree: 3, tol: 171245\n"
          ]
        },
        {
          "name": "stderr",
          "output_type": "stream",
          "text": [
            "[I 2024-11-15 23:28:54,940] Trial 982 finished with value: -0.8880000000000001 and parameters: {'kernel': 'rbf', 'C': 990.4614280858248, 'max iter': 171245, 'gamma': 0.901059632924794}. Best is trial 182 with value: -0.8936.\n"
          ]
        },
        {
          "name": "stdout",
          "output_type": "stream",
          "text": [
            "kernel: linear, C: 606.7079481341005, gamma: 1, coef0: 0, degree: 3, tol: 784614\n"
          ]
        },
        {
          "name": "stderr",
          "output_type": "stream",
          "text": [
            "[I 2024-11-15 23:28:56,050] Trial 983 finished with value: -0.8844000000000001 and parameters: {'kernel': 'linear', 'C': 606.7079481341005, 'max iter': 784614}. Best is trial 182 with value: -0.8936.\n"
          ]
        },
        {
          "name": "stdout",
          "output_type": "stream",
          "text": [
            "kernel: rbf, C: 435.1355134997455, gamma: 1.2927806741368733, coef0: 0, degree: 3, tol: 19456\n"
          ]
        },
        {
          "name": "stderr",
          "output_type": "stream",
          "text": [
            "[I 2024-11-15 23:28:57,141] Trial 984 finished with value: -0.8888 and parameters: {'kernel': 'rbf', 'C': 435.1355134997455, 'max iter': 19456, 'gamma': 1.2927806741368733}. Best is trial 182 with value: -0.8936.\n"
          ]
        },
        {
          "name": "stdout",
          "output_type": "stream",
          "text": [
            "kernel: rbf, C: 282.4141829812106, gamma: 2.099406842939797, coef0: 0, degree: 3, tol: 294337\n"
          ]
        },
        {
          "name": "stderr",
          "output_type": "stream",
          "text": [
            "[I 2024-11-15 23:28:58,342] Trial 985 finished with value: -0.8888 and parameters: {'kernel': 'rbf', 'C': 282.4141829812106, 'max iter': 294337, 'gamma': 2.099406842939797}. Best is trial 182 with value: -0.8936.\n"
          ]
        },
        {
          "name": "stdout",
          "output_type": "stream",
          "text": [
            "kernel: sigmoid, C: 671.7475449349632, gamma: 4.3447240644073934, coef0: 3.3922705669093194, degree: 3, tol: 552776\n"
          ]
        },
        {
          "name": "stderr",
          "output_type": "stream",
          "text": [
            "[I 2024-11-15 23:28:59,670] Trial 986 finished with value: -0.52 and parameters: {'kernel': 'sigmoid', 'C': 671.7475449349632, 'max iter': 552776, 'gamma': 4.3447240644073934, 'coef0': 3.3922705669093194}. Best is trial 182 with value: -0.8936.\n"
          ]
        },
        {
          "name": "stdout",
          "output_type": "stream",
          "text": [
            "kernel: rbf, C: 545.8901657774791, gamma: 2.8531465626690307, coef0: 0, degree: 3, tol: 429192\n"
          ]
        },
        {
          "name": "stderr",
          "output_type": "stream",
          "text": [
            "[I 2024-11-15 23:29:01,644] Trial 987 finished with value: -0.8876 and parameters: {'kernel': 'rbf', 'C': 545.8901657774791, 'max iter': 429192, 'gamma': 2.8531465626690307}. Best is trial 182 with value: -0.8936.\n"
          ]
        },
        {
          "name": "stdout",
          "output_type": "stream",
          "text": [
            "kernel: rbf, C: 802.0743963083165, gamma: 1.6237135314688436, coef0: 0, degree: 3, tol: 89833\n"
          ]
        },
        {
          "name": "stderr",
          "output_type": "stream",
          "text": [
            "[I 2024-11-15 23:29:03,495] Trial 988 finished with value: -0.8924 and parameters: {'kernel': 'rbf', 'C': 802.0743963083165, 'max iter': 89833, 'gamma': 1.6237135314688436}. Best is trial 182 with value: -0.8936.\n"
          ]
        },
        {
          "name": "stdout",
          "output_type": "stream",
          "text": [
            "kernel: rbf, C: 323.99057457906514, gamma: 0.02353673142129833, coef0: 0, degree: 3, tol: 655631\n"
          ]
        },
        {
          "name": "stderr",
          "output_type": "stream",
          "text": [
            "[I 2024-11-15 23:29:04,053] Trial 989 finished with value: -0.8852 and parameters: {'kernel': 'rbf', 'C': 323.99057457906514, 'max iter': 655631, 'gamma': 0.02353673142129833}. Best is trial 182 with value: -0.8936.\n"
          ]
        },
        {
          "name": "stdout",
          "output_type": "stream",
          "text": [
            "kernel: rbf, C: 423.58573052484155, gamma: 0.7738279807663808, coef0: 0, degree: 3, tol: 345363\n"
          ]
        },
        {
          "name": "stderr",
          "output_type": "stream",
          "text": [
            "[I 2024-11-15 23:29:05,057] Trial 990 finished with value: -0.8855999999999999 and parameters: {'kernel': 'rbf', 'C': 423.58573052484155, 'max iter': 345363, 'gamma': 0.7738279807663808}. Best is trial 182 with value: -0.8936.\n"
          ]
        },
        {
          "name": "stdout",
          "output_type": "stream",
          "text": [
            "kernel: rbf, C: 6.269583212239837, gamma: 8.815659319940133, coef0: 0, degree: 3, tol: 215804\n"
          ]
        },
        {
          "name": "stderr",
          "output_type": "stream",
          "text": [
            "[I 2024-11-15 23:29:05,649] Trial 991 finished with value: -0.8872 and parameters: {'kernel': 'rbf', 'C': 6.269583212239837, 'max iter': 215804, 'gamma': 8.815659319940133}. Best is trial 182 with value: -0.8936.\n"
          ]
        },
        {
          "name": "stdout",
          "output_type": "stream",
          "text": [
            "kernel: poly, C: 630.6896375249576, gamma: 1.0778745549308126, coef0: 112.15010070860173, degree: 4, tol: 806017\n"
          ]
        },
        {
          "name": "stderr",
          "output_type": "stream",
          "text": [
            "[I 2024-11-15 23:29:20,619] Trial 992 finished with value: -0.8700000000000001 and parameters: {'kernel': 'poly', 'C': 630.6896375249576, 'max iter': 806017, 'gamma': 1.0778745549308126, 'coef0': 112.15010070860173, 'degree': 4}. Best is trial 182 with value: -0.8936.\n"
          ]
        },
        {
          "name": "stdout",
          "output_type": "stream",
          "text": [
            "kernel: rbf, C: 822.0332904870978, gamma: 3.5177166740305603, coef0: 0, degree: 3, tol: 506383\n"
          ]
        },
        {
          "name": "stderr",
          "output_type": "stream",
          "text": [
            "[I 2024-11-15 23:29:23,508] Trial 993 finished with value: -0.8836 and parameters: {'kernel': 'rbf', 'C': 822.0332904870978, 'max iter': 506383, 'gamma': 3.5177166740305603}. Best is trial 182 with value: -0.8936.\n"
          ]
        },
        {
          "name": "stdout",
          "output_type": "stream",
          "text": [
            "kernel: rbf, C: 999.4645606267587, gamma: 2.1532936468907353, coef0: 0, degree: 3, tol: 614651\n"
          ]
        },
        {
          "name": "stderr",
          "output_type": "stream",
          "text": [
            "[I 2024-11-15 23:29:26,243] Trial 994 finished with value: -0.8872 and parameters: {'kernel': 'rbf', 'C': 999.4645606267587, 'max iter': 614651, 'gamma': 2.1532936468907353}. Best is trial 182 with value: -0.8936.\n"
          ]
        },
        {
          "name": "stdout",
          "output_type": "stream",
          "text": [
            "kernel: rbf, C: 528.1148246415343, gamma: 158.9979137099093, coef0: 0, degree: 3, tol: 118101\n"
          ]
        },
        {
          "name": "stderr",
          "output_type": "stream",
          "text": [
            "[I 2024-11-15 23:29:27,770] Trial 995 finished with value: -0.8311999999999999 and parameters: {'kernel': 'rbf', 'C': 528.1148246415343, 'max iter': 118101, 'gamma': 158.9979137099093}. Best is trial 182 with value: -0.8936.\n"
          ]
        },
        {
          "name": "stdout",
          "output_type": "stream",
          "text": [
            "kernel: rbf, C: 358.3086148309226, gamma: 1.4253424279995404, coef0: 0, degree: 3, tol: 264041\n"
          ]
        },
        {
          "name": "stderr",
          "output_type": "stream",
          "text": [
            "[I 2024-11-15 23:29:28,925] Trial 996 finished with value: -0.8884000000000001 and parameters: {'kernel': 'rbf', 'C': 358.3086148309226, 'max iter': 264041, 'gamma': 1.4253424279995404}. Best is trial 182 with value: -0.8936.\n"
          ]
        },
        {
          "name": "stdout",
          "output_type": "stream",
          "text": [
            "kernel: rbf, C: 648.7232414831373, gamma: 5.298661060081059, coef0: 0, degree: 3, tol: 439469\n"
          ]
        },
        {
          "name": "stderr",
          "output_type": "stream",
          "text": [
            "[I 2024-11-15 23:29:32,030] Trial 997 finished with value: -0.8752000000000001 and parameters: {'kernel': 'rbf', 'C': 648.7232414831373, 'max iter': 439469, 'gamma': 5.298661060081059}. Best is trial 182 with value: -0.8936.\n"
          ]
        },
        {
          "name": "stdout",
          "output_type": "stream",
          "text": [
            "kernel: rbf, C: 461.9792311882036, gamma: 2.526445912232787, coef0: 0, degree: 3, tol: 806133\n"
          ]
        },
        {
          "name": "stderr",
          "output_type": "stream",
          "text": [
            "[I 2024-11-15 23:29:33,728] Trial 998 finished with value: -0.8912000000000001 and parameters: {'kernel': 'rbf', 'C': 461.9792311882036, 'max iter': 806133, 'gamma': 2.526445912232787}. Best is trial 182 with value: -0.8936.\n"
          ]
        },
        {
          "name": "stdout",
          "output_type": "stream",
          "text": [
            "kernel: rbf, C: 803.9226215875813, gamma: 1.7397326075854367, coef0: 0, degree: 3, tol: 356334\n"
          ]
        },
        {
          "name": "stderr",
          "output_type": "stream",
          "text": [
            "[I 2024-11-15 23:29:35,742] Trial 999 finished with value: -0.892 and parameters: {'kernel': 'rbf', 'C': 803.9226215875813, 'max iter': 356334, 'gamma': 1.7397326075854367}. Best is trial 182 with value: -0.8936.\n"
          ]
        },
        {
          "name": "stdout",
          "output_type": "stream",
          "text": [
            "Best parameters for SVM:\n",
            "kernel: rbf\n",
            "C: 839.9643342771068\n",
            "max iter: 424468\n",
            "gamma: 1.9014306765412465\n"
          ]
        }
      ],
      "source": [
        "study = optuna.create_study()\n",
        "study.optimize(lambda trial: objective(trial, features, labels), 1000)\n",
        "best_trial = study.best_trial\n",
        "\n",
        "print(\"Best parameters for SVM:\")\n",
        "for key, value in best_trial.params.items():\n",
        "    print(\"{}: {}\".format(key, value))"
      ]
    },
    {
      "cell_type": "markdown",
      "id": "062d733b",
      "metadata": {
        "id": "062d733b"
      },
      "source": [
        "# 3. Creating the SVM model.\n",
        "in this step we will create the SVM model using our found hyperparameters. since we have already implemented the run_SVM function and have found our optimal hyperparameters, this step will be fairly straght forward."
      ]
    },
    {
      "cell_type": "code",
      "execution_count": null,
      "id": "4070c7df",
      "metadata": {
        "id": "4070c7df"
      },
      "outputs": [],
      "source": [
        "model, _ = run_SVM(x_train, y_train, is_imbalanced = False, kernel=\"rbf\", C = 839.964, max_iter=424468, gamma = 1.9)"
      ]
    },
    {
      "cell_type": "markdown",
      "id": "6eafcec2",
      "metadata": {
        "id": "6eafcec2"
      },
      "source": [
        "# 4. Analyze the results\n",
        "in this step we will measure the accuracy of our model on the test data and and also compare it against a model with default hyperparameter values."
      ]
    },
    {
      "cell_type": "code",
      "execution_count": null,
      "id": "630671a1",
      "metadata": {
        "id": "630671a1",
        "outputId": "9b3f327f-1c6d-4ae0-8caf-90b385309733"
      },
      "outputs": [
        {
          "name": "stdout",
          "output_type": "stream",
          "text": [
            "optimal model test data accuracy: 0.8822857142857143\n",
            "default model test data accuracy: 0.6451428571428571\n"
          ]
        }
      ],
      "source": [
        "# creating the model with default hyperparameter values\n",
        "model_default, _ = run_SVM(x_train, y_train)\n",
        "\n",
        "y_pred = model.predict(x_test)\n",
        "accuracy = accuracy_score(y_test, y_pred)\n",
        "print(\"optimal model test data accuracy: {}\".format(accuracy))\n",
        "\n",
        "y_pred_default = model_default.predict(x_test)\n",
        "accuracy_default = accuracy_score(y_test, y_pred_default)\n",
        "print(\"default model test data accuracy: {}\".format(accuracy_default))"
      ]
    },
    {
      "cell_type": "markdown",
      "id": "3ce53565",
      "metadata": {
        "id": "3ce53565"
      },
      "source": [
        "as you can see, the hyperparameter step was very effective at increasing the performance of our model."
      ]
    }
  ],
  "metadata": {
    "kernelspec": {
      "display_name": "Python3",
      "language": "python",
      "name": "python3"
    },
    "language_info": {
      "codemirror_mode": {
        "name": "ipython",
        "version": 3
      },
      "file_extension": ".py",
      "mimetype": "text/x-python",
      "name": "python",
      "nbconvert_exporter": "python",
      "pygments_lexer": "ipython3",
      "version": "3.10.4"
    },
    "colab": {
      "provenance": [],
      "include_colab_link": true
    }
  },
  "nbformat": 4,
  "nbformat_minor": 5
}