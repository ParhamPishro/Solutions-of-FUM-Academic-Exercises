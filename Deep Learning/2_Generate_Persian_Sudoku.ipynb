{
  "nbformat": 4,
  "nbformat_minor": 0,
  "metadata": {
    "colab": {
      "provenance": [],
      "authorship_tag": "ABX9TyNixcA5st2tK88GgJQ6CCL1",
      "include_colab_link": true
    },
    "kernelspec": {
      "name": "python3",
      "display_name": "Python 3"
    },
    "language_info": {
      "name": "python"
    }
  },
  "cells": [
    {
      "cell_type": "markdown",
      "metadata": {
        "id": "view-in-github",
        "colab_type": "text"
      },
      "source": [
        "<a href=\"https://colab.research.google.com/github/ParhamPishro/Solutions-of-FUM-Academic-Exercises/blob/main/Deep%20Learning/2_Generate_Persian_Sudoku.ipynb\" target=\"_parent\"><img src=\"https://colab.research.google.com/assets/colab-badge.svg\" alt=\"Open In Colab\"/></a>"
      ]
    },
    {
      "cell_type": "markdown",
      "source": [
        "Generate a Persian Sudoku"
      ],
      "metadata": {
        "id": "KNfkRU-2Nl-e"
      }
    },
    {
      "cell_type": "code",
      "source": [
        "import numpy as np\n",
        "import matplotlib.pyplot as plt\n"
      ],
      "metadata": {
        "id": "J8uGwKYLcSY4"
      },
      "execution_count": 1,
      "outputs": []
    },
    {
      "cell_type": "code",
      "source": [
        "# Persian Digits for Print\n",
        "def to_farsi(num):\n",
        "    farsi_digits = ['۰', '۱', '۲', '۳', '۴', '۵', '۶', '۷', '۸', '۹']\n",
        "    return farsi_digits[num] if num != 0 else ' '\n"
      ],
      "metadata": {
        "id": "1wBdwbNhc0qY"
      },
      "execution_count": 2,
      "outputs": []
    },
    {
      "cell_type": "code",
      "source": [
        "# Print Sudoku\n",
        "def print_sudoku(sudoku):\n",
        "  print('-' * 37)\n",
        "  for row in sudoku:\n",
        "    print('|', ' | '.join(to_farsi(num) for num in row), '|')\n",
        "    print('-' * 37)\n"
      ],
      "metadata": {
        "id": "VptVvFvmc3cX"
      },
      "execution_count": 3,
      "outputs": []
    },
    {
      "cell_type": "code",
      "source": [
        "# Persian Digits for Display\n",
        "def convert_to_persian_no_zeros(sudoku_grid):\n",
        "    persian_digits = {'1': '۱', '2': '۲', '3': '۳', '4': '۴', '5': '۵', '6': '۶', '7': '۷', '8': '۸', '9': '۹'}\n",
        "    persian_sudoku = []\n",
        "    for row in sudoku_grid:\n",
        "        persian_row = [persian_digits[str(num)] if str(num) in persian_digits else '' for num in row]\n",
        "        persian_sudoku.append(persian_row)\n",
        "    return persian_sudoku\n",
        ""
      ],
      "metadata": {
        "id": "Xje1PgK0go2C"
      },
      "execution_count": 8,
      "outputs": []
    },
    {
      "cell_type": "code",
      "source": [
        "# Display Sudoku\n",
        "def display_sudoku(sudoku_grid):\n",
        "  persian_sudoku = convert_to_persian_no_zeros(sudoku_grid)\n",
        "\n",
        "  # Make Sudoku Table\n",
        "  fig, ax = plt.subplots(figsize=(6, 6))\n",
        "  ax.set_xticks(np.arange(0, 9, 1))\n",
        "  ax.set_yticks(np.arange(0, 9, 1))\n",
        "  ax.grid(True)\n",
        "\n",
        "  ax.set_xlim(0, 9)\n",
        "  ax.set_ylim(0, 9)\n",
        "\n",
        "  ax.xaxis.set_ticklabels([])\n",
        "  ax.yaxis.set_ticklabels([])\n",
        "\n",
        "  # Show Sudoku Numbers in Center of each Cell\n",
        "  for i in range(9):\n",
        "    for j in range(9):\n",
        "      ax.text(j + 0.5, 8.5 - i, persian_sudoku[i][j], va='center', ha='center', fontsize=20, weight='bold')\n",
        "\n",
        "  # Illustrating Lines\n",
        "  for i in range(0, 9, 3):\n",
        "    ax.axhline(i, color='black', linewidth=2)\n",
        "    ax.axvline(i, color='black', linewidth=2)\n",
        "\n",
        "  plt.show()"
      ],
      "metadata": {
        "id": "ESisyQtkesEN"
      },
      "execution_count": 9,
      "outputs": []
    },
    {
      "cell_type": "code",
      "source": [
        "sudoku = [\n",
        "    [6, 0, 9, 0, 0, 0, 0, 0, 0],\n",
        "    [0, 0, 0, 4, 0, 0, 0, 2, 0],\n",
        "    [0, 0, 0, 0, 0, 0, 8, 0, 0],\n",
        "    [4, 0, 0, 0, 6, 9, 0, 0, 3],\n",
        "    [0, 3, 0, 0, 0, 5, 1, 0, 0],\n",
        "    [0, 0, 0, 0, 7, 0, 0, 0, 0],\n",
        "    [7, 0, 0, 0, 0, 0, 0, 6, 9],\n",
        "    [0, 8, 0, 1, 0, 0, 0, 0, 0],\n",
        "    [0, 0, 0, 0, 0, 0, 0, 0, 0],\n",
        "]\n",
        "\n",
        "print_sudoku(sudoku)"
      ],
      "metadata": {
        "colab": {
          "base_uri": "https://localhost:8080/"
        },
        "id": "QroV4ex7ay3i",
        "outputId": "57e79238-f40d-4dd0-9b5d-13c0748f50c2"
      },
      "execution_count": 10,
      "outputs": [
        {
          "output_type": "stream",
          "name": "stdout",
          "text": [
            "-------------------------------------\n",
            "| ۶ |   | ۹ |   |   |   |   |   |   |\n",
            "-------------------------------------\n",
            "|   |   |   | ۴ |   |   |   | ۲ |   |\n",
            "-------------------------------------\n",
            "|   |   |   |   |   |   | ۸ |   |   |\n",
            "-------------------------------------\n",
            "| ۴ |   |   |   | ۶ | ۹ |   |   | ۳ |\n",
            "-------------------------------------\n",
            "|   | ۳ |   |   |   | ۵ | ۱ |   |   |\n",
            "-------------------------------------\n",
            "|   |   |   |   | ۷ |   |   |   |   |\n",
            "-------------------------------------\n",
            "| ۷ |   |   |   |   |   |   | ۶ | ۹ |\n",
            "-------------------------------------\n",
            "|   | ۸ |   | ۱ |   |   |   |   |   |\n",
            "-------------------------------------\n",
            "|   |   |   |   |   |   |   |   |   |\n",
            "-------------------------------------\n"
          ]
        }
      ]
    },
    {
      "cell_type": "code",
      "source": [
        "display_sudoku(sudoku)"
      ],
      "metadata": {
        "colab": {
          "base_uri": "https://localhost:8080/",
          "height": 503
        },
        "id": "i07mkNG6dDvm",
        "outputId": "46c7f800-222b-47b6-880d-1f680fd3bec6"
      },
      "execution_count": 11,
      "outputs": [
        {
          "output_type": "display_data",
          "data": {
            "text/plain": [
              "<Figure size 600x600 with 1 Axes>"
            ],
            "image/png": "[encoded data removed]"
          },
          "metadata": {}
        }
      ]
    },
    {
      "cell_type": "code",
      "source": [],
      "metadata": {
        "id": "JldhGYcZhCOm"
      },
      "execution_count": null,
      "outputs": []
    }
  ]
}