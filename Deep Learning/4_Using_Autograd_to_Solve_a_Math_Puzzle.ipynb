{
  "nbformat": 4,
  "nbformat_minor": 0,
  "metadata": {
    "colab": {
      "provenance": [],
      "authorship_tag": "ABX9TyOgEyvMAFBsUlBM2CEMIxsE",
      "include_colab_link": true
    },
    "kernelspec": {
      "name": "python3",
      "display_name": "Python 3"
    },
    "language_info": {
      "name": "python"
    }
  },
  "cells": [
    {
      "cell_type": "markdown",
      "metadata": {
        "id": "view-in-github",
        "colab_type": "text"
      },
      "source": [
        "<a href=\"https://colab.research.google.com/github/ParhamPishro/Solutions-of-FUM-Academic-Exercises/blob/main/Deep%20Learning/4_Using_Autograd_to_Solve_a_Math_Puzzle.ipynb\" target=\"_parent\"><img src=\"https://colab.research.google.com/assets/colab-badge.svg\" alt=\"Open In Colab\"/></a>"
      ]
    },
    {
      "cell_type": "markdown",
      "source": [
        "Using Autograd to Solve a Math Puzzle\n",
        "\n",
        "https://machinelearningmastery.com/using-autograd-in-tensorflow-to-solve-a-regression-problem/\n",
        "\n",
        "\n",
        "\n",
        "```\n",
        "[ A ]  +  [ B ]  =  9\n",
        "  +         -\n",
        "[ C ]  -  [ D ]  =  1\n",
        "  =         =\n",
        "  8         2\n",
        "```\n",
        "\n",
        "A + B = 9\n",
        "\n",
        "C - D = 1\n",
        "\n",
        "A + C = 8\n",
        "\n",
        "B - D = 2\n",
        "\n"
      ],
      "metadata": {
        "id": "KNfkRU-2Nl-e"
      }
    },
    {
      "cell_type": "code",
      "source": [
        "import torch\n",
        "import random\n"
      ],
      "metadata": {
        "id": "J8uGwKYLcSY4"
      },
      "execution_count": 1,
      "outputs": []
    },
    {
      "cell_type": "code",
      "source": [
        "A = torch.tensor(random.random(), requires_grad=True)\n",
        "B = torch.tensor(random.random(), requires_grad=True)\n",
        "C = torch.tensor(random.random(), requires_grad=True)\n",
        "D = torch.tensor(random.random(), requires_grad=True)"
      ],
      "metadata": {
        "id": "JldhGYcZhCOm"
      },
      "execution_count": 2,
      "outputs": []
    },
    {
      "cell_type": "code",
      "source": [
        "EPOCHS = 1000\n",
        "optimizer = torch.optim.NAdam([A, B, C, D], lr=0.1)\n",
        "\n",
        "for epoch in range(EPOCHS):\n",
        "  optimizer.zero_grad()\n",
        "\n",
        "  y1 = A + B - 9\n",
        "  y2 = C - D - 1\n",
        "  y3 = A + C - 8\n",
        "  y4 = B - D - 2\n",
        "\n",
        "  sqerr = y1**2 + y2**2 + y3**2 + y4**2\n",
        "\n",
        "  penalty = (A - torch.round(A))**2\n",
        "\n",
        "  # Total loss\n",
        "  total_loss = sqerr + penalty\n",
        "\n",
        "  total_loss.backward()\n",
        "\n",
        "  optimizer.step()\n",
        "\n",
        "  if (epoch + 1) % 100 == 0:\n",
        "    print(f'Epoch {epoch + 1}: Loss = {total_loss.item()}')\n"
      ],
      "metadata": {
        "colab": {
          "base_uri": "https://localhost:8080/"
        },
        "id": "upUuM0H5vDFm",
        "outputId": "663affd6-6da5-4f2f-c48b-aa7b694cc81e"
      },
      "execution_count": 3,
      "outputs": [
        {
          "output_type": "stream",
          "name": "stdout",
          "text": [
            "Epoch 100: Loss = 0.22764445841312408\n",
            "Epoch 200: Loss = 0.04517684876918793\n",
            "Epoch 300: Loss = 0.005114399828016758\n",
            "Epoch 400: Loss = 0.0003474772092886269\n",
            "Epoch 500: Loss = 1.4427341739065014e-05\n",
            "Epoch 600: Loss = 3.668702106551791e-07\n",
            "Epoch 700: Loss = 5.770630195911508e-09\n",
            "Epoch 800: Loss = 2.262936504848767e-10\n",
            "Epoch 900: Loss = 2.0042989490320906e-10\n",
            "Epoch 1000: Loss = 1.745092959026806e-10\n"
          ]
        }
      ]
    },
    {
      "cell_type": "code",
      "source": [
        "#Results\n",
        "print(f'A = {A.item()} \\nB = {B.item()}\\nC = {C.item()}\\nD = {D.item()}\\n\\n')\n",
        "\n",
        "# Rounded Results\n",
        "print(f'Rounded A = {round(A.item())} \\nRounded B = {round(B.item())} \\nRounded C = {round(C.item())} \\nRounded D = {round(D.item())}')\n"
      ],
      "metadata": {
        "colab": {
          "base_uri": "https://localhost:8080/"
        },
        "id": "lsk-6Ln4vS-D",
        "outputId": "8b811af3-fa8b-4cdc-95fd-d3f3038ef926"
      },
      "execution_count": 6,
      "outputs": [
        {
          "output_type": "stream",
          "name": "stdout",
          "text": [
            "A = 4.000012397766113 \n",
            "B = 4.999984264373779\n",
            "C = 3.9999852180480957\n",
            "D = 2.9999845027923584\n",
            "\n",
            "\n",
            "Rounded A = 4 \n",
            "Rounded B = 5 \n",
            "Rounded C = 4 \n",
            "Rounded D = 3\n"
          ]
        }
      ]
    },
    {
      "cell_type": "code",
      "source": [],
      "metadata": {
        "id": "lnprZKPKvnjP"
      },
      "execution_count": null,
      "outputs": []
    }
  ]
}