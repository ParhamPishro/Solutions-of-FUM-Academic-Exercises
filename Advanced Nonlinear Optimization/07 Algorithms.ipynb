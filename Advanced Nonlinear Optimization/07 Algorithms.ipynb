{
  "nbformat": 4,
  "nbformat_minor": 0,
  "metadata": {
    "colab": {
      "provenance": []
    },
    "kernelspec": {
      "name": "python3",
      "display_name": "Python 3"
    },
    "language_info": {
      "name": "python"
    }
  },
  "cells": [
    {
      "cell_type": "code",
      "execution_count": 201,
      "metadata": {
        "id": "dOkS-Ptd0MPQ"
      },
      "outputs": [],
      "source": [
        "import numpy as np\n",
        "import matplotlib.pyplot as plt\n",
        "import sympy as sp\n",
        "import math"
      ]
    },
    {
      "cell_type": "code",
      "source": [
        "def GoldenSectionSearch():\n",
        "  x = sp.Symbol('x')\n",
        "  f_str = input('Enter the Function: ') #x**4-14*x**3+60*x**2-70*x\n",
        "  f = sp.lambdify(x,f_str)\n",
        "\n",
        "  a0 = eval(input('Start of Interval: ')) #0\n",
        "  b0 = eval(input('End of Interval: ')) #2\n",
        "  uncert = eval(input('Enter the Uncentaintry: ')) #0.3\n",
        "\n",
        "  X = np.arange(a0,b0,0.01)\n",
        "  Y = f(X)\n",
        "  plt.plot(X,Y)\n",
        "  plt.xlabel('x')\n",
        "  plt.ylabel('f(x)')\n",
        "\n",
        "  rho = (3-sqrt(5))/2\n",
        "  N = math.ceil(log(uncert/(b0-a0))/log(1-rho))\n",
        "  l = a0\n",
        "  r = b0\n",
        "  a = l + (1-rho)*(r-l)\n",
        "  lower = 'a'\n",
        "  f_a = f(a)\n",
        "\n",
        "  for i in range(1,N+1):\n",
        "    if lower == 'a':\n",
        "      b = a\n",
        "      f_b = f_a\n",
        "      a = l + (rho)*(r-l)\n",
        "      f_a = f(a)\n",
        "    else:\n",
        "      a = b\n",
        "      f_a = f_b\n",
        "      b = l + (1-rho)*(r-l)\n",
        "      f_b = f(b)\n",
        "\n",
        "    if f_a < f_b:\n",
        "      r = b\n",
        "      lower = 'a'\n",
        "    else:\n",
        "      l = a\n",
        "      lower = 'b'\n",
        "\n",
        "    print('\\nInterval(',i,') = [',round(float(l),4),',',round(float(r),4),']\\t'\n",
        "    'f(a,b)=[',round(float(f(l)),4),',',round(float(f(r)),4),']')"
      ],
      "metadata": {
        "id": "0umtYCvYZjML"
      },
      "execution_count": 202,
      "outputs": []
    },
    {
      "cell_type": "code",
      "source": [
        "def fibonacci_number(n):\n",
        "  if n==0:\n",
        "    return 0\n",
        "  if n==1:\n",
        "    return 1\n",
        "  return fibonacci_number(n-1)+fibonacci_number(n-2)"
      ],
      "metadata": {
        "id": "3Iapphok5dFc"
      },
      "execution_count": 203,
      "outputs": []
    },
    {
      "cell_type": "code",
      "source": [
        "def Fibonacci():\n",
        "  x = sp.Symbol('x')\n",
        "  f_str = input('Enter the Function: ') #x**4-14*x**3+60*x**2-70*x\n",
        "  f = sp.lambdify(x,f_str)\n",
        "\n",
        "  a0 = eval(input('Start of Interval: ')) #0\n",
        "  b0 = eval(input('End of Interval: ')) #2\n",
        "  uncert = eval(input('Enter the Uncentaintry: ')) #0.3\n",
        "  epsilon = eval(input('Enter the Epsilon: ')) #0.05\n",
        "\n",
        "  X = np.arange(a0,b0,0.01)\n",
        "  Y = f(X)\n",
        "  plt.plot(X,Y)\n",
        "  plt.xlabel('x')\n",
        "  plt.ylabel('f(x)')\n",
        "\n",
        "  N = 0\n",
        "  while fibonacci_number(N+2) < (1+2*epsilon)*(b0-a0)/uncert:\n",
        "    N = N + 1\n",
        "\n",
        "  l = a0\n",
        "  r = b0\n",
        "  a = l + (fibonacci_number(N+1)/fibonacci_number(N+2))*(r-l)\n",
        "  lower = 'a'\n",
        "  f_a = f(a)\n",
        "\n",
        "  for i in range(1,N+1):\n",
        "    if i != N:\n",
        "      rho = 1 - fibonacci_number(N+2-i)/fibonacci_number(N+3-i)\n",
        "    else:\n",
        "      rho = 0.5 - epsilon\n",
        "\n",
        "    if lower == 'a':\n",
        "      b = a\n",
        "      f_b = f_a\n",
        "      a = l + (rho)*(r-l)\n",
        "      f_a = f(a)\n",
        "    else:\n",
        "      a = b\n",
        "      f_a = f_b\n",
        "      b = l + (1-rho)*(r-l)\n",
        "      f_b = f(b)\n",
        "\n",
        "    if f_a < f_b:\n",
        "      r = b\n",
        "      lower = 'a'\n",
        "    else:\n",
        "      l = a\n",
        "      lower = 'b'\n",
        "\n",
        "    print('\\nInterval(',i,') = [',round(float(l),4),',',round(float(r),4),']\\t'\n",
        "    'f(a,b)=[',round(float(f(l)),4),',',round(float(f(r)),4),']')"
      ],
      "metadata": {
        "id": "_XkRJKkv21oK"
      },
      "execution_count": 204,
      "outputs": []
    },
    {
      "cell_type": "code",
      "source": [
        "def Bisection():\n",
        "  x = sp.Symbol('x')\n",
        "  f_str = input('Enter the Function: ') #x**4-14*x**3+60*x**2-70*x\n",
        "  f = sp.lambdify(x,f_str)\n",
        "\n",
        "  a0 = eval(input('Start of Interval: ')) #0\n",
        "  b0 = eval(input('End of Interval: ')) #2\n",
        "  uncert = eval(input('Enter the Uncentaintry: ')) #0.3\n",
        "\n",
        "  X = np.arange(a0,b0,0.01)\n",
        "  Y = f(X)\n",
        "  plt.plot(X,Y)\n",
        "  plt.xlabel('x')\n",
        "  plt.ylabel('f(x)')\n",
        "\n",
        "  N = math.ceil(log(uncert/(b0-a0))/log(0.5))\n",
        "\n",
        "  x0 = (a0+b0)/2\n",
        "  df = sp.diff(f(x), x)\n",
        "\n",
        "  for i in range(1,N+1):\n",
        "    if df.evalf(subs={x:x0}) > 0:\n",
        "      b0 = x0\n",
        "    else:\n",
        "      a0 = x0\n",
        "    x0 = (a0+b0)/2\n",
        "    print('\\nInterval(',i,') = [',round(float(a0),4),',',round(float(b0),4),']\\t'\n",
        "    'f(a,b)=[',round(float(f(a0)),4),',',round(float(f(b0)),4),']')"
      ],
      "metadata": {
        "id": "dJpc1eI4rS_W"
      },
      "execution_count": 205,
      "outputs": []
    },
    {
      "cell_type": "code",
      "source": [
        "def Newton():\n",
        "  x = sp.Symbol('x')\n",
        "  f_str = input('Enter the Function: ') #0.5*x**2-sin(x)\n",
        "  f = sp.lambdify(x,f_str)\n",
        "\n",
        "  x0 = eval(input('Enter the Start Point: ')) #0.5\n",
        "  acc = eval(input('Enter the Accuracy: ')) #10**(-5)\n",
        "\n",
        "  df = sp.diff(f_str, x)\n",
        "  ddf = sp.diff(df, x)\n",
        "\n",
        "  x1 = x0 - (df.evalf(subs={x:x0})/ddf.evalf(subs={x:x0}))\n",
        "  i = 1\n",
        "\n",
        "  print('x( 1 )=',round(float(x1),4),'\\n')\n",
        "  while abs(x1-x0)>acc:\n",
        "    x0 = x1\n",
        "    x1 = x0 - (df.evalf(subs={x:x0})/ddf.evalf(subs={x:x0}))\n",
        "    i = i+1\n",
        "    print('x(',i,')=',round(float(x1),4),'\\n')"
      ],
      "metadata": {
        "id": "_OeE2AJE-cwD"
      },
      "execution_count": 206,
      "outputs": []
    },
    {
      "cell_type": "code",
      "source": [
        "def Secant():\n",
        "  x = sp.Symbol('x')\n",
        "  f_str = input('Enter the Function: ') #x**3-12.2*x**2+7.45*x+42\n",
        "  f = sp.lambdify(x,f_str)\n",
        "\n",
        "  x_1 = eval(input('Enter the Start Point (x(-1)): ')) #12\n",
        "  x0 = eval(input('Enter the Start Point (x(0)): ')) #12\n",
        "  acc = eval(input('Enter the Accuracy: ')) #0.1\n",
        "\n",
        "  x1 = ((f(x0)*x_1)-f(x_1)*x0)/(f(x0)-f(x_1))\n",
        "  i = 1\n",
        "\n",
        "  print('x( 1 )=',round(float(x1),4),'\\n')\n",
        "  while abs(x1-x0)>acc:\n",
        "    x0 = x1\n",
        "    x1 = ((f(x0)*x_1)-f(x_1)*x0)/(f(x0)-f(x_1))\n",
        "    i = i+1\n",
        "    print('x(',i,')=',round(float(x1),4),'\\n')\n"
      ],
      "metadata": {
        "id": "cjTKFxaqEnY8"
      },
      "execution_count": 207,
      "outputs": []
    },
    {
      "cell_type": "code",
      "source": [
        "choice = True\n",
        "while choice != '0':\n",
        "  choice = input('\\n\\nWhich Method (Enter Number)?\\n'\n",
        "  '1. Golden Section Search\\n'\n",
        "  '2. Fibonacci Method\\n'\n",
        "  '3. Bisection Method\\n'\n",
        "  '4. Newton\\'s Method\\n'\n",
        "  '5. Secant Method\\n'\n",
        "  '0. Quit\\n\\n')\n",
        "  if choice == '1':\n",
        "    GoldenSectionSearch()\n",
        "  elif choice == '2':\n",
        "    Fibonacci()\n",
        "  elif choice == '3':\n",
        "    Bisection()\n",
        "  elif choice == '4':\n",
        "    Newton()\n",
        "  elif choice == '5':\n",
        "    Secant()"
      ],
      "metadata": {
        "colab": {
          "base_uri": "https://localhost:8080/"
        },
        "id": "IoFx6rf7GP2t",
        "outputId": "c167bc8b-90da-4ec2-c483-dc2961cc7df6"
      },
      "execution_count": 208,
      "outputs": [
        {
          "name": "stdout",
          "output_type": "stream",
          "text": [
            "\n",
            "\n",
            "Which Method (Enter Number)?\n",
            "1. Golden Section Search\n",
            "2. Fibonacci Method\n",
            "3. Bisection Method\n",
            "4. Newton's Method\n",
            "5. Secant Method\n",
            "0. Quit\n",
            "\n",
            "0\n"
          ]
        }
      ]
    },
    {
      "cell_type": "code",
      "source": [],
      "metadata": {
        "id": "4a2uQtO-JC5H"
      },
      "execution_count": null,
      "outputs": []
    }
  ]
}